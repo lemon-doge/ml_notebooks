{
 "cells": [
  {
   "cell_type": "markdown",
   "metadata": {
    "id": "duWOrVkatn2L",
    "pycharm": {
     "name": "#%% md\n"
    }
   },
   "source": [
    "### Poetry generation\n",
    "\n",
    "Let's try to generate some poetry using RNNs. \n",
    "\n",
    "You have several choices here: \n",
    "\n",
    "* The Shakespeare sonnets, file `sonnets.txt` available in the notebook directory.\n",
    "\n",
    "* Роман в стихах \"Евгений Онегин\" Александра Сергеевича Пушкина. В предобработанном виде доступен по [ссылке](https://github.com/attatrol/data_sources/blob/master/onegin.txt).\n",
    "\n",
    "* Some other text source, if it will be approved by the course staff.\n",
    "\n",
    "Text generation can be designed in several steps:\n",
    "    \n",
    "1. Data loading.\n",
    "2. Dictionary generation.\n",
    "3. Data preprocessing.\n",
    "4. Model (neural network) training.\n",
    "5. Text generation (model evaluation).\n"
   ]
  },
  {
   "cell_type": "code",
   "execution_count": 1,
   "metadata": {
    "id": "1xLyFLEMtn2M",
    "pycharm": {
     "name": "#%%\n"
    }
   },
   "outputs": [],
   "source": [
    "import string\n",
    "import os\n",
    "import numpy as np\n",
    "import torch, torch.nn as nn\n",
    "import torch.nn.functional as F\n",
    "from torch.utils.data import DataLoader, Dataset, Subset\n",
    "from IPython.display import clear_output\n",
    "from matplotlib import pyplot as plt"
   ]
  },
  {
   "cell_type": "markdown",
   "metadata": {
    "id": "g9Fihl1Htn2M",
    "pycharm": {
     "name": "#%% md\n"
    }
   },
   "source": [
    "### Data loading: Shakespeare"
   ]
  },
  {
   "cell_type": "markdown",
   "metadata": {
    "id": "4vD7vdT-tn2N",
    "pycharm": {
     "name": "#%% md\n"
    }
   },
   "source": [
    "Shakespeare sonnets are awailable at this [link](http://www.gutenberg.org/ebooks/1041?msg=welcome_stranger). In addition, they are stored in the same directory as this notebook (`sonnetes.txt`). Simple preprocessing is already done for you in the next cell: all technical info is dropped."
   ]
  },
  {
   "cell_type": "code",
   "execution_count": 2,
   "metadata": {
    "colab": {
     "base_uri": "https://localhost:8080/"
    },
    "collapsed": true,
    "id": "MAdS3tEqtn2N",
    "outputId": "a4bec03a-d417-427a-86ac-161c4032343c",
    "pycharm": {
     "name": "#%%\n"
    }
   },
   "outputs": [
    {
     "name": "stdout",
     "output_type": "stream",
     "text": [
      "--2020-12-16 16:42:52--  https://raw.githubusercontent.com/girafe-ai/ml-mipt/master/homeworks_basic/Lab2_DL/sonnets.txt\n",
      "Resolving raw.githubusercontent.com (raw.githubusercontent.com)... 151.101.0.133, 151.101.64.133, 151.101.128.133, ...\n",
      "Connecting to raw.githubusercontent.com (raw.githubusercontent.com)|151.101.0.133|:443... connected.\n",
      "HTTP request sent, awaiting response... 200 OK\n",
      "Length: 119748 (117K) [text/plain]\n",
      "Saving to: ‘sonnets.txt’\n",
      "\n",
      "sonnets.txt         100%[===================>] 116.94K  --.-KB/s    in 0.03s   \n",
      "\n",
      "2020-12-16 16:42:53 (4.39 MB/s) - ‘sonnets.txt’ saved [119748/119748]\n",
      "\n"
     ]
    }
   ],
   "source": [
    "if not os.path.exists('sonnets.txt'):\n",
    "    !wget https://raw.githubusercontent.com/girafe-ai/ml-mipt/master/homeworks_basic/Lab2_DL/sonnets.txt\n",
    "\n",
    "with open('sonnets.txt', 'r') as iofile:\n",
    "    text = iofile.readlines()\n",
    "\n",
    "TEXT_START = 45\n",
    "TEXT_END = -368\n",
    "text = text[TEXT_START : TEXT_END]\n",
    "headline_indices = [0]\n",
    "\n",
    "for i in range(len(text)):\n",
    "  if len(text[i]) < 10:\n",
    "    headline_indices.append(i)\n",
    "  text[i] = text[i].lower()[2::]\n",
    "\n",
    "paragraphs = []\n",
    "\n",
    "for i in range(len(headline_indices)-1):\n",
    "  l, r = headline_indices[i], headline_indices[i+1]\n",
    "  paragraphs.append(''.join(text[l:r]))\n",
    "\n",
    "paragraphs = [s for s in paragraphs if len(s) >= 10]"
   ]
  },
  {
   "cell_type": "markdown",
   "metadata": {
    "id": "zfgl0sH5tn2N",
    "pycharm": {
     "name": "#%% md\n"
    }
   },
   "source": [
    "In opposite to the in-class practice, this time we want to predict complex text. Let's reduce the complexity of the task and lowercase all the symbols.\n",
    "\n",
    "Now variable `text` is a list of strings. Join all the strings into one and lowercase it."
   ]
  },
  {
   "cell_type": "code",
   "execution_count": 3,
   "metadata": {
    "id": "v26FhszfVVPq",
    "pycharm": {
     "name": "#%%\n"
    }
   },
   "outputs": [],
   "source": [
    "class ShakeSpearDataset:\n",
    "    def __init__(self, sonets, sequence_length):\n",
    "        self.tokens = set()\n",
    "\n",
    "        for sonet in sonets:\n",
    "            self.tokens.update(set(sonet))\n",
    "            \n",
    "        self.tokens = list(sorted(self.tokens))\n",
    "        self.sonets = sonets\n",
    "\n",
    "        self.num_tokens = len(self.tokens)\n",
    "        self.idx_to_token = dict((i, c) for i,c in enumerate(self.tokens))\n",
    "        self.token_to_idx = dict((c, i) for i,c in enumerate(self.tokens))\n",
    "\n",
    "    def __len__(self):\n",
    "        return len(self.sonets)\n",
    "\n",
    "    def get_batches(self, batch_size):\n",
    "        batches = []\n",
    "\n",
    "        i = 0\n",
    "        while i < len(self.sonets) / batch_size:\n",
    "            words = self.text[i:i+batch_size]\n",
    "            batches.append(self.to_matrix(words))\n",
    "            i += batch_size\n",
    "\n",
    "        return batches\n",
    "\n",
    "\n",
    "    def to_matrix(self, words, max_len=None , dtype='int32', batch_first=True):\n",
    "        \"\"\"Casts a list of words into rnn-digestable matrix\"\"\"\n",
    "      \n",
    "        pad = self.token_to_idx[' ']\n",
    "        max_len = max_len or max(map(len, words))\n",
    "        words_ix = np.zeros([len(words), max_len], dtype) + pad\n",
    "\n",
    "        for i in range(len(words)):\n",
    "            line_ix = [self.token_to_idx[c] for c in words[i]]\n",
    "            words_ix[i, :len(line_ix)] = line_ix\n",
    "            \n",
    "        if not batch_first: # convert [batch, time] into [time, batch]\n",
    "            words_ix = np.transpose(words_ix)\n",
    "\n",
    "        return words_ix"
   ]
  },
  {
   "cell_type": "code",
   "execution_count": 4,
   "metadata": {
    "id": "xfFypTASwhN8",
    "pycharm": {
     "name": "#%%\n"
    }
   },
   "outputs": [],
   "source": [
    "dataset = ShakeSpearDataset(paragraphs, 40)"
   ]
  },
  {
   "cell_type": "markdown",
   "metadata": {
    "id": "qcwFrWa9tn2R",
    "pycharm": {
     "name": "#%% md\n"
    }
   },
   "source": [
    "*Comment: in this task we have only 38 different tokens, so let's use one-hot encoding.*"
   ]
  },
  {
   "cell_type": "markdown",
   "metadata": {
    "id": "NS3_SwG9tn2R",
    "pycharm": {
     "name": "#%% md\n"
    }
   },
   "source": [
    "### Building the model"
   ]
  },
  {
   "cell_type": "markdown",
   "metadata": {
    "id": "4y0I5ujNtn2R",
    "pycharm": {
     "name": "#%% md\n"
    }
   },
   "source": [
    "Now we want to build and train recurrent neural net which would be able to something similar to Shakespeare's poetry.\n",
    "\n",
    "Let's use vanilla RNN, similar to the one created during the lesson."
   ]
  },
  {
   "cell_type": "code",
   "execution_count": 5,
   "metadata": {
    "colab": {
     "base_uri": "https://localhost:8080/"
    },
    "id": "9bmtRhbSlmkn",
    "outputId": "10a01777-2959-4341-f923-a3b9321327bc",
    "pycharm": {
     "name": "#%%\n"
    }
   },
   "outputs": [
    {
     "data": {
      "text/plain": [
       "device(type='cuda', index=0)"
      ]
     },
     "execution_count": 5,
     "metadata": {
      "tags": []
     },
     "output_type": "execute_result"
    }
   ],
   "source": [
    "device = torch.device('cuda:0') if torch.cuda.is_available() else torch.device('cpu')\n",
    "\n",
    "device"
   ]
  },
  {
   "cell_type": "code",
   "execution_count": 6,
   "metadata": {
    "id": "bD7lDgscSeDq",
    "pycharm": {
     "name": "#%%\n"
    }
   },
   "outputs": [],
   "source": [
    "class CharRNNLoop(nn.Module):\n",
    "    def __init__(self, num_tokens=dataset.num_tokens, emb_size=16, rnn_num_units=64):\n",
    "        super(self.__class__, self).__init__()\n",
    "        self.num_units = rnn_num_units\n",
    "\n",
    "        self.emb = nn.Embedding(num_tokens, emb_size)\n",
    "        self.rnn = nn.RNN(emb_size, rnn_num_units, batch_first=True)\n",
    "        self.hid_to_logits = nn.Linear(rnn_num_units, num_tokens)\n",
    "\n",
    "    def forward(self, x, hid_state=None):\n",
    "        if hid_state is not None:\n",
    "            output, state = self.rnn(self.emb(x), hid_state)\n",
    "        else:\n",
    "            output, state = self.rnn(self.emb(x))\n",
    "        logits = self.hid_to_logits(output)\n",
    "        \n",
    "        return logits, state\n",
    "\n",
    "    def initial_state(self, batch_size):\n",
    "        \"\"\" return rnn state before it processes first input (aka h0) \"\"\"\n",
    "        return torch.zeros(1, batch_size, self.num_units, requires_grad=True)\n",
    "\n",
    "\n",
    "def train_rnn(model, loss_fn, opt, data, batch_size=10, n_epochs=100):\n",
    "    loss_history = [[]]\n",
    "    model.to(device)\n",
    "\n",
    "    for n in range(n_epochs):\n",
    "        model.train(True)\n",
    "        \n",
    "        for batch_ix in data.get_batches(batch_size):\n",
    "            batch_ix = torch.LongTensor(batch_ix).to(device)\n",
    "            logp_seq, hid_state = model(batch_ix)\n",
    "            \n",
    "            predictions_logp = logp_seq[:, :-1]\n",
    "            actual_next_tokens = batch_ix[:, 1:]\n",
    "            \n",
    "            loss = loss_fn(\n",
    "                predictions_logp.contiguous().view(-1, data.num_tokens),\n",
    "                actual_next_tokens.contiguous().view(-1)\n",
    "            )\n",
    "                        \n",
    "            opt.zero_grad()\n",
    "            loss.backward()\n",
    "            opt.step()\n",
    "            \n",
    "            loss_history[-1].append(loss.item())\n",
    "\n",
    "        clear_output(True)\n",
    "        plt.xlabel('epoch')\n",
    "        plt.ylabel('loss')\n",
    "        plt.plot(np.mean(loss_history, axis=1),label='loss')\n",
    "        plt.legend()\n",
    "        plt.show()\n",
    "        loss_history.append([])"
   ]
  },
  {
   "cell_type": "code",
   "execution_count": 7,
   "metadata": {
    "colab": {
     "base_uri": "https://localhost:8080/",
     "height": 279
    },
    "id": "jRHuRqEkl6js",
    "outputId": "7f0faa38-bf39-417e-ec9c-a33893e680a6",
    "pycharm": {
     "name": "#%%\n"
    }
   },
   "outputs": [
    {
     "data": {
      "image/png": "[encoded data removed]",
      "text/plain": [
       "<Figure size 432x288 with 1 Axes>"
      ]
     },
     "metadata": {
      "needs_background": "light",
      "tags": []
     },
     "output_type": "display_data"
    }
   ],
   "source": [
    "model_rnn = CharRNNLoop()\n",
    "opt_rnn = torch.optim.Adam(model_rnn.parameters(), lr=1e-2)\n",
    "criterion_rnn = nn.CrossEntropyLoss()\n",
    "\n",
    "train_rnn(model_rnn, criterion_rnn, opt_rnn, dataset)"
   ]
  },
  {
   "cell_type": "markdown",
   "metadata": {
    "id": "rN3bSshttn2S",
    "pycharm": {
     "name": "#%% md\n"
    }
   },
   "source": [
    "Plot the loss function (axis X: number of epochs, axis Y: loss function)."
   ]
  },
  {
   "cell_type": "code",
   "execution_count": 8,
   "metadata": {
    "id": "A232VTmRtn2S",
    "pycharm": {
     "name": "#%%\n"
    }
   },
   "outputs": [],
   "source": [
    "def generate_sample(char_rnn , dataset=dataset, seed_phrase='hello my friend, ', max_length=100, temperature=1.0):\n",
    "    '''\n",
    "    ### Disclaimer: this is an example function for text generation.\n",
    "    ### You can either adapt it in your code or create your own function\n",
    "    \n",
    "    The function generates text given a phrase of length at least SEQ_LENGTH.\n",
    "    :param seed_phrase: prefix characters. The RNN is asked to continue the phrase\n",
    "    :param max_length: maximum output length, including seed_phrase\n",
    "    :param temperature: coefficient for sampling.  higher temperature produces more chaotic outputs, \n",
    "        smaller temperature converges to the single most likely output.\n",
    "        \n",
    "    Be careful with the model output. This model waits logits (not probabilities/log-probabilities)\n",
    "    of the next symbol.\n",
    "    '''\n",
    "    \n",
    "    x_sequence = [dataset.token_to_idx[token] for token in seed_phrase]\n",
    "    x_sequence = torch.tensor([[x_sequence]], dtype=torch.int64)\n",
    "    hid_state = char_rnn.initial_state(batch_size=1)\n",
    "    \n",
    "    #feed the seed phrase, if any\n",
    "    for i in range(len(seed_phrase) - 1):\n",
    "        out, hid_state = char_rnn(x_sequence[:, :, i], hid_state)\n",
    "    \n",
    "    #start generating\n",
    "    for _ in range(max_length - len(seed_phrase)):\n",
    "        out, hid_state = char_rnn(x_sequence[:, :, -1], hid_state)        \n",
    "        # Be really careful here with the model output\n",
    "        p_next = F.softmax(out[0, -1, :] / temperature, dim=-1).data.numpy()\n",
    "        \n",
    "        # sample next token and push it back into x_sequence\n",
    "        #print(p_next.shape, len(dataset.tokens))\n",
    "        next_ix = [np.random.choice(len(dataset.tokens), p=p_next)]\n",
    "        next_ix = torch.tensor([[next_ix]], dtype=torch.int64)\n",
    "        x_sequence = torch.cat([x_sequence, next_ix], dim=-1)\n",
    "        \n",
    "    return ''.join([dataset.tokens[ix] for ix in x_sequence.data.numpy()[0, 0]])"
   ]
  },
  {
   "cell_type": "code",
   "execution_count": 9,
   "metadata": {
    "colab": {
     "base_uri": "https://localhost:8080/"
    },
    "id": "MlikfKaCtn2T",
    "outputId": "ffaba95c-74e2-48c3-edd0-052633523821",
    "pycharm": {
     "name": "#%%\n"
    }
   },
   "outputs": [
    {
     "name": "stdout",
     "output_type": "stream",
     "text": [
      "hello my friend, the will,\n",
      "  and so dost thou world thee of that the tor should bear'st thy self thou shall self ast beauty should world thee the self thou see,\n",
      "and still'd,\n",
      "and sweet self in self-self-siol thy sterld,\n",
      "that thou seatire wher thine owd sume the world,\n",
      "when in thou for saing mind with not and should the theest thou sterly that thou for the live the tornelf convertest comanden own summer shall const thine and stars in thou thee.\n",
      "                                                                                                                                                                                                                                                                                                                                                                                                                                                                                                                                                                         \n"
     ]
    }
   ],
   "source": [
    "model_rnn.train(False)\n",
    "model_rnn.to(\"cpu\")\n",
    "\n",
    "print(generate_sample(model_rnn, temperature=0.4, max_length=1000))"
   ]
  },
  {
   "cell_type": "markdown",
   "metadata": {
    "id": "1IaAc0y3tn2T",
    "pycharm": {
     "name": "#%% md\n"
    }
   },
   "source": [
    "### More poetic model\n",
    "\n",
    "Let's use LSTM instead of vanilla RNN and compare the results."
   ]
  },
  {
   "cell_type": "markdown",
   "metadata": {
    "id": "99m-X2eftn2T",
    "pycharm": {
     "name": "#%% md\n"
    }
   },
   "source": [
    "Plot the loss function of the number of epochs. Does the final loss become better?"
   ]
  },
  {
   "cell_type": "code",
   "execution_count": 10,
   "metadata": {
    "collapsed": true,
    "id": "pLO0SPj-tn2T",
    "pycharm": {
     "name": "#%%\n"
    }
   },
   "outputs": [],
   "source": [
    "# Your beautiful code here\n",
    "# Your code here\n",
    "class CharLSTMLoop(nn.Module):\n",
    "    def __init__(self, num_tokens=dataset.num_tokens, emb_size=16, rnn_num_units=64):\n",
    "        super(self.__class__, self).__init__()\n",
    "        self.num_units = rnn_num_units\n",
    "\n",
    "        self.emb = nn.Embedding(num_tokens, emb_size)\n",
    "        self.rnn = nn.LSTM(emb_size, rnn_num_units, batch_first=True)\n",
    "        self.hid_to_logits = nn.Linear(rnn_num_units, num_tokens)\n",
    "\n",
    "    def forward(self, x, hid_state=None):\n",
    "        if hid_state is not None:\n",
    "            output, state = self.rnn(self.emb(x), hid_state)\n",
    "        else:\n",
    "            output, state = self.rnn(self.emb(x))\n",
    "\n",
    "        logits = self.hid_to_logits(output)\n",
    "        \n",
    "        return logits, state\n",
    "\n",
    "    def initial_state(self, batch_size):\n",
    "        \"\"\" return rnn state before it processes first input (aka (h0, c0)) \"\"\"\n",
    "        return (torch.zeros(1, batch_size, self.num_units, requires_grad=True),\n",
    "                torch.zeros(1, batch_size, self.num_units, requires_grad=True))\n"
   ]
  },
  {
   "cell_type": "code",
   "execution_count": 11,
   "metadata": {
    "colab": {
     "base_uri": "https://localhost:8080/",
     "height": 279
    },
    "id": "wwgsBngW4hsL",
    "outputId": "72d589e9-1e89-4169-e9cb-b88776f6d77a",
    "pycharm": {
     "name": "#%%\n"
    }
   },
   "outputs": [
    {
     "data": {
      "image/png": "[encoded data removed]",
      "text/plain": [
       "<Figure size 432x288 with 1 Axes>"
      ]
     },
     "metadata": {
      "needs_background": "light",
      "tags": []
     },
     "output_type": "display_data"
    }
   ],
   "source": [
    "model_lstm = CharLSTMLoop()\n",
    "opt_lstm = torch.optim.Adam(model_lstm.parameters(), lr=1e-2)\n",
    "criterion_lstm = nn.CrossEntropyLoss()\n",
    "\n",
    "train_rnn(model_lstm, criterion_lstm, opt_lstm, dataset)"
   ]
  },
  {
   "cell_type": "markdown",
   "metadata": {
    "id": "C-hyMbmwtn2U",
    "pycharm": {
     "name": "#%% md\n"
    }
   },
   "source": [
    "Generate text using the trained net with different `temperature` parameter: `[0.1, 0.2, 0.5, 1.0, 2.0]`.\n",
    "\n",
    "Evaluate the results visually, try to interpret them."
   ]
  },
  {
   "cell_type": "code",
   "execution_count": 12,
   "metadata": {
    "colab": {
     "base_uri": "https://localhost:8080/"
    },
    "collapsed": true,
    "id": "hRElO9uitn2U",
    "outputId": "135a4250-770e-46f8-85c4-0129dc5ee2ea",
    "pycharm": {
     "name": "#%%\n"
    }
   },
   "outputs": [
    {
     "name": "stdout",
     "output_type": "stream",
     "text": [
      "hello my friend, whor the world to shall in the world to shall in the world to shall in the world of thee thou should the love to the world to the world and beauty to shall in the world of thee of make the world to shall to shall to shall in the world to shall to should the live the world to shall in the lovely to the world to should the love the world and thee of muse the world to should the love to the world to shall to shall in the world to shall to shall to shall in the world of mines the wo\n"
     ]
    }
   ],
   "source": [
    "# Text generation with different temperature values here\n",
    "model_lstm.train(False)\n",
    "model_lstm.to(\"cpu\")\n",
    "\n",
    "print(generate_sample(model_lstm, temperature=0.1, max_length=500))"
   ]
  },
  {
   "cell_type": "code",
   "execution_count": 13,
   "metadata": {
    "colab": {
     "base_uri": "https://localhost:8080/"
    },
    "id": "clyKYOYU7tSR",
    "outputId": "74738840-67e3-4a62-a76c-e2c18dc5661a",
    "pycharm": {
     "name": "#%%\n"
    }
   },
   "outputs": [
    {
     "name": "stdout",
     "output_type": "stream",
     "text": [
      "hello my friend, where to the world and summer of the live thou self shall in the tome the world and thee of muse thou from the world of thee of the will the world to she the world to be that the world to she that shall in the world will will in the world of meart the world to shall to should the live the beauty so fair the world and thee another thee of muse the world and beauty should the love to shall to should the live the world of mued the world to self and beauty's fair thou from the world\n"
     ]
    }
   ],
   "source": [
    "model_lstm.train(False)\n",
    "model_lstm.to(\"cpu\")\n",
    "\n",
    "print(generate_sample(model_lstm, temperature=0.2, max_length=500))"
   ]
  },
  {
   "cell_type": "code",
   "execution_count": 14,
   "metadata": {
    "colab": {
     "base_uri": "https://localhost:8080/"
    },
    "id": "XVm6uTIO7t25",
    "outputId": "4da6e183-ca16-4b61-c25a-855d665d1b98",
    "pycharm": {
     "name": "#%%\n"
    }
   },
   "outputs": [
    {
     "name": "stdout",
     "output_type": "stream",
     "text": [
      "hello my friend, and thee oun with shall hanted in thou same thee and all hear may the live thou for he sweeth when the world that in thou same thou sand pidon beauty with thou not selforim noth eld and the world stacke to that in the world i make of thee to should thou thou wich to come demackes,\n",
      "  be the tell of from when thou beauty's dost paints,\n",
      "tone that the lovely of thy self to should and not to thy self so she tome live, and summer liess beauty's condom he ore shall will and make thou s\n"
     ]
    }
   ],
   "source": [
    "model_lstm.train(False)\n",
    "model_lstm.to(\"cpu\")\n",
    "\n",
    "print(generate_sample(model_lstm, temperature=0.5, max_length=500))"
   ]
  },
  {
   "cell_type": "code",
   "execution_count": 15,
   "metadata": {
    "colab": {
     "base_uri": "https://localhost:8080/"
    },
    "id": "PYBBcUvB7uOZ",
    "outputId": "436ff183-8988-444d-9373-4ee1b52948a0",
    "pycharm": {
     "name": "#%%\n"
    }
   },
   "outputs": [
    {
     "name": "stdout",
     "output_type": "stream",
     "text": [
      "hello my friend, palss leed:\n",
      "but, cay ald tift chidgow;\n",
      "chod\n",
      "aker wisthee;\n",
      "' cowst oft send'\n",
      "danbleth not wye yours, sime lone apine dot hasty n-ist in houn's frakance the fore!,\n",
      "fore the reave low livess canty or to thic ram't, of exee of that thy endour could every,\n",
      "writh eye thou should summion mights his, ans dechilf kird's decrear shates lies,\n",
      "wor showe hastend;\n",
      "what and bap and shall deyer'd prives it more ofnnald to thou endo!s not to thich al oft one, and to time faire threre and earte.\n",
      "\n"
     ]
    }
   ],
   "source": [
    "model_lstm.train(False)\n",
    "model_lstm.to(\"cpu\")\n",
    "\n",
    "print(generate_sample(model_lstm, temperature=1.0, max_length=500))"
   ]
  },
  {
   "cell_type": "code",
   "execution_count": 16,
   "metadata": {
    "colab": {
     "base_uri": "https://localhost:8080/"
    },
    "id": "lepMsZtE7ytx",
    "outputId": "6a141047-30f5-4d8b-c798-93fdb1722f16",
    "pycharm": {
     "name": "#%%\n"
    }
   },
   "outputs": [
    {
     "name": "stdout",
     "output_type": "stream",
     "text": [
      "hello my friend, i my.\n",
      "ag!en mos, an! tel!ts qaymopes no! theih szouts'and:ty crelliq dakim. welslec'rr\n",
      "  dilkla\n",
      "uoreag'hmmot hayttinc kidow;\n",
      "iv i corfbuwqtees we!\n",
      "iatest timy\n",
      "wi!'strok:\n",
      "deace.'\n",
      "then ceagerelst, sot, ho hast\n",
      "ware,s lpp\n",
      "bifeshel,\n",
      "fad'dindomvased kitr,\n",
      "tuncees,\n",
      "w rogurend .axs,\n",
      "afders,\n",
      "frere:oy yel'd engeg'ded pat'dlrow!pt wattiot a kesk'l'! nofrer aft, baugust 'nkmlammwel ins?eft wee,\n",
      "distirpe.\n",
      "ptoudles ulye. do to he remeighs remadtyirqujerunt: fo?,\n",
      "my l!av'mard ofh oqrmanmend,q\n"
     ]
    }
   ],
   "source": [
    "model_lstm.train(False)\n",
    "model_lstm.to(\"cpu\")\n",
    "\n",
    "print(generate_sample(model_lstm, temperature=2.0, max_length=500))"
   ]
  },
  {
   "cell_type": "markdown",
   "metadata": {
    "id": "1po_TlgOtn2U",
    "pycharm": {
     "name": "#%% md\n"
    }
   },
   "source": [
    "### Saving and loading models"
   ]
  },
  {
   "cell_type": "markdown",
   "metadata": {
    "id": "43WiDfiGtn2U",
    "pycharm": {
     "name": "#%% md\n"
    }
   },
   "source": [
    "Save the model to the disk, then load it and generate text. Examples are available [here](https://pytorch.org/tutorials/beginner/saving_loading_models.html])."
   ]
  },
  {
   "cell_type": "code",
   "execution_count": 37,
   "metadata": {
    "collapsed": true,
    "id": "zsMwqCVDtn2V",
    "pycharm": {
     "name": "#%%\n"
    }
   },
   "outputs": [],
   "source": [
    "# Saving and loading code here\n",
    "def save_model(filename, model):\n",
    "  state = {\n",
    "      'state_dict' : model.state_dict()\n",
    "  }\n",
    "  torch.save(state, filename)\n",
    "  print('model saved to %s' % filename)\n",
    "\n",
    "def load_model(filename, model):\n",
    "    state = torch.load(filename)\n",
    "    model.load_state_dict(state['state_dict'])\n",
    "    print('model loaded from %s' % filename)"
   ]
  },
  {
   "cell_type": "code",
   "execution_count": 38,
   "metadata": {
    "colab": {
     "base_uri": "https://localhost:8080/"
    },
    "id": "1X3EeXiufgxA",
    "outputId": "d0e36a6d-3ac2-4f8c-d1c7-e143721912e2",
    "pycharm": {
     "name": "#%%\n"
    }
   },
   "outputs": [
    {
     "name": "stdout",
     "output_type": "stream",
     "text": [
      "model saved to shakespear-lstm.pth\n"
     ]
    }
   ],
   "source": [
    "save_model('shakespear-lstm.pth', model_lstm)"
   ]
  },
  {
   "cell_type": "code",
   "execution_count": 39,
   "metadata": {
    "colab": {
     "base_uri": "https://localhost:8080/"
    },
    "id": "hXrfK_JIfur7",
    "outputId": "110cdd40-a395-48d7-f683-a0367ccab709",
    "pycharm": {
     "name": "#%%\n"
    }
   },
   "outputs": [
    {
     "name": "stdout",
     "output_type": "stream",
     "text": [
      "model loaded from shakespear-lstm.pth\n"
     ]
    }
   ],
   "source": [
    "uploaded_model = CharLSTMLoop()\n",
    "load_model('shakespear-lstm.pth', uploaded_model)"
   ]
  },
  {
   "cell_type": "code",
   "execution_count": 40,
   "metadata": {
    "colab": {
     "base_uri": "https://localhost:8080/"
    },
    "id": "WFQxGIL3hc3x",
    "outputId": "6d76aa2e-cbd8-42ae-dde9-071b2d4525fa",
    "pycharm": {
     "name": "#%%\n"
    }
   },
   "outputs": [
    {
     "name": "stdout",
     "output_type": "stream",
     "text": [
      "hello my friend, lendy thom hemas world.\n",
      "gomever.\n",
      "not ar more the praces with thou, i a ye self-rag,\n",
      "fazeth couck lese, 'from white and deself to still cadous eat she vioth\n",
      "and liner evange not so and,\n",
      "o! thy self or searnen and outh nechild that a encoy,\n",
      "and, ge tread,\n",
      "or i commonts the prontser?\n",
      "and dease stew,\n",
      "kard steack left breare;\n",
      "tomuchert thee,\n",
      "and prot,\n",
      "thy coy threath buty beauty sull tal live,\n",
      "and should of maind she here.\n",
      "                                                             \n"
     ]
    }
   ],
   "source": [
    "uploaded_model.train(False)\n",
    "\n",
    "print(generate_sample(uploaded_model, dataset=dataset, max_length=500))"
   ]
  },
  {
   "cell_type": "markdown",
   "metadata": {
    "id": "0NkwMhEntn2V",
    "pycharm": {
     "name": "#%% md\n"
    }
   },
   "source": [
    "### References\n",
    "1. <a href='http://karpathy.github.io/2015/05/21/rnn-effectiveness/'> Andrew Karpathy blog post about RNN. </a> \n",
    "There are several examples of genration: Shakespeare texts, Latex formulas, Linux Sourse Code and children names.\n",
    "2. <a href='https://github.com/karpathy/char-rnn'> Repo with char-rnn code </a>\n",
    "3. Cool repo with PyTorch examples: [link](https://github.com/spro/practical-pytorch`)"
   ]
  }
 ],
 "metadata": {
  "accelerator": "GPU",
  "anaconda-cloud": {},
  "colab": {
   "collapsed_sections": [],
   "name": "Lab2_DL_part3_poetry.ipynb",
   "provenance": []
  },
  "kernelspec": {
   "display_name": "base",
   "language": "python",
   "name": "python3"
  },
  "language_info": {
   "codemirror_mode": {
    "name": "ipython",
    "version": 3
   },
   "file_extension": ".py",
   "mimetype": "text/x-python",
   "name": "python",
   "nbconvert_exporter": "python",
   "pygments_lexer": "ipython3",
   "version": "3.9.13 | packaged by conda-forge | (main, May 27 2022, 17:00:33) \n[Clang 13.0.1 ]"
  },
  "vscode": {
   "interpreter": {
    "hash": "d189d21d977b81210d15f909fc18f2c540b65e67432daf72fa2f119ed5a0108c"
   }
  }
 },
 "nbformat": 4,
 "nbformat_minor": 1
}