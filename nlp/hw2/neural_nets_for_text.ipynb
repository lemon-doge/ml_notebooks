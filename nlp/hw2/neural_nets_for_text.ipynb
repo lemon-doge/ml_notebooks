{
 "cells": [
  {
   "cell_type": "markdown",
   "metadata": {
    "pycharm": {
     "name": "#%% md\n"
    }
   },
   "source": [
    "## NLP Intro"
   ]
  },
  {
   "cell_type": "markdown",
   "metadata": {
    "pycharm": {
     "name": "#%% md\n"
    }
   },
   "source": [
    "(based on [YSDA](https://github.com/yandexdataschool/nlp_course) materials )"
   ]
  },
  {
   "cell_type": "code",
   "execution_count": 1,
   "metadata": {
    "pycharm": {
     "name": "#%%\n"
    }
   },
   "outputs": [],
   "source": [
    "import numpy as np\n",
    "import pandas as pd\n",
    "import matplotlib.pyplot as plt\n"
   ]
  },
  {
   "cell_type": "code",
   "execution_count": 2,
   "metadata": {
    "pycharm": {
     "name": "#%%\n"
    }
   },
   "outputs": [
    {
     "data": {
      "text/plain": [
       "(244768, 12)"
      ]
     },
     "execution_count": 2,
     "metadata": {},
     "output_type": "execute_result"
    }
   ],
   "source": [
    "data = pd.read_csv(\"./Train_rev1.csv\", index_col=None)\n",
    "data.shape"
   ]
  },
  {
   "cell_type": "code",
   "execution_count": 3,
   "metadata": {
    "pycharm": {
     "name": "#%%\n"
    }
   },
   "outputs": [
    {
     "data": {
      "text/html": [
       "<div>\n",
       "<style scoped>\n",
       "    .dataframe tbody tr th:only-of-type {\n",
       "        vertical-align: middle;\n",
       "    }\n",
       "\n",
       "    .dataframe tbody tr th {\n",
       "        vertical-align: top;\n",
       "    }\n",
       "\n",
       "    .dataframe thead th {\n",
       "        text-align: right;\n",
       "    }\n",
       "</style>\n",
       "<table border=\"1\" class=\"dataframe\">\n",
       "  <thead>\n",
       "    <tr style=\"text-align: right;\">\n",
       "      <th></th>\n",
       "      <th>Id</th>\n",
       "      <th>Title</th>\n",
       "      <th>FullDescription</th>\n",
       "      <th>LocationRaw</th>\n",
       "      <th>LocationNormalized</th>\n",
       "      <th>ContractType</th>\n",
       "      <th>ContractTime</th>\n",
       "      <th>Company</th>\n",
       "      <th>Category</th>\n",
       "      <th>SalaryRaw</th>\n",
       "      <th>SalaryNormalized</th>\n",
       "      <th>SourceName</th>\n",
       "    </tr>\n",
       "  </thead>\n",
       "  <tbody>\n",
       "    <tr>\n",
       "      <th>0</th>\n",
       "      <td>12612628</td>\n",
       "      <td>Engineering Systems Analyst</td>\n",
       "      <td>Engineering Systems Analyst Dorking Surrey Sal...</td>\n",
       "      <td>Dorking, Surrey, Surrey</td>\n",
       "      <td>Dorking</td>\n",
       "      <td>NaN</td>\n",
       "      <td>permanent</td>\n",
       "      <td>Gregory Martin International</td>\n",
       "      <td>Engineering Jobs</td>\n",
       "      <td>20000 - 30000/annum 20-30K</td>\n",
       "      <td>25000</td>\n",
       "      <td>cv-library.co.uk</td>\n",
       "    </tr>\n",
       "    <tr>\n",
       "      <th>1</th>\n",
       "      <td>12612830</td>\n",
       "      <td>Stress Engineer Glasgow</td>\n",
       "      <td>Stress Engineer Glasgow Salary **** to **** We...</td>\n",
       "      <td>Glasgow, Scotland, Scotland</td>\n",
       "      <td>Glasgow</td>\n",
       "      <td>NaN</td>\n",
       "      <td>permanent</td>\n",
       "      <td>Gregory Martin International</td>\n",
       "      <td>Engineering Jobs</td>\n",
       "      <td>25000 - 35000/annum 25-35K</td>\n",
       "      <td>30000</td>\n",
       "      <td>cv-library.co.uk</td>\n",
       "    </tr>\n",
       "  </tbody>\n",
       "</table>\n",
       "</div>"
      ],
      "text/plain": [
       "         Id                        Title  \\\n",
       "0  12612628  Engineering Systems Analyst   \n",
       "1  12612830      Stress Engineer Glasgow   \n",
       "\n",
       "                                     FullDescription  \\\n",
       "0  Engineering Systems Analyst Dorking Surrey Sal...   \n",
       "1  Stress Engineer Glasgow Salary **** to **** We...   \n",
       "\n",
       "                   LocationRaw LocationNormalized ContractType ContractTime  \\\n",
       "0      Dorking, Surrey, Surrey            Dorking          NaN    permanent   \n",
       "1  Glasgow, Scotland, Scotland            Glasgow          NaN    permanent   \n",
       "\n",
       "                        Company          Category                   SalaryRaw  \\\n",
       "0  Gregory Martin International  Engineering Jobs  20000 - 30000/annum 20-30K   \n",
       "1  Gregory Martin International  Engineering Jobs  25000 - 35000/annum 25-35K   \n",
       "\n",
       "   SalaryNormalized        SourceName  \n",
       "0             25000  cv-library.co.uk  \n",
       "1             30000  cv-library.co.uk  "
      ]
     },
     "execution_count": 3,
     "metadata": {},
     "output_type": "execute_result"
    }
   ],
   "source": [
    "data.head(2)"
   ]
  },
  {
   "cell_type": "markdown",
   "metadata": {
    "pycharm": {
     "name": "#%% md\n"
    }
   },
   "source": [
    "One problem with salary prediction is that it's oddly distributed: there are many people who are paid standard salaries and a few that get tons o money. The distribution is fat-tailed on the right side, which is inconvenient for MSE minimization.\n",
    "\n",
    "There are several techniques to combat this: using a different loss function, predicting log-target instead of raw target or even replacing targets with their percentiles among all salaries in the training set. We gonna use logarithm for now.\n"
   ]
  },
  {
   "cell_type": "code",
   "execution_count": null,
   "metadata": {
    "pycharm": {
     "name": "#%%\n"
    }
   },
   "outputs": [],
   "source": [
    "from sklearn.preprocessing import StandardScaler\n",
    "# box-cox transforms the data to make it more normal\n",
    "\n",
    "def box_cox(x, lmbda):\n",
    "    if lmbda == 0:\n",
    "        return np.log(x + 1) # == np.log1p(x)\n",
    "    else:\n",
    "        return (x**lmbda - 1) / lmbda"
   ]
  },
  {
   "cell_type": "code",
   "execution_count": 4,
   "metadata": {
    "pycharm": {
     "name": "#%%\n"
    }
   },
   "outputs": [
    {
     "data": {
      "image/png": "[encoded data removed]",
      "text/plain": [
       "<Figure size 800x400 with 2 Axes>"
      ]
     },
     "metadata": {},
     "output_type": "display_data"
    }
   ],
   "source": [
    "data['Log1pSalary'] = np.log1p(data['SalaryNormalized']).astype('float32')\n",
    "\n",
    "plt.figure(figsize=[8, 4])\n",
    "plt.subplot(1, 2, 1)\n",
    "plt.hist(data[\"SalaryNormalized\"], bins=20);\n",
    "\n",
    "plt.subplot(1, 2, 2)\n",
    "plt.hist(data['Log1pSalary'], bins=20);"
   ]
  },
  {
   "cell_type": "code",
   "execution_count": 6,
   "metadata": {
    "pycharm": {
     "name": "#%%\n"
    }
   },
   "outputs": [
    {
     "data": {
      "text/html": [
       "<div>\n",
       "<style scoped>\n",
       "    .dataframe tbody tr th:only-of-type {\n",
       "        vertical-align: middle;\n",
       "    }\n",
       "\n",
       "    .dataframe tbody tr th {\n",
       "        vertical-align: top;\n",
       "    }\n",
       "\n",
       "    .dataframe thead th {\n",
       "        text-align: right;\n",
       "    }\n",
       "</style>\n",
       "<table border=\"1\" class=\"dataframe\">\n",
       "  <thead>\n",
       "    <tr style=\"text-align: right;\">\n",
       "      <th></th>\n",
       "      <th>Id</th>\n",
       "      <th>Title</th>\n",
       "      <th>FullDescription</th>\n",
       "      <th>LocationRaw</th>\n",
       "      <th>LocationNormalized</th>\n",
       "      <th>ContractType</th>\n",
       "      <th>ContractTime</th>\n",
       "      <th>Company</th>\n",
       "      <th>Category</th>\n",
       "      <th>SalaryRaw</th>\n",
       "      <th>SalaryNormalized</th>\n",
       "      <th>SourceName</th>\n",
       "      <th>Log1pSalary</th>\n",
       "    </tr>\n",
       "  </thead>\n",
       "  <tbody>\n",
       "    <tr>\n",
       "      <th>99864</th>\n",
       "      <td>69538130</td>\n",
       "      <td>Oracle Consultant (ERP)</td>\n",
       "      <td>MCS Group are currently working with one of Ir...</td>\n",
       "      <td>Belfast</td>\n",
       "      <td>Belfast</td>\n",
       "      <td>full_time</td>\n",
       "      <td>permanent</td>\n",
       "      <td>MCS Group</td>\n",
       "      <td>IT Jobs</td>\n",
       "      <td>40,000 - 50,000</td>\n",
       "      <td>45000</td>\n",
       "      <td>nijobfinder.co.uk</td>\n",
       "      <td>10.714440</td>\n",
       "    </tr>\n",
       "    <tr>\n",
       "      <th>170048</th>\n",
       "      <td>71352930</td>\n",
       "      <td>Pensions Administration Manager</td>\n",
       "      <td>Are you looking for a change and a move to Sun...</td>\n",
       "      <td>Malta Island</td>\n",
       "      <td>UK</td>\n",
       "      <td>NaN</td>\n",
       "      <td>permanent</td>\n",
       "      <td>Sammons Pensions</td>\n",
       "      <td>Accounting &amp; Finance Jobs</td>\n",
       "      <td>GBP35000 - 48000 per annum</td>\n",
       "      <td>41500</td>\n",
       "      <td>professionalpensionsjobs.com</td>\n",
       "      <td>10.633472</td>\n",
       "    </tr>\n",
       "    <tr>\n",
       "      <th>146878</th>\n",
       "      <td>70754568</td>\n",
       "      <td>Business Intelligence  Operational Analyst</td>\n",
       "      <td>Business Intelligence  Operational Analyst  Te...</td>\n",
       "      <td>Haywards Heath</td>\n",
       "      <td>Haywards Heath</td>\n",
       "      <td>NaN</td>\n",
       "      <td>NaN</td>\n",
       "      <td>Centrepoint Recruitment Consultants</td>\n",
       "      <td>Admin Jobs</td>\n",
       "      <td>40000 - 48000 per annum</td>\n",
       "      <td>44000</td>\n",
       "      <td>MyUkJobs</td>\n",
       "      <td>10.691968</td>\n",
       "    </tr>\n",
       "  </tbody>\n",
       "</table>\n",
       "</div>"
      ],
      "text/plain": [
       "              Id                                       Title  \\\n",
       "99864   69538130                     Oracle Consultant (ERP)   \n",
       "170048  71352930             Pensions Administration Manager   \n",
       "146878  70754568  Business Intelligence  Operational Analyst   \n",
       "\n",
       "                                          FullDescription     LocationRaw  \\\n",
       "99864   MCS Group are currently working with one of Ir...         Belfast   \n",
       "170048  Are you looking for a change and a move to Sun...    Malta Island   \n",
       "146878  Business Intelligence  Operational Analyst  Te...  Haywards Heath   \n",
       "\n",
       "       LocationNormalized ContractType ContractTime  \\\n",
       "99864             Belfast    full_time    permanent   \n",
       "170048                 UK          NaN    permanent   \n",
       "146878     Haywards Heath          NaN          NaN   \n",
       "\n",
       "                                    Company                   Category  \\\n",
       "99864                             MCS Group                    IT Jobs   \n",
       "170048                     Sammons Pensions  Accounting & Finance Jobs   \n",
       "146878  Centrepoint Recruitment Consultants                 Admin Jobs   \n",
       "\n",
       "                         SalaryRaw  SalaryNormalized  \\\n",
       "99864              40,000 - 50,000             45000   \n",
       "170048  GBP35000 - 48000 per annum             41500   \n",
       "146878     40000 - 48000 per annum             44000   \n",
       "\n",
       "                          SourceName  Log1pSalary  \n",
       "99864              nijobfinder.co.uk    10.714440  \n",
       "170048  professionalpensionsjobs.com    10.633472  \n",
       "146878                      MyUkJobs    10.691968  "
      ]
     },
     "execution_count": 6,
     "metadata": {},
     "output_type": "execute_result"
    }
   ],
   "source": [
    "text_columns = [\"Title\", \"FullDescription\"]\n",
    "TARGET_COLUMN = \"Log1pSalary\"\n",
    "\n",
    "data.sample(3)"
   ]
  },
  {
   "cell_type": "markdown",
   "metadata": {
    "pycharm": {
     "name": "#%% md\n"
    }
   },
   "source": [
    "### Tokenization"
   ]
  },
  {
   "cell_type": "markdown",
   "metadata": {
    "pycharm": {
     "name": "#%% md\n"
    }
   },
   "source": [
    "Applying NLP to a problem begins from tokenization: splitting raw text into sequences of tokens (words, punctuation, etc).\n",
    "\n",
    "We have to lowercase and tokenize all texts under `Title` and `FullDescription` columns.\n"
   ]
  },
  {
   "cell_type": "code",
   "execution_count": 8,
   "metadata": {
    "pycharm": {
     "name": "#%%\n"
    }
   },
   "outputs": [
    {
     "name": "stdout",
     "output_type": "stream",
     "text": [
      "Raw text:\n",
      "2         Mathematical Modeller / Simulation Analyst / O...\n",
      "100002    A successful and high achieving specialist sch...\n",
      "200002    Web Designer  HTML, CSS, JavaScript, Photoshop...\n",
      "Name: FullDescription, dtype: object\n"
     ]
    }
   ],
   "source": [
    "print(\"Raw text:\")\n",
    "print(data[\"FullDescription\"][2::100000])"
   ]
  },
  {
   "cell_type": "code",
   "execution_count": 9,
   "metadata": {
    "pycharm": {
     "name": "#%%\n"
    }
   },
   "outputs": [],
   "source": [
    "import nltk \n",
    "tokenizer = nltk.tokenize.WordPunctTokenizer()\n"
   ]
  },
  {
   "cell_type": "code",
   "execution_count": 10,
   "metadata": {
    "pycharm": {
     "name": "#%%\n"
    }
   },
   "outputs": [
    {
     "data": {
      "text/plain": [
       "['Mathematical',\n",
       " 'Modeller',\n",
       " '/',\n",
       " 'Simulation',\n",
       " 'Analyst',\n",
       " '/',\n",
       " 'Operational',\n",
       " 'Analyst',\n",
       " 'Basingstoke',\n",
       " ',',\n",
       " 'Hampshire',\n",
       " 'Up',\n",
       " 'to',\n",
       " '****',\n",
       " 'K',\n",
       " 'AAE',\n",
       " 'pension',\n",
       " 'contribution',\n",
       " ',',\n",
       " 'private',\n",
       " 'medical',\n",
       " 'and',\n",
       " 'dental',\n",
       " 'The',\n",
       " 'opportunity',\n",
       " 'Our',\n",
       " 'client',\n",
       " 'is',\n",
       " 'an',\n",
       " 'independent',\n",
       " 'consultancy',\n",
       " 'firm',\n",
       " 'which',\n",
       " 'has',\n",
       " 'an',\n",
       " 'opportunity',\n",
       " 'for',\n",
       " 'a',\n",
       " 'Data',\n",
       " 'Analyst',\n",
       " 'with',\n",
       " '35',\n",
       " 'years',\n",
       " 'experience',\n",
       " '.',\n",
       " 'The',\n",
       " 'role',\n",
       " 'will',\n",
       " 'require',\n",
       " 'the',\n",
       " 'successful',\n",
       " 'candidate',\n",
       " 'to',\n",
       " 'demonstrate',\n",
       " 'their',\n",
       " 'ability',\n",
       " 'to',\n",
       " 'analyse',\n",
       " 'a',\n",
       " 'problem',\n",
       " 'and',\n",
       " 'arrive',\n",
       " 'at',\n",
       " 'a',\n",
       " 'solution',\n",
       " ',',\n",
       " 'with',\n",
       " 'varying',\n",
       " 'levels',\n",
       " 'of',\n",
       " 'data',\n",
       " 'being',\n",
       " 'available',\n",
       " '.',\n",
       " 'Essential',\n",
       " 'skills',\n",
       " 'Thorough',\n",
       " 'knowledge',\n",
       " 'of',\n",
       " 'Excel',\n",
       " 'and',\n",
       " 'proven',\n",
       " 'ability',\n",
       " 'to',\n",
       " 'utilise',\n",
       " 'this',\n",
       " 'to',\n",
       " 'create',\n",
       " 'powerful',\n",
       " 'decision',\n",
       " 'support',\n",
       " 'models',\n",
       " 'Experience',\n",
       " 'in',\n",
       " 'Modelling',\n",
       " 'and',\n",
       " 'Simulation',\n",
       " 'Techniques',\n",
       " ',',\n",
       " 'Experience',\n",
       " 'of',\n",
       " 'techniques',\n",
       " 'such',\n",
       " 'as',\n",
       " 'Discrete',\n",
       " 'Event',\n",
       " 'Simulation',\n",
       " 'and',\n",
       " '/',\n",
       " 'or',\n",
       " 'SD',\n",
       " 'modelling',\n",
       " 'Mathematical',\n",
       " '/',\n",
       " 'scientific',\n",
       " 'background',\n",
       " 'minimum',\n",
       " 'degree',\n",
       " 'qualified',\n",
       " 'Proven',\n",
       " 'analytical',\n",
       " 'and',\n",
       " 'problem',\n",
       " 'solving',\n",
       " 'skills',\n",
       " 'Self',\n",
       " 'Starter',\n",
       " 'Ability',\n",
       " 'to',\n",
       " 'develop',\n",
       " 'solid',\n",
       " 'working',\n",
       " 'relationships',\n",
       " 'In',\n",
       " 'addition',\n",
       " 'to',\n",
       " 'formal',\n",
       " 'qualifications',\n",
       " 'and',\n",
       " 'experience',\n",
       " ',',\n",
       " 'the',\n",
       " 'successful',\n",
       " 'candidate',\n",
       " 'will',\n",
       " 'require',\n",
       " 'excellent',\n",
       " 'written',\n",
       " 'and',\n",
       " 'verbal',\n",
       " 'communication',\n",
       " 'skills',\n",
       " ',',\n",
       " 'be',\n",
       " 'energetic',\n",
       " ',',\n",
       " 'enterprising',\n",
       " 'and',\n",
       " 'have',\n",
       " 'a',\n",
       " 'determination',\n",
       " 'to',\n",
       " 'succeed',\n",
       " '.',\n",
       " 'They',\n",
       " 'will',\n",
       " 'be',\n",
       " 'required',\n",
       " 'to',\n",
       " 'build',\n",
       " 'solid',\n",
       " 'working',\n",
       " 'relationships',\n",
       " ',',\n",
       " 'both',\n",
       " 'internally',\n",
       " 'with',\n",
       " 'colleagues',\n",
       " 'and',\n",
       " ',',\n",
       " 'most',\n",
       " 'importantly',\n",
       " ',',\n",
       " 'externally',\n",
       " 'with',\n",
       " 'our',\n",
       " 'clients',\n",
       " '.',\n",
       " 'They',\n",
       " 'must',\n",
       " 'be',\n",
       " 'comfortable',\n",
       " 'working',\n",
       " 'independently',\n",
       " 'to',\n",
       " 'deliver',\n",
       " 'against',\n",
       " 'challenging',\n",
       " 'client',\n",
       " 'demands',\n",
       " '.',\n",
       " 'The',\n",
       " 'offices',\n",
       " 'are',\n",
       " 'located',\n",
       " 'in',\n",
       " 'Basingstoke',\n",
       " ',',\n",
       " 'Hampshire',\n",
       " ',',\n",
       " 'but',\n",
       " 'our',\n",
       " 'client',\n",
       " 'work',\n",
       " 'for',\n",
       " 'clients',\n",
       " 'worldwide',\n",
       " '.',\n",
       " 'The',\n",
       " 'successful',\n",
       " 'candidate',\n",
       " 'must',\n",
       " 'therefore',\n",
       " 'be',\n",
       " 'prepared',\n",
       " 'to',\n",
       " 'undertake',\n",
       " 'work',\n",
       " 'at',\n",
       " 'client',\n",
       " 'sites',\n",
       " 'for',\n",
       " 'short',\n",
       " 'periods',\n",
       " 'of',\n",
       " 'time',\n",
       " '.',\n",
       " 'Physics',\n",
       " ',',\n",
       " 'Mathematics',\n",
       " ',',\n",
       " 'Modelling',\n",
       " ',',\n",
       " 'Simulation',\n",
       " ',',\n",
       " 'Analytical',\n",
       " ',',\n",
       " 'Operational',\n",
       " 'Research',\n",
       " ',',\n",
       " 'Mathematical',\n",
       " 'Modelling',\n",
       " 'Mathematical',\n",
       " 'Modeller',\n",
       " '/',\n",
       " 'Simulation',\n",
       " 'Analyst',\n",
       " '/',\n",
       " 'Operational',\n",
       " 'Analyst',\n",
       " 'Basingstoke',\n",
       " ',',\n",
       " 'Hampshire',\n",
       " '****',\n",
       " 'K',\n",
       " 'AAE',\n",
       " 'pension',\n",
       " 'contribution',\n",
       " ',',\n",
       " 'private',\n",
       " 'medical',\n",
       " 'and',\n",
       " 'dental']"
      ]
     },
     "execution_count": 10,
     "metadata": {},
     "output_type": "execute_result"
    }
   ],
   "source": [
    "tokenizer.tokenize(data[\"FullDescription\"][2])"
   ]
  },
  {
   "cell_type": "code",
   "execution_count": 12,
   "metadata": {
    "pycharm": {
     "name": "#%%\n"
    }
   },
   "outputs": [],
   "source": [
    "import nltk\n",
    "\n",
    "tokenizer = nltk.tokenize.WordPunctTokenizer()\n",
    "\n",
    "data[\"Title\"] = [\n",
    "    ' '.join(tokenizer.tokenize(str(text).lower())) for text in data[\"Title\"]\n",
    "]\n",
    "data[\"FullDescription\"] = [\n",
    "    ' '.join(tokenizer.tokenize(str(text).lower())) for text in data[\"FullDescription\"]\n",
    "]"
   ]
  },
  {
   "cell_type": "code",
   "execution_count": 13,
   "metadata": {
    "pycharm": {
     "name": "#%%\n"
    }
   },
   "outputs": [
    {
     "name": "stdout",
     "output_type": "stream",
     "text": [
      "Tokenized:\n",
      "2         mathematical modeller / simulation analyst / o...\n",
      "100002    a successful and high achieving specialist sch...\n",
      "200002    web designer html , css , javascript , photosh...\n",
      "Name: FullDescription, dtype: object\n"
     ]
    }
   ],
   "source": [
    "print(\"Tokenized:\")\n",
    "print(data[\"FullDescription\"][2::100000])"
   ]
  },
  {
   "cell_type": "markdown",
   "metadata": {
    "pycharm": {
     "name": "#%% md\n"
    }
   },
   "source": [
    "Next step is to build __Vocabulary__ : a set of all unique tokens with token to index and index to token mappings.\n",
    "\n",
    "Note that not all words are equally useful. Some of them are typos or rare words that are only present a few times. \n",
    "\n",
    "Let's count how many times is each word present in the data so that we can build a \"white list\" of known words."
   ]
  },
  {
   "cell_type": "code",
   "execution_count": 16,
   "metadata": {
    "pycharm": {
     "name": "#%%\n"
    }
   },
   "outputs": [],
   "source": [
    "from collections import Counter\n",
    "token_counts = Counter()\n",
    "\n",
    "for column in text_columns:\n",
    "    texts = data[column].values\n",
    "    \n",
    "    for text in texts:\n",
    "        token_counts.update(text.split())\n",
    "\n",
    "# for column in text_columns:\n",
    "#     texts = data[column].values\n",
    "    \n",
    "#     for t in texts:\n",
    "#         words = t.split()\n",
    "#         for word in words:\n",
    "#             token_counts[word] += 1"
   ]
  },
  {
   "cell_type": "code",
   "execution_count": 17,
   "metadata": {
    "pycharm": {
     "name": "#%%\n"
    }
   },
   "outputs": [
    {
     "name": "stdout",
     "output_type": "stream",
     "text": [
      "Total unique tokens : 202704\n",
      "('and', 2657388)\n",
      "('.', 2523216)\n",
      "(',', 2318606)\n",
      "('the', 2080994)\n",
      "('to', 2019884)\n",
      "...\n",
      "('stephanietraveltraderecruitmnt', 1)\n",
      "('ruabon', 1)\n",
      "('lowehays', 1)\n",
      "Correct!\n"
     ]
    }
   ],
   "source": [
    "print(\"Total unique tokens :\", len(token_counts))\n",
    "print('\\n'.join(map(str, token_counts.most_common(n=5))))\n",
    "print('...')\n",
    "print('\\n'.join(map(str, token_counts.most_common()[-3:])))\n",
    "\n",
    "assert token_counts.most_common(1)[0][1] in  range(2600000, 2700000)\n",
    "assert len(token_counts) in range(200000, 210000)\n",
    "print('Correct!')"
   ]
  },
  {
   "cell_type": "markdown",
   "metadata": {
    "pycharm": {
     "name": "#%% md\n"
    }
   },
   "source": [
    "Get a list of tokens that occur at least 10 times"
   ]
  },
  {
   "cell_type": "code",
   "execution_count": 18,
   "metadata": {
    "pycharm": {
     "name": "#%%\n"
    }
   },
   "outputs": [],
   "source": [
    "min_count = 10\n",
    "\n",
    "# tokens from token_counts keys that had at least min_count occurrences throughout the dataset\n",
    "tokens = [token for token, count in token_counts.items() if count >= min_count]# YOUR CODE HERE\n",
    "\n",
    "# Add a special tokens for unknown and empty words\n",
    "UNK, PAD = \"UNK\", \"PAD\"\n",
    "tokens = [UNK, PAD] + tokens"
   ]
  },
  {
   "cell_type": "code",
   "execution_count": 19,
   "metadata": {
    "pycharm": {
     "name": "#%%\n"
    }
   },
   "outputs": [
    {
     "name": "stdout",
     "output_type": "stream",
     "text": [
      "Vocabulary size: 34158\n",
      "Correct!\n"
     ]
    }
   ],
   "source": [
    "print(\"Vocabulary size:\", len(tokens))\n",
    "assert type(tokens) == list\n",
    "assert len(tokens) in range(32000, 35000)\n",
    "assert 'me' in tokens\n",
    "assert UNK in tokens\n",
    "print(\"Correct!\")"
   ]
  },
  {
   "cell_type": "code",
   "execution_count": 22,
   "metadata": {
    "pycharm": {
     "name": "#%%\n"
    }
   },
   "outputs": [
    {
     "data": {
      "text/plain": [
       "['UNK',\n",
       " 'PAD',\n",
       " 'engineering',\n",
       " 'systems',\n",
       " 'analyst',\n",
       " 'stress',\n",
       " 'engineer',\n",
       " 'glasgow',\n",
       " 'modelling',\n",
       " 'and']"
      ]
     },
     "execution_count": 22,
     "metadata": {},
     "output_type": "execute_result"
    }
   ],
   "source": [
    "tokens[:10]"
   ]
  },
  {
   "cell_type": "markdown",
   "metadata": {
    "pycharm": {
     "name": "#%% md\n"
    }
   },
   "source": [
    "Build an inverse vocabulary"
   ]
  },
  {
   "cell_type": "code",
   "execution_count": 23,
   "metadata": {
    "pycharm": {
     "name": "#%%\n"
    }
   },
   "outputs": [],
   "source": [
    "token_to_id = {token: indx for indx, token in enumerate(tokens)}# YOUR CODE HERE"
   ]
  },
  {
   "cell_type": "code",
   "execution_count": 24,
   "metadata": {
    "pycharm": {
     "name": "#%%\n"
    }
   },
   "outputs": [
    {
     "name": "stdout",
     "output_type": "stream",
     "text": [
      "Correct!\n"
     ]
    }
   ],
   "source": [
    "assert isinstance(token_to_id, dict)\n",
    "assert len(token_to_id) == len(tokens)\n",
    "for tok in tokens:\n",
    "    assert tokens[token_to_id[tok]] == tok\n",
    "\n",
    "print(\"Correct!\")"
   ]
  },
  {
   "cell_type": "markdown",
   "metadata": {
    "pycharm": {
     "name": "#%% md\n"
    }
   },
   "source": [
    "Now we will use vocabulary to convert text"
   ]
  },
  {
   "cell_type": "code",
   "execution_count": 25,
   "metadata": {
    "pycharm": {
     "name": "#%%\n"
    }
   },
   "outputs": [],
   "source": [
    "UNK_IX, PAD_IX = map(token_to_id.get, [UNK, PAD])\n",
    "\n",
    "def as_matrix(sequences, max_len=None):\n",
    "    \"\"\" Convert a list of tokens into a matrix with padding \"\"\"\n",
    "    if isinstance(sequences[0], str):\n",
    "        sequences = list(map(str.split, sequences))\n",
    "        \n",
    "    max_len = min(max(map(len, sequences)), max_len or float('inf'))\n",
    "    \n",
    "    matrix = np.full((len(sequences), max_len), np.int32(PAD_IX))\n",
    "    for i,seq in enumerate(sequences):\n",
    "        row_ix = [token_to_id.get(word, UNK_IX) for word in seq[:max_len]]\n",
    "        matrix[i, :len(row_ix)] = row_ix\n",
    "    \n",
    "    return matrix"
   ]
  },
  {
   "cell_type": "code",
   "execution_count": 30,
   "metadata": {
    "pycharm": {
     "name": "#%%\n"
    }
   },
   "outputs": [
    {
     "data": {
      "text/plain": [
       "'PAD'"
      ]
     },
     "execution_count": 30,
     "metadata": {},
     "output_type": "execute_result"
    }
   ],
   "source": [
    "tokens[1]"
   ]
  },
  {
   "cell_type": "code",
   "execution_count": 33,
   "metadata": {
    "pycharm": {
     "name": "#%%\n"
    }
   },
   "outputs": [],
   "source": [
    "import torch\n",
    "\n",
    "a = torch.randn(5)\n",
    "b = torch.randn(5)\n"
   ]
  },
  {
   "cell_type": "code",
   "execution_count": 34,
   "metadata": {
    "pycharm": {
     "name": "#%%\n"
    }
   },
   "outputs": [
    {
     "data": {
      "text/plain": [
       "torch.Size([2, 5])"
      ]
     },
     "execution_count": 34,
     "metadata": {},
     "output_type": "execute_result"
    }
   ],
   "source": [
    "torch.stack([a, b], dim=0).shape"
   ]
  },
  {
   "cell_type": "code",
   "execution_count": 26,
   "metadata": {
    "pycharm": {
     "name": "#%%\n"
    }
   },
   "outputs": [
    {
     "name": "stdout",
     "output_type": "stream",
     "text": [
      "Lines:\n",
      "engineering systems analyst\n",
      "hr assistant\n",
      "senior ec & i engineer\n",
      "\n",
      "Matrix:\n",
      "[[   2    3    4    1    1]\n",
      " [ 998  176    1    1    1]\n",
      " [  18 3472  242   59    6]]\n"
     ]
    }
   ],
   "source": [
    "print(\"Lines:\")\n",
    "print('\\n'.join(data[\"Title\"][::100000].values), end='\\n\\n')\n",
    "print(\"Matrix:\")\n",
    "print(as_matrix(data[\"Title\"][::100000]))"
   ]
  },
  {
   "cell_type": "markdown",
   "metadata": {
    "pycharm": {
     "name": "#%% md\n"
    }
   },
   "source": [
    "## Deep learning part"
   ]
  },
  {
   "cell_type": "code",
   "execution_count": null,
   "metadata": {
    "pycharm": {
     "name": "#%%\n"
    }
   },
   "outputs": [],
   "source": []
  },
  {
   "cell_type": "code",
   "execution_count": 35,
   "metadata": {
    "pycharm": {
     "name": "#%%\n"
    }
   },
   "outputs": [
    {
     "name": "stdout",
     "output_type": "stream",
     "text": [
      "Train size =  195814\n",
      "Validation size =  48954\n"
     ]
    }
   ],
   "source": [
    "from sklearn.model_selection import train_test_split\n",
    "\n",
    "data_train, data_val = train_test_split(data, test_size=0.2, random_state=42)\n",
    "data_train.index = range(len(data_train))\n",
    "data_val.index = range(len(data_val))\n",
    "\n",
    "print(\"Train size = \", len(data_train))\n",
    "print(\"Validation size = \", len(data_val))"
   ]
  },
  {
   "cell_type": "code",
   "execution_count": 36,
   "metadata": {
    "pycharm": {
     "name": "#%%\n"
    }
   },
   "outputs": [],
   "source": [
    "TARGET_COLUMN = 'Log1pSalary'"
   ]
  },
  {
   "cell_type": "code",
   "execution_count": 38,
   "metadata": {
    "pycharm": {
     "name": "#%%\n"
    }
   },
   "outputs": [
    {
     "name": "stdout",
     "output_type": "stream",
     "text": [
      "Dropout(p=0.2, inplace=False)\n"
     ]
    }
   ],
   "source": [
    "# nn.Linear(128, 4096) # train: ~[bs, 4096 * (1 - 0.2)] || test: [bs, 4096]\n",
    "# nn.Dropout(0.2)      # train: [bs, 4096]  || test: * (1 - 0.2)\n",
    "# nn.Linear(4096, 1)   # [bs, 4096] -> [bs, 1]"
   ]
  },
  {
   "cell_type": "code",
   "execution_count": 39,
   "metadata": {
    "pycharm": {
     "name": "#%%\n"
    }
   },
   "outputs": [],
   "source": [
    "import torch\n",
    "\n",
    "def to_tensors(batch, device):\n",
    "    batch_tensors = dict()\n",
    "    for key, arr in batch.items():\n",
    "        if key in [\"FullDescription\", \"Title\"]:\n",
    "            batch_tensors[key] = torch.tensor(arr, device=device, dtype=torch.int64)\n",
    "        else:\n",
    "            batch_tensors[key] = torch.tensor(arr, device=device)\n",
    "    return batch_tensors\n",
    "\n",
    "def make_batch(data, max_len=None, word_dropout=0, device=torch.device('cpu')):\n",
    "    \"\"\"\n",
    "    Creates a keras-friendly dict from the batch data.\n",
    "    :param word_dropout: replaces token index with UNK_IX with this probability\n",
    "    :returns: a dict with {'title' : int64[batch, title_max_len], 'FullDescription': int64[batch, max_len]}\n",
    "    \"\"\"\n",
    "    batch = {}\n",
    "    batch[\"Title\"] = as_matrix(data[\"Title\"].values, max_len)\n",
    "    batch[\"FullDescription\"] = as_matrix(data[\"FullDescription\"].values, max_len)\n",
    "    \n",
    "    if word_dropout != 0:\n",
    "        batch[\"FullDescription\"] = apply_word_dropout(batch[\"FullDescription\"], 1. - word_dropout)\n",
    "    \n",
    "    if TARGET_COLUMN in data.columns:\n",
    "        batch[TARGET_COLUMN] = data[TARGET_COLUMN].values\n",
    "    \n",
    "    return to_tensors(batch, device)\n",
    "\n",
    "def apply_word_dropout(matrix, keep_prop, replace_with=UNK_IX, pad_ix=PAD_IX,):\n",
    "    dropout_mask = np.random.choice(2, np.shape(matrix), p=[keep_prop, 1 - keep_prop])\n",
    "    dropout_mask &= matrix != pad_ix\n",
    "    return np.choose(dropout_mask, [matrix, np.full_like(matrix, replace_with)])"
   ]
  },
  {
   "cell_type": "code",
   "execution_count": 40,
   "metadata": {
    "pycharm": {
     "name": "#%%\n"
    }
   },
   "outputs": [
    {
     "data": {
      "text/plain": [
       "{'Title': tensor([[   18,   287,   359,     1,     1,     1,     1],\n",
       "         [ 2863,    11,    12,    13,    55,    37, 12109],\n",
       "         [ 2833,   618,   858,    63,  7104,  7105,    64]]),\n",
       " 'FullDescription': tensor([[   18,   287,   359,  1408,   561,    18,   287,   359,  1464,  1408],\n",
       "         [ 2863,    11,    12,    13,    55,    37, 12109,  1767,  1166,    74],\n",
       "         [  142,  1617,  8830,  1314,  1464,   559,   560,   561,   618,   858]]),\n",
       " 'Log1pSalary': tensor([ 9.7115, 10.4631, 10.7144])}"
      ]
     },
     "execution_count": 40,
     "metadata": {},
     "output_type": "execute_result"
    }
   ],
   "source": [
    "make_batch(data_train[:3], max_len=10)"
   ]
  },
  {
   "cell_type": "code",
   "execution_count": 63,
   "metadata": {
    "pycharm": {
     "name": "#%%\n"
    }
   },
   "outputs": [],
   "source": [
    "# [bs, seq_len, emb_dim]\n",
    "a = torch.randn(3, 10, 16)\n",
    "\n",
    "# [seq_len, bs, emb_dim]\n"
   ]
  },
  {
   "cell_type": "code",
   "execution_count": 64,
   "metadata": {
    "pycharm": {
     "name": "#%%\n"
    }
   },
   "outputs": [],
   "source": [
    "from torch import nn\n"
   ]
  },
  {
   "cell_type": "code",
   "execution_count": 66,
   "metadata": {
    "pycharm": {
     "name": "#%%\n"
    }
   },
   "outputs": [],
   "source": [
    "gru = nn.GRU(input_size=16, hidden_size=64, bidirectional=True, batch_first=True)\n",
    "lstm = nn.LSTM(input_size=16, hidden_size=64, batch_first=True)"
   ]
  },
  {
   "cell_type": "code",
   "execution_count": 78,
   "metadata": {
    "pycharm": {
     "name": "#%%\n"
    }
   },
   "outputs": [],
   "source": [
    "gru_out, gru_hidden = gru(a)\n",
    "lstm_out, (lstm_hidden, _) = lstm(a)"
   ]
  },
  {
   "cell_type": "code",
   "execution_count": 73,
   "metadata": {
    "pycharm": {
     "name": "#%%\n"
    }
   },
   "outputs": [],
   "source": [
    "gru_out.shape # [3, 10, 128]\n",
    "gru_hidden.shape # [1 + bidirectional, 3, 64] \n",
    "\n",
    "gru_hidden = gru_hidden.view(gru_hidden.size(1), -1)"
   ]
  },
  {
   "cell_type": "code",
   "execution_count": 74,
   "metadata": {
    "pycharm": {
     "name": "#%%\n"
    }
   },
   "outputs": [
    {
     "data": {
      "text/plain": [
       "torch.Size([3, 128])"
      ]
     },
     "execution_count": 74,
     "metadata": {},
     "output_type": "execute_result"
    }
   ],
   "source": [
    "gru_hidden.size()"
   ]
  },
  {
   "cell_type": "code",
   "execution_count": 83,
   "metadata": {
    "pycharm": {
     "name": "#%%\n"
    }
   },
   "outputs": [],
   "source": [
    "from torch import nn\n",
    "\n",
    "class RNNRegressor(nn.Module):\n",
    "    def __init__(self, vocab_size: int, emb_size: int = 64, hid_size: int = 64, dropout: float = 0.2):\n",
    "        super().__init__()\n",
    "        \n",
    "        self.title_emb = nn.Embedding(vocab_size, emb_size)\n",
    "        self.descr_emb = nn.Embedding(vocab_size, emb_size)\n",
    "\n",
    "        self.title_gru = nn.GRU(input_size=emb_size, hidden_size=hid_size, batch_first=True, dropout=dropout)\n",
    "        self.descr_gru = nn.GRU(input_size=emb_size, hidden_size=hid_size, batch_first=True, dropout=dropout)\n",
    "        \n",
    "        # self.cat_encoder = nn.Linear(num_cat_features, hid_size)\n",
    "        self.fully_connected = nn.Sequential(\n",
    "            nn.Linear(2 * hid_size, hid_size),\n",
    "            nn.ReLU(),\n",
    "            nn.Linear(hid_size, 1),\n",
    "        )\n",
    "    \n",
    "    def forward(self, batch):\n",
    "        title = batch['Title'] # [bs, seq_len]\n",
    "        descr = batch['FullDescription']\n",
    "        \n",
    "        # squeeze: [1, a, b, 1, c, 1, 1, d] -> [a, b, c, d]\n",
    "        embed_title = self.title_emb(title) # [bs, seq_len, emb_dim]\n",
    "        _, title_hidden = self.title_gru(embed_title) # [1, bs(?=1), hid_size]\n",
    "        title_hidden = title_hidden.squeeze(0) # [bs, hid_size]\n",
    "        \n",
    "        embed_descr = self.descr_emb(descr) # [bs, seq_len, emb_dim]\n",
    "        _, descr_hidden = self.descr_gru(embed_descr) # [1, bs, hid_size]\n",
    "        descr_hidden = descr_hidden.squeeze(0) # [bs, hid_size]\n",
    "\n",
    "        # cat_features = self.cat_encoder(batch['Categorical']) # [bs, hid_size]\n",
    "        # concated = torch.cat([title_hidden, descr_hidden, cat_features], dim=1) # [bs, 3 * hid_size]\n",
    "\n",
    "        concated = torch.cat([title_hidden, descr_hidden], dim=1) # [bs, 2 * hid_size]\n",
    "        output = self.fully_connected(concated) # [bs, 1]\n",
    "        return output.squeeze(1) # [bs]\n",
    "        "
   ]
  },
  {
   "cell_type": "code",
   "execution_count": 84,
   "metadata": {
    "pycharm": {
     "name": "#%%\n"
    }
   },
   "outputs": [
    {
     "name": "stderr",
     "output_type": "stream",
     "text": [
      "/Users/amarkov/.miniconda3/lib/python3.9/site-packages/torch/nn/modules/rnn.py:62: UserWarning: dropout option adds dropout after all but last recurrent layer, so non-zero dropout expects num_layers greater than 1, but got dropout=0.2 and num_layers=1\n",
      "  warnings.warn(\"dropout option adds dropout after all but last \"\n"
     ]
    }
   ],
   "source": [
    "model = RNNRegressor(len(tokens), emb_size=64, hid_size=64, dropout=0.2)\n",
    "batch = make_batch(data_train[:100])\n",
    "criterion = nn.MSELoss()\n",
    "\n",
    "dummy_pred = model(batch)\n",
    "dummy_loss = criterion(dummy_pred, batch[TARGET_COLUMN])\n",
    "assert dummy_pred.shape == torch.Size([100])\n",
    "assert len(torch.unique(dummy_pred)) > 20, \"model returns suspiciously few unique outputs. Check your initialization\"\n",
    "assert dummy_loss.ndim == 0 and 0. <= dummy_loss <= 250., \"make sure you minimize MSE\""
   ]
  },
  {
   "cell_type": "markdown",
   "metadata": {
    "pycharm": {
     "name": "#%% md\n"
    }
   },
   "source": [
    "### Training"
   ]
  },
  {
   "cell_type": "code",
   "execution_count": 85,
   "metadata": {
    "pycharm": {
     "name": "#%%\n"
    }
   },
   "outputs": [],
   "source": [
    "def iterate_minibatches(data, batch_size=256, shuffle=True, cycle=False, device=torch.device('cpu'), **kwargs):\n",
    "    \"\"\" iterates minibatches of data in random order \"\"\"\n",
    "    while True:\n",
    "        indices = np.arange(len(data))\n",
    "        if shuffle:\n",
    "            indices = np.random.permutation(indices)\n",
    "\n",
    "        for start in range(0, len(indices), batch_size):\n",
    "            batch = make_batch(data.iloc[indices[start : start + batch_size]], **kwargs)\n",
    "            yield batch\n",
    "        \n",
    "        if not cycle: break"
   ]
  },
  {
   "cell_type": "code",
   "execution_count": 86,
   "metadata": {
    "pycharm": {
     "name": "#%%\n"
    }
   },
   "outputs": [],
   "source": [
    "import tqdm\n",
    "\n",
    "BATCH_SIZE = 128\n",
    "EPOCHS = 5\n",
    "DEVICE = torch.device('cpu')"
   ]
  },
  {
   "cell_type": "code",
   "execution_count": 87,
   "metadata": {
    "pycharm": {
     "name": "#%%\n"
    }
   },
   "outputs": [],
   "source": [
    "def print_metrics(model, data, batch_size=BATCH_SIZE, name=\"\", **kw):\n",
    "    squared_error = abs_error = num_samples = 0.0\n",
    "    model.eval()\n",
    "    with torch.no_grad():\n",
    "        for batch in iterate_minibatches(data, batch_size=batch_size, shuffle=False, **kw):\n",
    "            batch_pred = model(batch)\n",
    "            squared_error += torch.sum(torch.square(batch_pred - batch[TARGET_COLUMN]))\n",
    "            abs_error += torch.sum(torch.abs(batch_pred - batch[TARGET_COLUMN]))\n",
    "            num_samples += len(batch_pred)\n",
    "    mse = squared_error.detach().cpu().numpy() / num_samples\n",
    "    mae = abs_error.detach().cpu().numpy() / num_samples\n",
    "    print(\"%s results:\" % (name or \"\"))\n",
    "    print(\"Mean square error: %.5f\" % mse)\n",
    "    print(\"Mean absolute error: %.5f\" % mae)\n",
    "    return mse, mae\n"
   ]
  },
  {
   "cell_type": "code",
   "execution_count": 88,
   "metadata": {
    "pycharm": {
     "name": "#%%\n"
    }
   },
   "outputs": [
    {
     "name": "stdout",
     "output_type": "stream",
     "text": [
      "epoch: 0\n"
     ]
    },
    {
     "name": "stderr",
     "output_type": "stream",
     "text": [
      "/Users/amarkov/.miniconda3/lib/python3.9/site-packages/torch/nn/modules/rnn.py:62: UserWarning: dropout option adds dropout after all but last recurrent layer, so non-zero dropout expects num_layers greater than 1, but got dropout=0.2 and num_layers=1\n",
      "  warnings.warn(\"dropout option adds dropout after all but last \"\n",
      "/var/folders/8z/rdxqfjbs0xx8flpxsgkvkxgw0000gn/T/ipykernel_1735/3993476165.py:8: TqdmDeprecationWarning: This function will be removed in tqdm==5.0.0\n",
      "Please use `tqdm.notebook.tqdm` instead of `tqdm.tqdm_notebook`\n",
      "  for i, batch in tqdm.tqdm_notebook(enumerate(\n"
     ]
    },
    {
     "data": {
      "application/vnd.jupyter.widget-view+json": {
       "model_id": "82b55373a29b4e54a4687086ca49bc40",
       "version_major": 2,
       "version_minor": 0
      },
      "text/plain": [
       "  0%|          | 0/1529 [00:00<?, ?it/s]"
      ]
     },
     "metadata": {},
     "output_type": "display_data"
    },
    {
     "ename": "KeyboardInterrupt",
     "evalue": "",
     "output_type": "error",
     "traceback": [
      "\u001B[0;31m---------------------------------------------------------------------------\u001B[0m",
      "\u001B[0;31mKeyboardInterrupt\u001B[0m                         Traceback (most recent call last)",
      "\u001B[1;32m/Users/amarkov/Documents/Work/ML_in_SWE/lectures/sem5/neural_nets_for_text.ipynb Cell 51\u001B[0m in \u001B[0;36m<cell line: 5>\u001B[0;34m()\u001B[0m\n\u001B[1;32m      <a href='vscode-notebook-cell:/Users/amarkov/Documents/Work/ML_in_SWE/lectures/sem5/neural_nets_for_text.ipynb#X50sZmlsZQ%3D%3D?line=7'>8</a>\u001B[0m \u001B[39mfor\u001B[39;00m i, batch \u001B[39min\u001B[39;00m tqdm\u001B[39m.\u001B[39mtqdm_notebook(\u001B[39menumerate\u001B[39m(\n\u001B[1;32m      <a href='vscode-notebook-cell:/Users/amarkov/Documents/Work/ML_in_SWE/lectures/sem5/neural_nets_for_text.ipynb#X50sZmlsZQ%3D%3D?line=8'>9</a>\u001B[0m         iterate_minibatches(data_train, batch_size\u001B[39m=\u001B[39mBATCH_SIZE, device\u001B[39m=\u001B[39mDEVICE)),\n\u001B[1;32m     <a href='vscode-notebook-cell:/Users/amarkov/Documents/Work/ML_in_SWE/lectures/sem5/neural_nets_for_text.ipynb#X50sZmlsZQ%3D%3D?line=9'>10</a>\u001B[0m         total\u001B[39m=\u001B[39m\u001B[39mlen\u001B[39m(data_train) \u001B[39m/\u001B[39m\u001B[39m/\u001B[39m BATCH_SIZE\n\u001B[1;32m     <a href='vscode-notebook-cell:/Users/amarkov/Documents/Work/ML_in_SWE/lectures/sem5/neural_nets_for_text.ipynb#X50sZmlsZQ%3D%3D?line=10'>11</a>\u001B[0m     ):\n\u001B[1;32m     <a href='vscode-notebook-cell:/Users/amarkov/Documents/Work/ML_in_SWE/lectures/sem5/neural_nets_for_text.ipynb#X50sZmlsZQ%3D%3D?line=11'>12</a>\u001B[0m     y_true \u001B[39m=\u001B[39m batch\u001B[39m.\u001B[39mpop(TARGET_COLUMN)\n\u001B[0;32m---> <a href='vscode-notebook-cell:/Users/amarkov/Documents/Work/ML_in_SWE/lectures/sem5/neural_nets_for_text.ipynb#X50sZmlsZQ%3D%3D?line=12'>13</a>\u001B[0m     y_pred \u001B[39m=\u001B[39m model(batch)\n\u001B[1;32m     <a href='vscode-notebook-cell:/Users/amarkov/Documents/Work/ML_in_SWE/lectures/sem5/neural_nets_for_text.ipynb#X50sZmlsZQ%3D%3D?line=14'>15</a>\u001B[0m     loss \u001B[39m=\u001B[39m criterion(y_pred, y_true)\n\u001B[1;32m     <a href='vscode-notebook-cell:/Users/amarkov/Documents/Work/ML_in_SWE/lectures/sem5/neural_nets_for_text.ipynb#X50sZmlsZQ%3D%3D?line=16'>17</a>\u001B[0m     optimizer\u001B[39m.\u001B[39mzero_grad()\n",
      "File \u001B[0;32m~/.miniconda3/lib/python3.9/site-packages/torch/nn/modules/module.py:1102\u001B[0m, in \u001B[0;36mModule._call_impl\u001B[0;34m(self, *input, **kwargs)\u001B[0m\n\u001B[1;32m   1098\u001B[0m \u001B[39m# If we don't have any hooks, we want to skip the rest of the logic in\u001B[39;00m\n\u001B[1;32m   1099\u001B[0m \u001B[39m# this function, and just call forward.\u001B[39;00m\n\u001B[1;32m   1100\u001B[0m \u001B[39mif\u001B[39;00m \u001B[39mnot\u001B[39;00m (\u001B[39mself\u001B[39m\u001B[39m.\u001B[39m_backward_hooks \u001B[39mor\u001B[39;00m \u001B[39mself\u001B[39m\u001B[39m.\u001B[39m_forward_hooks \u001B[39mor\u001B[39;00m \u001B[39mself\u001B[39m\u001B[39m.\u001B[39m_forward_pre_hooks \u001B[39mor\u001B[39;00m _global_backward_hooks\n\u001B[1;32m   1101\u001B[0m         \u001B[39mor\u001B[39;00m _global_forward_hooks \u001B[39mor\u001B[39;00m _global_forward_pre_hooks):\n\u001B[0;32m-> 1102\u001B[0m     \u001B[39mreturn\u001B[39;00m forward_call(\u001B[39m*\u001B[39;49m\u001B[39minput\u001B[39;49m, \u001B[39m*\u001B[39;49m\u001B[39m*\u001B[39;49mkwargs)\n\u001B[1;32m   1103\u001B[0m \u001B[39m# Do not call functions when jit is used\u001B[39;00m\n\u001B[1;32m   1104\u001B[0m full_backward_hooks, non_full_backward_hooks \u001B[39m=\u001B[39m [], []\n",
      "\u001B[1;32m/Users/amarkov/Documents/Work/ML_in_SWE/lectures/sem5/neural_nets_for_text.ipynb Cell 51\u001B[0m in \u001B[0;36mRNNRegressor.forward\u001B[0;34m(self, batch)\u001B[0m\n\u001B[1;32m     <a href='vscode-notebook-cell:/Users/amarkov/Documents/Work/ML_in_SWE/lectures/sem5/neural_nets_for_text.ipynb#X50sZmlsZQ%3D%3D?line=25'>26</a>\u001B[0m title_hidden \u001B[39m=\u001B[39m title_hidden\u001B[39m.\u001B[39msqueeze(\u001B[39m0\u001B[39m) \u001B[39m# [bs, hid_size]\u001B[39;00m\n\u001B[1;32m     <a href='vscode-notebook-cell:/Users/amarkov/Documents/Work/ML_in_SWE/lectures/sem5/neural_nets_for_text.ipynb#X50sZmlsZQ%3D%3D?line=27'>28</a>\u001B[0m embed_descr \u001B[39m=\u001B[39m \u001B[39mself\u001B[39m\u001B[39m.\u001B[39mdescr_emb(descr) \u001B[39m# [bs, seq_len, emb_dim]\u001B[39;00m\n\u001B[0;32m---> <a href='vscode-notebook-cell:/Users/amarkov/Documents/Work/ML_in_SWE/lectures/sem5/neural_nets_for_text.ipynb#X50sZmlsZQ%3D%3D?line=28'>29</a>\u001B[0m _, descr_hidden \u001B[39m=\u001B[39m \u001B[39mself\u001B[39;49m\u001B[39m.\u001B[39;49mdescr_gru(embed_descr) \u001B[39m# [1, bs, hid_size]\u001B[39;00m\n\u001B[1;32m     <a href='vscode-notebook-cell:/Users/amarkov/Documents/Work/ML_in_SWE/lectures/sem5/neural_nets_for_text.ipynb#X50sZmlsZQ%3D%3D?line=29'>30</a>\u001B[0m descr_hidden \u001B[39m=\u001B[39m descr_hidden\u001B[39m.\u001B[39msqueeze(\u001B[39m0\u001B[39m) \u001B[39m# [bs, hid_size]\u001B[39;00m\n\u001B[1;32m     <a href='vscode-notebook-cell:/Users/amarkov/Documents/Work/ML_in_SWE/lectures/sem5/neural_nets_for_text.ipynb#X50sZmlsZQ%3D%3D?line=32'>33</a>\u001B[0m concated \u001B[39m=\u001B[39m torch\u001B[39m.\u001B[39mcat([title_hidden, descr_hidden], dim\u001B[39m=\u001B[39m\u001B[39m1\u001B[39m) \u001B[39m# [bs, 2 * hid_size]\u001B[39;00m\n",
      "File \u001B[0;32m~/.miniconda3/lib/python3.9/site-packages/torch/nn/modules/module.py:1102\u001B[0m, in \u001B[0;36mModule._call_impl\u001B[0;34m(self, *input, **kwargs)\u001B[0m\n\u001B[1;32m   1098\u001B[0m \u001B[39m# If we don't have any hooks, we want to skip the rest of the logic in\u001B[39;00m\n\u001B[1;32m   1099\u001B[0m \u001B[39m# this function, and just call forward.\u001B[39;00m\n\u001B[1;32m   1100\u001B[0m \u001B[39mif\u001B[39;00m \u001B[39mnot\u001B[39;00m (\u001B[39mself\u001B[39m\u001B[39m.\u001B[39m_backward_hooks \u001B[39mor\u001B[39;00m \u001B[39mself\u001B[39m\u001B[39m.\u001B[39m_forward_hooks \u001B[39mor\u001B[39;00m \u001B[39mself\u001B[39m\u001B[39m.\u001B[39m_forward_pre_hooks \u001B[39mor\u001B[39;00m _global_backward_hooks\n\u001B[1;32m   1101\u001B[0m         \u001B[39mor\u001B[39;00m _global_forward_hooks \u001B[39mor\u001B[39;00m _global_forward_pre_hooks):\n\u001B[0;32m-> 1102\u001B[0m     \u001B[39mreturn\u001B[39;00m forward_call(\u001B[39m*\u001B[39;49m\u001B[39minput\u001B[39;49m, \u001B[39m*\u001B[39;49m\u001B[39m*\u001B[39;49mkwargs)\n\u001B[1;32m   1103\u001B[0m \u001B[39m# Do not call functions when jit is used\u001B[39;00m\n\u001B[1;32m   1104\u001B[0m full_backward_hooks, non_full_backward_hooks \u001B[39m=\u001B[39m [], []\n",
      "File \u001B[0;32m~/.miniconda3/lib/python3.9/site-packages/torch/nn/modules/rnn.py:849\u001B[0m, in \u001B[0;36mGRU.forward\u001B[0;34m(self, input, hx)\u001B[0m\n\u001B[1;32m    847\u001B[0m \u001B[39mself\u001B[39m\u001B[39m.\u001B[39mcheck_forward_args(\u001B[39minput\u001B[39m, hx, batch_sizes)\n\u001B[1;32m    848\u001B[0m \u001B[39mif\u001B[39;00m batch_sizes \u001B[39mis\u001B[39;00m \u001B[39mNone\u001B[39;00m:\n\u001B[0;32m--> 849\u001B[0m     result \u001B[39m=\u001B[39m _VF\u001B[39m.\u001B[39;49mgru(\u001B[39minput\u001B[39;49m, hx, \u001B[39mself\u001B[39;49m\u001B[39m.\u001B[39;49m_flat_weights, \u001B[39mself\u001B[39;49m\u001B[39m.\u001B[39;49mbias, \u001B[39mself\u001B[39;49m\u001B[39m.\u001B[39;49mnum_layers,\n\u001B[1;32m    850\u001B[0m                      \u001B[39mself\u001B[39;49m\u001B[39m.\u001B[39;49mdropout, \u001B[39mself\u001B[39;49m\u001B[39m.\u001B[39;49mtraining, \u001B[39mself\u001B[39;49m\u001B[39m.\u001B[39;49mbidirectional, \u001B[39mself\u001B[39;49m\u001B[39m.\u001B[39;49mbatch_first)\n\u001B[1;32m    851\u001B[0m \u001B[39melse\u001B[39;00m:\n\u001B[1;32m    852\u001B[0m     result \u001B[39m=\u001B[39m _VF\u001B[39m.\u001B[39mgru(\u001B[39minput\u001B[39m, batch_sizes, hx, \u001B[39mself\u001B[39m\u001B[39m.\u001B[39m_flat_weights, \u001B[39mself\u001B[39m\u001B[39m.\u001B[39mbias,\n\u001B[1;32m    853\u001B[0m                      \u001B[39mself\u001B[39m\u001B[39m.\u001B[39mnum_layers, \u001B[39mself\u001B[39m\u001B[39m.\u001B[39mdropout, \u001B[39mself\u001B[39m\u001B[39m.\u001B[39mtraining, \u001B[39mself\u001B[39m\u001B[39m.\u001B[39mbidirectional)\n",
      "\u001B[0;31mKeyboardInterrupt\u001B[0m: "
     ]
    }
   ],
   "source": [
    "model = RNNRegressor(len(tokens), emb_size=64, hid_size=64, dropout=0.2).to(DEVICE)\n",
    "criterion = nn.MSELoss(reduction='sum')\n",
    "optimizer = torch.optim.Adam(model.parameters(), lr=1e-4)\n",
    "\n",
    "for epoch in range(EPOCHS):\n",
    "    print(f\"epoch: {epoch}\")\n",
    "    model.train()\n",
    "    for i, batch in tqdm.tqdm_notebook(enumerate(\n",
    "            iterate_minibatches(data_train, batch_size=BATCH_SIZE, device=DEVICE)),\n",
    "            total=len(data_train) // BATCH_SIZE\n",
    "        ):\n",
    "        y_true = batch.pop(TARGET_COLUMN)\n",
    "        y_pred = model(batch)\n",
    "        \n",
    "        loss = criterion(y_pred, y_true)\n",
    "        \n",
    "        optimizer.zero_grad()\n",
    "        loss.backward()\n",
    "        optimizer.step()\n",
    "                \n",
    "        \n",
    "    print_metrics(model, data_val)\n",
    "\n",
    "      "
   ]
  },
  {
   "cell_type": "code",
   "execution_count": null,
   "metadata": {
    "pycharm": {
     "name": "#%%\n"
    }
   },
   "outputs": [],
   "source": []
  }
 ],
 "metadata": {
  "kernelspec": {
   "display_name": "Python 3.9.13 ('base')",
   "language": "python",
   "name": "python3"
  },
  "language_info": {
   "codemirror_mode": {
    "name": "ipython",
    "version": 3
   },
   "file_extension": ".py",
   "mimetype": "text/x-python",
   "name": "python",
   "nbconvert_exporter": "python",
   "pygments_lexer": "ipython3",
   "version": "3.9.13 | packaged by conda-forge | (main, May 27 2022, 17:00:33) \n[Clang 13.0.1 ]"
  },
  "orig_nbformat": 4,
  "vscode": {
   "interpreter": {
    "hash": "d189d21d977b81210d15f909fc18f2c540b65e67432daf72fa2f119ed5a0108c"
   }
  }
 },
 "nbformat": 4,
 "nbformat_minor": 2
}