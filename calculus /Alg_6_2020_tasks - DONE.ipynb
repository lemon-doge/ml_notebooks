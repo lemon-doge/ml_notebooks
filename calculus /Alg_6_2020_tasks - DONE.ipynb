{
 "cells": [
  {
   "cell_type": "code",
   "execution_count": 2,
   "metadata": {},
   "outputs": [],
   "source": [
    "import sympy\n",
    "from sympy import  Symbol, symbols, S, Point, Line, Plane, Point3D"
   ]
  },
  {
   "cell_type": "markdown",
   "metadata": {},
   "source": [
    "# Занятие 6\n",
    "# Алгебра\n",
    "\n",
    "##  Прямые и плоскости в пространстве. Geometry.\n",
    "### Задание 1.\n",
    "Найти угол между плоскостями $ABC$ и  $ABD$, где \n",
    "$A(-1, 2, -4)$,\n",
    "$B(2, -2, 1)$,\n",
    "$C(5, 3, -6)$,\n",
    "import sympy\n",
    "from sympy import  Symbol, symbols, S, Point, Line, Plane, Point3D$D(0, 3, -6)$."
   ]
  },
  {
   "cell_type": "code",
   "execution_count": 3,
   "metadata": {},
   "outputs": [
    {
     "data": {
      "text/latex": [
       "$\\displaystyle \\operatorname{acos}{\\left(\\frac{99 \\sqrt{40454}}{20227} \\right)}$"
      ],
      "text/plain": [
       "acos(99*sqrt(40454)/20227)"
      ]
     },
     "execution_count": 3,
     "metadata": {},
     "output_type": "execute_result"
    }
   ],
   "source": [
    "import sympy\n",
    "from sympy import  Symbol, symbols, S, Point, Line, Plane, Point3D\n",
    "\n",
    "A = Point(-1, 2, -4)\n",
    "B = Point(2, -2, 1)\n",
    "C = Point(5, 3, -6)\n",
    "D = Point(0, 3, -6)\n",
    "\n",
    "ABC = Plane(A, B, C)\n",
    "ABD = Plane(A, B, D)\n",
    "\n",
    "ABC.angle_between(ABD)"
   ]
  },
  {
   "cell_type": "markdown",
   "metadata": {},
   "source": [
    "### Задание 2.\n",
    "Найти угол между прямой, проходящей через точки $A(-3,5,1)$ и $B(5,2,-3)$ и плоскостью, в которой лежат точки \n",
    "$K(4,3,0)$, $M(2,4,-2)$ и $N(-2,2,-1)$."
   ]
  },
  {
   "cell_type": "code",
   "execution_count": 4,
   "metadata": {},
   "outputs": [
    {
     "data": {
      "text/latex": [
       "$\\displaystyle - \\operatorname{asin}{\\left(\\frac{22 \\sqrt{15397}}{15397} \\right)}$"
      ],
      "text/plain": [
       "-asin(22*sqrt(15397)/15397)"
      ]
     },
     "execution_count": 4,
     "metadata": {},
     "output_type": "execute_result"
    }
   ],
   "source": [
    "import sympy\n",
    "from sympy import  Symbol, symbols, S, Point, Line, Plane, Point3D\n",
    "\n",
    "A = Point(-3, 5, -3)\n",
    "B = Point(5, 2, 1)\n",
    "K = Point(4, 3, 0)\n",
    "M = Point(2, 4, -2)\n",
    "N = Point(-2, 2, -1)\n",
    "\n",
    "AB = Line(A, B, C)\n",
    "KMN = Plane(K, M, N)\n",
    "\n",
    "KMN.angle_between(AB)"
   ]
  },
  {
   "cell_type": "markdown",
   "metadata": {},
   "source": [
    "### Задание 3.\n",
    "Проверить, лежат ли точки в одной плоскости\n",
    "\n",
    "а) $A(3, 2, -1)$, $B(2, -1, 0)$, $C(5, 2, -6)$, $D(6, 5, -7)$\n",
    "\n",
    "b) $A(-1, 5, -4)$, $B(7, -2, 1)$, $C(6, 3, -8)$, $D(0, 3, 0)$"
   ]
  },
  {
   "cell_type": "code",
   "execution_count": 7,
   "metadata": {},
   "outputs": [
    {
     "name": "stdout",
     "output_type": "stream",
     "text": [
      "a:\n"
     ]
    },
    {
     "data": {
      "text/plain": [
       "True"
      ]
     },
     "metadata": {},
     "output_type": "display_data"
    },
    {
     "name": "stdout",
     "output_type": "stream",
     "text": [
      "b:\n"
     ]
    },
    {
     "data": {
      "text/plain": [
       "False"
      ]
     },
     "metadata": {},
     "output_type": "display_data"
    }
   ],
   "source": [
    "import sympy\n",
    "from sympy import  Symbol, symbols, S, Point, Line, Plane, Point\n",
    "\n",
    "#a\n",
    "A = Point(3,2,-1)\n",
    "B = Point(2,-1,0)\n",
    "C = Point(5,2,-6) \n",
    "D = Point(6,5,-7)\n",
    "print('a:')\n",
    "display(Point3D.are_coplanar(A,B,C,D))\n",
    "\n",
    "#b\n",
    "A = Point(-1,5,-4)\n",
    "B = Point(7,-2,1)\n",
    "C = Point(6,3,-8)\n",
    "D = Point(0,3,0)\n",
    "print('b:')\n",
    "display(Point3D.are_coplanar(A,B,C,D))"
   ]
  },
  {
   "cell_type": "markdown",
   "metadata": {},
   "source": [
    "###  Задание 4.\n",
    "Прямая задана параметрическими уравнениями:\n",
    "$$\n",
    "\\left\\{\\begin{matrix}\n",
    "x=2+5t\\\\\n",
    "y=-1-2t\\\\\n",
    "z=4-3t\n",
    "\\end{matrix}\\right..\n",
    "$$\n",
    "Представить прямую в виде линии пересечения двух плоскостей (вывести на экран уравнения плоскостей), \n",
    "одна из которых проходит через начало координат, а вторая плоскость перпендикулярна первой плоскости.\n",
    "\n",
    "Указание: сначала составить список правых частей параметрических уравнений, затем составить две различные точки на прямой и далее решить средствами для работы с прямыми и плоскостями из модуля Geometry."
   ]
  },
  {
   "cell_type": "code",
   "execution_count": 21,
   "metadata": {},
   "outputs": [
    {
     "data": {
      "text/latex": [
       "$\\displaystyle \\left[\\begin{matrix}5 t + 2\\\\- 2 t - 1\\\\4 - 3 t\\end{matrix}\\right]$"
      ],
      "text/plain": [
       "Matrix([\n",
       "[ 5*t + 2],\n",
       "[-2*t - 1],\n",
       "[ 4 - 3*t]])"
      ]
     },
     "metadata": {},
     "output_type": "display_data"
    },
    {
     "name": "stdout",
     "output_type": "stream",
     "text": [
      "Уравнение плоскости, проходящей через 0:\n"
     ]
    },
    {
     "data": {
      "text/latex": [
       "$\\displaystyle 11 x + 26 y + z$"
      ],
      "text/plain": [
       "11*x + 26*y + z"
      ]
     },
     "metadata": {},
     "output_type": "display_data"
    },
    {
     "name": "stdout",
     "output_type": "stream",
     "text": [
      "Уравнение перпендикулярной плоскости:\n"
     ]
    },
    {
     "data": {
      "text/latex": [
       "$\\displaystyle 76 x - 38 y + 152 z - 798$"
      ],
      "text/plain": [
       "76*x - 38*y + 152*z - 798"
      ]
     },
     "metadata": {},
     "output_type": "display_data"
    }
   ],
   "source": [
    "import sympy\n",
    "from sympy import  Symbol, symbols, S, Point, Line, Plane, Point\n",
    "\n",
    "A = Matrix([2, -1, 4]) # точка на прямой, принадлежащая обеим плоскостям(т.к просто подставили в парам. урв t = 0)\n",
    "a = Matrix([5, -2, -3]) # направляющий вектор прямой\n",
    "\n",
    "x, y, z, t = symbols('x y z t')\n",
    "X = Matrix([x, y, z])\n",
    "\n",
    "AB = A + t*a\n",
    "display(AB)\n",
    "\n",
    "m1 = AB.subs(t , 0)\n",
    "M1 = Point(m1[0],m1[1],m1[2])\n",
    "m2 = AB.subs(t , 1)\n",
    "M2 = Point(m2[0],m2[1],m2[2])\n",
    "M3 = Point(0,0,0)\n",
    "\n",
    "print(\"Уравнение плоскости, проходящей через 0:\")\n",
    "display(Plane(M1,M2,M3).equation())\n",
    "print(\"Уравнение перпендикулярной плоскости:\")\n",
    "display(Plane(M1,M2,M3).perpendicular_plane(M1,M2).equation())"
   ]
  },
  {
   "cell_type": "markdown",
   "metadata": {},
   "source": [
    "###  Задание 5.\n",
    "Даны точки  пространстве\n",
    "$A(-2, 7, -5)$, $B(6, 2, -4)$, $C(14, -3, -2)$, $D(22, -8, -2)$, $K(30, -7, -4)$,\n",
    "$M(94, -35, -2)$.\n",
    "\n",
    "Определить, какие тройки точек лежат на одной прямой, какие четверки - в одной плоскости.\n",
    "\n",
    "Для проверки того, что три точки лежат на одной прямой использовать Point3D.are_collinear.\n",
    "\n",
    "Вывести на экран тройки точек, лежащие на одной прямой и четверки точек, лежащих в одной плоскости."
   ]
  },
  {
   "cell_type": "code",
   "execution_count": 26,
   "metadata": {},
   "outputs": [
    {
     "data": {
      "text/plain": [
       "[Point3D(-2, 7, -5),\n",
       " Point3D(6, 2, -4),\n",
       " Point3D(14, -3, -2),\n",
       " Point3D(22, -8, -2)]"
      ]
     },
     "metadata": {},
     "output_type": "display_data"
    },
    {
     "data": {
      "text/plain": [
       "[Point3D(-2, 7, -5), Point3D(6, 2, -4), Point3D(22, -8, -2)]"
      ]
     },
     "metadata": {},
     "output_type": "display_data"
    },
    {
     "data": {
      "text/plain": [
       "[Point3D(-2, 7, -5),\n",
       " Point3D(6, 2, -4),\n",
       " Point3D(22, -8, -2),\n",
       " Point3D(30, -7, -4)]"
      ]
     },
     "metadata": {},
     "output_type": "display_data"
    },
    {
     "data": {
      "text/plain": [
       "[Point3D(-2, 7, -5),\n",
       " Point3D(6, 2, -4),\n",
       " Point3D(22, -8, -2),\n",
       " Point3D(94, -35, -2)]"
      ]
     },
     "metadata": {},
     "output_type": "display_data"
    },
    {
     "data": {
      "text/plain": [
       "[Point3D(-2, 7, -5),\n",
       " Point3D(6, 2, -4),\n",
       " Point3D(30, -7, -4),\n",
       " Point3D(94, -35, -2)]"
      ]
     },
     "metadata": {},
     "output_type": "display_data"
    },
    {
     "data": {
      "text/plain": [
       "[Point3D(-2, 7, -5),\n",
       " Point3D(14, -3, -2),\n",
       " Point3D(30, -7, -4),\n",
       " Point3D(94, -35, -2)]"
      ]
     },
     "metadata": {},
     "output_type": "display_data"
    },
    {
     "data": {
      "text/plain": [
       "[Point3D(-2, 7, -5),\n",
       " Point3D(22, -8, -2),\n",
       " Point3D(30, -7, -4),\n",
       " Point3D(94, -35, -2)]"
      ]
     },
     "metadata": {},
     "output_type": "display_data"
    },
    {
     "data": {
      "text/plain": [
       "[Point3D(-2, 7, -5), Point3D(30, -7, -4), Point3D(94, -35, -2)]"
      ]
     },
     "metadata": {},
     "output_type": "display_data"
    },
    {
     "data": {
      "text/plain": [
       "[Point3D(6, 2, -4),\n",
       " Point3D(22, -8, -2),\n",
       " Point3D(30, -7, -4),\n",
       " Point3D(94, -35, -2)]"
      ]
     },
     "metadata": {},
     "output_type": "display_data"
    }
   ],
   "source": [
    "A = Point(-2, 7, -5)\n",
    "B = Point(6, 2, -4)\n",
    "C = Point(14, -3, -2)\n",
    "D = Point(22, -8, -2)\n",
    "K = Point(30, -7, -4)\n",
    "M = Point(94, -35, -2)\n",
    "Points = (A, B, C, D, K, M)\n",
    "\n",
    "for i in range(len(Points)):\n",
    "    for j in range(i + 1,len(Points)):\n",
    "        if j!=i:\n",
    "            for k in range(j + 1,len(Points)):\n",
    "                if k!=j and k!=i:\n",
    "                    if(Point3D.are_collinear(Points[i],Points[j],Points[k])):\n",
    "                                display([Points[i],Points[j],Points[k]])\n",
    "                    for p in range(k + 1,len(Points)):\n",
    "                        if p!=k and p!=i and p!=j:\n",
    "                            if(Point3D.are_coplanar(Points[i],Points[j],Points[k],Points[p])):\n",
    "                                display([Points[i],Points[j],Points[k],Points[p]])\n",
    "                    "
   ]
  },
  {
   "cell_type": "markdown",
   "metadata": {},
   "source": [
    "###  Задание 6.\n",
    "Составить уравнения всех (различных!) плоскостей, определяемых точками задания 5.\n",
    "\n",
    "Указание: решать аналогично Примеру 11, проверить, что $A$, $B$, $C$ не лежат на одной прямой и составить плоскость $ABC$, включить ее в список плоскостей. "
   ]
  },
  {
   "cell_type": "code",
   "execution_count": 38,
   "metadata": {},
   "outputs": [
    {
     "data": {
      "text/latex": [
       "$\\displaystyle Plane\\left(Point3D\\left(-2, 7, -5\\right), \\left( -5, \\  -8, \\  0\\right)\\right)$"
      ],
      "text/plain": [
       "Plane(Point3D(-2, 7, -5), (-5, -8, 0))"
      ]
     },
     "metadata": {},
     "output_type": "display_data"
    },
    {
     "data": {
      "text/latex": [
       "$\\displaystyle - 5 x - 8 y + 46$"
      ],
      "text/plain": [
       "-5*x - 8*y + 46"
      ]
     },
     "metadata": {},
     "output_type": "display_data"
    },
    {
     "data": {
      "text/latex": [
       "$\\displaystyle Plane\\left(Point3D\\left(-2, 7, -5\\right), \\left( 9, \\  24, \\  48\\right)\\right)$"
      ],
      "text/plain": [
       "Plane(Point3D(-2, 7, -5), (9, 24, 48))"
      ]
     },
     "metadata": {},
     "output_type": "display_data"
    },
    {
     "data": {
      "text/latex": [
       "$\\displaystyle 9 x + 24 y + 48 z + 90$"
      ],
      "text/plain": [
       "9*x + 24*y + 48*z + 90"
      ]
     },
     "metadata": {},
     "output_type": "display_data"
    },
    {
     "data": {
      "text/latex": [
       "$\\displaystyle Plane\\left(Point3D\\left(-2, 7, -5\\right), \\left( 32, \\  80, \\  96\\right)\\right)$"
      ],
      "text/plain": [
       "Plane(Point3D(-2, 7, -5), (32, 80, 96))"
      ]
     },
     "metadata": {},
     "output_type": "display_data"
    },
    {
     "data": {
      "text/latex": [
       "$\\displaystyle 32 x + 80 y + 96 z - 16$"
      ],
      "text/plain": [
       "32*x + 80*y + 96*z - 16"
      ]
     },
     "metadata": {},
     "output_type": "display_data"
    },
    {
     "data": {
      "text/latex": [
       "$\\displaystyle Plane\\left(Point3D\\left(6, 2, -4\\right), \\left( 18, \\  48, \\  48\\right)\\right)$"
      ],
      "text/plain": [
       "Plane(Point3D(6, 2, -4), (18, 48, 48))"
      ]
     },
     "metadata": {},
     "output_type": "display_data"
    },
    {
     "data": {
      "text/latex": [
       "$\\displaystyle 18 x + 48 y + 48 z - 12$"
      ],
      "text/plain": [
       "18*x + 48*y + 48*z - 12"
      ]
     },
     "metadata": {},
     "output_type": "display_data"
    },
    {
     "data": {
      "text/latex": [
       "$\\displaystyle Plane\\left(Point3D\\left(6, 2, -4\\right), \\left( 64, \\  160, \\  144\\right)\\right)$"
      ],
      "text/plain": [
       "Plane(Point3D(6, 2, -4), (64, 160, 144))"
      ]
     },
     "metadata": {},
     "output_type": "display_data"
    },
    {
     "data": {
      "text/latex": [
       "$\\displaystyle 64 x + 160 y + 144 z - 128$"
      ],
      "text/plain": [
       "64*x + 160*y + 144*z - 128"
      ]
     },
     "metadata": {},
     "output_type": "display_data"
    },
    {
     "data": {
      "text/latex": [
       "$\\displaystyle Plane\\left(Point3D\\left(14, -3, -2\\right), \\left( 10, \\  16, \\  48\\right)\\right)$"
      ],
      "text/plain": [
       "Plane(Point3D(14, -3, -2), (10, 16, 48))"
      ]
     },
     "metadata": {},
     "output_type": "display_data"
    },
    {
     "data": {
      "text/latex": [
       "$\\displaystyle 10 x + 16 y + 48 z + 4$"
      ],
      "text/plain": [
       "10*x + 16*y + 48*z + 4"
      ]
     },
     "metadata": {},
     "output_type": "display_data"
    },
    {
     "data": {
      "text/latex": [
       "$\\displaystyle Plane\\left(Point3D\\left(14, -3, -2\\right), \\left( 0, \\  0, \\  144\\right)\\right)$"
      ],
      "text/plain": [
       "Plane(Point3D(14, -3, -2), (0, 0, 144))"
      ]
     },
     "metadata": {},
     "output_type": "display_data"
    },
    {
     "data": {
      "text/latex": [
       "$\\displaystyle 144 z + 288$"
      ],
      "text/plain": [
       "144*z + 288"
      ]
     },
     "metadata": {},
     "output_type": "display_data"
    }
   ],
   "source": [
    "A = Point(-2, 7, -5)\n",
    "B = Point(6, 2, -4)\n",
    "C = Point(14, -3, -2)\n",
    "D = Point(22, -8, -2)\n",
    "K = Point(30, -7, -4)\n",
    "M = Point(94, -35, -2)\n",
    "\n",
    "Points = (A, B, C, D, K, M)\n",
    "Planes = []\n",
    "\n",
    "for i in range(len(Points)):\n",
    "    for j in range(i + 1,len(Points)):\n",
    "        if j!=i:\n",
    "            for k in range(j + 1,len(Points)):\n",
    "                if k!=j and k!=i:\n",
    "                    if not(Point3D.are_collinear(Points[i],Points[j],Points[k])):\n",
    "                        if not any(x.is_coplanar(Plane(Points[i],Points[j],Points[k])) for x in Planes):\n",
    "                                Planes.append(Plane(Points[i],Points[j],Points[k]))\n",
    "                                \n",
    "for plane in Planes:\n",
    "    display(plane, plane.equation())"
   ]
  },
  {
   "cell_type": "markdown",
   "metadata": {},
   "source": [
    "### Индивидуальное задание\n",
    "Даны точки в пространстве\n",
    "$A$, $B$, $C$ и\n",
    "$M$.\n",
    "\n",
    "Найти угол между прямой $АВ$ и плоскостью $z = 0$, угол между $АС$ и $СМ$, угол между плоскостями $АВС$ и $ВСМ$.\n",
    "\n",
    "Составить уравнение: \n",
    "\n",
    "a) плоскости, параллельной $АВС$ и проходящей через начало координат,\n",
    "\n",
    "b) плоскости, перпендикулярной $АВС$ и проходящей через $А$ и $М$,\n",
    "\n",
    "c) прямой, перпендикулярной $АВС$ и проходящей через $С$."
   ]
  },
  {
   "cell_type": "code",
   "execution_count": 44,
   "metadata": {},
   "outputs": [
    {
     "name": "stdout",
     "output_type": "stream",
     "text": [
      "Угол между плоскостью z = 0 и прямой QF:\n"
     ]
    },
    {
     "data": {
      "text/latex": [
       "$\\displaystyle - \\operatorname{asin}{\\left(\\frac{\\sqrt{3}}{3} \\right)}$"
      ],
      "text/plain": [
       "-asin(sqrt(3)/3)"
      ]
     },
     "metadata": {},
     "output_type": "display_data"
    },
    {
     "name": "stdout",
     "output_type": "stream",
     "text": [
      "Угол между QD и DK:\n"
     ]
    },
    {
     "data": {
      "text/latex": [
       "$\\displaystyle \\operatorname{acos}{\\left(\\frac{\\sqrt{905}}{45} \\right)}$"
      ],
      "text/plain": [
       "acos(sqrt(905)/45)"
      ]
     },
     "metadata": {},
     "output_type": "display_data"
    },
    {
     "name": "stdout",
     "output_type": "stream",
     "text": [
      "Угол между плоскостью QFD и прямой FDK:\n"
     ]
    },
    {
     "data": {
      "text/latex": [
       "$\\displaystyle \\operatorname{acos}{\\left(\\frac{\\sqrt{46}}{46} \\right)}$"
      ],
      "text/plain": [
       "acos(sqrt(46)/46)"
      ]
     },
     "metadata": {},
     "output_type": "display_data"
    },
    {
     "name": "stdout",
     "output_type": "stream",
     "text": [
      "Уравнение плоскости, параллельной QFD и проходящей через K:\n"
     ]
    },
    {
     "data": {
      "text/latex": [
       "$\\displaystyle - 8 x + 12 y - 4 z - 48$"
      ],
      "text/plain": [
       "-8*x + 12*y - 4*z - 48"
      ]
     },
     "metadata": {},
     "output_type": "display_data"
    },
    {
     "name": "stdout",
     "output_type": "stream",
     "text": [
      "Уравнение плоскости, перпендикулярной QFD и проходящей через Q и D:\n"
     ]
    },
    {
     "data": {
      "text/latex": [
       "$\\displaystyle - 104 x - 12 y + 172 z - 400$"
      ],
      "text/plain": [
       "-104*x - 12*y + 172*z - 400"
      ]
     },
     "metadata": {},
     "output_type": "display_data"
    },
    {
     "name": "stdout",
     "output_type": "stream",
     "text": [
      "Уравнение прямой, перпендикулярной QFD и проходящей через D:\n"
     ]
    },
    {
     "data": {
      "text/latex": [
       "$\\displaystyle \\left( 3 x + 2 y - 48, \\  - x + 2 z - 8\\right)$"
      ],
      "text/plain": [
       "(3*x + 2*y - 48, -x + 2*z - 8)"
      ]
     },
     "metadata": {},
     "output_type": "display_data"
    }
   ],
   "source": [
    "# N143\n",
    "D = Point(16,0,12)\n",
    "F = Point(11,-4,10)\n",
    "K = Point(-1,4,2)\n",
    "Q = Point(7, -8, 6)\n",
    "\n",
    "Plane0 = Plane(Point(0,0,0),Point(0,1,0),Point(1,0,0))\n",
    "\n",
    "print(\"Угол между плоскостью z = 0 и прямой QF:\")\n",
    "display(Plane0.angle_between(Line(Q,F)))\n",
    "\n",
    "print(\"Угол между QD и DK:\")\n",
    "display(Line(Q,D).smallest_angle_between(Line(D,K)))\n",
    "\n",
    "print(\"Угол между плоскостью QFD и прямой FDK:\")\n",
    "display(Plane(Q,F,D).angle_between(Plane(F,D,K)))\n",
    "        \n",
    "print(\"Уравнение плоскости, параллельной QFD и проходящей через K:\")\n",
    "display(Plane(Q,F,D).parallel_plane(K).equation())\n",
    "        \n",
    "print(\"Уравнение плоскости, перпендикулярной QFD и проходящей через Q и D:\")\n",
    "display(Plane(Q,F,D).perpendicular_plane(Q,D).equation())\n",
    "        \n",
    "print(\"Уравнение прямой, перпендикулярной QFD и проходящей через D:\")\n",
    "display(Plane(Q,F,D).perpendicular_line(D).equation())"
   ]
  },
  {
   "cell_type": "code",
   "execution_count": null,
   "metadata": {},
   "outputs": [],
   "source": []
  }
 ],
 "metadata": {
  "kernelspec": {
   "display_name": "Python 3",
   "language": "python",
   "name": "python3"
  },
  "language_info": {
   "codemirror_mode": {
    "name": "ipython",
    "version": 3
   },
   "file_extension": ".py",
   "mimetype": "text/x-python",
   "name": "python",
   "nbconvert_exporter": "python",
   "pygments_lexer": "ipython3",
   "version": "3.8.3"
  }
 },
 "nbformat": 4,
 "nbformat_minor": 2
}
