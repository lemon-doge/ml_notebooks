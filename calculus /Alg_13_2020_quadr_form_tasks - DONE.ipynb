{
 "cells": [
  {
   "cell_type": "code",
   "execution_count": 1,
   "metadata": {},
   "outputs": [],
   "source": [
    "import sympy\n",
    "from sympy import Eq, S, latex, plot_implicit, Matrix, symbols, simplify, expand, collect, solve, solveset\n",
    "from sympy import pi as Pi\n",
    "from sympy import cos as Cos\n",
    "from sympy import sin as Sin\n",
    "import matplotlib.pyplot as plt\n",
    "%matplotlib inline"
   ]
  },
  {
   "cell_type": "markdown",
   "metadata": {},
   "source": [
    "# Занятие 13\n",
    "# Алгебра\n",
    "### Задание 1.\n",
    "Составить матрицу квадратичной формы $7x^2+10\\sqrt{3}xy-3y^2−20z^2$, проверить, что она определяет именно заданное уравнение. Найти и вывести на экран собственные числа и собственные векторы матрицы квадратичной формы. "
   ]
  },
  {
   "cell_type": "code",
   "execution_count": 5,
   "metadata": {},
   "outputs": [
    {
     "data": {
      "text/latex": [
       "$\\displaystyle \\left[\\begin{matrix}x\\\\y\\\\z\\end{matrix}\\right]$"
      ],
      "text/plain": [
       "Matrix([\n",
       "[x],\n",
       "[y],\n",
       "[z]])"
      ]
     },
     "metadata": {},
     "output_type": "display_data"
    },
    {
     "data": {
      "text/latex": [
       "$\\displaystyle \\left[\\begin{matrix}7 x^{2} + 10 \\sqrt{3} x y - 3 y^{2} - 20 z^{2}\\end{matrix}\\right]$"
      ],
      "text/plain": [
       "Matrix([[7*x**2 + 10*sqrt(3)*x*y - 3*y**2 - 20*z**2]])"
      ]
     },
     "metadata": {},
     "output_type": "display_data"
    },
    {
     "data": {
      "text/latex": [
       "$\\displaystyle 0$"
      ],
      "text/plain": [
       "0"
      ]
     },
     "metadata": {},
     "output_type": "display_data"
    },
    {
     "name": "stdout",
     "output_type": "stream",
     "text": [
      "собственное число -20 кратность 1 собственный вектор\n"
     ]
    },
    {
     "data": {
      "text/latex": [
       "$\\displaystyle \\left[\\begin{matrix}0\\\\0\\\\1\\end{matrix}\\right]$"
      ],
      "text/plain": [
       "Matrix([\n",
       "[0],\n",
       "[0],\n",
       "[1]])"
      ]
     },
     "metadata": {},
     "output_type": "display_data"
    },
    {
     "name": "stdout",
     "output_type": "stream",
     "text": [
      "собственное число -8 кратность 1 собственный вектор\n"
     ]
    },
    {
     "data": {
      "text/latex": [
       "$\\displaystyle \\left[\\begin{matrix}- \\frac{\\sqrt{3}}{3}\\\\1\\\\0\\end{matrix}\\right]$"
      ],
      "text/plain": [
       "Matrix([\n",
       "[-sqrt(3)/3],\n",
       "[         1],\n",
       "[         0]])"
      ]
     },
     "metadata": {},
     "output_type": "display_data"
    },
    {
     "name": "stdout",
     "output_type": "stream",
     "text": [
      "собственное число 12 кратность 1 собственный вектор\n"
     ]
    },
    {
     "data": {
      "text/latex": [
       "$\\displaystyle \\left[\\begin{matrix}\\sqrt{3}\\\\1\\\\0\\end{matrix}\\right]$"
      ],
      "text/plain": [
       "Matrix([\n",
       "[sqrt(3)],\n",
       "[      1],\n",
       "[      0]])"
      ]
     },
     "metadata": {},
     "output_type": "display_data"
    },
    {
     "data": {
      "text/latex": [
       "$\\displaystyle \\left[\\begin{matrix}0 & - \\frac{1}{2} & \\frac{\\sqrt{3}}{2}\\\\0 & \\frac{\\sqrt{3}}{2} & \\frac{1}{2}\\\\1 & 0 & 0\\end{matrix}\\right]$"
      ],
      "text/plain": [
       "Matrix([\n",
       "[0,      -1/2, sqrt(3)/2],\n",
       "[0, sqrt(3)/2,       1/2],\n",
       "[1,         0,         0]])"
      ]
     },
     "metadata": {},
     "output_type": "display_data"
    }
   ],
   "source": [
    "import sympy\n",
    "from sympy import Eq, S, latex, plot_implicit, Matrix, symbols, simplify, expand, collect, solve, solveset\n",
    "from sympy import pi as Pi\n",
    "from sympy import cos as Cos\n",
    "from sympy import sin as Sin\n",
    "import matplotlib.pyplot as plt\n",
    "%matplotlib inline\n",
    "\n",
    "from sympy.abc import x, y, z\n",
    "u = 7*x**2 - 3*y**2 - 20*z**2 + 10*3**S.Half*x*y + 0*x*z + 0*y*z\n",
    "A = Matrix([[7, 5*3**S.Half, 0], [5*3**S.Half, -3, 0], [0, 0, -20]])\n",
    "X = Matrix([x, y, z])\n",
    "res = simplify(expand(X.T*A*X))\n",
    "display(X, res, res[0] - u)\n",
    "\n",
    "ev = A.eigenvects()#собственные векторы матрицы $A$ \n",
    "P = Matrix([])\n",
    "\n",
    "# вывод собственных чисел и собственных векторов\n",
    "for vector in ev:\n",
    "    print('собственное число', vector[0], 'кратность', vector[1], 'собственный вектор')\n",
    "    for i in range(vector[1]): # это на случай кратных собственных чисел\n",
    "        e_i = vector[2][i]\n",
    "        display(e_i)\n",
    "        # составляем матрицу перехода из нормарованных собственных векторов\n",
    "        P = P.row_join(e_i.normalized()) # нормируем собственные векторы матрицы $A$\n",
    "display(P)"
   ]
  },
  {
   "cell_type": "markdown",
   "metadata": {},
   "source": [
    "### Задание 2.\n",
    "Привести квадратичную форму Примера 1 к каноническому виду с помощью перехода к новому базису из собственных векторов."
   ]
  },
  {
   "cell_type": "code",
   "execution_count": 6,
   "metadata": {},
   "outputs": [
    {
     "data": {
      "text/latex": [
       "$\\displaystyle \\left[\\begin{matrix}-20 & 0 & 0\\\\0 & -8 & 0\\\\0 & 0 & 12\\end{matrix}\\right]$"
      ],
      "text/plain": [
       "Matrix([\n",
       "[-20,  0,  0],\n",
       "[  0, -8,  0],\n",
       "[  0,  0, 12]])"
      ]
     },
     "metadata": {},
     "output_type": "display_data"
    },
    {
     "data": {
      "text/latex": [
       "$\\displaystyle - 20 x^{2} - 8 y^{2} + 12 z^{2}$"
      ],
      "text/plain": [
       "-20*x**2 - 8*y**2 + 12*z**2"
      ]
     },
     "metadata": {},
     "output_type": "display_data"
    },
    {
     "data": {
      "text/latex": [
       "$\\displaystyle - 20 x^{2} - 8 y^{2} + 12 z^{2}$"
      ],
      "text/plain": [
       "-20*x**2 - 8*y**2 + 12*z**2"
      ]
     },
     "metadata": {},
     "output_type": "display_data"
    }
   ],
   "source": [
    "# матрица в новом базисе\n",
    "A_new = P.T*A*P\n",
    "display(simplify(A_new))\n",
    "# квадраичная форма в новом базисе в виде многочлена\n",
    "res = simplify(expand(X.T*A_new*X))[0]\n",
    "display(res)\n",
    "# красивый вид\n",
    "display(collect(res, [x, y, z]))"
   ]
  },
  {
   "cell_type": "markdown",
   "metadata": {},
   "source": [
    "### Задание 3.\n",
    "Определить тип кривой второго порядка, заданной уравнением\n",
    "$$\n",
    "97x^2 - 144xy + 97y^2 + 482x - 532y = 3452\n",
    "$$\n",
    "Построить в одной координатной плоскости график заданного уравнения и канонического уравнения соответствующей кривой, каноническое уравнение сделать названием графика. "
   ]
  },
  {
   "cell_type": "code",
   "execution_count": 29,
   "metadata": {},
   "outputs": [
    {
     "name": "stdout",
     "output_type": "stream",
     "text": [
      "матрица уравнения:\n"
     ]
    },
    {
     "data": {
      "text/latex": [
       "$\\displaystyle \\left[\\begin{matrix}97 & -72 & 241\\\\-72 & 97 & -266\\\\241 & -266 & -3452\\end{matrix}\\right]$"
      ],
      "text/plain": [
       "Matrix([\n",
       "[ 97,  -72,   241],\n",
       "[-72,   97,  -266],\n",
       "[241, -266, -3452]])"
      ]
     },
     "metadata": {},
     "output_type": "display_data"
    },
    {
     "name": "stdout",
     "output_type": "stream",
     "text": [
      "столбец коодинат:\n"
     ]
    },
    {
     "data": {
      "text/latex": [
       "$\\displaystyle \\left[\\begin{matrix}x\\\\y\\\\1\\end{matrix}\\right]$"
      ],
      "text/plain": [
       "Matrix([\n",
       "[x],\n",
       "[y],\n",
       "[1]])"
      ]
     },
     "metadata": {},
     "output_type": "display_data"
    },
    {
     "name": "stdout",
     "output_type": "stream",
     "text": [
      "проверка:\n"
     ]
    },
    {
     "data": {
      "text/latex": [
       "$\\displaystyle 97 x^{2} - 144 x y + 482 x + 97 y^{2} - 532 y - 3452 = 0$"
      ],
      "text/plain": [
       "Eq(97*x**2 - 144*x*y + 482*x + 97*y**2 - 532*y - 3452, 0)"
      ]
     },
     "metadata": {},
     "output_type": "display_data"
    },
    {
     "name": "stdout",
     "output_type": "stream",
     "text": [
      "матрица поворота:\n"
     ]
    },
    {
     "data": {
      "text/latex": [
       "$\\displaystyle \\left[\\begin{matrix}\\frac{\\sqrt{2}}{2} & - \\frac{\\sqrt{2}}{2} & 0\\\\\\frac{\\sqrt{2}}{2} & \\frac{\\sqrt{2}}{2} & 0\\\\0 & 0 & 1\\end{matrix}\\right]$"
      ],
      "text/plain": [
       "Matrix([\n",
       "[sqrt(2)/2, -sqrt(2)/2, 0],\n",
       "[sqrt(2)/2,  sqrt(2)/2, 0],\n",
       "[        0,          0, 1]])"
      ]
     },
     "metadata": {},
     "output_type": "display_data"
    },
    {
     "name": "stdout",
     "output_type": "stream",
     "text": [
      "матрица после поворота:\n"
     ]
    },
    {
     "data": {
      "text/latex": [
       "$\\displaystyle \\left[\\begin{matrix}25 & 0 & - \\frac{25 \\sqrt{2}}{2}\\\\0 & 169 & - \\frac{507 \\sqrt{2}}{2}\\\\- \\frac{25 \\sqrt{2}}{2} & - \\frac{507 \\sqrt{2}}{2} & -3452\\end{matrix}\\right]$"
      ],
      "text/plain": [
       "Matrix([\n",
       "[           25,              0,  -25*sqrt(2)/2],\n",
       "[            0,            169, -507*sqrt(2)/2],\n",
       "[-25*sqrt(2)/2, -507*sqrt(2)/2,          -3452]])"
      ]
     },
     "metadata": {},
     "output_type": "display_data"
    },
    {
     "name": "stdout",
     "output_type": "stream",
     "text": [
      "уравнение после поворота:\n"
     ]
    },
    {
     "data": {
      "text/latex": [
       "$\\displaystyle 25 X^{2} - 25 \\sqrt{2} X + 169 Y^{2} - 507 \\sqrt{2} Y - 3452$"
      ],
      "text/plain": [
       "25*X**2 - 25*sqrt(2)*X + 169*Y**2 - 507*sqrt(2)*Y - 3452"
      ]
     },
     "metadata": {},
     "output_type": "display_data"
    },
    {
     "name": "stdout",
     "output_type": "stream",
     "text": [
      "новые коодинаты (после замены):\n"
     ]
    },
    {
     "data": {
      "text/latex": [
       "$\\displaystyle \\left[\\begin{matrix}X + \\frac{\\sqrt{2}}{2}\\\\Y + \\frac{3 \\sqrt{2}}{2}\\\\1\\end{matrix}\\right]$"
      ],
      "text/plain": [
       "Matrix([\n",
       "[  X + sqrt(2)/2],\n",
       "[Y + 3*sqrt(2)/2],\n",
       "[              1]])"
      ]
     },
     "metadata": {},
     "output_type": "display_data"
    },
    {
     "name": "stdout",
     "output_type": "stream",
     "text": [
      "итоговое уравнение:\n"
     ]
    },
    {
     "data": {
      "text/latex": [
       "$\\displaystyle 25 X^{2} + 169 Y^{2} - 4225$"
      ],
      "text/plain": [
       "25*X**2 + 169*Y**2 - 4225"
      ]
     },
     "metadata": {},
     "output_type": "display_data"
    },
    {
     "data": {
      "text/latex": [
       "$\\displaystyle \\frac{X^{2}}{169} + \\frac{Y^{2}}{25} = 1$"
      ],
      "text/plain": [
       "Eq(X**2/169 + Y**2/25, 1)"
      ]
     },
     "metadata": {},
     "output_type": "display_data"
    },
    {
     "data": {
      "text/latex": [
       "$\\displaystyle \\frac{x^{2}}{169} + \\frac{y^{2}}{25} = 1$"
      ],
      "text/plain": [
       "Eq(x**2/169 + y**2/25, 1)"
      ]
     },
     "metadata": {},
     "output_type": "display_data"
    },
    {
     "data": {
      "image/png": "[encoded data removed]",
      "text/plain": [
       "<Figure size 432x288 with 1 Axes>"
      ]
     },
     "metadata": {
      "needs_background": "light"
     },
     "output_type": "display_data"
    }
   ],
   "source": [
    "from sympy.abc import X, Y, Z\n",
    "\n",
    "# A имеет вид:\n",
    "#    x   y   1\n",
    "# x x^2 x*y  x\n",
    "# y x*y y^2  y\n",
    "# 1  x   y   1\n",
    "\n",
    "A3 = Matrix([[97, -S(144)/2, S(482)/2], [-S(144)/2, 97, -S(532)/2], [S(482)/2, -S(532)/2, -3452]])\n",
    "X3 = Matrix([x, y, 1])\n",
    "print(\"матрица уравнения:\")\n",
    "display(A3)\n",
    "print(\"столбец коодинат:\")\n",
    "display(X3)\n",
    "\n",
    "# проверка\n",
    "eq3 = Eq(simplify(expand(X3.T*A3*X3))[0], 0)\n",
    "print(\"проверка:\")\n",
    "display(eq3)\n",
    "\n",
    "# матрица поворота на угол alpha, где\n",
    "# cot(2*alpha) = (a11-a22)/(2*a12)\n",
    "alpha = sympy.acot((A3[0, 0] - A3[1, 1])/(2*A3[0, 1]))/2\n",
    "P = Matrix([[Cos(alpha), -Sin(alpha), 0], [Sin(alpha), Cos(alpha), 0], [0, 0, 1]]) # поворот в трехмерном пространстве (зачем-то)\n",
    "print(\"матрица поворота:\")\n",
    "display(P)\n",
    "\n",
    "# применяем матрицу поворота (избавляемся от слагаемого с xy) \n",
    "A3 = simplify(expand((P.transpose()*A3*P))) \n",
    "print(\"матрица после поворота:\")\n",
    "display(A3)\n",
    "\n",
    "# уравнение после поворота\n",
    "X3 = Matrix((X, Y, 1))\n",
    "print(\"уравнение после поворота:\")\n",
    "display(simplify(expand((X3.T*A3*X3)[0])))\n",
    "\n",
    "# перенос начала координат (избавляемся от x и y)\n",
    "# линейные замены имеют вид: \n",
    "# x = x' - a1/a11 \n",
    "# y = y' - a2/a22\n",
    "X3_new = Matrix((X - A3[0, 2]/A3[0, 0], Y - A3[1, 2]/A3[1, 1], 1))\n",
    "eq3_new = simplify(expand(X3_new.T*A3*X3_new))[0]\n",
    "print(\"новые коодинаты (после замены):\")\n",
    "display(X3_new)\n",
    "print(\"итоговое уравнение:\")\n",
    "display(eq3_new)\n",
    "# переносим свободный член вправо и приводим урв\n",
    "free = eq3_new.subs({X: 0, Y: 0}) \n",
    "eq3_last = eq3_new/(-free) + 1 \n",
    "display(Eq(eq3_last, 1))\n",
    "# подстановка букв для рисовалки\n",
    "eq3_last_xy = Eq(eq3_last.subs({X: x, Y: y}), 1)\n",
    "display(eq3_last_xy)\n",
    "\n",
    "# рисунок\n",
    "p = plot_implicit(eq3,(x, -15, 15), (y, -15, 15), line_color='g', xlabel='$x$', ylabel='$y$', title=latex(eq3_last_xy, mode='inline') + '\\n', adaptive = True,show=False)\n",
    "p.extend(plot_implicit(eq3_last_xy,(x, -15, 15), (y, -15, 15), line_color='m',  adaptive = True,show=False))\n",
    "p.show()"
   ]
  },
  {
   "cell_type": "markdown",
   "metadata": {},
   "source": [
    "### Задание 4.\n",
    "Определить тип кривой второго порядка, заданной уравнением\n",
    "$$\n",
    "x^2+2xy+y^2-4x+4y=4\n",
    "$$\n",
    "Построить в одной координатной плоскости график заданного уравнения и канонического уравнения соответствующей кривой, каноническое уравнение сделать названием графика. \n",
    "\n",
    "Указание: каноническое уравнение параболы $y^2 = 2px$ или $x^2 = 2py$; для того, чтобы выразить $x$ или $y$ можно воспользоваться solve или solveset."
   ]
  },
  {
   "cell_type": "code",
   "execution_count": 32,
   "metadata": {},
   "outputs": [
    {
     "name": "stdout",
     "output_type": "stream",
     "text": [
      "матрица уравнения:\n"
     ]
    },
    {
     "data": {
      "text/latex": [
       "$\\displaystyle \\left[\\begin{matrix}1 & 1 & -2\\\\1 & 1 & 2\\\\-2 & 2 & -4\\end{matrix}\\right]$"
      ],
      "text/plain": [
       "Matrix([\n",
       "[ 1, 1, -2],\n",
       "[ 1, 1,  2],\n",
       "[-2, 2, -4]])"
      ]
     },
     "metadata": {},
     "output_type": "display_data"
    },
    {
     "name": "stdout",
     "output_type": "stream",
     "text": [
      "столбец коодинат:\n"
     ]
    },
    {
     "data": {
      "text/latex": [
       "$\\displaystyle \\left[\\begin{matrix}x\\\\y\\\\1\\end{matrix}\\right]$"
      ],
      "text/plain": [
       "Matrix([\n",
       "[x],\n",
       "[y],\n",
       "[1]])"
      ]
     },
     "metadata": {},
     "output_type": "display_data"
    },
    {
     "name": "stdout",
     "output_type": "stream",
     "text": [
      "проверка:\n"
     ]
    },
    {
     "data": {
      "text/latex": [
       "$\\displaystyle x^{2} + 2 x y - 4 x + y^{2} + 4 y - 4 = 0$"
      ],
      "text/plain": [
       "Eq(x**2 + 2*x*y - 4*x + y**2 + 4*y - 4, 0)"
      ]
     },
     "metadata": {},
     "output_type": "display_data"
    },
    {
     "name": "stdout",
     "output_type": "stream",
     "text": [
      "матрица поворота:\n"
     ]
    },
    {
     "data": {
      "text/latex": [
       "$\\displaystyle \\left[\\begin{matrix}\\frac{\\sqrt{2}}{2} & - \\frac{\\sqrt{2}}{2} & 0\\\\\\frac{\\sqrt{2}}{2} & \\frac{\\sqrt{2}}{2} & 0\\\\0 & 0 & 1\\end{matrix}\\right]$"
      ],
      "text/plain": [
       "Matrix([\n",
       "[sqrt(2)/2, -sqrt(2)/2, 0],\n",
       "[sqrt(2)/2,  sqrt(2)/2, 0],\n",
       "[        0,          0, 1]])"
      ]
     },
     "metadata": {},
     "output_type": "display_data"
    },
    {
     "name": "stdout",
     "output_type": "stream",
     "text": [
      "матрица после поворота:\n"
     ]
    },
    {
     "data": {
      "text/latex": [
       "$\\displaystyle \\left[\\begin{matrix}2 & 0 & 0\\\\0 & 0 & 2 \\sqrt{2}\\\\0 & 2 \\sqrt{2} & -4\\end{matrix}\\right]$"
      ],
      "text/plain": [
       "Matrix([\n",
       "[2,         0,         0],\n",
       "[0,         0, 2*sqrt(2)],\n",
       "[0, 2*sqrt(2),        -4]])"
      ]
     },
     "metadata": {},
     "output_type": "display_data"
    },
    {
     "name": "stdout",
     "output_type": "stream",
     "text": [
      "уравнение после поворота:\n"
     ]
    },
    {
     "data": {
      "text/latex": [
       "$\\displaystyle 2 X^{2} + 4 \\sqrt{2} Y - 4$"
      ],
      "text/plain": [
       "2*X**2 + 4*sqrt(2)*Y - 4"
      ]
     },
     "metadata": {},
     "output_type": "display_data"
    },
    {
     "name": "stdout",
     "output_type": "stream",
     "text": [
      "новые коодинаты (после замены):\n"
     ]
    },
    {
     "data": {
      "text/latex": [
       "$\\displaystyle \\left[\\begin{matrix}X\\\\Y + \\frac{\\sqrt{2}}{2}\\\\1\\end{matrix}\\right]$"
      ],
      "text/plain": [
       "Matrix([\n",
       "[            X],\n",
       "[Y + sqrt(2)/2],\n",
       "[            1]])"
      ]
     },
     "metadata": {},
     "output_type": "display_data"
    },
    {
     "name": "stdout",
     "output_type": "stream",
     "text": [
      "итоговое уравнение:\n"
     ]
    },
    {
     "data": {
      "text/latex": [
       "$\\displaystyle 2 X^{2} + 4 \\sqrt{2} Y$"
      ],
      "text/plain": [
       "2*X**2 + 4*sqrt(2)*Y"
      ]
     },
     "metadata": {},
     "output_type": "display_data"
    },
    {
     "data": {
      "text/latex": [
       "$\\displaystyle 2 x^{2} + 4 \\sqrt{2} y = 0$"
      ],
      "text/plain": [
       "Eq(2*x**2 + 4*sqrt(2)*y, 0)"
      ]
     },
     "metadata": {},
     "output_type": "display_data"
    },
    {
     "data": {
      "text/latex": [
       "$\\displaystyle - 2 \\sqrt{2} y$"
      ],
      "text/plain": [
       "-2*sqrt(2)*y"
      ]
     },
     "metadata": {},
     "output_type": "display_data"
    },
    {
     "data": {
      "image/png": "[encoded data removed]",
      "text/plain": [
       "<Figure size 432x288 with 1 Axes>"
      ]
     },
     "metadata": {
      "needs_background": "light"
     },
     "output_type": "display_data"
    }
   ],
   "source": [
    "from sympy.abc import X, Y, Z\n",
    "\n",
    "# A имеет вид:\n",
    "#    x   y   1\n",
    "# x x^2 x*y  x\n",
    "# y x*y y^2  y\n",
    "# 1  x   y   1\n",
    "\n",
    "A3 = Matrix([[1, 1, -2], [1, 1, 2], [-2, 2, -4]])\n",
    "X3 = Matrix([x, y, 1])\n",
    "print(\"матрица уравнения:\")\n",
    "display(A3)\n",
    "print(\"столбец коодинат:\")\n",
    "display(X3)\n",
    "\n",
    "# проверка\n",
    "eq3 = Eq(simplify(expand(X3.T*A3*X3))[0], 0)\n",
    "print(\"проверка:\")\n",
    "display(eq3)\n",
    "\n",
    "# матрица поворота на угол alpha, где\n",
    "# cot(2*alpha) = (a11-a22)/(2*a12)\n",
    "alpha = sympy.acot((A3[0, 0] - A3[1, 1])/(2*A3[0, 1]))/2\n",
    "P = Matrix([[Cos(alpha), -Sin(alpha), 0], [Sin(alpha), Cos(alpha), 0], [0, 0, 1]]) # поворот в трехмерном пространстве (зачем-то)\n",
    "print(\"матрица поворота:\")\n",
    "display(P)\n",
    "\n",
    "# применяем матрицу поворота (избавляемся от слагаемого с xy) \n",
    "A3 = simplify(expand((P.transpose()*A3*P))) \n",
    "print(\"матрица после поворота:\")\n",
    "display(A3)\n",
    "\n",
    "# уравнение после поворота\n",
    "X3 = Matrix((X, Y, 1))\n",
    "print(\"уравнение после поворота:\")\n",
    "display(simplify(expand((X3.T*A3*X3)[0])))\n",
    "\n",
    "# перенос начала координат (избавляемся от x и y)\n",
    "# линейные замены имеют вид: \n",
    "# x = x' - a1/a11 \n",
    "# y = y' - a2/a22\n",
    "X3_new = Matrix((X, Y + 2 ** (S(1) / 2) / 2, 1))\n",
    "eq3_new = simplify(expand(X3_new.T*A3*X3_new))[0]\n",
    "print(\"новые коодинаты (после замены):\")\n",
    "display(X3_new)\n",
    "print(\"итоговое уравнение:\")\n",
    "display(eq3_new)\n",
    "\n",
    "eq3_last_xy = Eq(eq3_new.subs({X: x, Y: y}), 0)\n",
    "display(eq3_last_xy)\n",
    "right = solve(eq3_last_xy, x**2)[0]\n",
    "display(right)\n",
    "\n",
    "# рисунок\n",
    "p = plot_implicit(eq3,(x, -15, 15), (y, -15, 15), line_color='g', xlabel='$x$', ylabel='$y$', title=latex(eq3_last_xy, mode='inline') + '\\n', adaptive = True,show=False)\n",
    "p.extend(plot_implicit(eq3_last_xy,(x, -15, 15), (y, -15, 15), line_color='m',  adaptive = True,show=False))\n",
    "p.show()"
   ]
  },
  {
   "cell_type": "markdown",
   "metadata": {},
   "source": [
    "###  Индивидуальное задание\n",
    "Составить матрицу квадратичной формы и привести ее к каноническому виду с помощью перехода к новому базису из собственных векторов. Векторы выводить на экран не нужно. Вывести на экран матрицу в исходном виде и канонической форме, а также саму квадратичную форму в каноническом виде."
   ]
  },
  {
   "cell_type": "code",
   "execution_count": null,
   "metadata": {},
   "outputs": [
    {
     "data": {
      "text/latex": [
       "$\\displaystyle \\left[\\begin{matrix}-3653 & 30 \\sqrt{3} & - \\frac{489 \\sqrt{91}}{2}\\\\30 \\sqrt{3} & 3700 & - 10 \\sqrt{273}\\\\- \\frac{489 \\sqrt{91}}{2} & - 10 \\sqrt{273} & 3153\\end{matrix}\\right]$"
      ],
      "text/plain": [
       "Matrix([\n",
       "[          -3653,    30*sqrt(3), -489*sqrt(91)/2],\n",
       "[     30*sqrt(3),          3700,   -10*sqrt(273)],\n",
       "[-489*sqrt(91)/2, -10*sqrt(273),            3153]])"
      ]
     },
     "metadata": {},
     "output_type": "display_data"
    }
   ],
   "source": [
    "import sympy\n",
    "from sympy import Eq, S, latex, plot_implicit, Matrix, symbols, simplify, expand, collect, solve, solveset\n",
    "from sympy import pi as Pi\n",
    "from sympy import cos as Cos\n",
    "from sympy import sin as Sin\n",
    "import matplotlib.pyplot as plt\n",
    "%matplotlib inline\n",
    "\n",
    "#143\n",
    "# -3653*x**2 + 60*3**S.Half*x*y - 489*91**S.Half*x*z + 3700*y**2 - 20*273**S.Half*y*z + 3153 * z**2\n",
    "\n",
    "from sympy.abc import x, y, z\n",
    "Qi = Matrix([[-3653, S(60*sympy.sqrt(3))/2, S(-489*sympy.sqrt(91))/2],\n",
    "             [S(60*sympy.sqrt(3))/2, 3700, S(-20* sympy.sqrt(273))/2],\n",
    "             [S(-489*sympy.sqrt(91))/2, S(-20* sympy.sqrt(273))/2, 3153]])\n",
    "\n",
    "display(Qi)\n",
    "ev = Qi.eigenvects()\n",
    "Pind = Matrix([])\n",
    "display(ev)\n",
    "for item in ev:\n",
    "  degree = item[1]\n",
    "  for i in range(degree):\n",
    "    e_i = item[2][i]\n",
    "    Pind = Pind.row_join(e_i.normalized())\n",
    "display(Pindd)\n",
    "Q_new = Pind.T*Qi*Pind\n",
    "\n",
    "X = Matrix([x, y, z])\n",
    "res = simplify(expand(X.T*Q_new*X))[0]\n",
    "\n",
    "display(Qi, Pind, simplify(Q_new), res)"
   ]
  },
  {
   "cell_type": "code",
   "execution_count": null,
   "metadata": {},
   "outputs": [],
   "source": []
  },
  {
   "cell_type": "code",
   "execution_count": null,
   "metadata": {},
   "outputs": [],
   "source": []
  }
 ],
 "metadata": {
  "kernelspec": {
   "display_name": "Python 3",
   "language": "python",
   "name": "python3"
  },
  "language_info": {
   "codemirror_mode": {
    "name": "ipython",
    "version": 3
   },
   "file_extension": ".py",
   "mimetype": "text/x-python",
   "name": "python",
   "nbconvert_exporter": "python",
   "pygments_lexer": "ipython3",
   "version": "3.8.3"
  }
 },
 "nbformat": 4,
 "nbformat_minor": 2
}
