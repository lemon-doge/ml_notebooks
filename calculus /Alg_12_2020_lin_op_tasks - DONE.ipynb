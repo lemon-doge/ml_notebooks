{
 "cells": [
  {
   "cell_type": "code",
   "execution_count": 8,
   "metadata": {
    "id": "fbMHLclpgn5W"
   },
   "outputs": [],
   "source": [
    "import sympy\n",
    "import numpy as np\n",
    "from sympy import Expr, Eq, latex, plot_implicit, Matrix, plot, solve, linsolve, nonlinsolve, symbols, eye\n",
    "from sympy import pi as Pi\n",
    "from sympy import cos as Cos\n",
    "from sympy import sin as Sin\n",
    "import matplotlib.pyplot as plt"
   ]
  },
  {
   "cell_type": "markdown",
   "metadata": {
    "id": "dri3n7hngn5c"
   },
   "source": [
    "# Занятие 12\n",
    "# Алгебра\n",
    "### Задание 1.\n",
    "Написать функцию, составляющую матрицу линейного оператора поворота на alpha градусов или радиан По или Против часовой стрелки на плоскости. Параметры: обязательные - угол поворота, необязательные - тип меры угла (градусы или радианы), направление поворота (По или Против часовой стрелки). Значения по умолчанию - против часовой стрелки в радианах.\n",
    "\n",
    "Использовать полученную функцию для выведения на экран координат векторов, полученных поворотом на 10, 20, 45 градусов По или часовой стрелке и на $\\pi/3$ радиан против."
   ]
  },
  {
   "cell_type": "code",
   "execution_count": 4,
   "metadata": {
    "colab": {
     "base_uri": "https://localhost:8080/",
     "height": 371
    },
    "id": "EleIn_kjgn5c",
    "outputId": "4790f8ed-84f3-4653-bed0-24c18ecb57f0"
   },
   "outputs": [
    {
     "data": {
      "text/latex": [
       "$\\displaystyle \\left[\\begin{matrix}\\sin{\\left(\\frac{\\pi}{18} \\right)} + \\cos{\\left(\\frac{\\pi}{18} \\right)}\\\\- \\sin{\\left(\\frac{\\pi}{18} \\right)} + \\cos{\\left(\\frac{\\pi}{18} \\right)}\\end{matrix}\\right]$"
      ],
      "text/plain": [
       "Matrix([\n",
       "[ sin(pi/18) + cos(pi/18)],\n",
       "[-sin(pi/18) + cos(pi/18)]])"
      ]
     },
     "metadata": {},
     "output_type": "display_data"
    },
    {
     "data": {
      "text/latex": [
       "$\\displaystyle \\left[\\begin{matrix}\\sin{\\left(\\frac{\\pi}{9} \\right)} + \\cos{\\left(\\frac{\\pi}{9} \\right)}\\\\- \\sin{\\left(\\frac{\\pi}{9} \\right)} + \\cos{\\left(\\frac{\\pi}{9} \\right)}\\end{matrix}\\right]$"
      ],
      "text/plain": [
       "Matrix([\n",
       "[ sin(pi/9) + cos(pi/9)],\n",
       "[-sin(pi/9) + cos(pi/9)]])"
      ]
     },
     "metadata": {},
     "output_type": "display_data"
    },
    {
     "data": {
      "text/latex": [
       "$\\displaystyle \\left[\\begin{matrix}\\sqrt{2}\\\\0\\end{matrix}\\right]$"
      ],
      "text/plain": [
       "Matrix([\n",
       "[sqrt(2)],\n",
       "[      0]])"
      ]
     },
     "metadata": {},
     "output_type": "display_data"
    },
    {
     "data": {
      "text/latex": [
       "$\\displaystyle \\left[\\begin{matrix}1\\\\-1\\end{matrix}\\right]$"
      ],
      "text/plain": [
       "Matrix([\n",
       "[ 1],\n",
       "[-1]])"
      ]
     },
     "metadata": {},
     "output_type": "display_data"
    },
    {
     "data": {
      "text/latex": [
       "$\\displaystyle \\left[\\begin{matrix}\\frac{1}{2}\\\\\\frac{\\sqrt{3}}{2}\\end{matrix}\\right]$"
      ],
      "text/plain": [
       "Matrix([\n",
       "[      1/2],\n",
       "[sqrt(3)/2]])"
      ]
     },
     "metadata": {},
     "output_type": "display_data"
    }
   ],
   "source": [
    "import sympy\n",
    "import numpy as np\n",
    "from sympy import Expr, Eq, latex, plot_implicit, Matrix, plot, solve, linsolve, nonlinsolve, symbols, eye\n",
    "from sympy import pi as Pi\n",
    "from sympy import cos as Cos\n",
    "from sympy import sin as Sin\n",
    "import matplotlib.pyplot as plt\n",
    "\n",
    "def rotation_matrix(alpha, mera='rad', clockwise = False):\n",
    "  if mera == 'deg':\n",
    "    alpha = alpha * Pi/180\n",
    "  if clockwise:\n",
    "    alpha *= -1\n",
    "  return Matrix([[Cos(alpha), -Sin(alpha)], [Sin(alpha), Cos(alpha)]])\n",
    "\n",
    "e = Matrix([1, 1])\n",
    "\n",
    "degs = [10, 20, 45, 90]\n",
    "for deg in degs:\n",
    "  display(rotation_matrix(deg, 'deg', clockwise = True) * e)\n",
    "  \n",
    "display(rotation_matrix(Pi/3) * e1)\n"
   ]
  },
  {
   "cell_type": "markdown",
   "metadata": {
    "id": "sapGvSjkgn5d"
   },
   "source": [
    "### Задание 2.\n",
    "Найти собственные числа и собственные векторы линейного оператора, заданного матрицей \n",
    "$$\n",
    "\\left(\\begin{matrix}\n",
    "-34&20&-5\\\\\n",
    "-40&56&-20\\\\\n",
    "20&-8&50\n",
    "\\end{matrix}\\right)\n",
    "$$\n",
    "Воспользоваться eigenvals и eigenvects, проверить выполнение равенства нулю характеристического многочлена $|A-\\lambda E|$ и условия $Ax=\\lambda x$.\n"
   ]
  },
  {
   "cell_type": "code",
   "execution_count": 11,
   "metadata": {
    "colab": {
     "base_uri": "https://localhost:8080/",
     "height": 582
    },
    "id": "MmcGMa21gn5d",
    "outputId": "c1cfe799-70c3-483e-9561-39d90b370c40"
   },
   "outputs": [
    {
     "name": "stdout",
     "output_type": "stream",
     "text": [
      "eigenvals {56: 1, 40: 1, -24: 1}\n",
      "eigenvects\n",
      "собственное число:  -24\n",
      "кратность:  1\n"
     ]
    },
    {
     "data": {
      "text/plain": [
       "'собственные векторы: '"
      ]
     },
     "metadata": {},
     "output_type": "display_data"
    },
    {
     "data": {
      "text/latex": [
       "$\\displaystyle \\left[\\begin{matrix}- \\frac{9}{2}\\\\-2\\\\1\\end{matrix}\\right]$"
      ],
      "text/plain": [
       "Matrix([\n",
       "[-9/2],\n",
       "[  -2],\n",
       "[   1]])"
      ]
     },
     "metadata": {},
     "output_type": "display_data"
    },
    {
     "data": {
      "text/latex": [
       "$\\displaystyle 0$"
      ],
      "text/plain": [
       "0"
      ]
     },
     "metadata": {},
     "output_type": "display_data"
    },
    {
     "data": {
      "text/latex": [
       "$\\displaystyle \\left[\\begin{matrix}0\\\\0\\\\0\\end{matrix}\\right]$"
      ],
      "text/plain": [
       "Matrix([\n",
       "[0],\n",
       "[0],\n",
       "[0]])"
      ]
     },
     "metadata": {},
     "output_type": "display_data"
    },
    {
     "name": "stdout",
     "output_type": "stream",
     "text": [
      "собственное число:  40\n",
      "кратность:  1\n"
     ]
    },
    {
     "data": {
      "text/plain": [
       "'собственные векторы: '"
      ]
     },
     "metadata": {},
     "output_type": "display_data"
    },
    {
     "data": {
      "text/latex": [
       "$\\displaystyle \\left[\\begin{matrix}\\frac{5}{6}\\\\\\frac{10}{3}\\\\1\\end{matrix}\\right]$"
      ],
      "text/plain": [
       "Matrix([\n",
       "[ 5/6],\n",
       "[10/3],\n",
       "[   1]])"
      ]
     },
     "metadata": {},
     "output_type": "display_data"
    },
    {
     "data": {
      "text/latex": [
       "$\\displaystyle 0$"
      ],
      "text/plain": [
       "0"
      ]
     },
     "metadata": {},
     "output_type": "display_data"
    },
    {
     "data": {
      "text/latex": [
       "$\\displaystyle \\left[\\begin{matrix}0\\\\0\\\\0\\end{matrix}\\right]$"
      ],
      "text/plain": [
       "Matrix([\n",
       "[0],\n",
       "[0],\n",
       "[0]])"
      ]
     },
     "metadata": {},
     "output_type": "display_data"
    },
    {
     "name": "stdout",
     "output_type": "stream",
     "text": [
      "собственное число:  56\n",
      "кратность:  1\n"
     ]
    },
    {
     "data": {
      "text/plain": [
       "'собственные векторы: '"
      ]
     },
     "metadata": {},
     "output_type": "display_data"
    },
    {
     "data": {
      "text/latex": [
       "$\\displaystyle \\left[\\begin{matrix}- \\frac{1}{2}\\\\-2\\\\1\\end{matrix}\\right]$"
      ],
      "text/plain": [
       "Matrix([\n",
       "[-1/2],\n",
       "[  -2],\n",
       "[   1]])"
      ]
     },
     "metadata": {},
     "output_type": "display_data"
    },
    {
     "data": {
      "text/latex": [
       "$\\displaystyle 0$"
      ],
      "text/plain": [
       "0"
      ]
     },
     "metadata": {},
     "output_type": "display_data"
    },
    {
     "data": {
      "text/latex": [
       "$\\displaystyle \\left[\\begin{matrix}0\\\\0\\\\0\\end{matrix}\\right]$"
      ],
      "text/plain": [
       "Matrix([\n",
       "[0],\n",
       "[0],\n",
       "[0]])"
      ]
     },
     "metadata": {},
     "output_type": "display_data"
    },
    {
     "data": {
      "text/plain": [
       "'проверка по определению'"
      ]
     },
     "metadata": {},
     "output_type": "display_data"
    },
    {
     "data": {
      "text/plain": [
       "[-24, 40, 56]"
      ]
     },
     "metadata": {},
     "output_type": "display_data"
    }
   ],
   "source": [
    "A = Matrix([[-34, 20, -5], [-40, 56, -20], [20, -8, 50]])\n",
    "evects = A.eigenvects()\n",
    "evals = A.eigenvals()\n",
    "print('eigenvals', evals)\n",
    "print('eigenvects')\n",
    "for item in evects:\n",
    "  print(\"собственное число: \",item[0])\n",
    "  print(\"кратность: \", item[1])\n",
    "  display(\"собственные векторы: \",*item[2])\n",
    "  display((A - item[0] * eye(3)).det()) # проверка характеристического многочлена\n",
    "  display(A * (item[2][0]) - item[0] * (item[2][0])) # проверка условия 𝐴𝑥=𝜆𝑥\n",
    "\n",
    "lam = symbols('lamda')\n",
    "lambdas = solve((A - lam*eye(3)).det())\n",
    "display('проверка по определению', lambdas)"
   ]
  },
  {
   "cell_type": "markdown",
   "metadata": {
    "id": "AygJ15Dwgn5d"
   },
   "source": [
    "### Задание 3.\n",
    "Построить матрицу оператора из задания 2 в базисе из векторов $(1,1,1)$, $(0,5,3)$ и $(1,6,0)$.\n"
   ]
  },
  {
   "cell_type": "code",
   "execution_count": 15,
   "metadata": {
    "colab": {
     "base_uri": "https://localhost:8080/",
     "height": 178
    },
    "id": "tMOVMzPXgn5e",
    "outputId": "397142cc-c1a9-4076-8ca9-9884e485e88e"
   },
   "outputs": [
    {
     "data": {
      "text/latex": [
       "$\\displaystyle \\left[\\begin{matrix}1 & 0 & 1\\\\1 & 5 & 6\\\\1 & 3 & 0\\end{matrix}\\right]$"
      ],
      "text/plain": [
       "Matrix([\n",
       "[1, 0, 1],\n",
       "[1, 5, 6],\n",
       "[1, 3, 0]])"
      ]
     },
     "metadata": {},
     "output_type": "display_data"
    },
    {
     "data": {
      "text/plain": [
       "False"
      ]
     },
     "metadata": {},
     "output_type": "display_data"
    },
    {
     "data": {
      "text/plain": [
       "'матрица в новом базисе'"
      ]
     },
     "metadata": {},
     "output_type": "display_data"
    },
    {
     "data": {
      "text/latex": [
       "$\\displaystyle \\left[\\begin{matrix}-1 & 71 & 26\\\\21 & 13 & -18\\\\-18 & 14 & 60\\end{matrix}\\right]$"
      ],
      "text/plain": [
       "Matrix([\n",
       "[ -1, 71,  26],\n",
       "[ 21, 13, -18],\n",
       "[-18, 14,  60]])"
      ]
     },
     "metadata": {},
     "output_type": "display_data"
    },
    {
     "data": {
      "text/latex": [
       "$\\displaystyle \\left[\\begin{matrix}-34 & 20 & -5\\\\-40 & 56 & -20\\\\20 & -8 & 50\\end{matrix}\\right]$"
      ],
      "text/plain": [
       "Matrix([\n",
       "[-34, 20,  -5],\n",
       "[-40, 56, -20],\n",
       "[ 20, -8,  50]])"
      ]
     },
     "metadata": {},
     "output_type": "display_data"
    }
   ],
   "source": [
    "P = Matrix([[1, 0, 1], [1, 5, 6], [1, 3, 0]])\n",
    "display(P, P.det() == 0) # проверка на невырожденность\n",
    "\n",
    "A_new = P**(-1)*A*P\n",
    "display('матрица в новом базисе', A_new)\n",
    "display(P*A_new*P**(-1)) # получил обратно А по приколу"
   ]
  },
  {
   "cell_type": "markdown",
   "metadata": {
    "id": "reuyM50qgn5e"
   },
   "source": [
    "### Задание 4.\n",
    "Построить матрицу оператора из задания 2 в базисе из собственных векторов с помощью eigenvects и матрицы перехода. Сравнить диагональные элементы с собственными числами."
   ]
  },
  {
   "cell_type": "code",
   "execution_count": 21,
   "metadata": {
    "colab": {
     "base_uri": "https://localhost:8080/",
     "height": 225
    },
    "id": "r4C4raw5gn5e",
    "outputId": "d8f14b61-8ca7-4b5d-b758-a5c960faaba0"
   },
   "outputs": [
    {
     "data": {
      "text/latex": [
       "$\\displaystyle \\left[\\begin{matrix}- \\frac{9}{2} & \\frac{5}{6} & - \\frac{1}{2}\\\\-2 & \\frac{10}{3} & -2\\\\1 & 1 & 1\\end{matrix}\\right]$"
      ],
      "text/plain": [
       "Matrix([\n",
       "[-9/2,  5/6, -1/2],\n",
       "[  -2, 10/3,   -2],\n",
       "[   1,    1,    1]])"
      ]
     },
     "metadata": {},
     "output_type": "display_data"
    },
    {
     "data": {
      "text/latex": [
       "$\\displaystyle - \\frac{64}{3}$"
      ],
      "text/plain": [
       "-64/3"
      ]
     },
     "metadata": {},
     "output_type": "display_data"
    },
    {
     "data": {
      "text/latex": [
       "$\\displaystyle \\left[\\begin{matrix}-24 & 0 & 0\\\\0 & 40 & 0\\\\0 & 0 & 56\\end{matrix}\\right]$"
      ],
      "text/plain": [
       "Matrix([\n",
       "[-24,  0,  0],\n",
       "[  0, 40,  0],\n",
       "[  0,  0, 56]])"
      ]
     },
     "metadata": {},
     "output_type": "display_data"
    },
    {
     "name": "stdout",
     "output_type": "stream",
     "text": [
      "-24 = -24\n",
      "40 = 40\n",
      "56 = 56\n"
     ]
    }
   ],
   "source": [
    "A = Matrix([[-34, 20, -5], [-40, 56, -20], [20, -8, 50]])\n",
    "evects = A.eigenvects()\n",
    "P = evects[0][2][0].row_join(evects[1][2][0]).row_join(evects[2][2][0]) # записали собственные векторы в столбцы матрицы\n",
    "display(P, P.det()) # проверили на невырожденность\n",
    "A_new = P**(-1)*A*P # получили матрицу в базисе из собственных векторов\n",
    "display(A_new)\n",
    "\n",
    "for i in range(3):\n",
    "    print(str(A_new[i,i]) + \" = \" + str(evects[i][0]))"
   ]
  },
  {
   "cell_type": "markdown",
   "metadata": {
    "id": "2FhraiiMgn5e"
   },
   "source": [
    "###  Индивидуальное задание\n",
    "Найти собственные числа и собственные векторы линейного оператора. Построить матрицу оператора в заданном базисе. Построить матрицу оператора в базисе из собственных векторов.\n",
    "\n",
    "Вывести на экран матрицу оператора А, матрицу перехода к базису ($e_1$, $e_2$, $e_3$), матрицу оператора в базисе ($e_1$, $e_2$, $e_3$), матрицу перехода к базису из собственных векторов, матрицу оператора в базисе из собственных векторов.\n",
    "\n",
    "$$A = \\left[\\begin{matrix}-48 & -62 & 6\\\\-16 & -103 & 78\\\\-68 & 80 & -77\\end{matrix}\\right],\\quad e_1 = \\left[\\begin{matrix}-4\\\\-4\\\\1\\end{matrix}\\right],\\quad e_2 = \\left[\\begin{matrix}4\\\\1\\\\-2\\end{matrix}\\right],\\quad e_3 = \\left[\\begin{matrix}3\\\\-3\\\\2\\end{matrix}\\right]$$\n",
    "\n"
   ]
  },
  {
   "cell_type": "code",
   "execution_count": 26,
   "metadata": {
    "colab": {
     "base_uri": "https://localhost:8080/",
     "height": 649
    },
    "id": "c5xzQUK3gn5f",
    "outputId": "2efe9f00-a673-4d35-93c4-5e2a34a0c91a"
   },
   "outputs": [
    {
     "name": "stdout",
     "output_type": "stream",
     "text": [
      "Матрица оператора А: \n"
     ]
    },
    {
     "data": {
      "text/latex": [
       "$\\displaystyle \\left[\\begin{matrix}-43 & 130 & -100\\\\188 & -125 & -4\\\\-332 & -82 & 13\\end{matrix}\\right]$"
      ],
      "text/plain": [
       "Matrix([\n",
       "[ -43,  130, -100],\n",
       "[ 188, -125,   -4],\n",
       "[-332,  -82,   13]])"
      ]
     },
     "metadata": {},
     "output_type": "display_data"
    },
    {
     "name": "stdout",
     "output_type": "stream",
     "text": [
      "собственное число:  -279\n",
      "кратность:  1\n",
      "собственные векторы: \n"
     ]
    },
    {
     "data": {
      "text/latex": [
       "$\\displaystyle \\left[\\begin{matrix}\\frac{5}{4}\\\\- \\frac{3}{2}\\\\1\\end{matrix}\\right]$"
      ],
      "text/plain": [
       "Matrix([\n",
       "[ 5/4],\n",
       "[-3/2],\n",
       "[   1]])"
      ]
     },
     "metadata": {},
     "output_type": "display_data"
    },
    {
     "name": "stdout",
     "output_type": "stream",
     "text": [
      "собственное число:  -93\n",
      "кратность:  1\n",
      "собственные векторы: \n"
     ]
    },
    {
     "data": {
      "text/latex": [
       "$\\displaystyle \\left[\\begin{matrix}\\frac{1}{7}\\\\\\frac{5}{7}\\\\1\\end{matrix}\\right]$"
      ],
      "text/plain": [
       "Matrix([\n",
       "[1/7],\n",
       "[5/7],\n",
       "[  1]])"
      ]
     },
     "metadata": {},
     "output_type": "display_data"
    },
    {
     "name": "stdout",
     "output_type": "stream",
     "text": [
      "собственное число:  217\n",
      "кратность:  1\n",
      "собственные векторы: \n"
     ]
    },
    {
     "data": {
      "text/latex": [
       "$\\displaystyle \\left[\\begin{matrix}- \\frac{7}{13}\\\\- \\frac{4}{13}\\\\1\\end{matrix}\\right]$"
      ],
      "text/plain": [
       "Matrix([\n",
       "[-7/13],\n",
       "[-4/13],\n",
       "[    1]])"
      ]
     },
     "metadata": {},
     "output_type": "display_data"
    },
    {
     "name": "stdout",
     "output_type": "stream",
     "text": [
      "Матрица перехода к заданному базису: \n"
     ]
    },
    {
     "data": {
      "text/latex": [
       "$\\displaystyle \\left[\\begin{matrix}-2 & 2 & 3\\\\-3 & 1 & -2\\\\-2 & -1 & 1\\end{matrix}\\right]$"
      ],
      "text/plain": [
       "Matrix([\n",
       "[-2,  2,  3],\n",
       "[-3,  1, -2],\n",
       "[-2, -1,  1]])"
      ]
     },
     "metadata": {},
     "output_type": "display_data"
    },
    {
     "name": "stdout",
     "output_type": "stream",
     "text": [
      "Матрица в заданном базисе: \n"
     ]
    },
    {
     "data": {
      "text/latex": [
       "$\\displaystyle \\left[\\begin{matrix}- \\frac{6119}{31} & \\frac{3894}{31} & \\frac{2172}{31}\\\\- \\frac{12192}{31} & \\frac{11895}{31} & \\frac{10464}{31}\\\\\\frac{2974}{31} & - \\frac{3846}{31} & - \\frac{10581}{31}\\end{matrix}\\right]$"
      ],
      "text/plain": [
       "Matrix([\n",
       "[ -6119/31,  3894/31,   2172/31],\n",
       "[-12192/31, 11895/31,  10464/31],\n",
       "[  2974/31, -3846/31, -10581/31]])"
      ]
     },
     "metadata": {},
     "output_type": "display_data"
    },
    {
     "name": "stdout",
     "output_type": "stream",
     "text": [
      "Матрица перехода от стандартного базиса к базису из собственных векторов: \n"
     ]
    },
    {
     "data": {
      "text/latex": [
       "$\\displaystyle \\left[\\begin{matrix}\\frac{5}{4} & \\frac{1}{7} & - \\frac{7}{13}\\\\- \\frac{3}{2} & \\frac{5}{7} & - \\frac{4}{13}\\\\1 & 1 & 1\\end{matrix}\\right]$"
      ],
      "text/plain": [
       "Matrix([\n",
       "[ 5/4, 1/7, -7/13],\n",
       "[-3/2, 5/7, -4/13],\n",
       "[   1,   1,     1]])"
      ]
     },
     "metadata": {},
     "output_type": "display_data"
    },
    {
     "name": "stdout",
     "output_type": "stream",
     "text": [
      "Матрица в базисе из собственных векторов: \n"
     ]
    },
    {
     "data": {
      "text/latex": [
       "$\\displaystyle \\left[\\begin{matrix}-279 & 0 & 0\\\\0 & -93 & 0\\\\0 & 0 & 217\\end{matrix}\\right]$"
      ],
      "text/plain": [
       "Matrix([\n",
       "[-279,   0,   0],\n",
       "[   0, -93,   0],\n",
       "[   0,   0, 217]])"
      ]
     },
     "metadata": {},
     "output_type": "display_data"
    }
   ],
   "source": [
    "#143 \n",
    "\n",
    "A = Matrix([[-43, 130, -100], [188, -125, -4], [-332, -82, 13]])\n",
    "print('Матрица оператора А: ')\n",
    "display(A)\n",
    "\n",
    "evects = A.eigenvects()\n",
    "for item in evects:\n",
    "    print(\"собственное число: \",item[0])\n",
    "    print(\"кратность: \", item[1])\n",
    "    print(\"собственные векторы: \")\n",
    "    display(*item[2])\n",
    "\n",
    "P = Matrix([[-2, 2, 3], [-3, 1, -2], [-2, -1, 1]])\n",
    "print('Матрица перехода к заданному базису: ')\n",
    "display(P)\n",
    "\n",
    "A_new = P**(-1)*A*P\n",
    "print('Матрица в заданном базисе: ')\n",
    "display(A_new)\n",
    "\n",
    "T = evects[0][2][0].row_join(evects[1][2][0]).row_join(evects[2][2][0])\n",
    "print('Матрица перехода от стандартного базиса к базису из собственных векторов: ')\n",
    "display(T)\n",
    "\n",
    "B_new = T**(-1)*A*T\n",
    "print('Матрица в базисе из собственных векторов: ')\n",
    "display(B_new) "
   ]
  },
  {
   "cell_type": "code",
   "execution_count": null,
   "metadata": {},
   "outputs": [],
   "source": []
  }
 ],
 "metadata": {
  "colab": {
   "name": "KOLTUNOVAlg_12_2020_lin_op_tasks.ipynb",
   "provenance": []
  },
  "kernelspec": {
   "display_name": "Python 3",
   "language": "python",
   "name": "python3"
  },
  "language_info": {
   "codemirror_mode": {
    "name": "ipython",
    "version": 3
   },
   "file_extension": ".py",
   "mimetype": "text/x-python",
   "name": "python",
   "nbconvert_exporter": "python",
   "pygments_lexer": "ipython3",
   "version": "3.8.3"
  }
 },
 "nbformat": 4,
 "nbformat_minor": 1
}
