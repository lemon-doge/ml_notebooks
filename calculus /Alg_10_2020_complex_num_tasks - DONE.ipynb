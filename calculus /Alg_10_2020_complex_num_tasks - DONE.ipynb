{
 "cells": [
  {
   "cell_type": "code",
   "execution_count": 1,
   "metadata": {},
   "outputs": [],
   "source": [
    "import sympy\n",
    "from sympy import I\n",
    "import numpy as np\n",
    "import matplotlib.pyplot as plt"
   ]
  },
  {
   "cell_type": "markdown",
   "metadata": {},
   "source": [
    "# Занятие 10\n",
    "# Алгебра\n",
    "## Комплексные числа в sympy\n",
    "### Задание 1.\n",
    "Даны комплексные числа\n",
    "$$\n",
    "z_1 = 5\\sqrt{3} + 5i,\\quad z_2 = -3 + 3i,\\quad z_3 = - 1 + i,\\quad z_4 = i,\\quad z_5 = \\frac{12}{13} + \\frac{5}{13}i,\n",
    "$$\n",
    "вычислить (представить в алгебраической форме) с помощью sympy\n",
    "$$\n",
    "z_1 \\cdot z_2,\\quad (z_2 - 5z_3)^6,\\quad \\sqrt{\\frac{z_4}{z_3}},\\quad \\frac{z_1^2 + z_3}{13z_5 - 2z_2}.\n",
    "$$"
   ]
  },
  {
   "cell_type": "code",
   "execution_count": 3,
   "metadata": {},
   "outputs": [
    {
     "data": {
      "text/latex": [
       "$\\displaystyle - 15 \\sqrt{3} - 15 + i \\left(-15 + 15 \\sqrt{3}\\right)$"
      ],
      "text/plain": [
       "-15*sqrt(3) - 15 + I*(-15 + 15*sqrt(3))"
      ]
     },
     "metadata": {},
     "output_type": "display_data"
    },
    {
     "data": {
      "text/latex": [
       "$\\displaystyle 512 i$"
      ],
      "text/plain": [
       "512*I"
      ]
     },
     "metadata": {},
     "output_type": "display_data"
    },
    {
     "data": {
      "text/latex": [
       "$\\displaystyle \\frac{2^{\\frac{3}{4}} \\sqrt{\\frac{\\sqrt{2}}{4} + \\frac{1}{2}}}{2} - \\frac{2^{\\frac{3}{4}} i \\sqrt{\\frac{1}{2} - \\frac{\\sqrt{2}}{4}}}{2}$"
      ],
      "text/plain": [
       "2**(3/4)*sqrt(sqrt(2)/4 + 1/2)/2 - 2**(3/4)*I*sqrt(1/2 - sqrt(2)/4)/2"
      ]
     },
     "metadata": {},
     "output_type": "display_data"
    },
    {
     "data": {
      "text/latex": [
       "$\\displaystyle - \\frac{550 \\sqrt{3}}{157} - \\frac{305}{157} + i \\left(\\frac{533}{157} - \\frac{300 \\sqrt{3}}{157}\\right)$"
      ],
      "text/plain": [
       "-550*sqrt(3)/157 - 305/157 + I*(533/157 - 300*sqrt(3)/157)"
      ]
     },
     "metadata": {},
     "output_type": "display_data"
    }
   ],
   "source": [
    "import sympy\n",
    "from sympy import I\n",
    "import numpy as np\n",
    "import matplotlib.pyplot as plt\n",
    "\n",
    "z1 = 5*3**sympy.S.Half  + 5*I\n",
    "z2 = -3 + 3*I\n",
    "z3 = -1 + I\n",
    "z4 = I\n",
    "z5 = -sympy.S(12)/13 - sympy.S(5)/13*I\n",
    "\n",
    "for i in [z1*z2,(z2-5*z3)**6,(z4/z3)**sympy.S.Half,(z1**2 + z3)/(13*z5-2*z2)]:\n",
    "    display(sympy.expand_complex(i))\n",
    "    \n",
    "    "
   ]
  },
  {
   "cell_type": "markdown",
   "metadata": {},
   "source": [
    "### Задание  2.\n",
    "Вычисления Примера 1 проделать для мнимой единицы из python (использовать встроенную функцию complex)."
   ]
  },
  {
   "cell_type": "code",
   "execution_count": 4,
   "metadata": {},
   "outputs": [
    {
     "data": {
      "text/latex": [
       "$\\displaystyle -40.9807621135332 + 10.9807621135332 i$"
      ],
      "text/plain": [
       "-40.9807621135332 + 10.9807621135332*I"
      ]
     },
     "metadata": {},
     "output_type": "display_data"
    },
    {
     "data": {
      "text/latex": [
       "$\\displaystyle 512.0 i$"
      ],
      "text/plain": [
       "512.0*I"
      ]
     },
     "metadata": {},
     "output_type": "display_data"
    },
    {
     "data": {
      "text/latex": [
       "$\\displaystyle 0.776886987015019 - 0.321797126452791 i$"
      ],
      "text/plain": [
       "0.776886987015019 - 0.321797126452791*I"
      ]
     },
     "metadata": {},
     "output_type": "display_data"
    },
    {
     "data": {
      "text/latex": [
       "$\\displaystyle 2.44429987575863 + 5.00260223634458 i$"
      ],
      "text/plain": [
       "2.44429987575863 + 5.00260223634458*I"
      ]
     },
     "metadata": {},
     "output_type": "display_data"
    }
   ],
   "source": [
    "z1 = complex(5*3**0.5, 5)\n",
    "z2 = complex(-3, 3)\n",
    "z3 = complex(-1, 1)\n",
    "z4 = complex(0, 1)\n",
    "z5 = complex(12/13, 5/13)\n",
    "\n",
    "for i in [z1*z2,(z2-5*z3)**6,(z4/z3)**sympy.S.Half,(z1**2 + z3)/(13*z5-2*z2)]:\n",
    "    display(sympy.expand_complex(i))"
   ]
  },
  {
   "cell_type": "markdown",
   "metadata": {},
   "source": [
    "### Задание  3.\n",
    "Изобразить на координатной плоскости точки, соответствующие корням  $7$-й степени комплексного числа $z = \\frac{3}{5} + i\\frac{3}{5}$. Подписать точки $Ak$, где $k$  - номер корня."
   ]
  },
  {
   "cell_type": "code",
   "execution_count": 7,
   "metadata": {},
   "outputs": [
    {
     "data": {
      "text/latex": [
       "$\\displaystyle \\sqrt[7]{\\frac{3}{5} + \\frac{3 i}{5}}$"
      ],
      "text/plain": [
       "(3/5 + 3*I/5)**(1/7)"
      ]
     },
     "metadata": {},
     "output_type": "display_data"
    },
    {
     "data": {
      "text/latex": [
       "$\\displaystyle \\left(-1\\right)^{\\frac{2}{7}} \\sqrt[7]{\\frac{3}{5} + \\frac{3 i}{5}}$"
      ],
      "text/plain": [
       "(-1)**(2/7)*(3/5 + 3*I/5)**(1/7)"
      ]
     },
     "metadata": {},
     "output_type": "display_data"
    },
    {
     "data": {
      "text/latex": [
       "$\\displaystyle \\left(-1\\right)^{\\frac{4}{7}} \\sqrt[7]{\\frac{3}{5} + \\frac{3 i}{5}}$"
      ],
      "text/plain": [
       "(-1)**(4/7)*(3/5 + 3*I/5)**(1/7)"
      ]
     },
     "metadata": {},
     "output_type": "display_data"
    },
    {
     "data": {
      "text/latex": [
       "$\\displaystyle \\left(-1\\right)^{\\frac{6}{7}} \\sqrt[7]{\\frac{3}{5} + \\frac{3 i}{5}}$"
      ],
      "text/plain": [
       "(-1)**(6/7)*(3/5 + 3*I/5)**(1/7)"
      ]
     },
     "metadata": {},
     "output_type": "display_data"
    },
    {
     "data": {
      "text/latex": [
       "$\\displaystyle - \\sqrt[7]{-1} \\sqrt[7]{\\frac{3}{5} + \\frac{3 i}{5}}$"
      ],
      "text/plain": [
       "-(-1)**(1/7)*(3/5 + 3*I/5)**(1/7)"
      ]
     },
     "metadata": {},
     "output_type": "display_data"
    },
    {
     "data": {
      "text/latex": [
       "$\\displaystyle - \\left(-1\\right)^{\\frac{3}{7}} \\sqrt[7]{\\frac{3}{5} + \\frac{3 i}{5}}$"
      ],
      "text/plain": [
       "-(-1)**(3/7)*(3/5 + 3*I/5)**(1/7)"
      ]
     },
     "metadata": {},
     "output_type": "display_data"
    },
    {
     "data": {
      "text/latex": [
       "$\\displaystyle - \\left(-1\\right)^{\\frac{5}{7}} \\sqrt[7]{\\frac{3}{5} + \\frac{3 i}{5}}$"
      ],
      "text/plain": [
       "-(-1)**(5/7)*(3/5 + 3*I/5)**(1/7)"
      ]
     },
     "metadata": {},
     "output_type": "display_data"
    },
    {
     "data": {
      "text/plain": [
       "(-1.5, 1.5)"
      ]
     },
     "execution_count": 7,
     "metadata": {},
     "output_type": "execute_result"
    },
    {
     "data": {
      "image/png": "[encoded data removed]",
      "text/plain": [
       "<Figure size 432x288 with 1 Axes>"
      ]
     },
     "metadata": {
      "needs_background": "light"
     },
     "output_type": "display_data"
    }
   ],
   "source": [
    "n=7\n",
    "roots_list3 = [sympy.root(sympy.S(3)/5 + sympy.S(3)/5*I, n, k) for k in range(n)]\n",
    "display(*roots_list3)\n",
    "\n",
    "roots_x = [sympy.re(item) for item in roots_list3]\n",
    "roots_y = [sympy.im(item) for item in roots_list3]\n",
    "plt.scatter(roots_x, roots_y)\n",
    "\n",
    "for k, x_coord in enumerate(roots_x):\n",
    "    plt.annotate('$A' + str(k), xy=(x_coord, roots_y[k]),\n",
    "                    xytext=(x_coord + 0.05, roots_y[k] - 0.05))\n",
    "    \n",
    "plt.axis('equal')\n",
    "plt.xlabel(\"Re\") \n",
    "plt.ylabel(\"Im\")\n",
    "plt.xlim(-2.5, 4.5)\n",
    "plt.ylim(-1.5, 1.5)"
   ]
  },
  {
   "cell_type": "markdown",
   "metadata": {},
   "source": [
    "### Задание  4.\n",
    "Изобразить на координатной плоскости точки, соответствующие $z_4 = - \\frac{3}{5} + \\frac{4}{5}i$ и $\\bar{z_4}$, подписать $z_4$ тригонометрической формой, $\\bar{z_4}$ - экспоненциальной ($z = r e^{i\\varphi}$, $r$ и $\\varphi$ такие же, как в тригонометрической форме)."
   ]
  },
  {
   "cell_type": "code",
   "execution_count": 28,
   "metadata": {},
   "outputs": [
    {
     "data": {
      "text/plain": [
       "Text(0, 0.5, 'Im')"
      ]
     },
     "execution_count": 28,
     "metadata": {},
     "output_type": "execute_result"
    },
    {
     "data": {
      "image/png": "[encoded data removed]",
      "text/plain": [
       "<Figure size 432x288 with 1 Axes>"
      ]
     },
     "metadata": {
      "needs_background": "light"
     },
     "output_type": "display_data"
    }
   ],
   "source": [
    "from sympy import sin as sin\n",
    "from sympy import cos as cos\n",
    "from sympy import pi as Pi\n",
    "from sympy import atan as atan\n",
    "from sympy import exp as exp\n",
    "\n",
    "z4 = -sympy.S(3)/5 + sympy.S(4)/5*I\n",
    "z4_ = sympy.conjugate(z4)\n",
    "\n",
    "roots_x = [sympy.re(item) for item in [z4,z4_]]\n",
    "roots_y = [sympy.im(item) for item in [z4,z4_]]\n",
    "plt.scatter(roots_x, roots_y)\n",
    "\n",
    "\n",
    "plt.annotate('$z4 =  ' + sympy.latex(1 *(cos(Pi - atan(4/3)) + I*sin(Pi - atan(4/3)))) + '$', xy=(roots_x[0], roots_y[0]),xytext=(roots_x[0] + 0.05, roots_y[0] - 0.05))\n",
    "plt.annotate('$~z4 = ' + sympy.latex(exp(I - Pi + atan(4/3))) + '$', xy=(roots_x[1], roots_y[1]),xytext=(roots_x[1] + 0.05, roots_y[1] - 0.05))\n",
    "\n",
    "plt.axis('equal')\n",
    "plt.xlabel(\"Re\") \n",
    "plt.ylabel(\"Im\")"
   ]
  },
  {
   "cell_type": "markdown",
   "metadata": {},
   "source": [
    "#### Задание  5.\n",
    "Изобразить корни 4 степени числа $5e^{\\frac{i\\pi}{8}}$, в полярной системе координат, подписи к точкам - аргументы (углы) сответствующих комплексных чисел. \n",
    "\n",
    "Число вводить в тригонометрической форме, для получения корней комплексного числа $z = r(\\cos(\\varphi) + \\sin(\\varphi))$ использовать формулу \n",
    "$\\sqrt[n]{z} = \\sqrt[n]{r}(\\cos(\\varphi_k) + i \\sin(\\varphi_k))$, \n",
    "$\\varphi_k = \\frac{\\varphi + 2\\pi k}{n}$, $k = 0, ..., n$. \n",
    "\n",
    "Вывести алгебраическую форму полученных корней на экран и сравнить с результатом, полученным с помощью sympy.root (с использованием sympy.expand_complex для упрощения выражения). Аналитическое представление оказывается разным.\n",
    "\n",
    "Для каждого корня найти разность в формате float модуля разности корней, полученных двумя способами (т.е. нужно для каждой пары одинаковых корней, полученных двумя способами находить разность корней, вычислять модуль sympy.Abs этой разности и преобразовывать результат в формат float)."
   ]
  },
  {
   "cell_type": "code",
   "execution_count": 44,
   "metadata": {},
   "outputs": [
    {
     "data": {
      "text/latex": [
       "$\\displaystyle \\frac{5 \\cos{\\left(\\frac{\\pi}{32} \\right)}}{4} + \\frac{5 i \\sin{\\left(\\frac{\\pi}{32} \\right)}}{4}$"
      ],
      "text/plain": [
       "5*cos(pi/32)/4 + 5*I*sin(pi/32)/4"
      ]
     },
     "metadata": {},
     "output_type": "display_data"
    },
    {
     "data": {
      "text/latex": [
       "$\\displaystyle \\sqrt[8]{2} \\cos{\\left(\\frac{\\pi}{16} \\right)} - \\sqrt[8]{2} i \\sin{\\left(\\frac{\\pi}{16} \\right)}$"
      ],
      "text/plain": [
       "2**(1/8)*cos(pi/16) - 2**(1/8)*I*sin(pi/16)"
      ]
     },
     "metadata": {},
     "output_type": "display_data"
    },
    {
     "data": {
      "text/plain": [
       "0.37792859836821985"
      ]
     },
     "metadata": {},
     "output_type": "display_data"
    },
    {
     "data": {
      "text/latex": [
       "$\\displaystyle - \\frac{5 \\cos{\\left(\\frac{15 \\pi}{32} \\right)}}{4} + \\frac{5 i \\sin{\\left(\\frac{15 \\pi}{32} \\right)}}{4}$"
      ],
      "text/plain": [
       "-5*cos(15*pi/32)/4 + 5*I*sin(15*pi/32)/4"
      ]
     },
     "metadata": {},
     "output_type": "display_data"
    },
    {
     "data": {
      "text/latex": [
       "$\\displaystyle \\sqrt[8]{2} \\sin{\\left(\\frac{\\pi}{16} \\right)} + \\sqrt[8]{2} i \\cos{\\left(\\frac{\\pi}{16} \\right)}$"
      ],
      "text/plain": [
       "2**(1/8)*sin(pi/16) + 2**(1/8)*I*cos(pi/16)"
      ]
     },
     "metadata": {},
     "output_type": "display_data"
    },
    {
     "data": {
      "text/plain": [
       "0.37792859836821985"
      ]
     },
     "metadata": {},
     "output_type": "display_data"
    },
    {
     "data": {
      "text/latex": [
       "$\\displaystyle - \\frac{5 \\cos{\\left(\\frac{\\pi}{32} \\right)}}{4} - \\frac{5 i \\sin{\\left(\\frac{\\pi}{32} \\right)}}{4}$"
      ],
      "text/plain": [
       "-5*cos(pi/32)/4 - 5*I*sin(pi/32)/4"
      ]
     },
     "metadata": {},
     "output_type": "display_data"
    },
    {
     "data": {
      "text/latex": [
       "$\\displaystyle - \\sqrt[8]{2} \\cos{\\left(\\frac{\\pi}{16} \\right)} + \\sqrt[8]{2} i \\sin{\\left(\\frac{\\pi}{16} \\right)}$"
      ],
      "text/plain": [
       "-2**(1/8)*cos(pi/16) + 2**(1/8)*I*sin(pi/16)"
      ]
     },
     "metadata": {},
     "output_type": "display_data"
    },
    {
     "data": {
      "text/plain": [
       "0.37792859836821985"
      ]
     },
     "metadata": {},
     "output_type": "display_data"
    },
    {
     "data": {
      "text/latex": [
       "$\\displaystyle \\frac{5 \\cos{\\left(\\frac{15 \\pi}{32} \\right)}}{4} - \\frac{5 i \\sin{\\left(\\frac{15 \\pi}{32} \\right)}}{4}$"
      ],
      "text/plain": [
       "5*cos(15*pi/32)/4 - 5*I*sin(15*pi/32)/4"
      ]
     },
     "metadata": {},
     "output_type": "display_data"
    },
    {
     "data": {
      "text/latex": [
       "$\\displaystyle - \\sqrt[8]{2} \\sin{\\left(\\frac{\\pi}{16} \\right)} - \\sqrt[8]{2} i \\cos{\\left(\\frac{\\pi}{16} \\right)}$"
      ],
      "text/plain": [
       "-2**(1/8)*sin(pi/16) - 2**(1/8)*I*cos(pi/16)"
      ]
     },
     "metadata": {},
     "output_type": "display_data"
    },
    {
     "data": {
      "text/plain": [
       "0.37792859836821985"
      ]
     },
     "metadata": {},
     "output_type": "display_data"
    },
    {
     "data": {
      "image/png": "[encoded data removed]",
      "text/plain": [
       "<Figure size 432x288 with 1 Axes>"
      ]
     },
     "metadata": {
      "needs_background": "light"
     },
     "output_type": "display_data"
    }
   ],
   "source": [
    "n=4\n",
    "z = 5*cos(Pi/8) + 5*I*sin(Pi/8)\n",
    "r = 5**sympy.S(1)/n \n",
    "args_list = [(Pi/8+2*Pi*k)/n for k in range(n)]\n",
    "\n",
    "roots = [r * (cos(args_list[k]) + I* sin(args_list[k])) for k in range(n)]\n",
    "\n",
    "names = ('K', 'L', 'M', 'N', 'P', 'Q', 'R')\n",
    "\n",
    "plt.polar(arg_list, [r]*4, 'go')\n",
    "\n",
    "for k, phi_k in enumerate(arg_list):\n",
    "    plt.annotate(names[k] + ' arg: '+ '$'+ sympy.latex(phi_k) + '$', \n",
    "                 xy=(phi_k, r),\n",
    "                 xytext=(phi_k + 0.15, r))\n",
    "    \n",
    "for i in range(4):\n",
    "    my_root = sympy.expand_complex(roots[i])\n",
    "    sympy_root = sympy.expand_complex(sympy.root(1 - I, n, i))\n",
    "    display(my_root)\n",
    "    display(sympy_root)\n",
    "    display(float(sympy.Abs(my_root - sympy_root)))"
   ]
  },
  {
   "cell_type": "markdown",
   "metadata": {},
   "source": [
    "### Индивидуальное задание.\n",
    "Решить уравнение.\n",
    "Для получения корней использовать sympy.roots.\n",
    "Корни уравнения вывести на экран в алгебраической, тригонометрической и экспоненциальной форме."
   ]
  },
  {
   "cell_type": "code",
   "execution_count": 86,
   "metadata": {},
   "outputs": [
    {
     "data": {
      "text/latex": [
       "$\\displaystyle -4.0 - 5.0 i$"
      ],
      "text/plain": [
       "-4.0 - 5.0*I"
      ]
     },
     "metadata": {},
     "output_type": "display_data"
    },
    {
     "data": {
      "text/latex": [
       "$\\displaystyle 6.40312423743285 \\left(\\cos{\\left(0.896055384571344 - \\pi \\right)} + i \\sin{\\left(0.896055384571344 - \\pi \\right)}\\right)$"
      ],
      "text/plain": [
       "6.40312423743285*(cos(0.896055384571344 - pi) + I*sin(0.896055384571344 - pi))"
      ]
     },
     "metadata": {},
     "output_type": "display_data"
    },
    {
     "data": {
      "text/latex": [
       "$\\displaystyle 6.40312423743285 e^{i \\left(0.896055384571344 - \\pi\\right)}$"
      ],
      "text/plain": [
       "6.40312423743285*exp(I*(0.896055384571344 - pi))"
      ]
     },
     "metadata": {},
     "output_type": "display_data"
    },
    {
     "data": {
      "text/latex": [
       "$\\displaystyle -4.0 - 7.0 i$"
      ],
      "text/plain": [
       "-4.0 - 7.0*I"
      ]
     },
     "metadata": {},
     "output_type": "display_data"
    },
    {
     "data": {
      "text/latex": [
       "$\\displaystyle 8.06225774829855 \\left(\\cos{\\left(1.05165021254837 - \\pi \\right)} + i \\sin{\\left(1.05165021254837 - \\pi \\right)}\\right)$"
      ],
      "text/plain": [
       "8.06225774829855*(cos(1.05165021254837 - pi) + I*sin(1.05165021254837 - pi))"
      ]
     },
     "metadata": {},
     "output_type": "display_data"
    },
    {
     "data": {
      "text/latex": [
       "$\\displaystyle 8.06225774829855 e^{i \\left(1.05165021254837 - \\pi\\right)}$"
      ],
      "text/plain": [
       "8.06225774829855*exp(I*(1.05165021254837 - pi))"
      ]
     },
     "metadata": {},
     "output_type": "display_data"
    }
   ],
   "source": [
    "# 143\n",
    "# (1 − 7i)x^2 + (92 − 44i)x + 317 + 181i = 0\n",
    "import sympy\n",
    "from sympy import I\n",
    "from sympy import evaluate\n",
    "import numpy as np\n",
    "import matplotlib.pyplot as plt\n",
    "\n",
    "x,r,phi = sympy.symbols('x r phi')\n",
    "\n",
    "for i in sympy.nroots((1 - 7*I)*(x**2) + (92 - 44*I)*x + 317 + 181*I):\n",
    "    display(i)\n",
    "    r = sympy.functions.Abs(i)\n",
    "    phi = sympy.functions.arg(i)\n",
    "    with evaluate(False):\n",
    "        display(r*(sympy.cos(phi) + sympy.sin(phi)*I))\n",
    "    display(r*sympy.exp(phi*I))\n"
   ]
  },
  {
   "cell_type": "code",
   "execution_count": null,
   "metadata": {},
   "outputs": [],
   "source": []
  }
 ],
 "metadata": {
  "kernelspec": {
   "display_name": "Python 3",
   "language": "python",
   "name": "python3"
  },
  "language_info": {
   "codemirror_mode": {
    "name": "ipython",
    "version": 3
   },
   "file_extension": ".py",
   "mimetype": "text/x-python",
   "name": "python",
   "nbconvert_exporter": "python",
   "pygments_lexer": "ipython3",
   "version": "3.8.3"
  }
 },
 "nbformat": 4,
 "nbformat_minor": 2
}
