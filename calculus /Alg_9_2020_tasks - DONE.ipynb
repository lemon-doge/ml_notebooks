{
 "cells": [
  {
   "cell_type": "code",
   "execution_count": null,
   "metadata": {
    "id": "qvVL9Uop3XPS"
   },
   "outputs": [],
   "source": [
    "import sympy\n",
    "from sympy import  Point, Line, Segment, Polygon, RegularPolygon\n",
    "from sympy import sin as Sin\n",
    "from sympy import cos as Cos\n",
    "from sympy import pi as Pi\n",
    "import matplotlib.pyplot as plt"
   ]
  },
  {
   "cell_type": "markdown",
   "metadata": {
    "id": "fsedFT613XPV"
   },
   "source": [
    "# Занятие 9\n",
    "# Алгебра\n",
    "##  Geometry: многоугольники на плоскости, принадлежность точки многоугольнику.\n",
    "### Задание 1.\n",
    "Построить равнобедренный треугольник АВС (АВ = ВС) с вершиной В в начале координат, так что биссектриса ВD образует угол 45 градусов с положительным направлением оси ОХ и 30 градусов со стороной АВ, точка А расположена между осью OY и лучом ВD,  длина АС равна 3. \n",
    "\n",
    "У полученного треугольника вывести на экран длины сторон.\n",
    "\n",
    "Указание: напротив угла 30 градусов в прямоугольном треугольнике лежит катет, равный половине гипотенузы, в равнобедренном треугольнике биссектриса, проведенная к основанию, является медианой и высотой. Координаты точки равны произведению длины отрезка, соединяющего точку с началом координат и косинуса (синуса) угла, образованного этим отрезком и положительным направлением горизонтальной оси."
   ]
  },
  {
   "cell_type": "code",
   "execution_count": 33,
   "metadata": {
    "id": "dLZvuAP43XPY"
   },
   "outputs": [
    {
     "data": {
      "text/plain": [
       "'AB Length: 3.00000000000000'"
      ]
     },
     "metadata": {},
     "output_type": "display_data"
    },
    {
     "data": {
      "text/plain": [
       "'BC Length: 3.00000000000000'"
      ]
     },
     "metadata": {},
     "output_type": "display_data"
    },
    {
     "data": {
      "text/plain": [
       "'CA Length: 3.00000000000000'"
      ]
     },
     "metadata": {},
     "output_type": "display_data"
    },
    {
     "data": {
      "image/png": "[encoded data removed]",
      "text/plain": [
       "<Figure size 432x288 with 1 Axes>"
      ]
     },
     "metadata": {
      "needs_background": "light"
     },
     "output_type": "display_data"
    }
   ],
   "source": [
    "import sympy\n",
    "from sympy import  Point, Line, Segment, Polygon, RegularPolygon\n",
    "from sympy import sin as Sin\n",
    "from sympy import cos as Cos\n",
    "from sympy import pi as Pi\n",
    "from sympy import sqrt as sqrt\n",
    "import matplotlib.pyplot as plt\n",
    "\n",
    "# ясно, что треугольник равносторонний, т.к. BC = BA = 2 * 3/2 = 3 = AC\n",
    "# длина медианы(высоты) BD равностороннего треугольника со стороной 3 равна 3* sqrt(3)/2\n",
    "# координаты A,C и D нахходим по указанию\n",
    "\n",
    "def draw_polygon(polygon, names=None, color='g'):\n",
    "\n",
    "    ax.set_aspect('equal')\n",
    "    vertices = polygon.vertices\n",
    "    points_x = [item.x for item in vertices] + [vertices[0].x] \n",
    "    points_y = [item.y for item in vertices] + [vertices[0].y] \n",
    "    ax.plot(points_x, points_y, color)\n",
    "    if names == None:\n",
    "        for i, x_coord in enumerate(points_x[:-1]):\n",
    "            ax.annotate('A' + str(i + 1),\n",
    "            xy=(x_coord, points_y[i] + 0.1), xycoords='data')  \n",
    "    else:\n",
    "        for i, vert in enumerate(vertices):\n",
    "            ax.annotate(names[vert],\n",
    "            xy=(points_x[i], points_y[i] + 0.1), xycoords='data') \n",
    "      \n",
    "ax = plt.gca()\n",
    "points = {A: 'A', B: 'B', C: 'C'}\n",
    "\n",
    "B = Point(0,0)\n",
    "D = Point(3*Sin(Pi/3) * Cos(Pi/4),3*Sin(Pi/3) * Sin(Pi/4))\n",
    "A = Point(3 * Cos(5*Pi/12),3 * Sin(5*Pi/12))\n",
    "C = Point(3 * Cos(Pi/12),3 * Sin(Pi/12))\n",
    "\n",
    "tri = Polygon(A,B,C)\n",
    "draw_polygon(tri, points)\n",
    "\n",
    "ax.annotate('D', xy = (D.x,D.y))\n",
    "ax.plot([B.x,D.x],[B.y,D.y])\n",
    "ax.scatter(D.x,D.y)\n",
    "\n",
    "display(*[points[side.p1] + points[side.p2] + \" Length: \"+ str(side.length.evalf()) for side in tri.sides])"
   ]
  },
  {
   "cell_type": "markdown",
   "metadata": {
    "id": "h6vL51mU3XPY"
   },
   "source": [
    "### Задание 2.\n",
    "Построить четырехугольник ABCD, где точки A, B и C из Задания 1, а точка D - центр ABC. Найти площадь, периметр и центр ABCD.\n",
    "Изобразить ABC и ABCD на графике. Выпуклый ли многоугольник?"
   ]
  },
  {
   "cell_type": "code",
   "execution_count": 54,
   "metadata": {
    "id": "G8dZCC663XPZ"
   },
   "outputs": [
    {
     "name": "stdout",
     "output_type": "stream",
     "text": [
      "Area: \n"
     ]
    },
    {
     "data": {
      "text/latex": [
       "$\\displaystyle \\frac{3 \\sqrt{3}}{2}$"
      ],
      "text/plain": [
       "3*sqrt(3)/2"
      ]
     },
     "metadata": {},
     "output_type": "display_data"
    },
    {
     "name": "stdout",
     "output_type": "stream",
     "text": [
      "Perimeter:\n"
     ]
    },
    {
     "data": {
      "text/latex": [
       "$\\displaystyle 2 \\sqrt{3} + 6$"
      ],
      "text/plain": [
       "2*sqrt(3) + 6"
      ]
     },
     "metadata": {},
     "output_type": "display_data"
    },
    {
     "name": "stdout",
     "output_type": "stream",
     "text": [
      "Is convex:\n"
     ]
    },
    {
     "data": {
      "text/plain": [
       "False"
      ]
     },
     "metadata": {},
     "output_type": "display_data"
    },
    {
     "data": {
      "image/png": "[encoded data removed]",
      "text/plain": [
       "<Figure size 432x288 with 1 Axes>"
      ]
     },
     "metadata": {
      "needs_background": "light"
     },
     "output_type": "display_data"
    }
   ],
   "source": [
    "ax = plt.gca()\n",
    "\n",
    "D = tri.centroid\n",
    "points = {A: 'A', B: 'B', C: 'C',D: 'D'}\n",
    "poly = Polygon(A,B,C,D)\n",
    "draw_polygon(tri, points)\n",
    "draw_polygon(poly,points,'r')\n",
    "\n",
    "print(\"Area: \")\n",
    "display(poly.area)\n",
    "print(\"Perimeter:\")\n",
    "display(poly.perimeter)\n",
    "print(\"Is convex:\")\n",
    "display(poly.is_convex())"
   ]
  },
  {
   "cell_type": "markdown",
   "metadata": {
    "id": "_drSrEgc3XPa"
   },
   "source": [
    "### Задание 3\n",
    "Постоить ромб ALCD с точками A, C и D из Заданий 1 и 2. Найти общую часть треугольника BLC и ромба и вывести на экран в виде имен точек, отрезков и т.п., изобразить на графике  треугольник зеленым, ромб - фиолетовым. \n",
    "\n",
    "Указание: диагонали ромба пересекаются в серединах; имя точки искать в словаре имен."
   ]
  },
  {
   "cell_type": "code",
   "execution_count": 74,
   "metadata": {
    "id": "3_q1HzOX3XPb"
   },
   "outputs": [
    {
     "name": "stdout",
     "output_type": "stream",
     "text": [
      "intersection:\n"
     ]
    },
    {
     "data": {
      "text/latex": [
       "$\\displaystyle Point2D\\left(\\frac{\\sqrt{6}}{2}, \\frac{\\sqrt{6}}{2}\\right)$"
      ],
      "text/plain": [
       "Point2D(sqrt(6)/2, sqrt(6)/2)"
      ]
     },
     "metadata": {},
     "output_type": "display_data"
    },
    {
     "data": {
      "image/svg+xml": [
       "<svg xmlns=\"http://www.w3.org/2000/svg\"\n",
       "            xmlns:xlink=\"http://www.w3.org/1999/xlink\"\n",
       "            width=\"100.0\" height=\"100.0\" viewBox=\"2.28218648203562 0.609153874560001 0.782894257579151 2.00763912897074\"\n",
       "            preserveAspectRatio=\"xMinYMin meet\">\n",
       "            <defs>\n",
       "                <marker id=\"markerCircle\" markerWidth=\"8\" markerHeight=\"8\"\n",
       "                    refx=\"5\" refy=\"5\" markerUnits=\"strokeWidth\">\n",
       "                    <circle cx=\"5\" cy=\"5\" r=\"1.5\" style=\"stroke: none; fill:#000000;\"/>\n",
       "                </marker>\n",
       "                <marker id=\"markerArrow\" markerWidth=\"13\" markerHeight=\"13\" refx=\"2\" refy=\"4\"\n",
       "                       orient=\"auto\" markerUnits=\"strokeWidth\">\n",
       "                    <path d=\"M2,2 L2,6 L6,4\" style=\"fill: #000000;\" />\n",
       "                </marker>\n",
       "                <marker id=\"markerReverseArrow\" markerWidth=\"13\" markerHeight=\"13\" refx=\"6\" refy=\"4\"\n",
       "                       orient=\"auto\" markerUnits=\"strokeWidth\">\n",
       "                    <path d=\"M6,2 L6,6 L2,4\" style=\"fill: #000000;\" />\n",
       "                </marker>\n",
       "            </defs><g transform=\"matrix(1,0,0,-1,0,3.22594687809074)\"><path fill-rule=\"evenodd\" fill=\"#66cc99\" stroke=\"#555555\" stroke-width=\"0.0401527825794148\" opacity=\"0.6\" d=\"M 2.44948974278318,2.44948974278318 L 2.89777747886721,0.776457135307562\" /></g></svg>"
      ],
      "text/latex": [
       "$\\displaystyle Segment2D\\left(Point2D\\left(\\sqrt{6}, \\sqrt{6}\\right), Point2D\\left(\\frac{3 \\sqrt{2}}{4} + \\frac{3 \\sqrt{6}}{4}, - \\frac{3 \\sqrt{2}}{4} + \\frac{3 \\sqrt{6}}{4}\\right)\\right)$"
      ],
      "text/plain": [
       "Segment2D(Point2D(sqrt(6), sqrt(6)), Point2D(3*sqrt(2)/4 + 3*sqrt(6)/4, -3*sqrt(2)/4 + 3*sqrt(6)/4))"
      ]
     },
     "metadata": {},
     "output_type": "display_data"
    },
    {
     "data": {
      "image/png": "[encoded data removed]",
      "text/plain": [
       "<Figure size 432x288 with 1 Axes>"
      ]
     },
     "metadata": {
      "needs_background": "light"
     },
     "output_type": "display_data"
    }
   ],
   "source": [
    "ax = plt.gca()\n",
    "AC = Segment(A,C)\n",
    "T = AC.midpoint\n",
    "L = Point(2*T.x - D.x, 2*T.y - D.y)\n",
    "points = {A: 'A', B: 'B', C: 'C',D: 'D', L:\"L\"}\n",
    "\n",
    "romb = Polygon(D,A,L,C)\n",
    "draw_polygon(romb,points, 'violet')\n",
    "tri = Polygon(B,L,C)\n",
    "draw_polygon(tri, points)\n",
    "\n",
    "print(\"intersection:\")\n",
    "for i in romb.intersection(tri):\n",
    "    display(i)"
   ]
  },
  {
   "cell_type": "markdown",
   "metadata": {
    "id": "7godNINB3XPb"
   },
   "source": [
    "### Индивидуальное задание\n",
    "\n",
    "Построить на одном графике правильный треугольник, шестиугольник и восьмиугольник с радиусом описанной окружности $R$, центром в точке O.\n",
    "\n",
    "Повернуть треугольник на $\\alpha$ градусов, изобразить старый и новый треугольники на одном графике.\n",
    "\n",
    "Найти общую область правильного шестиугольника и его копии, повернутой на угол $\\beta$ градусов."
   ]
  },
  {
   "cell_type": "code",
   "execution_count": 94,
   "metadata": {
    "id": "jdYY6fhM3XPc"
   },
   "outputs": [
    {
     "name": "stdout",
     "output_type": "stream",
     "text": [
      "intersection:\n"
     ]
    },
    {
     "data": {
      "text/latex": [
       "$\\displaystyle Point2D\\left(- \\frac{9 \\sqrt{3}}{2} + 9 + \\frac{9 \\sqrt{6}}{2}, -10 + \\frac{9 \\sqrt{3}}{2}\\right)$"
      ],
      "text/plain": [
       "Point2D(-9*sqrt(3)/2 + 9 + 9*sqrt(6)/2, -10 + 9*sqrt(3)/2)"
      ]
     },
     "metadata": {},
     "output_type": "display_data"
    },
    {
     "data": {
      "text/latex": [
       "$\\displaystyle Point2D\\left(- \\frac{9 \\sqrt{6}}{2} + \\frac{9 \\sqrt{3}}{2} + 9, -10 - \\frac{9 \\sqrt{3}}{2}\\right)$"
      ],
      "text/plain": [
       "Point2D(-9*sqrt(6)/2 + 9*sqrt(3)/2 + 9, -10 - 9*sqrt(3)/2)"
      ]
     },
     "metadata": {},
     "output_type": "display_data"
    },
    {
     "data": {
      "text/latex": [
       "$\\displaystyle Point2D\\left(- \\frac{9 \\sqrt{3}}{4} + \\frac{9}{4} + \\frac{9 \\sqrt{6}}{4}, - \\frac{67}{4} + \\frac{9 \\sqrt{3}}{4} + \\frac{27 \\sqrt{2}}{4}\\right)$"
      ],
      "text/plain": [
       "Point2D(-9*sqrt(3)/4 + 9/4 + 9*sqrt(6)/4, -67/4 + 9*sqrt(3)/4 + 27*sqrt(2)/4)"
      ]
     },
     "metadata": {},
     "output_type": "display_data"
    },
    {
     "data": {
      "text/latex": [
       "$\\displaystyle Point2D\\left(- \\frac{9 \\sqrt{3}}{4} + \\frac{9 \\sqrt{6}}{4} + \\frac{63}{4}, - \\frac{27 \\sqrt{2}}{4} - \\frac{13}{4} + \\frac{9 \\sqrt{3}}{4}\\right)$"
      ],
      "text/plain": [
       "Point2D(-9*sqrt(3)/4 + 9*sqrt(6)/4 + 63/4, -27*sqrt(2)/4 - 13/4 + 9*sqrt(3)/4)"
      ]
     },
     "metadata": {},
     "output_type": "display_data"
    },
    {
     "data": {
      "text/latex": [
       "$\\displaystyle Point2D\\left(- \\frac{9 \\sqrt{6}}{4} + \\frac{9}{4} + \\frac{9 \\sqrt{3}}{4}, - \\frac{67}{4} - \\frac{9 \\sqrt{3}}{4} + \\frac{27 \\sqrt{2}}{4}\\right)$"
      ],
      "text/plain": [
       "Point2D(-9*sqrt(6)/4 + 9/4 + 9*sqrt(3)/4, -67/4 - 9*sqrt(3)/4 + 27*sqrt(2)/4)"
      ]
     },
     "metadata": {},
     "output_type": "display_data"
    },
    {
     "data": {
      "text/latex": [
       "$\\displaystyle Point2D\\left(- \\frac{9 \\sqrt{6}}{4} + \\frac{9 \\sqrt{3}}{4} + \\frac{63}{4}, - \\frac{27 \\sqrt{2}}{4} - \\frac{9 \\sqrt{3}}{4} - \\frac{13}{4}\\right)$"
      ],
      "text/plain": [
       "Point2D(-9*sqrt(6)/4 + 9*sqrt(3)/4 + 63/4, -27*sqrt(2)/4 - 9*sqrt(3)/4 - 13/4)"
      ]
     },
     "metadata": {},
     "output_type": "display_data"
    },
    {
     "data": {
      "text/latex": [
       "$\\displaystyle Point2D\\left(- \\frac{27 \\sqrt{2}}{2} - \\frac{9 \\sqrt{6}}{2} + 9 \\sqrt{3} + \\frac{45}{2}, -10 + \\frac{9 \\sqrt{3}}{2}\\right)$"
      ],
      "text/plain": [
       "Point2D(-27*sqrt(2)/2 - 9*sqrt(6)/2 + 9*sqrt(3) + 45/2, -10 + 9*sqrt(3)/2)"
      ]
     },
     "metadata": {},
     "output_type": "display_data"
    },
    {
     "data": {
      "text/latex": [
       "$\\displaystyle Point2D\\left(- 9 \\sqrt{3} - \\frac{9}{2} + \\frac{9 \\sqrt{6}}{2} + \\frac{27 \\sqrt{2}}{2}, -10 - \\frac{9 \\sqrt{3}}{2}\\right)$"
      ],
      "text/plain": [
       "Point2D(-9*sqrt(3) - 9/2 + 9*sqrt(6)/2 + 27*sqrt(2)/2, -10 - 9*sqrt(3)/2)"
      ]
     },
     "metadata": {},
     "output_type": "display_data"
    },
    {
     "data": {
      "text/latex": [
       "$\\displaystyle Point2D\\left(- \\frac{27 \\sqrt{2}}{4} - \\frac{9 \\sqrt{6}}{4} + \\frac{9 \\sqrt{3}}{2} + 9, - \\frac{27 \\sqrt{6}}{4} - \\frac{27 \\sqrt{2}}{4} + \\frac{7}{2} + 9 \\sqrt{3}\\right)$"
      ],
      "text/plain": [
       "Point2D(-27*sqrt(2)/4 - 9*sqrt(6)/4 + 9*sqrt(3)/2 + 9, -27*sqrt(6)/4 - 27*sqrt(2)/4 + 7/2 + 9*sqrt(3))"
      ]
     },
     "metadata": {},
     "output_type": "display_data"
    },
    {
     "data": {
      "text/latex": [
       "$\\displaystyle Point2D\\left(- \\frac{27 \\sqrt{2}}{4} - \\frac{9 \\sqrt{6}}{4} + \\frac{9 \\sqrt{3}}{2} + \\frac{45}{2}, - \\frac{47}{2} - \\frac{9 \\sqrt{3}}{2} + \\frac{27 \\sqrt{2}}{4} + \\frac{27 \\sqrt{6}}{4}\\right)$"
      ],
      "text/plain": [
       "Point2D(-27*sqrt(2)/4 - 9*sqrt(6)/4 + 9*sqrt(3)/2 + 45/2, -47/2 - 9*sqrt(3)/2 + 27*sqrt(2)/4 + 27*sqrt(6)/4)"
      ]
     },
     "metadata": {},
     "output_type": "display_data"
    },
    {
     "data": {
      "text/latex": [
       "$\\displaystyle Point2D\\left(- \\frac{9 \\sqrt{3}}{2} + \\frac{9 \\sqrt{6}}{4} + 9 + \\frac{27 \\sqrt{2}}{4}, - \\frac{47}{2} - 9 \\sqrt{3} + \\frac{27 \\sqrt{2}}{4} + \\frac{27 \\sqrt{6}}{4}\\right)$"
      ],
      "text/plain": [
       "Point2D(-9*sqrt(3)/2 + 9*sqrt(6)/4 + 9 + 27*sqrt(2)/4, -47/2 - 9*sqrt(3) + 27*sqrt(2)/4 + 27*sqrt(6)/4)"
      ]
     },
     "metadata": {},
     "output_type": "display_data"
    },
    {
     "data": {
      "text/latex": [
       "$\\displaystyle Point2D\\left(\\frac{9 \\left(2 - \\sqrt{6}\\right)}{2 \\left(1 - \\sqrt{3}\\right)}, - \\frac{27 \\sqrt{6}}{4} - \\frac{27 \\sqrt{2}}{4} + \\frac{7}{2} + \\frac{9 \\sqrt{3}}{2}\\right)$"
      ],
      "text/plain": [
       "Point2D(9*(2 - sqrt(6))/(2*(1 - sqrt(3))), -27*sqrt(6)/4 - 27*sqrt(2)/4 + 7/2 + 9*sqrt(3)/2)"
      ]
     },
     "metadata": {},
     "output_type": "display_data"
    },
    {
     "data": {
      "image/png": "[encoded data removed]",
      "text/plain": [
       "<Figure size 432x288 with 1 Axes>"
      ]
     },
     "metadata": {
      "needs_background": "light"
     },
     "output_type": "display_data"
    }
   ],
   "source": [
    "#Вариант N 143\n",
    "#R = 9, α = 45, β = 15, O(9, -10).\n",
    "\n",
    "ax = plt.gca()\n",
    "R = 9\n",
    "O = Point(9,-10)\n",
    "a = Pi/4\n",
    "b = Pi/12\n",
    "\n",
    "tri = RegularPolygon(O,R,3)\n",
    "hexagon = RegularPolygon(O,R,6)\n",
    "octagon = RegularPolygon(O,R,8)\n",
    "\n",
    "draw_polygon(tri)\n",
    "draw_polygon(hexagon, None,'blue')\n",
    "draw_polygon(octagon, None,'grey')\n",
    "\n",
    "draw_polygon(tri.rotate(a, pt= O), None, 'r')\n",
    "#draw_polygon(hexagon.rotate(b,pt = O),None, 'r')\n",
    "\n",
    "print(\"intersection:\")\n",
    "for i in hexagon.intersection(hexagon.rotate(b,pt = O)):\n",
    "    display(i)"
   ]
  },
  {
   "cell_type": "code",
   "execution_count": null,
   "metadata": {},
   "outputs": [],
   "source": []
  }
 ],
 "metadata": {
  "colab": {
   "collapsed_sections": [],
   "name": "Alg_9_2020_tasks.ipynb",
   "provenance": []
  },
  "kernelspec": {
   "display_name": "Python 3",
   "language": "python",
   "name": "python3"
  },
  "language_info": {
   "codemirror_mode": {
    "name": "ipython",
    "version": 3
   },
   "file_extension": ".py",
   "mimetype": "text/x-python",
   "name": "python",
   "nbconvert_exporter": "python",
   "pygments_lexer": "ipython3",
   "version": "3.8.3"
  }
 },
 "nbformat": 4,
 "nbformat_minor": 1
}
