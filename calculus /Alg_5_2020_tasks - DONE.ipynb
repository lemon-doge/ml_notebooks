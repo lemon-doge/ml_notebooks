{
 "cells": [
  {
   "cell_type": "code",
   "execution_count": 1,
   "metadata": {},
   "outputs": [],
   "source": [
    "import sympy\n",
    "from sympy import linsolve, Matrix, S, Symbol, symbols, linear_eq_to_matrix, Eq, zeros"
   ]
  },
  {
   "cell_type": "markdown",
   "metadata": {},
   "source": [
    "# Занятие 5\n",
    "# Алгебра\n",
    "\n",
    "##  Прямые и плоскости в пространстве. Уравнения прямых и  плоскостей.\n",
    "### Задание 1.\n",
    "Определить, пересекаются ли плоскости (все сразу). Если пересекаются, найти точку пересечения.\n",
    "\n",
    "Составить СЛАУ в виде списка уравнений, решить с помощью linsolve.\n",
    "\n",
    "$-8x+5y-2z+28=0$\n",
    "\n",
    "$-11x-10y-16z+71=0$\n",
    "\n",
    "$-7x+3y+8z-27=0$."
   ]
  },
  {
   "cell_type": "code",
   "execution_count": 3,
   "metadata": {},
   "outputs": [
    {
     "data": {
      "text/latex": [
       "$\\displaystyle \\left\\{\\left( 1, \\  -2, \\  5\\right)\\right\\}$"
      ],
      "text/plain": [
       "FiniteSet((1, -2, 5))"
      ]
     },
     "execution_count": 3,
     "metadata": {},
     "output_type": "execute_result"
    }
   ],
   "source": [
    "import sympy\n",
    "from sympy import linsolve, Matrix, S, Symbol, symbols, linear_eq_to_matrix, Eq, zeros\n",
    "\n",
    "x, y, z = symbols('x y z')\n",
    "SLAE = [Eq(-8*x + 5*y - 2*z + 28, 0), \n",
    "        Eq(-11*x - 10*y -16*z +71, 0), \n",
    "        Eq(-7*x +3*y +8 *z - 27, 0)\n",
    "       ]\n",
    "res = linsolve(SLAE, x, y, z)\n",
    "res"
   ]
  },
  {
   "cell_type": "markdown",
   "metadata": {},
   "source": [
    "### Задание 2.\n",
    "Найти точку пересечения прямой, проходящей через точки $A(-3,5,1)$ и $B(5,2,-3)$ и плоскости, в которой лежат точки \n",
    "$K(4,3,0)$, $M(2,4,-2)$ и $N(-2,2,-1)$."
   ]
  },
  {
   "cell_type": "code",
   "execution_count": 7,
   "metadata": {},
   "outputs": [
    {
     "data": {
      "text/latex": [
       "$\\displaystyle \\left\\{\\left( \\frac{67}{43}, \\  \\frac{283}{86}, \\  - \\frac{55}{43}\\right)\\right\\}$"
      ],
      "text/plain": [
       "FiniteSet((67/43, 283/86, -55/43))"
      ]
     },
     "execution_count": 7,
     "metadata": {},
     "output_type": "execute_result"
    }
   ],
   "source": [
    "import sympy\n",
    "from sympy import linsolve, Matrix, S, Symbol, symbols, linear_eq_to_matrix, Eq, zeros\n",
    "\n",
    "x, y, z = symbols('x y z')\n",
    "\n",
    "A = Matrix([[(x - 4),(y - 3), (z - 0)],\n",
    "            [(x - 2),(y - 4), (z + 2)],\n",
    "            [(x + 2),(y - 2), (z + 1)]])\n",
    "\n",
    "SLAE = [# плоскость\n",
    "        A.det(),\n",
    "        # прямая\n",
    "        Eq((x+3)/(5 + 3), (y - 5)/(2 - 5)),\n",
    "        Eq((x+3)/(5 + 3), (z - 1)/(-3 - 1))]\n",
    "\n",
    "\n",
    "res = linsolve(SLAE, x, y, z)\n",
    "res"
   ]
  },
  {
   "cell_type": "markdown",
   "metadata": {},
   "source": [
    "### Задание 3.\n",
    "Составить параметрические уравнения прямой, являющейся линией пересечения плоскостей $𝑦+2𝑧−4=0$ и $4𝑥+3𝑦+2𝑧−4=0$. \n",
    "\n",
    "Указание: составить СЛАУ из уравнений плоскостей, воспользоваться linsolve(), заменить переменную в полученном решении на параметр t и составить СЛАУ из параметрических уравнений."
   ]
  },
  {
   "cell_type": "code",
   "execution_count": 21,
   "metadata": {},
   "outputs": [
    {
     "data": {
      "text/latex": [
       "$\\displaystyle x = t - 2$"
      ],
      "text/plain": [
       "Eq(x, t - 2)"
      ]
     },
     "metadata": {},
     "output_type": "display_data"
    },
    {
     "data": {
      "text/latex": [
       "$\\displaystyle y = 4 - 2 t$"
      ],
      "text/plain": [
       "Eq(y, 4 - 2*t)"
      ]
     },
     "metadata": {},
     "output_type": "display_data"
    },
    {
     "data": {
      "text/latex": [
       "$\\displaystyle z = t$"
      ],
      "text/plain": [
       "Eq(z, t)"
      ]
     },
     "metadata": {},
     "output_type": "display_data"
    }
   ],
   "source": [
    "import sympy\n",
    "from sympy import linsolve, Matrix, S, Symbol, symbols, linear_eq_to_matrix, Eq, zeros\n",
    "\n",
    "x, y, z ,t= symbols('x y z t')\n",
    "\n",
    "SLAE = [Eq(0*x + 1*y + 2*z - 4, 0),\n",
    "        Eq(4*x + 3*y + 2*z - 4, 0)]\n",
    "\n",
    "rez = linsolve(SLAE,x,y,z).subs(z, t)\n",
    "\n",
    "for item in rez:\n",
    "    \n",
    "    SLAE = [\n",
    "            Eq(x,item[0]),\n",
    "            Eq(y,item[1]),\n",
    "            Eq(z,item[2]) ]\n",
    "    \n",
    "    for i in SLAE:\n",
    "        display(i)\n",
    "\n"
   ]
  },
  {
   "cell_type": "markdown",
   "metadata": {},
   "source": [
    "###  Задание 4.\n",
    "Прямая задана параметрическими уравнениями:\n",
    "$$\n",
    "\\left\\{\\begin{matrix}\n",
    "x=2+5t\\\\\n",
    "y=-1-2t\\\\\n",
    "z=4-3t\n",
    "\\end{matrix}\\right..\n",
    "$$\n",
    "Представить прямую в виде линии пересечения двух плоскостей, одна из которых проходит через начало координат, а вторая плоскость перпендикулярна первой плоскости. Вывести на экран уравнения плоскостей.\n",
    "\n",
    "Указание: составить параметрические уравнения прямой в виде списка правых частей уравнений, затем по образцу Примера 5 составить уравнение плоскости, проходящей через начало координат (по трем точкам). Для составления второй плоскости заметим, что вектор нормали к первой плоскости и любой вектор прямой параллельны второй плоскости, поэтому можно применить формулу 4 уравнения плоскости.\n",
    "Вектор нормали можно составить вручную, глядя на уравнение первой плоскости."
   ]
  },
  {
   "cell_type": "code",
   "execution_count": 5,
   "metadata": {},
   "outputs": [
    {
     "name": "stdout",
     "output_type": "stream",
     "text": [
      "Уравнение плоскости, проходящей через 0:\n"
     ]
    },
    {
     "data": {
      "text/latex": [
       "$\\displaystyle 11 x + 26 y + z = 0$"
      ],
      "text/plain": [
       "Eq(11*x + 26*y + z, 0)"
      ]
     },
     "metadata": {},
     "output_type": "display_data"
    },
    {
     "data": {
      "text/latex": [
       "$\\displaystyle \\left[\\begin{matrix}x - 2 & y + 1 & z - 4\\\\11 & 26 & 1\\\\5 & -2 & -3\\end{matrix}\\right]$"
      ],
      "text/plain": [
       "Matrix([\n",
       "[x - 2, y + 1, z - 4],\n",
       "[   11,    26,     1],\n",
       "[    5,    -2,    -3]])"
      ]
     },
     "metadata": {},
     "output_type": "display_data"
    },
    {
     "name": "stdout",
     "output_type": "stream",
     "text": [
      "Уравнение перпендикулярной плоскости:\n"
     ]
    },
    {
     "data": {
      "text/latex": [
       "$\\displaystyle - 76 x + 38 y - 152 z + 798$"
      ],
      "text/plain": [
       "-76*x + 38*y - 152*z + 798"
      ]
     },
     "execution_count": 5,
     "metadata": {},
     "output_type": "execute_result"
    }
   ],
   "source": [
    "import sympy\n",
    "from sympy import linsolve, Matrix, S, Symbol, symbols, linear_eq_to_matrix, Eq, zeros\n",
    "\n",
    "O = zeros(3, 1)\n",
    "A = Matrix([2, -1, 4]) # точка на прямой, принадлежащая обеим плоскостям(т.к просто подставили в парам. урв t = 0)\n",
    "a = Matrix([5, -2, -3]) # направляющий вектор прямой\n",
    "\n",
    "x, y, z, t = symbols('x y z t')\n",
    "X = Matrix([x, y, z])\n",
    "\n",
    "AB = A + t*a\n",
    "M1 = AB.subs(t, 0)\n",
    "M2 = AB.subs(t, 1)\n",
    "\n",
    "print(\"Уравнение плоскости, проходящей через 0:\")\n",
    "display(Eq(Matrix([(P - M1).T for P in (X, M2, O)]).det(), 0))\n",
    "\n",
    "# нормаль к плоскости, проходящей через 0 - коэффициенты из общего уравнения\n",
    "n = Matrix([[11],[26],[1]])\n",
    "\n",
    "# задание перпендикулярной плоскости\n",
    "rez = Matrix([[x - A[0]],[y - A[1]],[z - A[2]]]).T\n",
    "rez = rez.row_insert(1,n.T)\n",
    "rez = rez.row_insert(2,a.T)\n",
    "display(rez)\n",
    "\n",
    "print(\"Уравнение перпендикулярной плоскости:\")\n",
    "rez.det()"
   ]
  },
  {
   "cell_type": "markdown",
   "metadata": {},
   "source": [
    "### Индивидуальное задание\n",
    "Даны три точки А, В и С в пространстве. Составить уравнение плоскости АВС, систему параметрических уравнений прямой АВ и прямой АМ, перпендикулярной плоскости АВС."
   ]
  },
  {
   "cell_type": "code",
   "execution_count": 3,
   "metadata": {},
   "outputs": [
    {
     "data": {
      "text/latex": [
       "$\\displaystyle \\left[\\begin{matrix}x & y - 1 & z - 5\\\\0 & 3 & 4\\\\3 & 4 & 5\\end{matrix}\\right]$"
      ],
      "text/plain": [
       "Matrix([\n",
       "[x, y - 1, z - 5],\n",
       "[0,     3,     4],\n",
       "[3,     4,     5]])"
      ]
     },
     "metadata": {},
     "output_type": "display_data"
    },
    {
     "name": "stdout",
     "output_type": "stream",
     "text": [
      "уравнение плоскости АBC:\n"
     ]
    },
    {
     "data": {
      "text/latex": [
       "$\\displaystyle - x + 12 y - 9 z + 33 = 0$"
      ],
      "text/plain": [
       "Eq(-x + 12*y - 9*z + 33, 0)"
      ]
     },
     "metadata": {},
     "output_type": "display_data"
    },
    {
     "name": "stdout",
     "output_type": "stream",
     "text": [
      "параметрические уравнения АB:\n"
     ]
    },
    {
     "data": {
      "text/latex": [
       "$\\displaystyle \\left[\\begin{matrix}x = 0\\\\y - 1 = 3 t\\\\z - 5 = 4 t\\end{matrix}\\right]$"
      ],
      "text/plain": [
       "Matrix([\n",
       "[      Eq(x, 0)],\n",
       "[Eq(y - 1, 3*t)],\n",
       "[Eq(z - 5, 4*t)]])"
      ]
     },
     "metadata": {},
     "output_type": "display_data"
    },
    {
     "name": "stdout",
     "output_type": "stream",
     "text": [
      "параметрические уравнения АM:\n"
     ]
    },
    {
     "data": {
      "text/latex": [
       "$\\displaystyle \\left[\\begin{matrix}x = - t\\\\y - 1 = 12 t\\\\z - 5 = - 9 t\\end{matrix}\\right]$"
      ],
      "text/plain": [
       "Matrix([\n",
       "[      Eq(x, -t)],\n",
       "[Eq(y - 1, 12*t)],\n",
       "[Eq(z - 5, -9*t)]])"
      ]
     },
     "metadata": {},
     "output_type": "display_data"
    }
   ],
   "source": [
    "# N143\n",
    "import sympy\n",
    "from sympy import linsolve, Matrix, S, Symbol, symbols, linear_eq_to_matrix, Eq, zeros\n",
    "\n",
    "A = Matrix([0, 1, 5])\n",
    "B = Matrix([0, 4, 9])\n",
    "C = Matrix([3, 5, 10])\n",
    "\n",
    "x, y, z, t = symbols('x y z t')\n",
    "X = Matrix([x, y, z])\n",
    "\n",
    "mat = zeros(3,3)\n",
    "# невероятно удобный питон...\n",
    "mat += zeros(2,3).row_insert(0,X.T) - zeros(2,3).row_insert(0,A.T) + zeros(2,3).row_insert(1,B.T) - zeros(2,3).row_insert(1,A.T) + zeros(2,3).row_insert(2,C.T) - zeros(2,3).row_insert(2,A.T) \n",
    "display(mat)\n",
    "\n",
    "print(\"уравнение плоскости АBC:\")\n",
    "display(Eq(mat.det(),0))\n",
    "\n",
    "print(\"параметрические уравнения АB:\")\n",
    "display(Matrix([Eq(x - A[0], (B[0] - A[0])*t),\n",
    "                Eq(y - A[1], (B[1] - A[1])*t),\n",
    "                Eq(z - A[2], (B[2] - A[2])*t),\n",
    "               ]))\n",
    "\n",
    "print(\"параметрические уравнения АM:\")\n",
    "# напраляющий вектор прямой - вектор нормали к ABC\n",
    "k = mat.det()\n",
    "display(Matrix([Eq(x - A[0], (k - k.subs(x,0)).subs(x,1)*t),\n",
    "                Eq(y - A[1], (k - k.subs(y,0)).subs(y,1)*t),\n",
    "                Eq(z - A[2], (k - k.subs(z,0)).subs(z,1)*t),\n",
    "               ]))"
   ]
  },
  {
   "cell_type": "code",
   "execution_count": null,
   "metadata": {},
   "outputs": [],
   "source": []
  }
 ],
 "metadata": {
  "kernelspec": {
   "display_name": "Python 3",
   "language": "python",
   "name": "python3"
  },
  "language_info": {
   "codemirror_mode": {
    "name": "ipython",
    "version": 3
   },
   "file_extension": ".py",
   "mimetype": "text/x-python",
   "name": "python",
   "nbconvert_exporter": "python",
   "pygments_lexer": "ipython3",
   "version": "3.8.3"
  }
 },
 "nbformat": 4,
 "nbformat_minor": 2
}
