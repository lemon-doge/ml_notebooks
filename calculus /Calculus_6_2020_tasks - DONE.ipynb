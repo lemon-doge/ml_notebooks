{
 "cells": [
  {
   "cell_type": "markdown",
   "metadata": {},
   "source": [
    "## Занятие 6\n",
    "## Математический анализ\n",
    "## Дифференцирование"
   ]
  },
  {
   "cell_type": "code",
   "execution_count": 1,
   "metadata": {},
   "outputs": [],
   "source": [
    "import numpy as np\n",
    "import matplotlib.pyplot as plt\n",
    "import sympy\n",
    "from sympy import diff, solve, nsolve, solveset, latex, S, simplify, fraction\n",
    "from sympy import sin as Sin\n",
    "from sympy.calculus.util import continuous_domain\n",
    "%matplotlib inline"
   ]
  },
  {
   "cell_type": "markdown",
   "metadata": {},
   "source": [
    "## Лабораторная работа 6\n",
    "## Математический анализ\n",
    "## Задание 1\n",
    "Исследовать функцию с помощью производной, найти необходимые пределы и решить уравнения.\n",
    "\n",
    "Построить график функции и асимптот, отметить и подписать точки экстремума и точки перегиба,\n",
    "включить функцию и асимптоты в легенду. \n",
    "$$\n",
    "y = x^2e^{-x}\n",
    "$$"
   ]
  },
  {
   "cell_type": "code",
   "execution_count": 114,
   "metadata": {},
   "outputs": [
    {
     "name": "stdout",
     "output_type": "stream",
     "text": [
      "Область определения:  Reals\n",
      "Четность :  Функция общего вида\n",
      "Период:  None\n",
      "Точки пересечения с осями:  [0]\n",
      "Точки максимума:  [2]\n",
      "Точки минимума:  [0]\n",
      "Точки перегиба:  [2 - sqrt(2), sqrt(2) + 2]\n",
      "Асимптоты: \n",
      "  y=0:  0\n"
     ]
    },
    {
     "data": {
      "text/plain": [
       "<matplotlib.legend.Legend at 0x7f8c64f270d0>"
      ]
     },
     "execution_count": 114,
     "metadata": {},
     "output_type": "execute_result"
    },
    {
     "data": {
      "image/png": "[encoded data removed]",
      "text/plain": [
       "<Figure size 432x288 with 1 Axes>"
      ]
     },
     "metadata": {
      "needs_background": "light"
     },
     "output_type": "display_data"
    }
   ],
   "source": [
    "import numpy as np\n",
    "import matplotlib.pyplot as plt\n",
    "import sympy\n",
    "from sympy import diff, solve, nsolve, solveset, latex, S, simplify, fraction ,exp, oo\n",
    "from sympy import sin as Sin\n",
    "from sympy.calculus.util import continuous_domain\n",
    "from sympy.abc import x\n",
    "%matplotlib inline\n",
    "\n",
    "def parity(f):\n",
    "    if f(-x) == f(x):\n",
    "        return 'Четная функция'\n",
    "    elif f(-x) == -f(x):\n",
    "        return 'Нечетная функция'\n",
    "    else:\n",
    "        return 'Функция общего вида'\n",
    "\n",
    "def extremum_points(f):\n",
    "    df = f(x).diff(x)\n",
    "    df_roots = solve(df, x)\n",
    "    #display(df_roots)\n",
    "    points = [df_roots[0]-1 ]\n",
    "    points.extend([(df_roots[i] + df_roots[i + 1])/2 for i in range(len(df_roots)-1)]) \n",
    "    points.append(df_roots[-1] + 1)\n",
    "    #display(points)\n",
    "    max_arr=[]\n",
    "    min_arr=[]\n",
    "    for i, item in enumerate(df_roots):\n",
    "        df_left = df.subs(x, points[i]) \n",
    "        df_right = df.subs(x, points[i + 1]) \n",
    "        if df_left < 0 and df_right > 0:\n",
    "            min_arr.append(item)\n",
    "        elif df_left > 0 and df_right < 0:\n",
    "            max_arr.append(item)\n",
    "    return max_arr,min_arr;\n",
    "    #display(max_arr, min_arr)\n",
    "    \n",
    "def inflection_points(f):\n",
    "    df2 = f(x).diff(x, 2)\n",
    "    df2_roots = solve(df2, x)\n",
    "    df2_roots.sort() # Упорядочили корни по возрастанию\n",
    "    #display(df2_roots)\n",
    "    if(df2_roots):\n",
    "        points2 = [df2_roots[0]-1 ]\n",
    "        points2.extend([(df2_roots[i] + df2_roots[i + 1])/2 for i in range(len(df2_roots)-1)])\n",
    "        points2.append(df2_roots[-1] + 1)\n",
    "        inflection_arr = [item for i, item in enumerate(df2_roots) \n",
    "                              if df2.subs(x, points2[i])*df2.subs(x, points2[i + 1]) < 0] \n",
    "        return inflection_arr\n",
    "    else: \n",
    "        return None\n",
    "    #display(inflection_arr)\n",
    "    \n",
    "def f(x):\n",
    "    return (x**2*exp(-x))\n",
    "\n",
    "D = continuous_domain(f(x), x, S.Reals) # область определения\n",
    "print(\"Область определения: \",D)\n",
    "P = parity(f) # четность \n",
    "print(\"Четность : \",P)\n",
    "T = None # периодичность \n",
    "print(\"Период: \", T)\n",
    "roots = list(solveset(f(x), domain=D)) # точки пересечения с осями\n",
    "print(\"Точки пересечения с осями: \", roots)\n",
    "dD = continuous_domain(f(x).diff(x), x, S.Reals) # область определения производной\n",
    "maxPoints, minPoints = extremum_points(f) # классифицированные точки экстремума\n",
    "print(\"Точки максимума: \", maxPoints)\n",
    "print(\"Точки минимума: \", minPoints)\n",
    "infPoints = inflection_points(f) # точки перегеиба\n",
    "print(\"Точки перегиба: \", infPoints)\n",
    "\n",
    "#асимптоты\n",
    "print(\"Асимптоты: \")\n",
    "# вертикальных асимптот нет \n",
    "# наклонных асимптот нет\n",
    "# горизонтальная асимптота y = 0\n",
    "print(\"  y=0: \",f(x).limit(x, oo))\n",
    "\n",
    "#график\n",
    "ax = plt.gca()\n",
    "X = np.linspace(-1, 50, 1000)\n",
    "X_D = [x for x in X if x in D]\n",
    "Y_D = [f(x) for x in X if x in D]\n",
    "ax.plot(X_D, Y_D,label='f(x) = x^2 * e^{-x}')\n",
    "ax.axhline(y=0, color='red', linestyle='--',\n",
    "            label='y = 0') # График горизонтальной асимптоты\n",
    "ax.spines['right'].set_color('none') \n",
    "ax.spines['top'].set_color('none') \n",
    "ax.spines['bottom'].set_position(('data', 0)) \n",
    "ax.spines['left'].set_position(('data', 0))\n",
    "\n",
    "#подписи точек\n",
    "def ScatterPoints(points,letter,color):\n",
    "    if points:\n",
    "        points_y = [(f(point)) for point in points]\n",
    "        for i in range(len(points)):\n",
    "            ax.annotate(letter+str(i), xy=(points[i].evalf()-0.1, points_y[i].evalf()), xycoords='data',\n",
    "                    xytext=(-5, 10), textcoords='offset points', fontsize=16)\n",
    "        ax.scatter(points, points_y , 50, color=color)\n",
    "#корни\n",
    "ScatterPoints(roots, 'A','green')\n",
    "#точки минимума\n",
    "ScatterPoints(list(set(minPoints) - set(roots)), 'm','red')\n",
    "#точки максимума\n",
    "ScatterPoints(list(set(maxPoints) - set(roots)), 'M','red')\n",
    "#точки перегиба\n",
    "\n",
    "ScatterPoints(list(set(infPoints) - set(roots)), 'I','violet')\n",
    "ax.legend()"
   ]
  },
  {
   "cell_type": "markdown",
   "metadata": {},
   "source": [
    "## Задание 2\n",
    "Исследовать функцию с помощью производной, найти необходимые пределы и решить уравнения.\n",
    "\n",
    "Построить график функции и асимптот, отметить и подписать точки экстремума и точки перегиба,\n",
    "включить функцию и асимптоты в легенду. \n",
    "$$\n",
    "y=xe^{2/x} + 1 \n",
    "$$"
   ]
  },
  {
   "cell_type": "code",
   "execution_count": 150,
   "metadata": {},
   "outputs": [
    {
     "data": {
      "image/png": "[encoded data removed]",
      "text/latex": [
       "$\\displaystyle x e^{\\frac{2}{x}} + 1$"
      ],
      "text/plain": [
       "   2    \n",
       "   ─    \n",
       "   x    \n",
       "x⋅ℯ  + 1"
      ]
     },
     "metadata": {},
     "output_type": "display_data"
    },
    {
     "name": "stdout",
     "output_type": "stream",
     "text": [
      "Область определения:  Union(Interval.open(-oo, 0), Interval.open(0, oo))\n"
     ]
    },
    {
     "data": {
      "image/png": "[encoded data removed]",
      "text/latex": [
       "$\\displaystyle \\left(-\\infty, 0\\right) \\cup \\left(0, \\infty\\right)$"
      ],
      "text/plain": [
       "(-∞, 0) ∪ (0, ∞)"
      ]
     },
     "metadata": {},
     "output_type": "display_data"
    },
    {
     "name": "stdout",
     "output_type": "stream",
     "text": [
      "Четность :  Функция общего вида\n",
      "Период:  None\n",
      "Точки пересечения с осями:  [-2.34575075492277]\n",
      "Точки максимума:  []\n",
      "Точки минимума:  [2]\n",
      "Точки перегиба:  None\n",
      "Асимптоты: \n",
      "  y = x + 3:\n",
      "\tk =  1\n",
      "\tb =  3\n",
      "  x=0:  -: 1 +: oo\n"
     ]
    },
    {
     "data": {
      "text/plain": [
       "<matplotlib.legend.Legend at 0x7f8c6b290280>"
      ]
     },
     "execution_count": 150,
     "metadata": {},
     "output_type": "execute_result"
    },
    {
     "data": {
      "image/png": "[encoded data removed]",
      "text/plain": [
       "<Figure size 432x288 with 1 Axes>"
      ]
     },
     "metadata": {
      "needs_background": "light"
     },
     "output_type": "display_data"
    }
   ],
   "source": [
    "import numpy as np\n",
    "import matplotlib.pyplot as plt\n",
    "import sympy\n",
    "from sympy import diff, solve, nsolve, solveset, latex, S, simplify, fraction ,exp, oo\n",
    "from sympy import sin as Sin\n",
    "from sympy.calculus.util import continuous_domain\n",
    "from sympy.abc import x\n",
    "%matplotlib inline\n",
    "\n",
    "def parity(f):\n",
    "    if f(-x) == f(x):\n",
    "        return 'Четная функция'\n",
    "    elif f(-x) == -f(x):\n",
    "        return 'Нечетная функция'\n",
    "    else:\n",
    "        return 'Функция общего вида'\n",
    "\n",
    "def extremum_points(f):\n",
    "    df = f(x).diff(x)\n",
    "    df_roots = solve(df, x)\n",
    "    #display(df_roots)\n",
    "    points = [df_roots[0]-1 ]\n",
    "    points.extend([(df_roots[i] + df_roots[i + 1])/2 for i in range(len(df_roots)-1)]) \n",
    "    points.append(df_roots[-1] + 1)\n",
    "    #display(points)\n",
    "    max_arr=[]\n",
    "    min_arr=[]\n",
    "    for i, item in enumerate(df_roots):\n",
    "        df_left = df.subs(x, points[i]) \n",
    "        df_right = df.subs(x, points[i + 1]) \n",
    "        if df_left < 0 and df_right > 0:\n",
    "            min_arr.append(item)\n",
    "        elif df_left > 0 and df_right < 0:\n",
    "            max_arr.append(item)\n",
    "    return max_arr,min_arr;\n",
    "    #display(max_arr, min_arr)\n",
    "    \n",
    "def inflection_points(f):\n",
    "    df2 = f(x).diff(x, 2)\n",
    "    df2_roots = solve(df2, x)\n",
    "    df2_roots.sort() # Упорядочили корни по возрастанию\n",
    "    #display(df2_roots)\n",
    "    if(df2_roots):\n",
    "        points2 = [df2_roots[0]-1 ]\n",
    "        points2.extend([(df2_roots[i] + df2_roots[i + 1])/2 for i in range(len(df2_roots)-1)])\n",
    "        points2.append(df2_roots[-1] + 1)\n",
    "        inflection_arr = [item for i, item in enumerate(df2_roots) \n",
    "                              if df2.subs(x, points2[i])*df2.subs(x, points2[i + 1]) < 0] \n",
    "        return inflection_arr\n",
    "    else: \n",
    "        return None\n",
    "    #display(inflection_arr)\n",
    "    \n",
    "def f(x):\n",
    "    return (x*exp(2/x) + 1)\n",
    "\n",
    "display(f(x))\n",
    "\n",
    "D = continuous_domain(f(x), x, S.Reals) # область определения\n",
    "print(\"Область определения: \",D)\n",
    "display(D)\n",
    "P = parity(f) # четность \n",
    "print(\"Четность : \",P)\n",
    "T = None # периодичность \n",
    "print(\"Период: \", T)\n",
    "roots = list(set([nsolve(f(x),i,domain = D) for i in np.arange(-4,0,0.5)])) # точки пересечения с осями\n",
    "# объяснение:\n",
    "# x*e^(2/x) = -1\n",
    "# если корень есть, то он отрицательный, т.к. е^k > 0 \n",
    "# если корень есть, то он не меньше -4 \n",
    "# т.к. если идти дальше в минус, то число k/e^(2/k) \n",
    "# станет по модулю >> 1\n",
    "# в качестве начальных приближений возьмем все точки от -4 до 0 с шагом 0.5\n",
    "# выведем уникальные корни\n",
    "print(\"Точки пересечения с осями: \", roots)\n",
    "dD = continuous_domain(f(x).diff(x), x, S.Reals) # область определения производной\n",
    "maxPoints, minPoints = extremum_points(f) # классифицированные точки экстремума\n",
    "print(\"Точки максимума: \", maxPoints)\n",
    "print(\"Точки минимума: \", minPoints)\n",
    "infPoints = inflection_points(f) # точки перегеиба\n",
    "print(\"Точки перегиба: \", infPoints)\n",
    "\n",
    "#асимптоты\n",
    "print(\"Асимптоты: \")\n",
    "# горизонтальных асимптот нет \n",
    "# наклонные:\n",
    "print(\"  y = x + 3:\")\n",
    "k = limit(f(x)/x,x,oo)\n",
    "print(\"\\tk = \", k)\n",
    "b = limit(f(x)-k*x,x,oo)\n",
    "print(\"\\tb = \", b)\n",
    "\n",
    "# вертикальная асимптота y = 0\n",
    "print(\"  x=0: \",\"-:\",limit(f(x),x,0, dir = \"-\"), \"+:\",limit(f(x),x,0))\n",
    "\n",
    "\n",
    "#график\n",
    "ax = plt.gca()\n",
    "ax.set_ylim(-20, 20)\n",
    "ax.set_xlim(-20, 20)\n",
    "ax.set_aspect('equal')\n",
    "X = np.linspace(-20, 20, 50)\n",
    "X_D = [x for x in X if x in D]\n",
    "Y_D = [f(x) for x in X if x in D]\n",
    "ax.plot(X_D, Y_D,label='f(x) = x * e^{2/x} + 1')\n",
    "\n",
    "# вертикальная асимптота\n",
    "ax.axvline(x=0, color='red', linestyle='--',\n",
    "            label='x = 0') \n",
    "# наклонная асимптота\n",
    "ax.plot(X_D,[x + 3 for x in X],label='f(x) = x + 3' )\n",
    "\n",
    "ax.spines['right'].set_color('none') \n",
    "ax.spines['top'].set_color('none') \n",
    "ax.spines['bottom'].set_position(('data', 0)) \n",
    "ax.spines['left'].set_position(('data', 0))\n",
    "\n",
    "#подписи точек\n",
    "def ScatterPoints(points,letter,color):\n",
    "    if points:\n",
    "        points_y = [(f(point)) for point in points]\n",
    "        for i in range(len(points)):\n",
    "            ax.annotate(letter+str(i), xy=(points[i].evalf()-0.1, points_y[i].evalf()), xycoords='data',\n",
    "                    xytext=(-5, 10), textcoords='offset points', fontsize=16)\n",
    "        ax.scatter(points, points_y , 50, color=color)\n",
    "#корни\n",
    "ScatterPoints(roots, 'A','green')\n",
    "#точки минимума\n",
    "ScatterPoints(list(set(minPoints) - set(roots)), 'm','red')\n",
    "#точки максимума\n",
    "ScatterPoints(list(set(maxPoints) - set(roots)), 'M','red')\n",
    "#точки перегиба\n",
    "#ScatterPoints(list(set(infPoints) - set(roots)), 'I','violet') - их нет\n",
    "ax.legend()\n"
   ]
  },
  {
   "cell_type": "markdown",
   "metadata": {},
   "source": [
    "## Индивидуальное задание\n",
    "Исследовать функцию с помощью производной, найти необходимые пределы и решить уравнения.\n",
    "\n",
    "Построить график функции и асимптот (если есть), отметить и подписать точки экстремума и точки перегиба (если есть),\n",
    "включить функцию и асимптоты (если есть) в легенду. "
   ]
  },
  {
   "cell_type": "code",
   "execution_count": 174,
   "metadata": {},
   "outputs": [
    {
     "data": {
      "image/png": "[encoded data removed]",
      "text/latex": [
       "$\\displaystyle \\frac{\\left(2 x - 3\\right) \\left(7 x - 6\\right)}{6 x - 2}$"
      ],
      "text/plain": [
       "(2⋅x - 3)⋅(7⋅x - 6)\n",
       "───────────────────\n",
       "      6⋅x - 2      "
      ]
     },
     "metadata": {},
     "output_type": "display_data"
    },
    {
     "name": "stdout",
     "output_type": "stream",
     "text": [
      "Область определения:  Union(Interval.open(-oo, 1/3), Interval.open(1/3, oo))\n"
     ]
    },
    {
     "data": {
      "image/png": "[encoded data removed]",
      "text/latex": [
       "$\\displaystyle \\left(-\\infty, \\frac{1}{3}\\right) \\cup \\left(\\frac{1}{3}, \\infty\\right)$"
      ],
      "text/plain": [
       "(-∞, 1/3) ∪ (1/3, ∞)"
      ]
     },
     "metadata": {},
     "output_type": "display_data"
    },
    {
     "name": "stdout",
     "output_type": "stream",
     "text": [
      "Четность :  Функция общего вида\n",
      "Период:  None\n",
      "Точки пересечения с осями:  [6/7, 3/2]\n",
      "Точки максимума:  [1/3 - sqrt(22)/6]\n",
      "Точки минимума:  [1/3 + sqrt(22)/6]\n",
      "Точки перегиба:  None\n",
      "Асимптоты: \n",
      "  y = 7/3 * x  - 85/18:\n",
      "\tk =  7/3\n",
      "\tb =  -85/18\n",
      " x=1/3:  -: -oo +: oo\n"
     ]
    },
    {
     "data": {
      "text/plain": [
       "<matplotlib.legend.Legend at 0x7f8c66bf94c0>"
      ]
     },
     "execution_count": 174,
     "metadata": {},
     "output_type": "execute_result"
    },
    {
     "data": {
      "image/png": "[encoded data removed]",
      "text/plain": [
       "<Figure size 720x720 with 1 Axes>"
      ]
     },
     "metadata": {
      "needs_background": "light"
     },
     "output_type": "display_data"
    }
   ],
   "source": [
    "# 143\n",
    "# чтобы не было убогой линии, соединяющей точки по разные стороны от разрыва надо бить функцию на 2, а мне так лень\n",
    "import numpy as np\n",
    "import matplotlib.pyplot as plt\n",
    "import sympy\n",
    "from sympy import diff, solve, nsolve, solveset, latex, S, simplify, fraction ,exp, oo\n",
    "from sympy import sin as Sin\n",
    "from sympy.calculus.util import continuous_domain\n",
    "from sympy.abc import x\n",
    "%matplotlib inline\n",
    "\n",
    "def parity(f):\n",
    "    if f(-x) == f(x):\n",
    "        return 'Четная функция'\n",
    "    elif f(-x) == -f(x):\n",
    "        return 'Нечетная функция'\n",
    "    else:\n",
    "        return 'Функция общего вида'\n",
    "\n",
    "def extremum_points(f):\n",
    "    df = f(x).diff(x)\n",
    "    df_roots = solve(df, x)\n",
    "    points = [df_roots[0]-0.9]\n",
    "    points.extend([(df_roots[i] + df_roots[i + 1])/2 + 0.1 for i in range(len(df_roots)-1)]) \n",
    "    points.append(df_roots[-1] + 1.1)\n",
    "    max_arr=[]\n",
    "    min_arr=[]\n",
    "    for i, item in enumerate(df_roots):\n",
    "        df_left = df.subs(x, points[i]) \n",
    "        df_right = df.subs(x, points[i + 1]) \n",
    "        if df_left < 0 and df_right > 0:\n",
    "            min_arr.append(item)\n",
    "        elif df_left > 0 and df_right < 0:\n",
    "            max_arr.append(item)\n",
    "    return max_arr,min_arr;\n",
    "    #display(max_arr, min_arr)\n",
    "    \n",
    "def inflection_points(f):\n",
    "    df2 = f(x).diff(x, 2)\n",
    "    df2_roots = solve(df2, x)\n",
    "    df2_roots.sort() # Упорядочили корни по возрастанию\n",
    "    #display(df2_roots)\n",
    "    if(df2_roots):\n",
    "        points2 = [df2_roots[0]-1 ]\n",
    "        points2.extend([(df2_roots[i] + df2_roots[i + 1])/2 for i in range(len(df2_roots)-1)])\n",
    "        points2.append(df2_roots[-1] + 1)\n",
    "        inflection_arr = [item for i, item in enumerate(df2_roots) \n",
    "                              if df2.subs(x, points2[i])*df2.subs(x, points2[i + 1]) < 0] \n",
    "        return inflection_arr\n",
    "    else: \n",
    "        return None\n",
    "    #display(inflection_arr)\n",
    "    \n",
    "def f(x):\n",
    "    return (2*x-3)*(7*x-6)/(6*x - 2)\n",
    "\n",
    "display(f(x))\n",
    "\n",
    "D = continuous_domain(f(x), x, S.Reals) # область определения\n",
    "print(\"Область определения: \",D)\n",
    "display(D)\n",
    "P = parity(f) # четность \n",
    "print(\"Четность : \",P)\n",
    "T = None # периодичность \n",
    "print(\"Период: \", T)\n",
    "roots = list(solveset(f(x), domain=D)) # точки пересечения с осями\n",
    "print(\"Точки пересечения с осями: \", roots)\n",
    "dD = continuous_domain(f(x).diff(x), x, S.Reals) # область определения производной\n",
    "maxPoints, minPoints = extremum_points(f) # классифицированные точки экстремума\n",
    "print(\"Точки максимума: \", maxPoints)\n",
    "print(\"Точки минимума: \", minPoints)\n",
    "infPoints = inflection_points(f) # точки перегеиба\n",
    "print(\"Точки перегиба: \", infPoints)\n",
    "\n",
    "#асимптоты\n",
    "print(\"Асимптоты: \")\n",
    "# горизонтальных асимптот нет \n",
    "# наклонные:\n",
    "print(\"  y = 7/3 * x  - 85/18:\")\n",
    "k = limit(f(x)/x,x,oo)\n",
    "print(\"\\tk = \", k)\n",
    "b = limit(f(x)-k*x,x,oo)\n",
    "print(\"\\tb = \", b)\n",
    "\n",
    "# вертикальная асимптота y = 0\n",
    "print(\" x=1/3: \",\"-:\",limit(f(x),x,1/3, dir = \"-\"), \"+:\",limit(f(x),x,1/3))\n",
    "\n",
    "\n",
    "#график\n",
    "plt.figure(figsize=(10, 10))\n",
    "ax = plt.gca()\n",
    "ax.set_ylim(-20, 20)\n",
    "ax.set_xlim(-10, 10)\n",
    "\n",
    "X = np.linspace(-20, 20, 50)\n",
    "X_D = [x for x in X if x in D]\n",
    "Y_D = [f(x) for x in X if x in D]\n",
    "ax.plot(X_D, Y_D,label='f(x) = x * e^{2/x} + 1')\n",
    "\n",
    "# вертикальная асимптота\n",
    "ax.axvline(x=1/3, color='red', linestyle='--',\n",
    "            label='x = 0') \n",
    "# наклонная асимптота\n",
    "ax.plot(X_D,[7/3 * x - 85/18 for x in X],label='f(x) = 7/3 * x  - 85/18' )\n",
    "\n",
    "ax.spines['right'].set_color('none') \n",
    "ax.spines['top'].set_color('none') \n",
    "ax.spines['bottom'].set_position(('data', 0)) \n",
    "ax.spines['left'].set_position(('data', 0))\n",
    "\n",
    "#подписи точек\n",
    "def ScatterPoints(points,letter,color):\n",
    "    if points:\n",
    "        points_y = [(f(point)) for point in points]\n",
    "        for i in range(len(points)):\n",
    "            ax.annotate(letter+str(i), xy=(points[i].evalf()-0.1, points_y[i].evalf()), xycoords='data',\n",
    "                    xytext=(-5, 10), textcoords='offset points', fontsize=16)\n",
    "        ax.scatter(points, points_y , 50, color=color)\n",
    "#корни\n",
    "ScatterPoints(roots, 'A','green')\n",
    "#точки минимума\n",
    "ScatterPoints(list(set(minPoints) - set(roots)), 'm','red')\n",
    "#точки максимума\n",
    "ScatterPoints(list(set(maxPoints) - set(roots)), 'M','red')\n",
    "#точки перегиба\n",
    "#ScatterPoints(list(set(infPoints) - set(roots)), 'I','violet') - их нет\n",
    "ax.legend()"
   ]
  },
  {
   "cell_type": "code",
   "execution_count": null,
   "metadata": {},
   "outputs": [],
   "source": []
  }
 ],
 "metadata": {
  "kernelspec": {
   "display_name": "Python 3",
   "language": "python",
   "name": "python3"
  },
  "language_info": {
   "codemirror_mode": {
    "name": "ipython",
    "version": 3
   },
   "file_extension": ".py",
   "mimetype": "text/x-python",
   "name": "python",
   "nbconvert_exporter": "python",
   "pygments_lexer": "ipython3",
   "version": "3.8.3"
  }
 },
 "nbformat": 4,
 "nbformat_minor": 2
}
