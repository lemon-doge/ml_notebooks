{
 "cells": [
  {
   "cell_type": "code",
   "execution_count": 2,
   "metadata": {},
   "outputs": [],
   "source": [
    "import matplotlib.pyplot as plt\n",
    "import sympy\n",
    "from sympy import Ellipse, Point, Line, S, plot_implicit, Eq, solve"
   ]
  },
  {
   "cell_type": "markdown",
   "metadata": {},
   "source": [
    "# Занятие 14\n",
    "# Алгебра\n",
    "### Задание 1.\n",
    "Построить эллипс с центром в точке А(1, 2), полуосями 3 и 2. Вычислить и вывести на экран эксцентриситет, площадь и длину дуги полученного эллипса, центр, полуоси, periapsis, apoapsis, межфокусное расстояние и фокусы."
   ]
  },
  {
   "cell_type": "code",
   "execution_count": 3,
   "metadata": {},
   "outputs": [
    {
     "data": {
      "text/plain": [
       "'center'"
      ]
     },
     "metadata": {},
     "output_type": "display_data"
    },
    {
     "data": {
      "text/latex": [
       "$\\displaystyle Point2D\\left(1, 2\\right)$"
      ],
      "text/plain": [
       "Point2D(1, 2)"
      ]
     },
     "metadata": {},
     "output_type": "display_data"
    },
    {
     "data": {
      "text/plain": [
       "'hradius'"
      ]
     },
     "metadata": {},
     "output_type": "display_data"
    },
    {
     "data": {
      "text/latex": [
       "$\\displaystyle 3$"
      ],
      "text/plain": [
       "3"
      ]
     },
     "metadata": {},
     "output_type": "display_data"
    },
    {
     "data": {
      "text/plain": [
       "'vradius'"
      ]
     },
     "metadata": {},
     "output_type": "display_data"
    },
    {
     "data": {
      "text/latex": [
       "$\\displaystyle 2$"
      ],
      "text/plain": [
       "2"
      ]
     },
     "metadata": {},
     "output_type": "display_data"
    },
    {
     "data": {
      "text/plain": [
       "'area'"
      ]
     },
     "metadata": {},
     "output_type": "display_data"
    },
    {
     "data": {
      "text/latex": [
       "$\\displaystyle 6 \\pi$"
      ],
      "text/plain": [
       "6*pi"
      ]
     },
     "metadata": {},
     "output_type": "display_data"
    },
    {
     "data": {
      "text/plain": [
       "'circumference'"
      ]
     },
     "metadata": {},
     "output_type": "display_data"
    },
    {
     "data": {
      "text/latex": [
       "$\\displaystyle 12 E\\left(\\frac{5}{9}\\right)$"
      ],
      "text/plain": [
       "12*elliptic_e(5/9)"
      ]
     },
     "metadata": {},
     "output_type": "display_data"
    },
    {
     "data": {
      "text/plain": [
       "'eccentricity'"
      ]
     },
     "metadata": {},
     "output_type": "display_data"
    },
    {
     "data": {
      "text/latex": [
       "$\\displaystyle \\frac{\\sqrt{5}}{3}$"
      ],
      "text/plain": [
       "sqrt(5)/3"
      ]
     },
     "metadata": {},
     "output_type": "display_data"
    },
    {
     "data": {
      "text/plain": [
       "'periapsis'"
      ]
     },
     "metadata": {},
     "output_type": "display_data"
    },
    {
     "data": {
      "text/latex": [
       "$\\displaystyle 3 - \\sqrt{5}$"
      ],
      "text/plain": [
       "3 - sqrt(5)"
      ]
     },
     "metadata": {},
     "output_type": "display_data"
    },
    {
     "data": {
      "text/plain": [
       "'apoapsis'"
      ]
     },
     "metadata": {},
     "output_type": "display_data"
    },
    {
     "data": {
      "text/latex": [
       "$\\displaystyle \\sqrt{5} + 3$"
      ],
      "text/plain": [
       "sqrt(5) + 3"
      ]
     },
     "metadata": {},
     "output_type": "display_data"
    },
    {
     "data": {
      "text/plain": [
       "'focus_distance'"
      ]
     },
     "metadata": {},
     "output_type": "display_data"
    },
    {
     "data": {
      "text/latex": [
       "$\\displaystyle \\sqrt{5}$"
      ],
      "text/plain": [
       "sqrt(5)"
      ]
     },
     "metadata": {},
     "output_type": "display_data"
    },
    {
     "data": {
      "text/plain": [
       "'foci'"
      ]
     },
     "metadata": {},
     "output_type": "display_data"
    },
    {
     "data": {
      "text/plain": [
       "(Point2D(1 - sqrt(5), 2), Point2D(1 + sqrt(5), 2))"
      ]
     },
     "metadata": {},
     "output_type": "display_data"
    }
   ],
   "source": [
    "Ellipse1 = Ellipse(Point(1, 2),  hradius=3,  vradius=2)\n",
    "props = {'center': Ellipse1.center, 'hradius': Ellipse1.hradius, 'vradius': Ellipse1.vradius, 'area': Ellipse1.area,\n",
    "              'circumference': Ellipse1.circumference, 'eccentricity': Ellipse1.eccentricity, 'periapsis': Ellipse1.periapsis,\n",
    "              'apoapsis': Ellipse1.apoapsis, 'focus_distance': Ellipse1.focus_distance, 'foci': Ellipse1.foci}\n",
    "for key in props.keys():\n",
    "    display(key, props[key])"
   ]
  },
  {
   "cell_type": "markdown",
   "metadata": {},
   "source": [
    "### Задание 2.\n",
    "Вывести на экран уравнение эллипса из задания 1, повернутого на 30 градусов против часовой стрелки относительно его центра,  переменные u и v.\n",
    "\n",
    "Изоразить на графике эллипс и повернутый эллипс."
   ]
  },
  {
   "cell_type": "code",
   "execution_count": 6,
   "metadata": {},
   "outputs": [
    {
     "data": {
      "text/latex": [
       "$\\displaystyle \\left(\\frac{x}{3} - \\frac{1}{3}\\right)^{2} + \\left(\\frac{y}{2} - 1\\right)^{2} - 1$"
      ],
      "text/plain": [
       "(x/3 - 1/3)**2 + (y/2 - 1)**2 - 1"
      ]
     },
     "metadata": {},
     "output_type": "display_data"
    },
    {
     "data": {
      "text/latex": [
       "$\\displaystyle \\frac{\\left(u + \\frac{\\sqrt{3} \\left(v - 2\\right)}{3} - 1\\right)^{2}}{12} + \\frac{3 \\left(v - \\frac{\\sqrt{3} \\left(u - 1\\right)}{3} - 2\\right)^{2}}{16} - 1$"
      ],
      "text/plain": [
       "(u + sqrt(3)*(v - 2)/3 - 1)**2/12 + 3*(v - sqrt(3)*(u - 1)/3 - 2)**2/16 - 1"
      ]
     },
     "metadata": {},
     "output_type": "display_data"
    },
    {
     "data": {
      "image/png": "[encoded data removed]",
      "text/plain": [
       "<Figure size 432x288 with 1 Axes>"
      ]
     },
     "metadata": {
      "needs_background": "light"
     },
     "output_type": "display_data"
    }
   ],
   "source": [
    "from sympy.abc import x, y\n",
    "EQ1 = Ellipse1.equation(x='x', y='y')\n",
    "EQ2 = Ellipse1.equation(x='u', y='v', _slope=3**(S(1)/2)/3)\n",
    "display(EQ1,EQ2)\n",
    "dict_free = {str(a): a for a in EQ1.free_symbols}\n",
    "p = plot_implicit(Ellipse1.equation(x='x', y='y'), (dict_free['x'], -4, 5), (dict_free['y'], -2, 5),\n",
    "aspect_ratio=(1, 1), show=False, adaptive=False) \n",
    "p.extend(plot_implicit(Ellipse1.equation(x='x', y='y', _slope=3**(S(1)/2)/3), aspect_ratio=(1, 1), show=False, adaptive=False))\n",
    "p.show()"
   ]
  },
  {
   "cell_type": "markdown",
   "metadata": {},
   "source": [
    "### Задание 3.\n",
    "Найти вершины эллипса из Задания 1.\n",
    "\n",
    "Указание: вершины эллипса искать как решение системы уравнений, составленной из уравнения эллипса и уравнения прямой, проходящей через форкусы (воспользоваться Line и методом equation()); вторую пару вершин получить как решение системы из уравнения эллипса и прямой, проходящей через центр эллипса перпендикулярно прямой, проходящей через фокусы. "
   ]
  },
  {
   "cell_type": "code",
   "execution_count": 1,
   "metadata": {},
   "outputs": [
    {
     "ename": "NameError",
     "evalue": "name 'Line' is not defined",
     "output_type": "error",
     "traceback": [
      "\u001b[0;31m---------------------------------------------------------------------------\u001b[0m",
      "\u001b[0;31mNameError\u001b[0m                                 Traceback (most recent call last)",
      "\u001b[0;32m<ipython-input-1-d2e9735dbf22>\u001b[0m in \u001b[0;36m<module>\u001b[0;34m\u001b[0m\n\u001b[0;32m----> 1\u001b[0;31m \u001b[0mAB\u001b[0m \u001b[0;34m=\u001b[0m \u001b[0mLine\u001b[0m\u001b[0;34m(\u001b[0m\u001b[0mEllipse1\u001b[0m\u001b[0;34m.\u001b[0m\u001b[0mfoci\u001b[0m\u001b[0;34m[\u001b[0m\u001b[0;36m0\u001b[0m\u001b[0;34m]\u001b[0m\u001b[0;34m,\u001b[0m \u001b[0mEllipse1\u001b[0m\u001b[0;34m.\u001b[0m\u001b[0mfoci\u001b[0m\u001b[0;34m[\u001b[0m\u001b[0;36m1\u001b[0m\u001b[0;34m]\u001b[0m\u001b[0;34m)\u001b[0m\u001b[0;34m\u001b[0m\u001b[0;34m\u001b[0m\u001b[0m\n\u001b[0m\u001b[1;32m      2\u001b[0m \u001b[0mdicts_list1\u001b[0m \u001b[0;34m=\u001b[0m \u001b[0msolve\u001b[0m\u001b[0;34m(\u001b[0m\u001b[0;34m[\u001b[0m\u001b[0mEq\u001b[0m\u001b[0;34m(\u001b[0m\u001b[0mAB\u001b[0m\u001b[0;34m.\u001b[0m\u001b[0mequation\u001b[0m\u001b[0;34m(\u001b[0m\u001b[0mx\u001b[0m\u001b[0;34m=\u001b[0m\u001b[0;34m'x'\u001b[0m\u001b[0;34m,\u001b[0m \u001b[0my\u001b[0m\u001b[0;34m=\u001b[0m\u001b[0;34m'y'\u001b[0m\u001b[0;34m)\u001b[0m\u001b[0;34m,\u001b[0m \u001b[0;36m0\u001b[0m\u001b[0;34m)\u001b[0m\u001b[0;34m,\u001b[0m \u001b[0mEq\u001b[0m\u001b[0;34m(\u001b[0m\u001b[0mEllipse1\u001b[0m\u001b[0;34m.\u001b[0m\u001b[0mequation\u001b[0m\u001b[0;34m(\u001b[0m\u001b[0mx\u001b[0m\u001b[0;34m=\u001b[0m\u001b[0;34m'x'\u001b[0m\u001b[0;34m,\u001b[0m \u001b[0my\u001b[0m\u001b[0;34m=\u001b[0m\u001b[0;34m'y'\u001b[0m\u001b[0;34m)\u001b[0m\u001b[0;34m,\u001b[0m \u001b[0;36m0\u001b[0m\u001b[0;34m)\u001b[0m\u001b[0;34m]\u001b[0m\u001b[0;34m)\u001b[0m\u001b[0;34m\u001b[0m\u001b[0;34m\u001b[0m\u001b[0m\n\u001b[1;32m      3\u001b[0m \u001b[0mCD\u001b[0m \u001b[0;34m=\u001b[0m \u001b[0mAB\u001b[0m\u001b[0;34m.\u001b[0m\u001b[0mperpendicular_line\u001b[0m\u001b[0;34m(\u001b[0m\u001b[0mEllipse1\u001b[0m\u001b[0;34m.\u001b[0m\u001b[0mcenter\u001b[0m\u001b[0;34m)\u001b[0m\u001b[0;34m\u001b[0m\u001b[0;34m\u001b[0m\u001b[0m\n\u001b[1;32m      4\u001b[0m \u001b[0mdicts_list2\u001b[0m \u001b[0;34m=\u001b[0m \u001b[0msolve\u001b[0m\u001b[0;34m(\u001b[0m\u001b[0;34m[\u001b[0m\u001b[0mEq\u001b[0m\u001b[0;34m(\u001b[0m\u001b[0mCD\u001b[0m\u001b[0;34m.\u001b[0m\u001b[0mequation\u001b[0m\u001b[0;34m(\u001b[0m\u001b[0mx\u001b[0m\u001b[0;34m=\u001b[0m\u001b[0;34m'x'\u001b[0m\u001b[0;34m,\u001b[0m \u001b[0my\u001b[0m\u001b[0;34m=\u001b[0m\u001b[0;34m'y'\u001b[0m\u001b[0;34m)\u001b[0m\u001b[0;34m,\u001b[0m \u001b[0;36m0\u001b[0m\u001b[0;34m)\u001b[0m\u001b[0;34m,\u001b[0m \u001b[0mEq\u001b[0m\u001b[0;34m(\u001b[0m\u001b[0mEllipse1\u001b[0m\u001b[0;34m.\u001b[0m\u001b[0mequation\u001b[0m\u001b[0;34m(\u001b[0m\u001b[0mx\u001b[0m\u001b[0;34m=\u001b[0m\u001b[0;34m'x'\u001b[0m\u001b[0;34m,\u001b[0m \u001b[0my\u001b[0m\u001b[0;34m=\u001b[0m\u001b[0;34m'y'\u001b[0m\u001b[0;34m)\u001b[0m\u001b[0;34m,\u001b[0m \u001b[0;36m0\u001b[0m\u001b[0;34m)\u001b[0m\u001b[0;34m]\u001b[0m\u001b[0;34m)\u001b[0m\u001b[0;34m\u001b[0m\u001b[0;34m\u001b[0m\u001b[0m\n\u001b[1;32m      5\u001b[0m \u001b[0mprint\u001b[0m\u001b[0;34m(\u001b[0m\u001b[0;34m'Первая пара'\u001b[0m\u001b[0;34m)\u001b[0m\u001b[0;34m\u001b[0m\u001b[0;34m\u001b[0m\u001b[0m\n",
      "\u001b[0;31mNameError\u001b[0m: name 'Line' is not defined"
     ]
    }
   ],
   "source": [
    "AB = Line(Ellipse1.foci[0], Ellipse1.foci[1])\n",
    "dicts_list1 = solve([Eq(AB.equation(x='x', y='y'), 0), Eq(Ellipse1.equation(x='x', y='y'), 0)])\n",
    "CD = AB.perpendicular_line(Ellipse1.center)\n",
    "dicts_list2 = solve([Eq(CD.equation(x='x', y='y'), 0), Eq(Ellipse1.equation(x='x', y='y'), 0)])\n",
    "print('Первая пара')\n",
    "for point_dict in dicts_list1:\n",
    "    point = list()\n",
    "    for key in point_dict.keys():\n",
    "        point.append(point_dict[key])\n",
    "    display(Point(point[0], point[1]))\n",
    "print('Вторая пара')\n",
    "for point_dict in dicts_list2:\n",
    "    point = list()\n",
    "    for key in point_dict.keys():\n",
    "        point.append(point_dict[key])\n",
    "    display(Point(point[0], point[1]))"
   ]
  },
  {
   "cell_type": "markdown",
   "metadata": {},
   "source": [
    "###  Индивидуальное задание\n",
    "Построить эллипс с заданными центром, вертикальной полуосью  и эксцентриситетом.\n",
    "Изобразить на графике этот эллипс, а также эллипс, повернутый на угол $\\alpha$ против часовой стрелки. \n",
    "\n",
    "Вывести на экран центр и фокусы эллипса, длины полуосей, уравнение эллипса, вершины эллипса."
   ]
  },
  {
   "cell_type": "code",
   "execution_count": 6,
   "metadata": {},
   "outputs": [
    {
     "data": {
      "image/png": "[encoded data removed]",
      "text/plain": [
       "<Figure size 432x288 with 1 Axes>"
      ]
     },
     "metadata": {
      "needs_background": "light"
     },
     "output_type": "display_data"
    },
    {
     "data": {
      "text/plain": [
       "'center'"
      ]
     },
     "metadata": {},
     "output_type": "display_data"
    },
    {
     "data": {
      "text/latex": [
       "$\\displaystyle Point2D\\left(-4, 2\\right)$"
      ],
      "text/plain": [
       "Point2D(-4, 2)"
      ]
     },
     "metadata": {},
     "output_type": "display_data"
    },
    {
     "data": {
      "text/plain": [
       "'hradius'"
      ]
     },
     "metadata": {},
     "output_type": "display_data"
    },
    {
     "data": {
      "text/latex": [
       "$\\displaystyle 8$"
      ],
      "text/plain": [
       "8"
      ]
     },
     "metadata": {},
     "output_type": "display_data"
    },
    {
     "data": {
      "text/plain": [
       "'vradius'"
      ]
     },
     "metadata": {},
     "output_type": "display_data"
    },
    {
     "data": {
      "text/latex": [
       "$\\displaystyle 4 \\sqrt{3}$"
      ],
      "text/plain": [
       "4*sqrt(3)"
      ]
     },
     "metadata": {},
     "output_type": "display_data"
    },
    {
     "data": {
      "text/plain": [
       "'foci'"
      ]
     },
     "metadata": {},
     "output_type": "display_data"
    },
    {
     "data": {
      "text/plain": [
       "(Point2D(-8, 2), Point2D(0, 2))"
      ]
     },
     "metadata": {},
     "output_type": "display_data"
    },
    {
     "data": {
      "text/plain": [
       "'equation'"
      ]
     },
     "metadata": {},
     "output_type": "display_data"
    },
    {
     "data": {
      "text/latex": [
       "$\\displaystyle \\left(\\frac{x}{8} + \\frac{1}{2}\\right)^{2} + \\frac{\\left(y - 2\\right)^{2}}{48} - 1$"
      ],
      "text/plain": [
       "(x/8 + 1/2)**2 + (y - 2)**2/48 - 1"
      ]
     },
     "metadata": {},
     "output_type": "display_data"
    },
    {
     "data": {
      "text/plain": [
       "'points'"
      ]
     },
     "metadata": {},
     "output_type": "display_data"
    },
    {
     "data": {
      "text/plain": [
       "[Point2D(-12, 2),\n",
       " Point2D(4, 2),\n",
       " Point2D(-4, 2 - 4*sqrt(3)),\n",
       " Point2D(-4, 2 + 4*sqrt(3))]"
      ]
     },
     "metadata": {},
     "output_type": "display_data"
    }
   ],
   "source": [
    "#143\n",
    "\n",
    "Ellipse2 = Ellipse(Point(-4, 2), hradius=8, eccentricity=S(1)/2)\n",
    "\n",
    "AB = Line(Ellipse2.foci[0], Ellipse2.foci[1])\n",
    "dicts_list1 = solve([Eq(AB.equation(x='x', y='y'), 0), Eq(Ellipse2.equation(x='x', y='y'), 0)])\n",
    "CD = AB.perpendicular_line(Ellipse2.center)\n",
    "dicts_list2 = solve([Eq(CD.equation(x='x', y='y'), 0), Eq(Ellipse2.equation(x='x', y='y'), 0)])\n",
    "points = list()\n",
    "for point_dict in dicts_list1:\n",
    "    point = list()\n",
    "    for key in point_dict.keys():\n",
    "        point.append(point_dict[key])\n",
    "    points.append(Point(point[0], point[1]))\n",
    "for point_dict in dicts_list2:\n",
    "    point = list()\n",
    "    for key in point_dict.keys():\n",
    "        point.append(point_dict[key])\n",
    "    points.append(Point(point[0], point[1]))\n",
    "\n",
    "EQ1 = Ellipse2.equation(x='x', y='y')\n",
    "EQ2 = Ellipse2.equation(x='x', y='y', _slope=2**(S(1)/2)/2)\n",
    "dict_free = {str(a): a for a in EQ1.free_symbols}\n",
    "p = plot_implicit(EQ1, (dict_free['x'], -15, 10), (dict_free['y'], -10, 10),\n",
    "aspect_ratio=(1, 1), show=False, adaptive=False) \n",
    "p.extend(plot_implicit(EQ2, (dict_free['x'], -15, 10), (dict_free['y'], -10, 10), aspect_ratio=(1, 1), show=False, adaptive=False))\n",
    "p.show()\n",
    "props = {'center': Ellipse2.center, 'hradius': Ellipse2.hradius, 'vradius': Ellipse2.vradius, 'foci': Ellipse2.foci,\n",
    "         'equation':Ellipse2.equation(x='x', y='y'), 'points':points}\n",
    "for key in props.keys():\n",
    "    display(key, props[key])"
   ]
  },
  {
   "cell_type": "code",
   "execution_count": null,
   "metadata": {},
   "outputs": [],
   "source": []
  }
 ],
 "metadata": {
  "kernelspec": {
   "display_name": "Python 3",
   "language": "python",
   "name": "python3"
  },
  "language_info": {
   "codemirror_mode": {
    "name": "ipython",
    "version": 3
   },
   "file_extension": ".py",
   "mimetype": "text/x-python",
   "name": "python",
   "nbconvert_exporter": "python",
   "pygments_lexer": "ipython3",
   "version": "3.8.3"
  }
 },
 "nbformat": 4,
 "nbformat_minor": 2
}
