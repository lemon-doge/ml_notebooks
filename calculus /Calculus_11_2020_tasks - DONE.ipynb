{
 "cells": [
  {
   "cell_type": "code",
   "execution_count": null,
   "metadata": {
    "id": "KbINy3vICHvm"
   },
   "outputs": [],
   "source": [
    "import sympy\n",
    "from sympy import S, Symbol, symbols, Function, integrate, diff, Curve, plot, plot_parametric, latex, solveset, Interval\n",
    "from sympy import sin as Sin\n",
    "from sympy import cos as Cos\n",
    "from sympy import pi as Pi\n",
    "%matplotlib inline"
   ]
  },
  {
   "cell_type": "markdown",
   "metadata": {
    "id": "Uq-ykM5CCHvv"
   },
   "source": [
    "## Занятие 11\n",
    "## Математический анализ\n",
    "## Применение интегралов для вычисления площади фигуры и длины дуги \n",
    "\n",
    "### Задание 1\n",
    "Вычислить площадь фигуры, ограниченной графиками функций $f = 2 + x^2$ и  $g = 2 - x^3$. Построить графики, найти точки пересечения, затем вычислить соответствующие интегралы."
   ]
  },
  {
   "cell_type": "code",
   "execution_count": 33,
   "metadata": {
    "id": "azx3TB1RCHvv"
   },
   "outputs": [
    {
     "name": "stdout",
     "output_type": "stream",
     "text": [
      "s =  1/12\n"
     ]
    },
    {
     "data": {
      "image/png": "[encoded data removed]",
      "text/plain": [
       "<Figure size 432x288 with 1 Axes>"
      ]
     },
     "metadata": {
      "needs_background": "light"
     },
     "output_type": "display_data"
    }
   ],
   "source": [
    "import sympy\n",
    "from sympy import S, Symbol, symbols, Function, integrate, diff, Curve, plot, plot_parametric, latex,solve,solveset, Interval\n",
    "from sympy import sin \n",
    "from sympy import cos \n",
    "from sympy import pi as Pi\n",
    "from numpy import linspace\n",
    "import matplotlib.pyplot as plt\n",
    "%matplotlib inline\n",
    "\n",
    "\n",
    "X = linspace(-2,2,100)\n",
    "x = Symbol('x')\n",
    "\n",
    "def f(x):\n",
    "    return 2 + x**2\n",
    "def g(x):\n",
    "    return 2 - x**3\n",
    "\n",
    "intersection = solve(sympy.Eq(f(x),g(x)))\n",
    "\n",
    "ax = plt.gca()\n",
    "ax.spines['right'].set_color('none') \n",
    "ax.spines['top'].set_color('none') \n",
    "ax.spines['bottom'].set_position(('data', 0)) \n",
    "ax.spines['left'].set_position(('data', 0))\n",
    "ax.plot(X,[f(x) for x in X], color = 'g')\n",
    "ax.plot(X,[g(x) for x in X], color = 'r')\n",
    "for i in intersection:\n",
    "    ax.scatter(i, f(i))\n",
    "    \n",
    "print('s = ', f(x).integrate((x,-1,0)) - g(x).integrate((x,-1,0)))\n",
    "\n",
    "#plot(f(x), g(x), (x,-2,2))\n",
    "#for i in intersection:\n",
    "#    scatter(i, f(i))\n"
   ]
  },
  {
   "cell_type": "markdown",
   "metadata": {
    "id": "zmoSu_A3CHvw"
   },
   "source": [
    "### Задача 2.\n",
    "Вычислить площадь фигуры, ограниченной графиком функции $x = \\cos^3(t)$, $y = \\sin^3(t)$, $0 \\le t \\le 2\\pi$."
   ]
  },
  {
   "cell_type": "code",
   "execution_count": 35,
   "metadata": {
    "id": "OFFcz_jUCHvw"
   },
   "outputs": [
    {
     "data": {
      "text/latex": [
       "$\\displaystyle \\frac{3 \\pi}{8}$"
      ],
      "text/plain": [
       "3*pi/8"
      ]
     },
     "execution_count": 35,
     "metadata": {},
     "output_type": "execute_result"
    }
   ],
   "source": [
    "from sympy.abc import t\n",
    "(sin(t)**3*(cos(t)**3).diff(t)).integrate((t,2*Pi,0))"
   ]
  },
  {
   "cell_type": "markdown",
   "metadata": {
    "id": "n43vdmDWCHvx"
   },
   "source": [
    "### Задача 3.\n",
    "Вычислить площадь фигуры, ограниченной графиком функции $r = \\cos(2\\phi)$, $-\\frac{\\pi}{4} \\le \\phi \\le \\frac{\\pi}{4}$. "
   ]
  },
  {
   "cell_type": "code",
   "execution_count": 36,
   "metadata": {
    "id": "_iiwuqSlCHvx"
   },
   "outputs": [
    {
     "data": {
      "text/latex": [
       "$\\displaystyle \\frac{1}{2}$"
      ],
      "text/plain": [
       "1/2"
      ]
     },
     "execution_count": 36,
     "metadata": {},
     "output_type": "execute_result"
    }
   ],
   "source": [
    "phi = S('phi')\n",
    "\n",
    "def r(x):\n",
    "    return cos(2*x)\n",
    "\n",
    "S(1)/2*integrate(r(phi), (phi, -Pi/4, Pi/4))"
   ]
  },
  {
   "cell_type": "markdown",
   "metadata": {
    "id": "6DBJg7jjCHvx"
   },
   "source": [
    "### Задача 4.\n",
    "Вычислить длину кривой, заданной уравнением $y^2 = x^3$ при $x$ от 1 до 3. (Обратите внимание, что у кривой две ветви, симметричные относительно оси OX!)"
   ]
  },
  {
   "cell_type": "code",
   "execution_count": 48,
   "metadata": {
    "id": "pBOX3fr8CHvx"
   },
   "outputs": [
    {
     "data": {
      "text/latex": [
       "$\\displaystyle - \\frac{26 \\sqrt{13}}{27} + \\frac{62 \\sqrt{31}}{27}$"
      ],
      "text/plain": [
       "-26*sqrt(13)/27 + 62*sqrt(31)/27"
      ]
     },
     "execution_count": 48,
     "metadata": {},
     "output_type": "execute_result"
    }
   ],
   "source": [
    "#y = +- x^3/2\n",
    "# очевидно, что длина ветвей одинаковая => посчитаем для одной и умножим на 2\n",
    "from sympy.abc import x\n",
    "\n",
    "#2*(((1 + ((x**3/2).diff(x))**2)**S.Half).integrate((x, 3, 1))).simplify()\n",
    "2*((1+x*S(9)/4)**S.Half).integrate((x,1,3)).simplify()"
   ]
  },
  {
   "cell_type": "markdown",
   "metadata": {
    "id": "wkkKvdIpCHvy"
   },
   "source": [
    "### Задача 5.\n",
    "Вычислить длину кривой, заданной параметрически $x = \\frac{3}{2}\\cos^3 t $, $y = 3\\sin^3 t$."
   ]
  },
  {
   "cell_type": "code",
   "execution_count": 85,
   "metadata": {
    "id": "evvOth6JCHvy"
   },
   "outputs": [
    {
     "data": {
      "text/latex": [
       "$\\displaystyle 14.0$"
      ],
      "text/plain": [
       "14.0000000000000"
      ]
     },
     "metadata": {},
     "output_type": "display_data"
    },
    {
     "data": {
      "text/plain": [
       "[<matplotlib.lines.Line2D at 0x7fc84e798070>]"
      ]
     },
     "execution_count": 85,
     "metadata": {},
     "output_type": "execute_result"
    },
    {
     "data": {
      "image/png": "[encoded data removed]",
      "text/plain": [
       "<Figure size 432x288 with 1 Axes>"
      ]
     },
     "metadata": {
      "needs_background": "light"
     },
     "output_type": "display_data"
    }
   ],
   "source": [
    "from sympy import sin as Sin\n",
    "from sympy import cos as Cos\n",
    "import numpy as np\n",
    "import matplotlib.pyplot as plt\n",
    "\n",
    "# получение текущих осей и вывод их\n",
    "ax = plt.gca()\n",
    "ax.spines['right'].set_color('none') \n",
    "ax.spines['top'].set_color('none') \n",
    "ax.spines['bottom'].set_position(('data', 0)) \n",
    "ax.spines['left'].set_position(('data', 0))\n",
    "\n",
    "# решение задачи поиска площади\n",
    "t, T = symbols('t T')\n",
    "x = 3/2*(Cos(t)**3)\n",
    "y = 3*(Sin(t)**3)\n",
    "display(4*(((x.diff(t)**2+y.diff(t)**2).simplify())**S.Half).integrate((t, 0,Pi/2)))\n",
    "\n",
    "#обоснование цифры 4\n",
    "X = linspace(-4,4,100)\n",
    "def xnp(a):\n",
    "    return 3/2*(np.cos(a)**3)\n",
    "def ynp(a):\n",
    "    return 3*(np.sin(a)**3)\n",
    "ax.plot([xnp(a) for a in X],[ynp(a) for a in X])\n",
    "\n",
    "\n"
   ]
  },
  {
   "cell_type": "markdown",
   "metadata": {
    "id": "vEgMacbgCHvy"
   },
   "source": [
    "### Задача 6.\n",
    "Вычислить длину кривой, заданной в полярных координатах\n",
    "$r = \\phi$, $\\phi$ от 0 до $2\\pi$. Результат вычислить приближенно до 3 знаков после запятой."
   ]
  },
  {
   "cell_type": "code",
   "execution_count": 91,
   "metadata": {
    "id": "DRR28-D7CHvy"
   },
   "outputs": [
    {
     "data": {
      "text/latex": [
       "$\\displaystyle 21.256$"
      ],
      "text/plain": [
       "21.256"
      ]
     },
     "execution_count": 91,
     "metadata": {},
     "output_type": "execute_result"
    }
   ],
   "source": [
    "phi = S('phi')\n",
    "r = phi\n",
    "((r**2 + r.diff(phi)**2)**S.Half).integrate((phi, 0, 2*Pi)).evalf(5)"
   ]
  },
  {
   "cell_type": "markdown",
   "metadata": {
    "id": "gNctifYXCHvz"
   },
   "source": [
    "### Индивидуальное задание\n",
    "Вычислить площадь фигуры, ограниченной графиками функций $f = 2\\sin(x)$ и  $g = \\cos(2x)$ на интервале  $[0, \\pi]$. Построить графики, найти точки пересечения (выделить корни на интервале с помощью intersect и Interval), затем вычислить соответствующие интегралы."
   ]
  },
  {
   "cell_type": "code",
   "execution_count": 109,
   "metadata": {
    "id": "v-7BD9qLCHvz"
   },
   "outputs": [
    {
     "data": {
      "image/png": "[encoded data removed]",
      "text/plain": [
       "<Figure size 432x288 with 1 Axes>"
      ]
     },
     "metadata": {
      "needs_background": "light"
     },
     "output_type": "display_data"
    },
    {
     "data": {
      "text/latex": [
       "$\\displaystyle \\left\\{\\frac{\\pi}{2}, \\frac{3 \\pi}{2}\\right\\}$"
      ],
      "text/plain": [
       "FiniteSet(pi/2, 3*pi/2)"
      ]
     },
     "metadata": {},
     "output_type": "display_data"
    },
    {
     "data": {
      "text/latex": [
       "$\\displaystyle 2$"
      ],
      "text/plain": [
       "2"
      ]
     },
     "metadata": {},
     "output_type": "display_data"
    }
   ],
   "source": [
    "#143\n",
    "#f(x) = 4*cos(x)\n",
    "#g(x) = 3*cos(x)\n",
    "#на интервале [0; 2.0π]\n",
    "\n",
    "import sympy\n",
    "from sympy import S, Symbol, symbols,Function, integrate, diff, Curve, plot, plot_parametric, latex,solve,solveset, Interval\n",
    "from sympy import sin \n",
    "from sympy import cos \n",
    "from sympy import pi as Pi\n",
    "from numpy import linspace\n",
    "import matplotlib.pyplot as plt\n",
    "from sympy.abc import x\n",
    "%matplotlib inline\n",
    "\n",
    "I = Interval(0,2*Pi)\n",
    "f = 4*cos(x)\n",
    "g = 3*cos(x)\n",
    "plot(f,g, (x, 0, 2*Pi))\n",
    "intersection = solve(sympy.Eq(f,g),x)\n",
    "display(I.intersect(set(intersection)))\n",
    "display(integrate(f-g,(x,3*Pi/2,Pi/2)))\n"
   ]
  },
  {
   "cell_type": "code",
   "execution_count": null,
   "metadata": {},
   "outputs": [],
   "source": []
  }
 ],
 "metadata": {
  "colab": {
   "collapsed_sections": [],
   "name": "Calculus_11_2020_tasks.ipynb",
   "provenance": []
  },
  "kernelspec": {
   "display_name": "Python 3",
   "language": "python",
   "name": "python3"
  },
  "language_info": {
   "codemirror_mode": {
    "name": "ipython",
    "version": 3
   },
   "file_extension": ".py",
   "mimetype": "text/x-python",
   "name": "python",
   "nbconvert_exporter": "python",
   "pygments_lexer": "ipython3",
   "version": "3.8.3"
  }
 },
 "nbformat": 4,
 "nbformat_minor": 1
}
