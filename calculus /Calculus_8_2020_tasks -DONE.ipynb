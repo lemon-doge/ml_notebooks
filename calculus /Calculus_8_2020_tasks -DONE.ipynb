{
 "cells": [
  {
   "cell_type": "code",
   "execution_count": 1,
   "metadata": {},
   "outputs": [],
   "source": [
    "import numpy as np\n",
    "import matplotlib.pyplot as plt\n",
    "import sympy\n",
    "from sympy import Symbol, diff, solve, nsolve, solveset, latex, S, simplify, fraction, Union, Interval, intersection, limit\n",
    "from sympy.calculus.util import continuous_domain\n",
    "from sympy import sin as Sin\n",
    "from sympy import cos as Cos\n",
    "from sympy import pi as Pi\n",
    "%matplotlib inline"
   ]
  },
  {
   "cell_type": "markdown",
   "metadata": {},
   "source": [
    "## Занятие 8\n",
    "## Математический анализ\n",
    "## Дифференцирование функции, заданной параметрически\n",
    "Пусть зависимость $y$ от $x$ задана параметрически:\n",
    "$$\n",
    "\\left\\{\n",
    "\\begin{matrix}\n",
    "x = \\varphi(t)\\\\\n",
    "y = \\psi(t)\n",
    "\\end{matrix}\n",
    "\\right.\n",
    "$$\n",
    "тогда производная $y$ по $x$  находится по формуле\n",
    "$$\n",
    "y'_x = \\frac{y'_t}{x'_t} = \\frac{\\psi'_t}{\\varphi'_t}\n",
    "$$\n",
    "Вторая производная:\n",
    "$$\n",
    "y''_{xx} = \\frac{x'_t y''_{tt}-x''_{tt}y'_t}{(x'_t)^3}  = \\frac{\\varphi'_t \\psi''_{tt}-\\varphi''_{tt}\\psi'_t}{(\\varphi'_t)^3}\n",
    "$$\n",
    "### Задание 1\n",
    "Найти производные 1 и 2 порядка функции \n",
    "$$\n",
    "\\left\\{\n",
    "\\begin{matrix}\n",
    "x = \\sin(t) - t\\cos(t)\\\\\n",
    "y = \\cos(t) + t\\sin(t)\n",
    "\\end{matrix}\n",
    "\\right.\n",
    "$$"
   ]
  },
  {
   "cell_type": "code",
   "execution_count": 5,
   "metadata": {},
   "outputs": [
    {
     "data": {
      "text/latex": [
       "$\\displaystyle \\frac{\\cos{\\left(t \\right)}}{\\sin{\\left(t \\right)}}$"
      ],
      "text/plain": [
       "cos(t)/sin(t)"
      ]
     },
     "metadata": {},
     "output_type": "display_data"
    },
    {
     "data": {
      "text/latex": [
       "$\\displaystyle \\frac{t \\left(- t \\sin{\\left(t \\right)} + \\cos{\\left(t \\right)}\\right) \\sin{\\left(t \\right)} - t \\left(t \\cos{\\left(t \\right)} + \\sin{\\left(t \\right)}\\right) \\cos{\\left(t \\right)}}{t^{3} \\sin^{3}{\\left(t \\right)}}$"
      ],
      "text/plain": [
       "(t*(-t*sin(t) + cos(t))*sin(t) - t*(t*cos(t) + sin(t))*cos(t))/(t**3*sin(t)**3)"
      ]
     },
     "metadata": {},
     "output_type": "display_data"
    },
    {
     "data": {
      "text/latex": [
       "$\\displaystyle - \\frac{1}{t \\sin^{3}{\\left(t \\right)}}$"
      ],
      "text/plain": [
       "-1/(t*sin(t)**3)"
      ]
     },
     "metadata": {},
     "output_type": "display_data"
    }
   ],
   "source": [
    "import numpy as np\n",
    "import matplotlib.pyplot as plt\n",
    "import sympy\n",
    "from sympy import Symbol, diff, solve, nsolve, solveset, latex, S, simplify, fraction, Union, Interval, intersection, limit\n",
    "from sympy.calculus.util import continuous_domain\n",
    "from sympy import sin as Sin\n",
    "from sympy import cos as Cos\n",
    "from sympy import pi as Pi\n",
    "%matplotlib inline\n",
    "\n",
    "t = Symbol('t')\n",
    "x = Sin(t) - t*Cos(t)\n",
    "y = Cos(t)+ t * Sin(t)\n",
    "dx = diff(x, t)\n",
    "dy = diff(y, t)\n",
    "dy_x = dy/dx\n",
    "dy2_xx = (dx*diff(y, t, 2) - diff(x, t, 2)*dy)/dx**3\n",
    "display(dy_x, dy2_xx)\n",
    "dy2_xx = simplify(dy2_xx)\n",
    "display(dy2_xx)"
   ]
  },
  {
   "cell_type": "markdown",
   "metadata": {},
   "source": [
    "### Задание 2.\n",
    "Найти нули производных первого и второго порядка, а также точки, в которых эти производные не существуют, для функции\n",
    "$$\n",
    "\\left\\{\n",
    "\\begin{matrix}\n",
    "x = t^2 - 2t\\\\\n",
    "y = t^2 + 2t\n",
    "\\end{matrix}\n",
    "\\right.\n",
    "$$"
   ]
  },
  {
   "cell_type": "code",
   "execution_count": 6,
   "metadata": {},
   "outputs": [
    {
     "data": {
      "text/latex": [
       "$\\displaystyle \\frac{2 t + 2}{2 t - 2}$"
      ],
      "text/plain": [
       "(2*t + 2)/(2*t - 2)"
      ]
     },
     "metadata": {},
     "output_type": "display_data"
    },
    {
     "data": {
      "text/latex": [
       "$\\displaystyle - \\frac{8}{\\left(2 t - 2\\right)^{3}}$"
      ],
      "text/plain": [
       "-8/(2*t - 2)**3"
      ]
     },
     "metadata": {},
     "output_type": "display_data"
    },
    {
     "data": {
      "text/plain": [
       "'Первая производная, нули числителя:'"
      ]
     },
     "metadata": {},
     "output_type": "display_data"
    },
    {
     "data": {
      "text/latex": [
       "$\\displaystyle \\left\\{-1\\right\\}$"
      ],
      "text/plain": [
       "FiniteSet(-1)"
      ]
     },
     "metadata": {},
     "output_type": "display_data"
    },
    {
     "data": {
      "text/plain": [
       "'нули знаменателя:'"
      ]
     },
     "metadata": {},
     "output_type": "display_data"
    },
    {
     "data": {
      "text/latex": [
       "$\\displaystyle \\left\\{1\\right\\}$"
      ],
      "text/plain": [
       "FiniteSet(1)"
      ]
     },
     "metadata": {},
     "output_type": "display_data"
    },
    {
     "data": {
      "text/plain": [
       "'Вторая производная, нули числителя:'"
      ]
     },
     "metadata": {},
     "output_type": "display_data"
    },
    {
     "data": {
      "text/latex": [
       "$\\displaystyle \\emptyset$"
      ],
      "text/plain": [
       "EmptySet"
      ]
     },
     "metadata": {},
     "output_type": "display_data"
    },
    {
     "data": {
      "text/plain": [
       "'нули знаменателя:'"
      ]
     },
     "metadata": {},
     "output_type": "display_data"
    },
    {
     "data": {
      "text/latex": [
       "$\\displaystyle \\left\\{1\\right\\}$"
      ],
      "text/plain": [
       "FiniteSet(1)"
      ]
     },
     "metadata": {},
     "output_type": "display_data"
    }
   ],
   "source": [
    "import numpy as np\n",
    "import matplotlib.pyplot as plt\n",
    "import sympy\n",
    "from sympy import Symbol, diff, solve, nsolve, solveset, latex, S, simplify, fraction, Union, Interval, intersection, limit\n",
    "from sympy.calculus.util import continuous_domain\n",
    "from sympy import sin as Sin\n",
    "from sympy import cos as Cos\n",
    "from sympy import pi as Pi\n",
    "%matplotlib inline\n",
    "\n",
    "t = Symbol('t')\n",
    "x = t**2 - 2*t\n",
    "y = t**2 +2*t\n",
    "dx = diff(x, t)\n",
    "dy = diff(y, t)\n",
    "dy_x = dy/dx\n",
    "dy2_xx = (dx*diff(y, t, 2) - diff(x, t, 2)*dy)/dx**3\n",
    "display(dy_x, dy2_xx)\n",
    "\n",
    "dy_x_num, dy_x_den = fraction(dy_x)\n",
    "dy_x_num_nul = solveset(dy_x_num)\n",
    "dy_x_den_nul = solveset(dy_x_den)\n",
    "display('Первая производная, нули числителя:', dy_x_num_nul, 'нули знаменателя:', dy_x_den_nul)\n",
    "dy2_xx_num,dy2_xx_den = fraction(dy2_xx)\n",
    "dy2_xx_num_nul = solveset(dy2_xx_num)\n",
    "dy2_xx_den_nul = solveset(dy2_xx_den)\n",
    "display('Вторая производная, нули числителя:', dy2_xx_num_nul, 'нули знаменателя:', dy2_xx_den_nul)"
   ]
  },
  {
   "cell_type": "markdown",
   "metadata": {},
   "source": [
    "### Задание 3. \n",
    "Найти точки экстремума и точки перегиба функции Задания 2."
   ]
  },
  {
   "cell_type": "code",
   "execution_count": 9,
   "metadata": {},
   "outputs": [
    {
     "data": {
      "text/plain": [
       "'максимум'"
      ]
     },
     "metadata": {},
     "output_type": "display_data"
    },
    {
     "data": {
      "text/plain": [
       "[]"
      ]
     },
     "metadata": {},
     "output_type": "display_data"
    },
    {
     "data": {
      "text/plain": [
       "'минимум'"
      ]
     },
     "metadata": {},
     "output_type": "display_data"
    },
    {
     "data": {
      "text/plain": [
       "[-1]"
      ]
     },
     "metadata": {},
     "output_type": "display_data"
    }
   ],
   "source": [
    "crit_points = Union(dy_x_num_nul, dy_x_den_nul) \n",
    "crit_points_interval = list(crit_points)\n",
    "crit_points_interval.sort()\n",
    "crit_points_interval\n",
    "\n",
    "points = [-2,0,2]\n",
    "max_arr=[]\n",
    "min_arr=[]\n",
    "for i, item in enumerate(crit_points_interval):\n",
    "    if item in dy_x_num_nul:\n",
    "        df_left = dy_x.subs(t, points[i])\n",
    "        df_right = dy_x.subs(t, points[i + 1])\n",
    "        x_left = float(x.subs(t, points[i]))\n",
    "        x_right = float(x.subs(t, points[i + 1]))\n",
    "        if df_left < 0 and df_right > 0 and x_left < x_right or df_left > 0 and df_right < 0 and x_left > x_right:\n",
    "            min_arr.append(item)\n",
    "        elif df_left < 0 and df_right > 0 and x_left > x_right or df_left > 0 and df_right < 0 and x_left < x_right:\n",
    "            max_arr.append(item) \n",
    "display('максимум', max_arr, 'минимум', min_arr)"
   ]
  },
  {
   "cell_type": "markdown",
   "metadata": {},
   "source": [
    "### Задание 4. Точки перегиба\n",
    "Найти точки перегиба функции, график строить не нужно. \n",
    "$$\n",
    "\\left\\{\n",
    "\\begin{matrix}\n",
    "x = e^t\\\\\n",
    "y = te^{2t}\n",
    "\\end{matrix}\n",
    "\\right.\n",
    "$$"
   ]
  },
  {
   "cell_type": "code",
   "execution_count": 26,
   "metadata": {},
   "outputs": [
    {
     "data": {
      "text/latex": [
       "$\\displaystyle \\left(4 \\left(t + 1\\right) e^{3 t} - \\left(2 t e^{2 t} + e^{2 t}\\right) e^{t}\\right) e^{- 3 t}$"
      ],
      "text/plain": [
       "(4*(t + 1)*exp(3*t) - (2*t*exp(2*t) + exp(2*t))*exp(t))*exp(-3*t)"
      ]
     },
     "metadata": {},
     "output_type": "display_data"
    },
    {
     "data": {
      "text/latex": [
       "$\\displaystyle \\mathbb{R}$"
      ],
      "text/plain": [
       "Reals"
      ]
     },
     "metadata": {},
     "output_type": "display_data"
    },
    {
     "data": {
      "text/plain": [
       "'перегиб '"
      ]
     },
     "metadata": {},
     "output_type": "display_data"
    },
    {
     "data": {
      "text/plain": [
       "[-3/2]"
      ]
     },
     "metadata": {},
     "output_type": "display_data"
    }
   ],
   "source": [
    "from sympy import exp as Exp\n",
    "t = Symbol('t')\n",
    "x = Exp(t)\n",
    "y = t * Exp(2*t)\n",
    "dx = diff(x, t)\n",
    "dy = diff(y, t)\n",
    "dy_x = dy/dx\n",
    "dy2_xx = (dx*diff(y, t, 2) - diff(x, t, 2)*dy)/dx**3\n",
    "display(dy2_xx)\n",
    "display(continuous_domain(dy2_xx, t, S.Reals)) # область определения второй производной\n",
    "# вторая производная определена на R => единственные возможные точки перегиба - это ее нули\n",
    "dy2_xx = simplify(dy2_xx)\n",
    "\n",
    "dy2_xx_nul = solveset(dy2_xx, t,S.Reals )\n",
    "#display(dy2_xx_nul)\n",
    "dy2_xx_points = list((dy2_xx_nul))\n",
    "dy2_xx_points.sort()\n",
    "#display(dy2_xx_points)\n",
    "\n",
    "points = [dy2_xx_points[0]-1,dy2_xx_points[0]+1]\n",
    "\n",
    "inflection=[]\n",
    "for i, item in enumerate(dy2_xx_points):\n",
    "    df_left = dy2_xx.subs(t, points[i]) \n",
    "    df_right = dy2_xx.subs(t, points[i + 1])\n",
    "    if df_left*df_right < 0:\n",
    "        inflection.append(item) \n",
    "display('перегиб ', inflection)"
   ]
  },
  {
   "cell_type": "markdown",
   "metadata": {},
   "source": [
    "## Асимптоты параметрически заданной функции\n",
    "Пусть зависимость $y$ от $x$ задана параметрически:\n",
    "$$\n",
    "\\left\\{\n",
    "\\begin{matrix}\n",
    "x = \\varphi(t)\\\\\n",
    "y = \\psi(t)\n",
    "\\end{matrix}\n",
    "\\right.\n",
    "$$\n",
    "Сначала нужно определить, нет ли таких значений параметра $t$, при которых одна из функций $\\varphi(t)$ или $\\psi(t)$ обращается в бесконечность, а другая остается конечной. При $\\varphi(t_0) = \\infty$, а $\\psi(t_0) = c$ кривая имеет горизонтальную асимптоту  $y = c$. При  $\\psi(t_0) = \\infty$, а $\\varphi(t_0) = c$ кривая имеет вертикальную асимптоту $x = c$. \n",
    "\n",
    "Если $\\varphi(t_0) = \\psi(t_0) = \\infty$ и \n",
    "$$\n",
    "\\lim_{t\\to t_0} \\frac{\\psi(t)}{\\varphi(t)} = k;\\qquad \\lim_{t\\to t_0} [\\psi(t) - k\\varphi(t)] = b,\n",
    "$$\n",
    "то   кривая имеет наклонную асимптоту  $y = kx + b$. \n",
    "\n",
    "### Индивидуальное задание.\n",
    "Найти асимптоты параметрически заданной функции и изобразить на графике функцию и ее асимптоты."
   ]
  },
  {
   "cell_type": "code",
   "execution_count": 69,
   "metadata": {},
   "outputs": [
    {
     "data": {
      "text/plain": [
       "'t -> -oo'"
      ]
     },
     "metadata": {},
     "output_type": "display_data"
    },
    {
     "data": {
      "text/plain": [
       "'x: '"
      ]
     },
     "metadata": {},
     "output_type": "display_data"
    },
    {
     "data": {
      "text/latex": [
       "$\\displaystyle \\infty$"
      ],
      "text/plain": [
       "oo"
      ]
     },
     "metadata": {},
     "output_type": "display_data"
    },
    {
     "data": {
      "text/plain": [
       "'y: '"
      ]
     },
     "metadata": {},
     "output_type": "display_data"
    },
    {
     "data": {
      "text/latex": [
       "$\\displaystyle -\\infty$"
      ],
      "text/plain": [
       "-oo"
      ]
     },
     "metadata": {},
     "output_type": "display_data"
    },
    {
     "data": {
      "text/plain": [
       "'t -> +oo'"
      ]
     },
     "metadata": {},
     "output_type": "display_data"
    },
    {
     "data": {
      "text/plain": [
       "'x: '"
      ]
     },
     "metadata": {},
     "output_type": "display_data"
    },
    {
     "data": {
      "text/latex": [
       "$\\displaystyle \\infty$"
      ],
      "text/plain": [
       "oo"
      ]
     },
     "metadata": {},
     "output_type": "display_data"
    },
    {
     "data": {
      "text/plain": [
       "'y: '"
      ]
     },
     "metadata": {},
     "output_type": "display_data"
    },
    {
     "data": {
      "text/latex": [
       "$\\displaystyle \\infty$"
      ],
      "text/plain": [
       "oo"
      ]
     },
     "metadata": {},
     "output_type": "display_data"
    },
    {
     "name": "stdout",
     "output_type": "stream",
     "text": [
      "Асимптоты: \n",
      "\n",
      "t -> +oo\n",
      "k =  1/3\n",
      "b =  0\n",
      "Итог: y = 1/3x + 0 \n",
      "\n",
      "t -> -oo\n",
      "k =  -1/3\n",
      "b =  0\n",
      "Итог: y = -1/3x + 0\n"
     ]
    },
    {
     "data": {
      "text/plain": [
       "[<matplotlib.lines.Line2D at 0x7ff2b89fddc0>]"
      ]
     },
     "execution_count": 69,
     "metadata": {},
     "output_type": "execute_result"
    },
    {
     "data": {
      "image/png": "[encoded data removed]",
      "text/plain": [
       "<Figure size 432x288 with 1 Axes>"
      ]
     },
     "metadata": {
      "needs_background": "light"
     },
     "output_type": "display_data"
    }
   ],
   "source": [
    "#143\n",
    "# x = 3*e^t + 3*e^-t\n",
    "# y = e^t - e^-t\n",
    "from sympy import oo as oo\n",
    "# претенденты на вертикальные и горизонтальные асимптоты: +оо, -оо\n",
    "t = Symbol('t')\n",
    "x = 3*Exp(t) + 3*Exp(-t)\n",
    "y = Exp(t) - Exp(-t)\n",
    "display('t -> -oo', 'x: ',limit(x, t, -oo),'y: ', limit(y, t, -oo)) # асимптот нет\n",
    "display('t -> +oo', 'x: ',limit(x, t, +oo),'y: ', limit(y, t, +oo)) # асимптот нет\n",
    "\n",
    "# итак, функция не имеет вертикальных и горизонтальных асимптот\n",
    "\n",
    "#найдем наклонные асимптоты:\n",
    "print('Асимптоты: \\n')\n",
    "print('t -> +oo')\n",
    "k = limit(y/x, t, +oo)\n",
    "print('k = ', k)\n",
    "b = limit(y - k*x, t, +oo)\n",
    "print('b = ', b)\n",
    "print(\"Итог: y = %(k)sx + %(b)s \\n\"%{'k':k, 'b':b})\n",
    "\n",
    "print('t -> -oo')\n",
    "k = limit(y/x, t, -oo)\n",
    "print('k = ', k)\n",
    "b = limit(y - k*x, t, -oo)\n",
    "print('b = ', b)\n",
    "print(\"Итог: y = %(k)sx + %(b)s\"%{'k':k, 'b':b})\n",
    "\n",
    "# строим график\n",
    "\n",
    "T = np.linspace(-10, 10, 100)\n",
    "ax = plt.gca()\n",
    "ax.spines['right'].set_color('none') \n",
    "ax.spines['top'].set_color('none') \n",
    "ax.spines['bottom'].set_position(('data', 0)) \n",
    "ax.spines['left'].set_position(('data', 0))\n",
    "ax.plot(3*np.exp(T) + 3*np.exp(-T), np.exp(T) - np.exp(-T), color='green')\n",
    "ax.plot(T,[1/3*x for x in T], color = 'red')\n",
    "ax.plot(T,[-1/3*x for x in T], color = 'red')"
   ]
  },
  {
   "cell_type": "code",
   "execution_count": null,
   "metadata": {},
   "outputs": [],
   "source": []
  },
  {
   "cell_type": "code",
   "execution_count": null,
   "metadata": {},
   "outputs": [],
   "source": []
  }
 ],
 "metadata": {
  "kernelspec": {
   "display_name": "Python 3",
   "language": "python",
   "name": "python3"
  },
  "language_info": {
   "codemirror_mode": {
    "name": "ipython",
    "version": 3
   },
   "file_extension": ".py",
   "mimetype": "text/x-python",
   "name": "python",
   "nbconvert_exporter": "python",
   "pygments_lexer": "ipython3",
   "version": "3.8.3"
  }
 },
 "nbformat": 4,
 "nbformat_minor": 2
}
