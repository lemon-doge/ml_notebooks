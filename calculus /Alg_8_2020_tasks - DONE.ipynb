{
 "cells": [
  {
   "cell_type": "code",
   "execution_count": null,
   "metadata": {
    "id": "xakB6v5rfgFZ"
   },
   "outputs": [],
   "source": [
    "import sympy\n",
    "from sympy import  Point, Line, Plane, Point3D, Segment, Ray, S, latex\n",
    "import matplotlib.pyplot as plt"
   ]
  },
  {
   "cell_type": "markdown",
   "metadata": {
    "id": "NILK48I4fgFd"
   },
   "source": [
    "# Практическое занятие 8\n",
    "# Алгебра\n",
    "https://docs.sympy.org/latest/search.html?q=geometry\n",
    "\n",
    "## Проекции, сегменты, лучи в модуле Geometry\n",
    "### Задание 1.\n",
    "Даны точки: $A(3, -2, 3)$,  $B(-2, 3, 1)$, \n",
    "$C(1, -8, 6)$, \n",
    "$D(1, 2, 4)$, \n",
    "$F(-7, 8, -1)$.\n",
    "\n",
    "Составить отрезки $АВ$ и $АС$ и лучи $CD$ и $BF$.\n",
    "\n",
    "Найти: \n",
    "\n",
    "угол между лучами $CD и $BF$\n",
    "\n",
    "направления луча $CD$ (xdirection, ydirection, zdirection)\n",
    "\n",
    "длину отрезка $АВ$\n",
    "\n",
    "середину отрезка $АВ$"
   ]
  },
  {
   "cell_type": "code",
   "execution_count": 4,
   "metadata": {
    "id": "plyL1jWrfgFe"
   },
   "outputs": [
    {
     "data": {
      "text/latex": [
       "$\\displaystyle \\operatorname{acos}{\\left(\\frac{3 \\sqrt{39}}{26} \\right)}$"
      ],
      "text/plain": [
       "acos(3*sqrt(39)/26)"
      ]
     },
     "metadata": {},
     "output_type": "display_data"
    },
    {
     "data": {
      "text/plain": [
       "[0, oo, -oo]"
      ]
     },
     "metadata": {},
     "output_type": "display_data"
    },
    {
     "data": {
      "text/latex": [
       "$\\displaystyle 3 \\sqrt{6}$"
      ],
      "text/plain": [
       "3*sqrt(6)"
      ]
     },
     "metadata": {},
     "output_type": "display_data"
    },
    {
     "data": {
      "text/latex": [
       "$\\displaystyle Point3D\\left(\\frac{1}{2}, \\frac{1}{2}, 2\\right)$"
      ],
      "text/plain": [
       "Point3D(1/2, 1/2, 2)"
      ]
     },
     "metadata": {},
     "output_type": "display_data"
    }
   ],
   "source": [
    "import sympy\n",
    "from sympy import  Point, Line, Plane, Point3D, Segment, Ray, S, latex\n",
    "import matplotlib.pyplot as plt\n",
    "\n",
    "A = Point(3, -2, 3)\n",
    "B = Point(-2, 3, 1) \n",
    "C = Point(1, -8, 6) \n",
    "D = Point(1, 2, 4) \n",
    "F = Point(-7, 8, -1)\n",
    "\n",
    "AB = Segment(A, B)\n",
    "AC = Segment(A, C)\n",
    "CD = Ray(C,D)\n",
    "BF = Ray(B,F)\n",
    "display(CD.angle_between(BF), [CD.xdirection,CD.ydirection,CD.zdirection],AB.length,AB.midpoint)"
   ]
  },
  {
   "cell_type": "markdown",
   "metadata": {
    "id": "XSbnLkTVfgFe"
   },
   "source": [
    "### Задание 2.\n",
    "Построить прямую $CD$ и проекцию точки $F$ и отрезка $АВ$  на эту прямую."
   ]
  },
  {
   "cell_type": "code",
   "execution_count": 6,
   "metadata": {
    "id": "tYSNLnZYfgFf"
   },
   "outputs": [
    {
     "data": {
      "text/latex": [
       "$\\displaystyle Point3D\\left(1, \\frac{227}{26}, \\frac{69}{26}\\right)$"
      ],
      "text/plain": [
       "Point3D(1, 227/26, 69/26)"
      ]
     },
     "metadata": {},
     "output_type": "display_data"
    },
    {
     "data": {
      "text/latex": [
       "$\\displaystyle Segment3D\\left(Point3D\\left(1, - \\frac{43}{26}, \\frac{123}{26}\\right), Point3D\\left(1, \\frac{46}{13}, \\frac{48}{13}\\right)\\right)$"
      ],
      "text/plain": [
       "Segment3D(Point3D(1, -43/26, 123/26), Point3D(1, 46/13, 48/13))"
      ]
     },
     "metadata": {},
     "output_type": "display_data"
    }
   ],
   "source": [
    "CD = Line(C,D)\n",
    "display(CD.projection(F), CD.projection(AB))"
   ]
  },
  {
   "cell_type": "markdown",
   "metadata": {
    "id": "h5FAbVSrfgFf"
   },
   "source": [
    "### Задание 3.\n",
    "Построить серединный перпендикуляр отрезка $АС$, проходящий через точку $(8, -7, 9/2)$, найти для серединного перпендикуляра уравнение.\n",
    "\n",
    "Указание: должен получиться сегмент, использовать S(9)/2."
   ]
  },
  {
   "cell_type": "code",
   "execution_count": 18,
   "metadata": {
    "id": "jKul5ebxfgFf"
   },
   "outputs": [
    {
     "data": {
      "text/latex": [
       "$\\displaystyle Segment3D\\left(Point3D\\left(8, -7, \\frac{9}{2}\\right), Point3D\\left(2, -5, \\frac{9}{2}\\right)\\right)$"
      ],
      "text/plain": [
       "Segment3D(Point3D(8, -7, 9/2), Point3D(2, -5, 9/2))"
      ]
     },
     "metadata": {},
     "output_type": "display_data"
    },
    {
     "data": {
      "text/latex": [
       "$\\displaystyle \\left( x + 3 y + 13, \\  2 z - 9\\right)$"
      ],
      "text/plain": [
       "(x + 3*y + 13, 2*z - 9)"
      ]
     },
     "metadata": {},
     "output_type": "display_data"
    }
   ],
   "source": [
    "display(AC.perpendicular_bisector((Point3D(8,-7,9/2))))\n",
    "display(AC.perpendicular_bisector().equation()) # уравнение прямой, содержащей срединный перпендикуляр"
   ]
  },
  {
   "cell_type": "markdown",
   "metadata": {
    "id": "fKoPA-TifgFg"
   },
   "source": [
    "### Задание 4\n",
    "Даны точки: $A(3, -2)$, $B(-2, 3)$, $C(1, -8)$.\n",
    "\n",
    "Построить на общем графике отрезки $АВ$ и $АС$, серединный перпендикуляр отрезка  $АС$.\n",
    "\n",
    "Точки $A$, $B$ и $C$ отметить и подписать именами.\n",
    "\n",
    "Для одинакового масштаба по осям использовать \n",
    "ax.set_aspect('equal')"
   ]
  },
  {
   "cell_type": "code",
   "execution_count": 69,
   "metadata": {
    "id": "wnoWfQI1fgFg"
   },
   "outputs": [
    {
     "data": {
      "text/plain": [
       "<matplotlib.collections.PathCollection at 0x7f8e5b1c2430>"
      ]
     },
     "execution_count": 69,
     "metadata": {},
     "output_type": "execute_result"
    },
    {
     "data": {
      "image/png": "[encoded data removed]",
      "text/plain": [
       "<Figure size 432x288 with 1 Axes>"
      ]
     },
     "metadata": {
      "needs_background": "light"
     },
     "output_type": "display_data"
    }
   ],
   "source": [
    "import sympy\n",
    "from sympy import  Point, Line, Plane, Point3D, Segment, Ray, S, latex\n",
    "import matplotlib.pyplot as plt\n",
    "\n",
    "A = Point2D(3, -2)\n",
    "B = Point2D(-2, 3)\n",
    "C = Point2D(1, -8)\n",
    "\n",
    "AC = Segment(A, C)\n",
    "AB = Segment(A, B)\n",
    "AC_perp = AC.perpendicular_bisector();\n",
    "\n",
    "point_dict = {A: 'A', B: 'B', С: 'С'}\n",
    "X = []\n",
    "Y = []\n",
    "ax = plt.gca() \n",
    "ax.set_aspect('equal')\n",
    "\n",
    "for point in (point_dict.keys()):\n",
    "    x_coord = point.x\n",
    "    y_coord = point.y \n",
    "    X.append(x_coord) \n",
    "    Y.append(y_coord) \n",
    "    ax.annotate(point_dict[point],\n",
    "        xy=(x_coord, y_coord), xycoords='data',\n",
    "        xytext=(x_coord + 0.05, y_coord + 0.05), textcoords='data')\n",
    "    \n",
    "ax.plot([A.x, B.x], [A.y, B.y])\n",
    "ax.plot([A.x, C.x], [A.y, C.y])\n",
    "ax.plot([AC_perp.p1.x,AC_perp.p2.x], [AC_perp.p1.y,AC_perp.p2.y])\n",
    "#label = latex(AC.equation(x='x', y='y'), mode='inline' \n",
    "ax.scatter(X,Y)\n"
   ]
  },
  {
   "cell_type": "markdown",
   "metadata": {
    "id": "B70hvkAZfgFg"
   },
   "source": [
    "### Индивидуальное задание.\n",
    "Даны точки на плоскости. \n",
    "\n",
    "Построить отрезок $LM$ и луч $MN$, составить уравнения серединного перпендикуляра  к $LM$ и перпендикуляра к $MN$, проходящего через точку $P$, найти точку пересечения перпендикуляров.\n",
    "\n",
    "Построить на графике отрезок, луч (в виде отрезка) и оба перпендикуляра, отметить и подписать концы отрезка и начало луча (точку M), а также точку пересечения перпендикуляров и основания перпендикуляров (точки пересечения перпендикуляров с отрезком и лучом соответственно).\n",
    "\n",
    "В легенду включить уравнения перпендикуляров и уравнения прямых, на которых лежат отрезок и\n",
    " луч."
   ]
  },
  {
   "cell_type": "code",
   "execution_count": 92,
   "metadata": {
    "id": "93FuNdCZfgFh"
   },
   "outputs": [
    {
     "data": {
      "text/plain": [
       "<matplotlib.legend.Legend at 0x7f8e3cbc02e0>"
      ]
     },
     "execution_count": 92,
     "metadata": {},
     "output_type": "execute_result"
    },
    {
     "data": {
      "image/png": "[encoded data removed]",
      "text/plain": [
       "<Figure size 432x288 with 1 Axes>"
      ]
     },
     "metadata": {
      "needs_background": "light"
     },
     "output_type": "display_data"
    }
   ],
   "source": [
    "#Вариант N 143\n",
    "#Точки: L(3, −1), M(13, −3), N(4, 8), P(37/10, 53/10).\n",
    "import sympy\n",
    "from sympy import  Point, Line, Plane, Point3D, Segment, Ray, S, latex\n",
    "import matplotlib.pyplot as plt\n",
    "%matplotlib inline\n",
    "\n",
    "L = Point(3, -1)\n",
    "M = Point(13,-3) \n",
    "N = Point(4,8) \n",
    "P = Point(37/10,53/10) \n",
    "\n",
    "LM = Segment(L, M)\n",
    "MN = Ray(M, N)\n",
    "LM_perp = LM.perpendicular_bisector()\n",
    "MN_perp = MN.perpendicular_line(P)\n",
    "\n",
    "I = LM_perp.intersection(MN_perp)[0]\n",
    "T = LM.intersection(LM_perp)[0]\n",
    "K = MN.intersection(MN_perp)[0]\n",
    "\n",
    "point_dict = {L: 'L', M: 'M', N: 'N',P: 'P',I: 'I',T : 'T',K:'K'}\n",
    "X = []\n",
    "Y = []\n",
    "ax = plt.gca() \n",
    "ax.set_aspect('equal')\n",
    "\n",
    "for point in (point_dict.keys()):\n",
    "    x_coord = point.x\n",
    "    y_coord = point.y \n",
    "    X.append(x_coord) \n",
    "    Y.append(y_coord) \n",
    "    ax.annotate(point_dict[point],\n",
    "        xy=(x_coord, y_coord), xycoords='data',\n",
    "        xytext=(x_coord + 0.1, y_coord + 0.1), textcoords='data')\n",
    "    \n",
    "ax.scatter(X,Y)\n",
    "\n",
    "ax.plot([L.x, M.x], [L.y, M.y], label = Line(L,M).equation(x='x', y='y'))\n",
    "ax.plot([M.x, N.x], [M.y, N.y], label = Line(M,N).equation(x='x', y='y'))\n",
    "ax.plot([LM_perp.p1.x,I.x], [LM_perp.p1.y,I.y], label = Line(T,I).equation(x='x', y='y'))\n",
    "ax.plot([MN_perp.p1.x,I.x], [MN_perp.p1.y,I.y], label = Line(K,I).equation(x='x', y='y'))\n",
    "\n",
    "ax.legend(loc='lower left')\n",
    "#label = latex(AC.equation(x='x', y='y'), mode='inline' \n",
    "\n"
   ]
  },
  {
   "cell_type": "code",
   "execution_count": null,
   "metadata": {},
   "outputs": [],
   "source": []
  }
 ],
 "metadata": {
  "colab": {
   "collapsed_sections": [],
   "name": "Alg_8_2020_tasks.ipynb",
   "provenance": []
  },
  "kernelspec": {
   "display_name": "Python 3",
   "language": "python",
   "name": "python3"
  },
  "language_info": {
   "codemirror_mode": {
    "name": "ipython",
    "version": 3
   },
   "file_extension": ".py",
   "mimetype": "text/x-python",
   "name": "python",
   "nbconvert_exporter": "python",
   "pygments_lexer": "ipython3",
   "version": "3.8.3"
  }
 },
 "nbformat": 4,
 "nbformat_minor": 1
}
