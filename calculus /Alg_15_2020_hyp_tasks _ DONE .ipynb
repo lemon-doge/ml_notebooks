{
 "cells": [
  {
   "cell_type": "code",
   "execution_count": 4,
   "metadata": {
    "id": "n3TtiCO3CDvT"
   },
   "outputs": [],
   "source": [
    "import numpy as np\n",
    "import sympy\n",
    "from sympy import Expr, Eq, latex, plot_implicit, tan, cot\n",
    "from sympy.core import S, pi, sympify\n",
    "from sympy.core.logic import fuzzy_bool\n",
    "from sympy.core.numbers import Rational, oo\n",
    "from sympy.core.compatibility import ordered\n",
    "from sympy.core.symbol import Dummy, _uniquely_named_symbol, _symbol\n",
    "from sympy.simplify import simplify, trigsimp\n",
    "from sympy.functions.elementary.miscellaneous import sqrt, Max\n",
    "from sympy.functions.elementary.trigonometric import cos, sin\n",
    "from sympy.functions.special.elliptic_integrals import elliptic_e\n",
    "from sympy.geometry.exceptions import GeometryError\n",
    "from sympy.geometry.line import Ray2D, Segment2D, Line2D, LinearEntity3D\n",
    "from sympy.polys import DomainError, Poly, PolynomialError\n",
    "from sympy.polys.polyutils import _not_a_coeff, _nsort\n",
    "from sympy.solvers import solve\n",
    "from sympy.solvers.solveset import linear_coeffs\n",
    "from sympy.utilities.misc import filldedent, func_name\n",
    "from sympy.geometry.entity import GeometryEntity, GeometrySet\n",
    "from sympy.geometry.point import Point, Point2D, Point3D\n",
    "from sympy.geometry.line import Line, Segment\n",
    "from sympy.geometry.util import idiff\n",
    "import matplotlib.pyplot as plt\n",
    "%matplotlib inline"
   ]
  },
  {
   "cell_type": "markdown",
   "metadata": {
    "id": "vtTLX0McCDvf"
   },
   "source": [
    "# Занятие 15\n",
    "# Алгебра\n",
    "## Кривые второго порядка на плоскости: гипербола"
   ]
  },
  {
   "cell_type": "code",
   "execution_count": 5,
   "metadata": {
    "id": "qoGzee3LCDvi"
   },
   "outputs": [],
   "source": [
    "class Hyperbola(GeometrySet):\n",
    "    \"\"\"\n",
    "     Attributes\n",
    "    ==========\n",
    "    center\n",
    "    hradius\n",
    "    vradius\n",
    "    eccentricity\n",
    "    periapsis\n",
    "    focus_distance\n",
    "    foci\n",
    "    ==========\n",
    "    конструктор __new__\n",
    "    скопирован из Эллипса,\n",
    "    изменена формула для  hradius и vradius через эсцентриситет\n",
    "    \"\"\"\n",
    "    def __new__(\n",
    "        cls, center=None, hradius=None, vradius=None, eccentricity=None, **kwargs):\n",
    "        hradius = sympify(hradius)\n",
    "        vradius = sympify(vradius)\n",
    "\n",
    "        eccentricity = sympify(eccentricity)\n",
    "\n",
    "        if center is None:\n",
    "            center = Point(0, 0)\n",
    "        else:\n",
    "            center = Point(center, dim=2)\n",
    "\n",
    "        if len(center) != 2:\n",
    "            raise ValueError('The center of \"{0}\" must be a two dimensional point'.format(cls))\n",
    "\n",
    "        if len(list(filter(lambda x: x is not None, (hradius, vradius, eccentricity)))) != 2:\n",
    "            raise ValueError(filldedent('''\n",
    "                Exactly two arguments of \"hradius\", \"vradius\", and\n",
    "                \"eccentricity\" must not be None.'''))\n",
    "\n",
    "        if eccentricity is not None:\n",
    "            if hradius is None:\n",
    "                hradius = vradius/sqrt( eccentricity**2 - 1)\n",
    "            elif vradius is None:\n",
    "                vradius = hradius*sqrt( eccentricity**2 - 1)\n",
    "\n",
    "        if hradius == 0:\n",
    "            return \"Line\"\n",
    "        if vradius == 0:\n",
    "            return \"Rays\"\n",
    "        return GeometryEntity.__new__(cls, center, hradius, vradius, **kwargs)\n",
    "    \n",
    "    @property\n",
    "    def ambient_dimension(self):\n",
    "        return 2\n",
    "    \n",
    "    @property\n",
    "    def center(self):\n",
    "        return self.args[0]\n",
    "\n",
    "    @property\n",
    "    def hradius(self):\n",
    "        return self.args[1]\n",
    "    \n",
    "    @property\n",
    "    def vradius(self):\n",
    "        return self.args[2]\n",
    "    @property\n",
    "    def focus_distance(self):\n",
    "        return sqrt(self.hradius**2 + self.vradius**2)\n",
    "    \n",
    "    @property\n",
    "    def eccentricity(self):\n",
    "        \"\"\"The eccentricity of the ellipse.\"\"\"\n",
    "        return self.focus_distance/self.hradius\n",
    "    \n",
    "    @property\n",
    "    def periapsis(self):\n",
    "        \"\"\"The apoapsis of the hyperbola.\n",
    "        The smallest distance between the focus and the contour.\"\"\"\n",
    "        return self.focus_distance-self.hradius\n",
    "    @property\n",
    "    def foci(self):\n",
    "        return (self.center + Point(-self.focus_distance, 0), self.center + Point(self.focus_distance, 0))\n",
    "    \n",
    "    @property\n",
    "    def major(self):\n",
    "        return self.hradius\n",
    "    \n",
    "    @property\n",
    "    def minor(self):\n",
    "        return self.vradius\n",
    "    \n",
    "    def equation(self, x='x', y='y', _slope=None, equation=False):\n",
    "        \"\"\"\n",
    "        Returns the equation of a hyperbola aligned with the x and y axes;\n",
    "        when slope is given, the equation returned corresponds to a hyperbola \n",
    "        with a major axis having that slope.\n",
    "        Parameters\n",
    "        ==========\n",
    "        x : str, optional\n",
    "            Label for the x-axis. Default value is 'x'.\n",
    "        y : str, optional\n",
    "            Label for the y-axis. Default value is 'y'.\n",
    "        _slope : Expr, optional\n",
    "                The slope of the major axis. Ignored when 'None'.\n",
    "        Returns\n",
    "        =======\n",
    "        equation : sympy expression   \"\"\"\n",
    "\n",
    "        x = _symbol(x, real=True)\n",
    "        y = _symbol(y, real=True)\n",
    "\n",
    "        dx = x - self.center.x\n",
    "        dy = y - self.center.y\n",
    "\n",
    "        if _slope is not None:\n",
    "            L = (dy - _slope*dx)**2\n",
    "            l = (_slope*dy + dx)**2\n",
    "            h = 1 + _slope**2\n",
    "            a = h*self.major**2\n",
    "            b = h*self.minor**2\n",
    "            res= l/a - L/b \n",
    "\n",
    "        else:\n",
    "            t1 = (dx/self.hradius)**2\n",
    "            t2 = (dy/self.vradius)**2\n",
    "            res = t1 - t2 \n",
    "            \n",
    "        if not equation:\n",
    "            return res - 1\n",
    "        else:\n",
    "            return Eq(res, 1)\n",
    "        \n",
    "    def asymptote(self, x='x', y='y', equation=False):\n",
    "        x = _symbol(x, real=True)\n",
    "        y = _symbol(y, real=True)\n",
    "        if not equation:\n",
    "                return (y - self.center.y - (self.vradius / self.hradius) * (x - self.center.x),\n",
    "                        y - self.center.y + (self.vradius / self.hradius) * (x - self.center.x))\n",
    "        else:\n",
    "                return (Eq(y, self.center.y + (self.vradius / self.hradius) * (x - self.center.x)),\n",
    "                        Eq(y, self.center.y - (self.vradius / self.hradius) * (x - self.center.x)))\n",
    "            \n",
    "    def directrix(self, x='x', equation=False):\n",
    "        x = _symbol(x, real=True)\n",
    "        if not equation:\n",
    "            return (x - self.center.x - (self.hradius ** 2) / self.focus_distance,\n",
    "                    x - self.center.x + (self.hradius ** 2) / self.focus_distance)\n",
    "        else:\n",
    "            return (Eq(x, self.center.x + (self.hradius ** 2) / self.focus_distance,),\n",
    "                    Eq(x, self.center.x - (self.hradius ** 2) / self.focus_distance))"
   ]
  },
  {
   "cell_type": "markdown",
   "metadata": {
    "id": "g09Mub5dCDvm"
   },
   "source": [
    "# Занятие 15\n",
    "# Алгебра\n",
    "### Задание 1.\n",
    "Построить гиперболу с центром в точке А(1, 2), полуосями 12 и 5. Вывести на экран эксцентриситет, фокусное расстояние, фокусы (с координатами), periapsis и уравнение гиперболы."
   ]
  },
  {
   "cell_type": "code",
   "execution_count": 6,
   "metadata": {
    "id": "SSOc3rl0CDvp"
   },
   "outputs": [
    {
     "data": {
      "text/latex": [
       "$\\displaystyle Hyperbola\\left(Point2D\\left(1, 2\\right), 12, 5\\right)$"
      ],
      "text/plain": [
       "Hyperbola(Point2D(1, 2), 12, 5)"
      ]
     },
     "metadata": {},
     "output_type": "display_data"
    },
    {
     "data": {
      "text/plain": [
       "'eccentricity'"
      ]
     },
     "metadata": {},
     "output_type": "display_data"
    },
    {
     "data": {
      "text/latex": [
       "$\\displaystyle \\frac{13}{12}$"
      ],
      "text/plain": [
       "13/12"
      ]
     },
     "metadata": {},
     "output_type": "display_data"
    },
    {
     "data": {
      "text/plain": [
       "'periapsis'"
      ]
     },
     "metadata": {},
     "output_type": "display_data"
    },
    {
     "data": {
      "text/latex": [
       "$\\displaystyle 1$"
      ],
      "text/plain": [
       "1"
      ]
     },
     "metadata": {},
     "output_type": "display_data"
    },
    {
     "data": {
      "text/plain": [
       "'focus_distance'"
      ]
     },
     "metadata": {},
     "output_type": "display_data"
    },
    {
     "data": {
      "text/latex": [
       "$\\displaystyle 13$"
      ],
      "text/plain": [
       "13"
      ]
     },
     "metadata": {},
     "output_type": "display_data"
    },
    {
     "data": {
      "text/plain": [
       "'foci'"
      ]
     },
     "metadata": {},
     "output_type": "display_data"
    },
    {
     "data": {
      "text/plain": [
       "(Point2D(-12, 2), Point2D(14, 2))"
      ]
     },
     "metadata": {},
     "output_type": "display_data"
    },
    {
     "data": {
      "text/plain": [
       "'equation'"
      ]
     },
     "metadata": {},
     "output_type": "display_data"
    },
    {
     "data": {
      "text/latex": [
       "$\\displaystyle \\left(\\frac{x}{12} - \\frac{1}{12}\\right)^{2} - \\left(\\frac{y}{5} - \\frac{2}{5}\\right)^{2} = 1$"
      ],
      "text/plain": [
       "Eq((x/12 - 1/12)**2 - (y/5 - 2/5)**2, 1)"
      ]
     },
     "metadata": {},
     "output_type": "display_data"
    }
   ],
   "source": [
    "Hyp1 = Hyperbola(Point(1,2), hradius=12, vradius=5)\n",
    "display(Hyp1)\n",
    "props = {'eccentricity': Hyp1.eccentricity, 'periapsis': Hyp1.periapsis,\n",
    "         'focus_distance': Hyp1.focus_distance, 'foci': Hyp1.foci, 'equation':Hyp1.equation(equation=True)}\n",
    "for key in props.keys():\n",
    "    display(key, props[key])"
   ]
  },
  {
   "cell_type": "markdown",
   "metadata": {
    "id": "IXufojW2CDvr"
   },
   "source": [
    "### Задание 2.\n",
    "Добавить в описание класса гипербол методы \n",
    "\n",
    "asymptote(self, x='x', y='y', equation=False)\n",
    "\n",
    "directrix(self, x='x', equation=False)\n",
    "\n",
    "Для гиперболы Задания 1 вывести на экран уравнения асимптот и директрис."
   ]
  },
  {
   "cell_type": "code",
   "execution_count": 7,
   "metadata": {
    "id": "Nns4uMoVCDvt"
   },
   "outputs": [
    {
     "data": {
      "text/latex": [
       "$\\displaystyle y = \\frac{5 x}{12} + \\frac{19}{12}$"
      ],
      "text/plain": [
       "Eq(y, 5*x/12 + 19/12)"
      ]
     },
     "metadata": {},
     "output_type": "display_data"
    },
    {
     "data": {
      "text/latex": [
       "$\\displaystyle y = \\frac{29}{12} - \\frac{5 x}{12}$"
      ],
      "text/plain": [
       "Eq(y, 29/12 - 5*x/12)"
      ]
     },
     "metadata": {},
     "output_type": "display_data"
    },
    {
     "data": {
      "text/latex": [
       "$\\displaystyle x = \\frac{157}{13}$"
      ],
      "text/plain": [
       "Eq(x, 157/13)"
      ]
     },
     "metadata": {},
     "output_type": "display_data"
    },
    {
     "data": {
      "text/latex": [
       "$\\displaystyle x = - \\frac{131}{13}$"
      ],
      "text/plain": [
       "Eq(x, -131/13)"
      ]
     },
     "metadata": {},
     "output_type": "display_data"
    }
   ],
   "source": [
    "display(*Hyp1.asymptote(equation=True))\n",
    "display(*Hyp1.directrix(equation=True))"
   ]
  },
  {
   "cell_type": "markdown",
   "metadata": {
    "id": "AiM4Ld0rCDvu"
   },
   "source": [
    "### Задание 3.\n",
    "Вывести на экран уравнение гиперболы из задания 1 с поворотом на 30 градусов против часовой стрелки относительно ее центра.\n",
    "Изобразить повернутую гиперболу с помощью plot_implicit."
   ]
  },
  {
   "cell_type": "code",
   "execution_count": 8,
   "metadata": {
    "id": "_XGBg68ICDvv"
   },
   "outputs": [
    {
     "data": {
      "text/latex": [
       "$\\displaystyle \\frac{\\left(3 x + \\sqrt{3} \\left(y - 2\\right) - 3\\right)^{2}}{1728} - \\frac{\\left(- 3 y + \\sqrt{3} \\left(x - 1\\right) + 6\\right)^{2}}{300} = 1$"
      ],
      "text/plain": [
       "Eq((3*x + sqrt(3)*(y - 2) - 3)**2/1728 - (-3*y + sqrt(3)*(x - 1) + 6)**2/300, 1)"
      ]
     },
     "metadata": {},
     "output_type": "display_data"
    },
    {
     "data": {
      "image/png": "[encoded data removed]",
      "text/plain": [
       "<Figure size 432x288 with 1 Axes>"
      ]
     },
     "metadata": {
      "needs_background": "light"
     },
     "output_type": "display_data"
    }
   ],
   "source": [
    "display(Hyp1.equation(_slope=(3**(S(1)/2)/3), equation=True).simplify())\n",
    "eq1 = Hyp1.equation(x='x', y='y')\n",
    "dict_free = {str(a): a for a in eq1.free_symbols}\n",
    "p = plot_implicit(Hyp1.equation(x='x', y='y', _slope=3**(S(1)/2)/3), (dict_free['x'], -20, 20), (dict_free['y'], -20, 20),\n",
    "                  line_color='g', aspect_ratio=(1, 1), show=False, adaptive=False)\n",
    "p.show()"
   ]
  },
  {
   "cell_type": "markdown",
   "metadata": {
    "id": "hzDi5KWpCDvw"
   },
   "source": [
    "## Уравнения директрис и асимптот при повороте на угол $\\alpha$\n",
    "Пусть  $a$ - горизонтальная полуось, $c$ - фокусное расстояние, $x_0$ - горизонтальная координата центра гиперболы, тогда уравнение директрис \n",
    "$$\n",
    "x = x_0 \\pm \\frac{a^2}{c}\n",
    "$$\n",
    "При повороте на угол $\\alpha$ получается уравнение\n",
    "$$\n",
    "y = y_0 -{\\rm ctg} \\alpha(x - x_0) \\pm \\frac{a^2}{c}\\sqrt{1 + {\\rm ctg} \\alpha}\n",
    "$$\n",
    "Уравнение асимптоты\n",
    "$$\n",
    "y = y_0 \\pm \\frac{b}{a}(x - x_0)\n",
    "$$\n",
    "При повороте на угол $\\alpha$ получаются уравнения\n",
    "\\begin{align*}\n",
    "y_1 = y_0 + k_1(x - x_0), \\quad \n",
    "y_2 = y_0 + k_2(x - x_0), \\\\ \n",
    "k_1 = \\frac{b + a{\\rm tg} \\alpha}{a - b{\\rm tg} \\alpha},\\quad \n",
    "k_2 = \\frac{-b + a{\\rm tg} \\alpha}{a + b{\\rm tg} \\alpha}\n",
    "\\end{align*}\n",
    "### Задание 4.\n",
    "Изобразить гиперболу Задания 3 (т.е. повернутую на угол) и ее асимптоты и директрисы на одном графике plot_implicit."
   ]
  },
  {
   "cell_type": "code",
   "execution_count": 9,
   "metadata": {
    "id": "qxhgFotCCDvy"
   },
   "outputs": [
    {
     "data": {
      "image/png": "[encoded data removed]",
      "text/plain": [
       "<Figure size 432x288 with 1 Axes>"
      ]
     },
     "metadata": {
      "needs_background": "light"
     },
     "output_type": "display_data"
    }
   ],
   "source": [
    "a = Hyp1.hradius\n",
    "b = Hyp1.vradius\n",
    "c = Hyp1.focus_distance\n",
    "x = dict_free['x']\n",
    "y = dict_free['y']\n",
    "eq1 = Hyp1.equation(_slope=(3**(S(1)/2)/3), equation=True).simplify()\n",
    "x0 = Hyp1.center.x\n",
    "y0 = Hyp1.center.y\n",
    "alpha = 30 * sympy.pi/180\n",
    "k1 = (b + a * tan(alpha)) / (a - b * tan(alpha))\n",
    "k2 = (-b + a * tan(alpha)) / (a + b * tan(alpha))\n",
    "p = plot_implicit(Hyp1.equation(x='x', y='y', _slope=3**(S(1)/2)/3), (dict_free['x'], -20, 20), (dict_free['y'], -20, 20),\n",
    "                  line_color='r', aspect_ratio=(1, 1), show=False, adaptive=False)\n",
    "p.extend(plot_implicit(Eq(y, y0 + k1 * (x - x0)), (dict_free['x'], -20, 20), (dict_free['y'], -20, 20),\n",
    "                  line_color='b', aspect_ratio=(1, 1), show=False, adaptive=False))\n",
    "p.extend(plot_implicit(Eq(y, y0 + k2 * (x - x0)), (dict_free['x'], -20, 20), (dict_free['y'], -20, 20),\n",
    "                  line_color='b', aspect_ratio=(1, 1), show=False, adaptive=False))\n",
    "p.extend(plot_implicit(Eq(y, y0 - cot(alpha) * (x - x0) + (a**2 / c) * (1 + cot(alpha))**(1/2)), (dict_free['x'], -20, 20), (dict_free['y'], -20, 20),\n",
    "                  line_color='g', aspect_ratio=(1, 1), show=False, adaptive=False))\n",
    "p.extend(plot_implicit(Eq(y, y0 - cot(alpha) * (x - x0) - (a**2 / c) * (1 + cot(alpha))**(1/2)), (dict_free['x'], -20, 20), (dict_free['y'], -20, 20),\n",
    "                  line_color='g', aspect_ratio=(1, 1), show=False, adaptive=False))\n",
    "p.show()"
   ]
  },
  {
   "cell_type": "markdown",
   "metadata": {
    "id": "jibp-2IiCDvz"
   },
   "source": [
    "###  Индивидуальное задание\n",
    "Определить гиперболу с центром в точке $O$, полуосями $a$ и $b$.  Вывести на экран эксцентриситет, фокусное расстояние, фокусы (с координатами), periapsis, уравнение гиперболы, уравнения асимптот и директрис. \n",
    "\n",
    "Изобразить гиперболу, повернутую на $\\alpha$ градусов против часовой стрелки относительно ее центра, соответствующие асимптоты и директрисы. Вывести на экран уравнения повернутой гиперболы, соответствующих асимптот и директрис."
   ]
  },
  {
   "cell_type": "code",
   "execution_count": 12,
   "metadata": {
    "id": "GDex6Gs2CDv0"
   },
   "outputs": [
    {
     "data": {
      "text/plain": [
       "'eccentricity'"
      ]
     },
     "metadata": {},
     "output_type": "display_data"
    },
    {
     "data": {
      "text/latex": [
       "$\\displaystyle \\frac{5}{4}$"
      ],
      "text/plain": [
       "5/4"
      ]
     },
     "metadata": {},
     "output_type": "display_data"
    },
    {
     "data": {
      "text/plain": [
       "'periapsis'"
      ]
     },
     "metadata": {},
     "output_type": "display_data"
    },
    {
     "data": {
      "text/latex": [
       "$\\displaystyle 2$"
      ],
      "text/plain": [
       "2"
      ]
     },
     "metadata": {},
     "output_type": "display_data"
    },
    {
     "data": {
      "text/plain": [
       "'focus_distance'"
      ]
     },
     "metadata": {},
     "output_type": "display_data"
    },
    {
     "data": {
      "text/latex": [
       "$\\displaystyle 10$"
      ],
      "text/plain": [
       "10"
      ]
     },
     "metadata": {},
     "output_type": "display_data"
    },
    {
     "data": {
      "text/plain": [
       "'foci'"
      ]
     },
     "metadata": {},
     "output_type": "display_data"
    },
    {
     "data": {
      "text/plain": [
       "(Point2D(-5, 5), Point2D(15, 5))"
      ]
     },
     "metadata": {},
     "output_type": "display_data"
    },
    {
     "data": {
      "text/plain": [
       "'equation'"
      ]
     },
     "metadata": {},
     "output_type": "display_data"
    },
    {
     "data": {
      "text/latex": [
       "$\\displaystyle \\left(\\frac{x}{8} - \\frac{5}{8}\\right)^{2} - \\left(\\frac{y}{6} - \\frac{5}{6}\\right)^{2} = 1$"
      ],
      "text/plain": [
       "Eq((x/8 - 5/8)**2 - (y/6 - 5/6)**2, 1)"
      ]
     },
     "metadata": {},
     "output_type": "display_data"
    },
    {
     "name": "stdout",
     "output_type": "stream",
     "text": [
      "asymptotes\n"
     ]
    },
    {
     "data": {
      "text/latex": [
       "$\\displaystyle y = \\frac{3 x}{4} + \\frac{5}{4}$"
      ],
      "text/plain": [
       "Eq(y, 3*x/4 + 5/4)"
      ]
     },
     "metadata": {},
     "output_type": "display_data"
    },
    {
     "data": {
      "text/latex": [
       "$\\displaystyle y = \\frac{35}{4} - \\frac{3 x}{4}$"
      ],
      "text/plain": [
       "Eq(y, 35/4 - 3*x/4)"
      ]
     },
     "metadata": {},
     "output_type": "display_data"
    },
    {
     "name": "stdout",
     "output_type": "stream",
     "text": [
      "directices\n"
     ]
    },
    {
     "data": {
      "text/latex": [
       "$\\displaystyle x = \\frac{57}{5}$"
      ],
      "text/plain": [
       "Eq(x, 57/5)"
      ]
     },
     "metadata": {},
     "output_type": "display_data"
    },
    {
     "data": {
      "text/latex": [
       "$\\displaystyle x = - \\frac{7}{5}$"
      ],
      "text/plain": [
       "Eq(x, -7/5)"
      ]
     },
     "metadata": {},
     "output_type": "display_data"
    },
    {
     "data": {
      "image/png": "[encoded data removed]",
      "text/plain": [
       "<Figure size 432x288 with 1 Axes>"
      ]
     },
     "metadata": {
      "needs_background": "light"
     },
     "output_type": "display_data"
    }
   ],
   "source": [
    "Hyp2 = Hyperbola(Point2D(5, 5), 8, 6)\n",
    "c = Hyp2.focus_distance\n",
    "eq2 = Hyp2.equation(_slope=(3**(S(1)/2)/3), equation=True).simplify()\n",
    "x0 = Hyp2.center.x\n",
    "y0 = Hyp2.center.y\n",
    "dict_free = {str(a): a for a in eq2.free_symbols}\n",
    "x = dict_free['x']\n",
    "y = dict_free['y']\n",
    "a = Hyp2.hradius\n",
    "b = Hyp2.vradius\n",
    "alpha = sympy.pi / 6\n",
    "props = {'eccentricity': Hyp2.eccentricity, 'periapsis': Hyp2.periapsis,\n",
    "         'focus_distance': Hyp2.focus_distance, 'foci': Hyp2.foci, 'equation':Hyp2.equation(equation=True)}\n",
    "for key in props.keys():\n",
    "    display(key, props[key])\n",
    "print('asymptotes')\n",
    "display(*Hyp2.asymptote(equation=True))\n",
    "print('directices')\n",
    "display(*Hyp2.directrix(equation=True))\n",
    "\n",
    "k1 = (b + a * tan(alpha)) / (a - b * tan(alpha))\n",
    "k2 = (-b + a * tan(alpha)) / (a + b * tan(alpha))\n",
    "p = plot_implicit(Hyp2.equation(x='x', y='y', _slope=3**(S(1)/2)/3), (dict_free['x'], -40, 40), (dict_free['y'], -40, 40),\n",
    "                  line_color='r', aspect_ratio=(1, 1), show=False, adaptive=False)\n",
    "p.extend(plot_implicit(Eq(y, y0 + k1 * (x - x0)), (dict_free['x'], -40, 40), (dict_free['y'], -40, 40),\n",
    "                  line_color='b', aspect_ratio=(1, 1), show=False, adaptive=False))\n",
    "p.extend(plot_implicit(Eq(y, y0 + k2 * (x - x0)), (dict_free['x'], -40, 40), (dict_free['y'], -40, 40),\n",
    "                  line_color='b', aspect_ratio=(1, 1), show=False, adaptive=False))\n",
    "p.extend(plot_implicit(Eq(y, y0 - cot(alpha) * (x - x0) + (a**2 / c) * (1 + cot(alpha))**(1/2)), (dict_free['x'], -40, 40), (dict_free['y'], -40, 40),\n",
    "                  line_color='g', aspect_ratio=(1, 1), show=False, adaptive=False))\n",
    "p.extend(plot_implicit(Eq(y, y0 - cot(alpha) * (x - x0) - (a**2 / c) * (1 + cot(alpha))**(1/2)), (dict_free['x'], -40, 40), (dict_free['y'], -40, 40),\n",
    "                  line_color='g', aspect_ratio=(1, 1), show=False, adaptive=False))\n",
    "p.show()"
   ]
  },
  {
   "cell_type": "code",
   "execution_count": null,
   "metadata": {},
   "outputs": [],
   "source": []
  }
 ],
 "metadata": {
  "colab": {
   "collapsed_sections": [],
   "name": "Alg_15_2020_hyp_tasks.ipynb",
   "provenance": []
  },
  "kernelspec": {
   "display_name": "Python 3",
   "language": "python",
   "name": "python3"
  },
  "language_info": {
   "codemirror_mode": {
    "name": "ipython",
    "version": 3
   },
   "file_extension": ".py",
   "mimetype": "text/x-python",
   "name": "python",
   "nbconvert_exporter": "python",
   "pygments_lexer": "ipython3",
   "version": "3.8.3"
  }
 },
 "nbformat": 4,
 "nbformat_minor": 1
}
