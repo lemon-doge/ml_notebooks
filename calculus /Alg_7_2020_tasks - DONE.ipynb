{
 "cells": [
  {
   "cell_type": "code",
   "execution_count": 1,
   "metadata": {},
   "outputs": [],
   "source": [
    "import sympy\n",
    "from sympy import  Point, Line, Plane, Point3D, solve, solveset"
   ]
  },
  {
   "cell_type": "markdown",
   "metadata": {},
   "source": [
    "# Лабораторная работа 7\n",
    "# Алгебра\n",
    "https://docs.sympy.org/latest/search.html?q=geometry\n",
    "\n",
    "## Прямые и плоскости в пространстве. Модуль Geometry\n",
    "### Задание 1.\n",
    "Даны точки: $A(3, -2, 3)$,  $B(-2, 3, 1)$, $C(1, -8, 6)$, $D(1, 2, 4)$, $F(-7, 8, -1)$.\n",
    "\n",
    "Проверить, различны ли прямые $AB$ и $AF$, $BC$ и $CD$, $ABC$ и $ACF$, $ABC$ и $ACD$. "
   ]
  },
  {
   "cell_type": "code",
   "execution_count": 6,
   "metadata": {},
   "outputs": [
    {
     "name": "stdout",
     "output_type": "stream",
     "text": [
      "различны ли прямые AB и AF:  False\n",
      "различны ли прямые BC и CD:  True\n",
      "различны ли прямые ABC и ACF:  False\n",
      "различны ли прямые ABC и ACD:  True\n"
     ]
    }
   ],
   "source": [
    "import sympy\n",
    "from sympy import  Point, Line, Plane, Point3D, solve, solveset\n",
    "\n",
    "A = Point(3, -2, 3)\n",
    "B = Point(-2, 3, 1) \n",
    "C = Point(1, -8, 6) \n",
    "D = Point(1, 2, 4) \n",
    "F = Point(-7, 8, -1)\n",
    "\n",
    "print(\"различны ли прямые AB и AF: \", not Line(A,B).equals(Line(A,F)))\n",
    "print(\"различны ли прямые BC и CD: \",  not Line(B,C).equals(Line(C,D)))\n",
    "print(\"различны ли плоскости ABC и ACF: \",  not Plane(A,B,C).equals(Plane(A,C,F)))\n",
    "print(\"различны ли плоскости ABC и ACD: \",  not Plane(A,B,C).equals(Plane(A,C,D)))"
   ]
  },
  {
   "cell_type": "markdown",
   "metadata": {},
   "source": [
    "###  Задание 2\n",
    "Вывести на экран уравнение обеих биссектрис двугранных углов, образованных при пересечении плоскостей АВС и АСD.\n",
    "\n",
    "Указание: расстояние от любой точки на биссектрисе до каждой из плоскостей АВС и АСD одинаково, полученное из этого уравнение описывает обе биссектрисы, упрощать его не нужно."
   ]
  },
  {
   "cell_type": "code",
   "execution_count": 8,
   "metadata": {},
   "outputs": [
    {
     "data": {
      "text/latex": [
       "$\\displaystyle \\left|{\\frac{3 \\sqrt{1970} \\left(x - 3\\right)}{1970} + \\frac{19 \\sqrt{1970} \\left(y + 2\\right)}{1970} + \\frac{4 \\sqrt{1970} \\left(z - 3\\right)}{197}}\\right| = \\left|{\\frac{9 \\sqrt{185} \\left(x - 3\\right)}{185} + \\frac{2 \\sqrt{185} \\left(y + 2\\right)}{185} + \\frac{2 \\sqrt{185} \\left(z - 3\\right)}{37}}\\right|$"
      ],
      "text/plain": [
       "Eq(Abs(3*sqrt(1970)*(x - 3)/1970 + 19*sqrt(1970)*(y + 2)/1970 + 4*sqrt(1970)*(z - 3)/197), Abs(9*sqrt(185)*(x - 3)/185 + 2*sqrt(185)*(y + 2)/185 + 2*sqrt(185)*(z - 3)/37))"
      ]
     },
     "metadata": {},
     "output_type": "display_data"
    }
   ],
   "source": [
    "import sympy\n",
    "from sympy import  *\n",
    "\n",
    "A = Point(3, -2, 3)\n",
    "B = Point(-2, 3, 1) \n",
    "C = Point(1, -8, 6) \n",
    "D = Point(1, 2, 4) \n",
    "\n",
    "ABC = Plane(A,B,C)\n",
    "ACD = Plane(A,C,D)\n",
    "\n",
    "x, y,z = symbols(' x, y, z')\n",
    "X = Point(x, y, z)\n",
    "\n",
    "display(Eq(ABC.distance(X), ACD.distance(X)))"
   ]
  },
  {
   "cell_type": "markdown",
   "metadata": {},
   "source": [
    "###  Задание 3\n",
    "Построить плоскость, перпендикулярную плоскости АВС, проходящую через D и начало координат. Найти линию пересечения АВС и этой плоскости."
   ]
  },
  {
   "cell_type": "code",
   "execution_count": 14,
   "metadata": {},
   "outputs": [
    {
     "name": "stdout",
     "output_type": "stream",
     "text": [
      "уравнение перпендикулярной плоскости:  -4*x + 28*y - 13*z\n",
      "линия пересечения плоскостей:  (-121*x + 1367*y - 1183, 160*x + 1367*z - 2548)\n"
     ]
    }
   ],
   "source": [
    "import sympy\n",
    "from sympy import  Point, Line, Plane, Point3D, solve, solveset\n",
    "\n",
    "A = Point(3, -2, 3)\n",
    "B = Point(-2, 3, 1) \n",
    "C = Point(1, -8, 6) \n",
    "D = Point(1, 2, 4) \n",
    "\n",
    "ABC = Plane(A,B,C)\n",
    "\n",
    "Point0 = Point(0,0,0)\n",
    "\n",
    "PerpPlane = ABC.perpendicular_plane(D,Point0)\n",
    "\n",
    "print(\"уравнение перпендикулярной плоскости: \", PerpPlane.equation())\n",
    "\n",
    "print(\"линия пересечения плоскостей: \", ABC.intersection(PerpPlane)[0].equation())\n"
   ]
  },
  {
   "cell_type": "markdown",
   "metadata": {},
   "source": [
    "###  Задание 4\n",
    "Найти пересечение плоскости АВС и прямой DK, где K(3,-2, 3)."
   ]
  },
  {
   "cell_type": "code",
   "execution_count": 15,
   "metadata": {},
   "outputs": [
    {
     "name": "stdout",
     "output_type": "stream",
     "text": [
      "пересечение ABC и DК:  [Point3D(3, -2, 3)]\n"
     ]
    }
   ],
   "source": [
    "import sympy\n",
    "from sympy import  Point, Line, Plane, Point3D, solve, solveset\n",
    "\n",
    "A = Point(3, -2, 3)\n",
    "B = Point(-2, 3, 1) \n",
    "C = Point(1, -8, 6) \n",
    "D = Point(1, 2, 4) \n",
    "\n",
    "ABC = Plane(A,B,C)\n",
    "\n",
    "K = Point(3,-2,3)\n",
    "\n",
    "print(\"пересечение ABC и DК: \", ABC.intersection(Line(D,K)))\n"
   ]
  },
  {
   "cell_type": "markdown",
   "metadata": {},
   "source": [
    "###  Задание 5\n",
    "Проверить, что точка пересечения из Задания 4 лежит в плоскости AFC."
   ]
  },
  {
   "cell_type": "code",
   "execution_count": 19,
   "metadata": {},
   "outputs": [
    {
     "name": "stdout",
     "output_type": "stream",
     "text": [
      "Точка пересечения лежит в AFC:  True\n"
     ]
    }
   ],
   "source": [
    "import sympy\n",
    "from sympy import  Point, Line, Plane, Point3D, solve, solveset\n",
    "\n",
    "A = Point(3, -2, 3)\n",
    "B = Point(-2, 3, 1) \n",
    "C = Point(1, -8, 6) \n",
    "D = Point(1, 2, 4) \n",
    "F = Point(-7, 8, -1)\n",
    "\n",
    "ABC = Plane(A,B,C)\n",
    "\n",
    "K = Point(3,-2,3)\n",
    "\n",
    "print(\"Точка пересечения лежит в AFC: \", Point3D.are_coplanar(ABC.intersection(Line(D,K))[0], A,F,C))\n"
   ]
  },
  {
   "cell_type": "markdown",
   "metadata": {},
   "source": [
    "###  Задание 6\n",
    "Даны точки: A(3, -2, 3),  B(-2, 3, 1), C(1, -8, 6), D(1, 2, 4), F(-7, 8, -1).\n",
    "\n",
    "Составить словарь всех прямых (в нем должны быть и прямая АВ, и ВА!), каждая из которых проходит хотя бы через две заданные точки, ключ - сама прямая (Line), значение - список из имен ВСЕХ точек, лежащих на этой прямой. Вывести на экран имена только тех прямых, на которых лежит не менее трех точек из условия, а также список точек, лежащих на прямой."
   ]
  },
  {
   "cell_type": "code",
   "execution_count": 28,
   "metadata": {},
   "outputs": [
    {
     "name": "stdout",
     "output_type": "stream",
     "text": [
      "Прямая:  Line3D(Point3D(3, -2, 3), Point3D(-2, 3, 1))  Точки:  ['A', 'B', 'F']\n",
      "Прямая:  Line3D(Point3D(3, -2, 3), Point3D(-7, 8, -1))  Точки:  ['A', 'F', 'B']\n",
      "Прямая:  Line3D(Point3D(-2, 3, 1), Point3D(3, -2, 3))  Точки:  ['B', 'A', 'F']\n",
      "Прямая:  Line3D(Point3D(-2, 3, 1), Point3D(-7, 8, -1))  Точки:  ['B', 'F', 'A']\n",
      "Прямая:  Line3D(Point3D(-7, 8, -1), Point3D(3, -2, 3))  Точки:  ['F', 'A', 'B']\n",
      "Прямая:  Line3D(Point3D(-7, 8, -1), Point3D(-2, 3, 1))  Точки:  ['F', 'B', 'A']\n"
     ]
    }
   ],
   "source": [
    "A = Point(3, -2, 3)\n",
    "B = Point(-2, 3, 1) \n",
    "C = Point(1, -8, 6) \n",
    "D = Point(1, 2, 4) \n",
    "F = Point(-7, 8, -1)\n",
    "\n",
    "Points = {A: 'A', B: 'B', C: 'C', D: 'D', F: 'F'}\n",
    "Lines = {}\n",
    "\n",
    "for P1 in Points.keys():\n",
    "    for P2 in Points.keys() - {P1}:\n",
    "        Lines[Line(P1,P2)] = [Points[P1], Points[P2]]\n",
    "        for P3 in Points.keys() - {P1} - {P2}:\n",
    "            P_name1, P_name2, P_name3 = [Points[P] for P in (P1, P2, P3)]\n",
    "            if Point3D.are_collinear(P1, P2, P3):\n",
    "                Lines[Line(P1,P2)].append(Points[P3])\n",
    "                \n",
    "for line in Lines.keys():\n",
    "    if(len(Lines[line])>=3):\n",
    "        print(\"Прямая: \",line,\" Точки: \",Lines[line])"
   ]
  },
  {
   "cell_type": "markdown",
   "metadata": {},
   "source": [
    "### Индивидуальное задание\n",
    "\n",
    "Даны точки: $A(3, 2, 1)$,  $B(2, -3, 1)$, $C(0, -4, 6)$, $D(4, 7, 1)$, $F(1, -8, 1)$.\n",
    "\n",
    "Составить список lines_list, состоящий из  tuple из троек прямых, каждая из которых проходит через две (или более) заданные точки, причем все прямые пересекаются в одной точке. Совпадающие прямые не учитывать. "
   ]
  },
  {
   "cell_type": "code",
   "execution_count": 29,
   "metadata": {},
   "outputs": [
    {
     "data": {
      "text/plain": [
       "[(Line3D(Point3D(4, 29/2, 0), Point3D(-1, 8, -6)),\n",
       "  Line3D(Point3D(-1, 8, -6), Point3D(2, 12, -2)),\n",
       "  Line3D(Point3D(-1, 8, -6), Point3D(6, 17, 2))),\n",
       " (Line3D(Point3D(4, 29/2, 0), Point3D(-1, 8, -6)),\n",
       "  Line3D(Point3D(2, 12, -2), Point3D(9, 21, 6)),\n",
       "  Line3D(Point3D(6, 17, 2), Point3D(9, 21, 6))),\n",
       " (Line3D(Point3D(4, 29/2, 0), Point3D(2, 12, -2)),\n",
       "  Line3D(Point3D(-1, 8, -6), Point3D(2, 12, -2)),\n",
       "  Line3D(Point3D(2, 12, -2), Point3D(9, 21, 6))),\n",
       " (Line3D(Point3D(4, 29/2, 0), Point3D(2, 12, -2)),\n",
       "  Line3D(Point3D(-1, 8, -6), Point3D(6, 17, 2)),\n",
       "  Line3D(Point3D(6, 17, 2), Point3D(9, 21, 6))),\n",
       " (Line3D(Point3D(4, 29/2, 0), Point3D(6, 17, 2)),\n",
       "  Line3D(Point3D(-1, 8, -6), Point3D(2, 12, -2)),\n",
       "  Line3D(Point3D(2, 12, -2), Point3D(9, 21, 6))),\n",
       " (Line3D(Point3D(4, 29/2, 0), Point3D(6, 17, 2)),\n",
       "  Line3D(Point3D(-1, 8, -6), Point3D(6, 17, 2)),\n",
       "  Line3D(Point3D(6, 17, 2), Point3D(9, 21, 6))),\n",
       " (Line3D(Point3D(4, 29/2, 0), Point3D(9, 21, 6)),\n",
       "  Line3D(Point3D(-1, 8, -6), Point3D(2, 12, -2)),\n",
       "  Line3D(Point3D(-1, 8, -6), Point3D(6, 17, 2))),\n",
       " (Line3D(Point3D(4, 29/2, 0), Point3D(9, 21, 6)),\n",
       "  Line3D(Point3D(2, 12, -2), Point3D(9, 21, 6)),\n",
       "  Line3D(Point3D(6, 17, 2), Point3D(9, 21, 6))),\n",
       " (Line3D(Point3D(-1, 8, -6), Point3D(2, 12, -2)),\n",
       "  Line3D(Point3D(-1, 8, -6), Point3D(6, 17, 2)),\n",
       "  Line3D(Point3D(-1, 8, -6), Point3D(9, 21, 6))),\n",
       " (Line3D(Point3D(-1, 8, -6), Point3D(2, 12, -2)),\n",
       "  Line3D(Point3D(2, 12, -2), Point3D(6, 17, 2)),\n",
       "  Line3D(Point3D(2, 12, -2), Point3D(9, 21, 6))),\n",
       " (Line3D(Point3D(-1, 8, -6), Point3D(6, 17, 2)),\n",
       "  Line3D(Point3D(2, 12, -2), Point3D(6, 17, 2)),\n",
       "  Line3D(Point3D(6, 17, 2), Point3D(9, 21, 6))),\n",
       " (Line3D(Point3D(-1, 8, -6), Point3D(9, 21, 6)),\n",
       "  Line3D(Point3D(2, 12, -2), Point3D(9, 21, 6)),\n",
       "  Line3D(Point3D(6, 17, 2), Point3D(9, 21, 6)))]"
      ]
     },
     "execution_count": 29,
     "metadata": {},
     "output_type": "execute_result"
    }
   ],
   "source": [
    "#Вариант N143\n",
    "#Точки: B(4, 29/2, 0), C(−1, 8, −6), D(2, 12, −2), G(6, 17, 2) и P(9, 21, 6)\n",
    "\n",
    "B = Point(4, 29/2, 0) \n",
    "C = Point(-1, 8, -6) \n",
    "D = Point(2, 12, -2) \n",
    "G = Point(6, 17, 2)\n",
    "P = Point(9, 21, 6)\n",
    "\n",
    "lines_list = []\n",
    "Points = [B,C,D,G,P]\n",
    "Lines = []\n",
    "\n",
    "for i in range(len(Points)):\n",
    "    for j in range(i+1, len(Points)):\n",
    "        Lines.append(Line(Points[i], Points[j]))\n",
    "        \n",
    "for i in range(len(Lines)):\n",
    "    for j in range(i+1, len(Lines)):\n",
    "        for k in range(j+1, len(Lines)):\n",
    "            if Lines[i].intersection(Lines[j]) == Lines[i].intersection(Lines[k]) == Lines[j].intersection(Lines[k]):\n",
    "                lines_list.append((Lines[i],Lines[j],Lines[k]))\n",
    "        \n",
    "lines_list"
   ]
  },
  {
   "cell_type": "code",
   "execution_count": null,
   "metadata": {},
   "outputs": [],
   "source": []
  }
 ],
 "metadata": {
  "kernelspec": {
   "display_name": "Python 3",
   "language": "python",
   "name": "python3"
  },
  "language_info": {
   "codemirror_mode": {
    "name": "ipython",
    "version": 3
   },
   "file_extension": ".py",
   "mimetype": "text/x-python",
   "name": "python",
   "nbconvert_exporter": "python",
   "pygments_lexer": "ipython3",
   "version": "3.8.3"
  }
 },
 "nbformat": 4,
 "nbformat_minor": 2
}
