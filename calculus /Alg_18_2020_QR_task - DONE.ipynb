{
 "cells": [
  {
   "cell_type": "code",
   "execution_count": 2,
   "metadata": {},
   "outputs": [],
   "source": [
    "import sympy\n",
    "from sympy import Matrix, S, Symbol, symbols, I, zeros, eye, simplify, expand, expand_complex\n",
    "import numpy as np\n",
    "from numpy import random"
   ]
  },
  {
   "cell_type": "markdown",
   "metadata": {},
   "source": [
    "# Занятие 18\n",
    "# Алгебра\n",
    "## Матричные разложения: Холецкого, LDL, LU, QR. Жорданова форма."
   ]
  },
  {
   "cell_type": "markdown",
   "metadata": {},
   "source": [
    "### Задание 1.\n",
    "Построить разложение Холецкого матриц\n",
    "$$\n",
    "M1=\\left(\n",
    "\\begin{matrix}\n",
    "1&-3&0\\\\\n",
    "-3&-2&10\\\\\n",
    "0&10&7\n",
    "\\end{matrix}\n",
    "\\right)\n",
    "\\quad\n",
    "M2=\\left(\n",
    "\\begin{matrix}\n",
    "18&1 - 2I& -2\\\\\n",
    "1 + 2I&4&-3I\\\\\n",
    "-2&3I&5\n",
    "\\end{matrix}\n",
    "\\right)\n",
    "$$\n",
    "Проверить положительную определенность эрмитовой матрицы."
   ]
  },
  {
   "cell_type": "code",
   "execution_count": 3,
   "metadata": {},
   "outputs": [
    {
     "data": {
      "text/plain": [
       "'LA'"
      ]
     },
     "metadata": {},
     "output_type": "display_data"
    },
    {
     "data": {
      "text/latex": [
       "$\\displaystyle \\left[\\begin{matrix}1 & 0 & 0\\\\-3 & \\sqrt{11} i & 0\\\\0 & - \\frac{10 \\sqrt{11} i}{11} & \\frac{\\sqrt{1947}}{11}\\end{matrix}\\right]$"
      ],
      "text/plain": [
       "Matrix([\n",
       "[ 1,                 0,             0],\n",
       "[-3,        sqrt(11)*I,             0],\n",
       "[ 0, -10*sqrt(11)*I/11, sqrt(1947)/11]])"
      ]
     },
     "metadata": {},
     "output_type": "display_data"
    },
    {
     "data": {
      "text/plain": [
       "'simplify(LA*LA.T - A)'"
      ]
     },
     "metadata": {},
     "output_type": "display_data"
    },
    {
     "data": {
      "text/latex": [
       "$\\displaystyle \\left[\\begin{matrix}0 & 0 & 0\\\\0 & 0 & 0\\\\0 & 0 & 0\\end{matrix}\\right]$"
      ],
      "text/plain": [
       "Matrix([\n",
       "[0, 0, 0],\n",
       "[0, 0, 0],\n",
       "[0, 0, 0]])"
      ]
     },
     "metadata": {},
     "output_type": "display_data"
    },
    {
     "data": {
      "text/plain": [
       "'B.is_positive_definite'"
      ]
     },
     "metadata": {},
     "output_type": "display_data"
    },
    {
     "data": {
      "text/plain": [
       "True"
      ]
     },
     "metadata": {},
     "output_type": "display_data"
    },
    {
     "data": {
      "text/plain": [
       "'LB'"
      ]
     },
     "metadata": {},
     "output_type": "display_data"
    },
    {
     "data": {
      "text/latex": [
       "$\\displaystyle \\left[\\begin{matrix}3 \\sqrt{2} & 0 & 0\\\\\\frac{\\sqrt{2} \\left(1 + 2 i\\right)}{6} & \\sqrt{- \\frac{\\left(1 - 2 i\\right) \\left(1 + 2 i\\right)}{18} + 4} & 0\\\\- \\frac{\\sqrt{2}}{3} & \\frac{\\frac{1}{9} + \\frac{25 i}{9}}{\\sqrt{- \\frac{\\left(1 - 2 i\\right) \\left(1 + 2 i\\right)}{18} + 4}} & \\sqrt{\\frac{43}{9} - \\frac{\\left(\\frac{1}{9} - \\frac{25 i}{9}\\right) \\left(\\frac{1}{9} + \\frac{25 i}{9}\\right)}{- \\frac{\\left(1 - 2 i\\right) \\left(1 + 2 i\\right)}{18} + 4}}\\end{matrix}\\right]$"
      ],
      "text/plain": [
       "Matrix([\n",
       "[          3*sqrt(2),                                                0,                                                                        0],\n",
       "[sqrt(2)*(1 + 2*I)/6,                sqrt(-(1 - 2*I)*(1 + 2*I)/18 + 4),                                                                        0],\n",
       "[         -sqrt(2)/3, (1/9 + 25*I/9)/sqrt(-(1 - 2*I)*(1 + 2*I)/18 + 4), sqrt(43/9 - (1/9 - 25*I/9)*(1/9 + 25*I/9)/(-(1 - 2*I)*(1 + 2*I)/18 + 4))]])"
      ]
     },
     "metadata": {},
     "output_type": "display_data"
    },
    {
     "data": {
      "text/plain": [
       "'simplify(LB)'"
      ]
     },
     "metadata": {},
     "output_type": "display_data"
    },
    {
     "data": {
      "text/latex": [
       "$\\displaystyle \\left[\\begin{matrix}3 \\sqrt{2} & 0 & 0\\\\\\frac{\\sqrt{2} \\left(1 + 2 i\\right)}{6} & \\frac{\\sqrt{134}}{6} & 0\\\\- \\frac{\\sqrt{2}}{3} & \\frac{\\sqrt{134} \\left(1 + 25 i\\right)}{201} & \\frac{\\sqrt{12127}}{67}\\end{matrix}\\right]$"
      ],
      "text/plain": [
       "Matrix([\n",
       "[          3*sqrt(2),                        0,              0],\n",
       "[sqrt(2)*(1 + 2*I)/6,              sqrt(134)/6,              0],\n",
       "[         -sqrt(2)/3, sqrt(134)*(1 + 25*I)/201, sqrt(12127)/67]])"
      ]
     },
     "metadata": {},
     "output_type": "display_data"
    },
    {
     "data": {
      "text/plain": [
       "'simplify(expand(LB))'"
      ]
     },
     "metadata": {},
     "output_type": "display_data"
    },
    {
     "data": {
      "text/latex": [
       "$\\displaystyle \\left[\\begin{matrix}3 \\sqrt{2} & 0 & 0\\\\\\frac{\\sqrt{2} \\left(1 + 2 i\\right)}{6} & \\frac{\\sqrt{134}}{6} & 0\\\\- \\frac{\\sqrt{2}}{3} & \\frac{\\sqrt{134} \\left(1 + 25 i\\right)}{201} & \\frac{\\sqrt{12127}}{67}\\end{matrix}\\right]$"
      ],
      "text/plain": [
       "Matrix([\n",
       "[          3*sqrt(2),                        0,              0],\n",
       "[sqrt(2)*(1 + 2*I)/6,              sqrt(134)/6,              0],\n",
       "[         -sqrt(2)/3, sqrt(134)*(1 + 25*I)/201, sqrt(12127)/67]])"
      ]
     },
     "metadata": {},
     "output_type": "display_data"
    },
    {
     "data": {
      "text/plain": [
       "'simplify(LB*LB.H - B)'"
      ]
     },
     "metadata": {},
     "output_type": "display_data"
    },
    {
     "data": {
      "text/latex": [
       "$\\displaystyle \\left[\\begin{matrix}0 & 0 & 0\\\\0 & 0 & 0\\\\0 & 0 & 0\\end{matrix}\\right]$"
      ],
      "text/plain": [
       "Matrix([\n",
       "[0, 0, 0],\n",
       "[0, 0, 0],\n",
       "[0, 0, 0]])"
      ]
     },
     "metadata": {},
     "output_type": "display_data"
    }
   ],
   "source": [
    "A = Matrix([[1, -3, 0], [-3, -2, 10], [0, 10, 7]])\n",
    "B = Matrix([[18, 1 - 2 * I, -2], [1 + 2 * I, 4, -3 * I], [-2, 3 * I, 5]])\n",
    "LA = A.cholesky(hermitian=False)\n",
    "LB = B.cholesky()\n",
    "display('LA', LA, 'simplify(LA*LA.T - A)', simplify(LA*LA.T - A),\n",
    "        'B.is_positive_definite', B.is_positive_definite,\n",
    "        'LB', LB, 'simplify(LB)', simplify(LB),\n",
    "        'simplify(expand(LB))', simplify(expand(LB)),\n",
    "        'simplify(LB*LB.H - B)', simplify(LB*LB.H - B))"
   ]
  },
  {
   "cell_type": "markdown",
   "metadata": {},
   "source": [
    "### Задание 2.\n",
    "Построить  LDL разложение для матриц Задания 1. Проверку положительной определенности для эрмитовой матрицы НЕ делать."
   ]
  },
  {
   "cell_type": "code",
   "execution_count": 4,
   "metadata": {},
   "outputs": [
    {
     "data": {
      "text/plain": [
       "'LDLA'"
      ]
     },
     "metadata": {},
     "output_type": "display_data"
    },
    {
     "data": {
      "text/latex": [
       "$\\displaystyle \\left[\\begin{matrix}1 & 0 & 0\\\\-3 & 1 & 0\\\\0 & - \\frac{10}{11} & 1\\end{matrix}\\right]$"
      ],
      "text/plain": [
       "Matrix([\n",
       "[ 1,      0, 0],\n",
       "[-3,      1, 0],\n",
       "[ 0, -10/11, 1]])"
      ]
     },
     "metadata": {},
     "output_type": "display_data"
    },
    {
     "data": {
      "text/latex": [
       "$\\displaystyle \\left[\\begin{matrix}1 & 0 & 0\\\\0 & -11 & 0\\\\0 & 0 & \\frac{177}{11}\\end{matrix}\\right]$"
      ],
      "text/plain": [
       "Matrix([\n",
       "[1,   0,      0],\n",
       "[0, -11,      0],\n",
       "[0,   0, 177/11]])"
      ]
     },
     "metadata": {},
     "output_type": "display_data"
    },
    {
     "data": {
      "text/plain": [
       "'simplify(LA*DA*LA.T - A)'"
      ]
     },
     "metadata": {},
     "output_type": "display_data"
    },
    {
     "data": {
      "text/latex": [
       "$\\displaystyle \\left[\\begin{matrix}0 & 0 & 0\\\\0 & 0 & 0\\\\0 & 0 & 0\\end{matrix}\\right]$"
      ],
      "text/plain": [
       "Matrix([\n",
       "[0, 0, 0],\n",
       "[0, 0, 0],\n",
       "[0, 0, 0]])"
      ]
     },
     "metadata": {},
     "output_type": "display_data"
    },
    {
     "data": {
      "text/plain": [
       "'LDLB'"
      ]
     },
     "metadata": {},
     "output_type": "display_data"
    },
    {
     "data": {
      "text/latex": [
       "$\\displaystyle \\left[\\begin{matrix}1 & 0 & 0\\\\\\frac{1}{18} + \\frac{i}{9} & 1 & 0\\\\- \\frac{1}{9} & \\frac{\\frac{1}{9} + \\frac{25 i}{9}}{- 18 \\left(\\frac{1}{18} - \\frac{i}{9}\\right) \\left(\\frac{1}{18} + \\frac{i}{9}\\right) + 4} & 1\\end{matrix}\\right]$"
      ],
      "text/plain": [
       "Matrix([\n",
       "[         1,                                                  0, 0],\n",
       "[1/18 + I/9,                                                  1, 0],\n",
       "[      -1/9, (1/9 + 25*I/9)/(-18*(1/18 - I/9)*(1/18 + I/9) + 4), 1]])"
      ]
     },
     "metadata": {},
     "output_type": "display_data"
    },
    {
     "data": {
      "text/latex": [
       "$\\displaystyle \\left[\\begin{matrix}18 & 0 & 0\\\\0 & - 18 \\left(\\frac{1}{18} - \\frac{i}{9}\\right) \\left(\\frac{1}{18} + \\frac{i}{9}\\right) + 4 & 0\\\\0 & 0 & \\frac{43}{9} - \\frac{\\left(\\frac{1}{9} - \\frac{25 i}{9}\\right) \\left(\\frac{1}{9} + \\frac{25 i}{9}\\right)}{- 18 \\left(\\frac{1}{18} - \\frac{i}{9}\\right) \\left(\\frac{1}{18} + \\frac{i}{9}\\right) + 4}\\end{matrix}\\right]$"
      ],
      "text/plain": [
       "Matrix([\n",
       "[18,                                 0,                                                                        0],\n",
       "[ 0, -18*(1/18 - I/9)*(1/18 + I/9) + 4,                                                                        0],\n",
       "[ 0,                                 0, 43/9 - (1/9 - 25*I/9)*(1/9 + 25*I/9)/(-18*(1/18 - I/9)*(1/18 + I/9) + 4)]])"
      ]
     },
     "metadata": {},
     "output_type": "display_data"
    },
    {
     "data": {
      "text/plain": [
       "'simplify(LB)'"
      ]
     },
     "metadata": {},
     "output_type": "display_data"
    },
    {
     "data": {
      "text/latex": [
       "$\\displaystyle \\left[\\begin{matrix}1 & 0 & 0\\\\\\frac{1}{18} + \\frac{i}{9} & 1 & 0\\\\- \\frac{1}{9} & \\frac{2}{67} + \\frac{50 i}{67} & 1\\end{matrix}\\right]$"
      ],
      "text/plain": [
       "Matrix([\n",
       "[         1,              0, 0],\n",
       "[1/18 + I/9,              1, 0],\n",
       "[      -1/9, 2/67 + 50*I/67, 1]])"
      ]
     },
     "metadata": {},
     "output_type": "display_data"
    },
    {
     "data": {
      "text/plain": [
       "'simplify(LB*DB*LB.H - B)'"
      ]
     },
     "metadata": {},
     "output_type": "display_data"
    },
    {
     "data": {
      "text/latex": [
       "$\\displaystyle \\left[\\begin{matrix}0 & 0 & 0\\\\0 & 0 & 0\\\\0 & 0 & 0\\end{matrix}\\right]$"
      ],
      "text/plain": [
       "Matrix([\n",
       "[0, 0, 0],\n",
       "[0, 0, 0],\n",
       "[0, 0, 0]])"
      ]
     },
     "metadata": {},
     "output_type": "display_data"
    }
   ],
   "source": [
    "LA, DA = A.LDLdecomposition(hermitian=False)\n",
    "LB, DB = B.LDLdecomposition()\n",
    "display('LDLA', LA, DA, 'simplify(LA*DA*LA.T - A)', simplify(LA*DA*LA.T - A),\n",
    "        'LDLB', LB, DB, 'simplify(LB)', simplify(LB),\n",
    "        'simplify(LB*DB*LB.H - B)', simplify(LB*DB*LB.H - B))"
   ]
  },
  {
   "cell_type": "markdown",
   "metadata": {},
   "source": [
    "### Задание  3.\n",
    "Построить  LU разложение для матрицы \n",
    "$$\n",
    "V=\\left(\n",
    "\\begin{matrix}\n",
    "5&-2 - I&3 - 4I&1 + 4I\\\\\n",
    "1 - I&-2&5 - I&2 - I\\\\\n",
    "5&6 + I&0&5 \n",
    "\\end{matrix}\n",
    "\\right)\n",
    "$$"
   ]
  },
  {
   "cell_type": "code",
   "execution_count": 5,
   "metadata": {},
   "outputs": [
    {
     "data": {
      "text/plain": [
       "'L'"
      ]
     },
     "metadata": {},
     "output_type": "display_data"
    },
    {
     "data": {
      "text/latex": [
       "$\\displaystyle \\left[\\begin{matrix}1 & 0 & 0\\\\1 & 1 & 0\\\\\\frac{1}{5} - \\frac{i}{5} & \\frac{\\left(-2 - \\left(-2 - i\\right) \\left(\\frac{1}{5} - \\frac{i}{5}\\right)\\right) \\left(8 - 2 i\\right)}{68} & 1\\end{matrix}\\right]$"
      ],
      "text/plain": [
       "Matrix([\n",
       "[        1,                                        0, 0],\n",
       "[        1,                                        1, 0],\n",
       "[1/5 - I/5, (-2 - (-2 - I)*(1/5 - I/5))*(8 - 2*I)/68, 1]])"
      ]
     },
     "metadata": {},
     "output_type": "display_data"
    },
    {
     "data": {
      "text/plain": [
       "'U'"
      ]
     },
     "metadata": {},
     "output_type": "display_data"
    },
    {
     "data": {
      "text/latex": [
       "$\\displaystyle \\left[\\begin{matrix}5 & -2 - i & 3 - 4 i & 1 + 4 i\\\\0 & 8 + 2 i & -3 + 4 i & 4 - 4 i\\\\0 & 0 & 5 - i - \\frac{\\left(-3 + 4 i\\right) \\left(-2 - \\left(-2 - i\\right) \\left(\\frac{1}{5} - \\frac{i}{5}\\right)\\right) \\left(8 - 2 i\\right)}{68} - \\left(\\frac{1}{5} - \\frac{i}{5}\\right) \\left(3 - 4 i\\right) & 2 - i - \\frac{\\left(-2 - \\left(-2 - i\\right) \\left(\\frac{1}{5} - \\frac{i}{5}\\right)\\right) \\left(4 - 4 i\\right) \\left(8 - 2 i\\right)}{68} - \\left(\\frac{1}{5} - \\frac{i}{5}\\right) \\left(1 + 4 i\\right)\\end{matrix}\\right]$"
      ],
      "text/plain": [
       "Matrix([\n",
       "[5,  -2 - I,                                                                             3 - 4*I,                                                                            1 + 4*I],\n",
       "[0, 8 + 2*I,                                                                            -3 + 4*I,                                                                            4 - 4*I],\n",
       "[0,       0, 5 - I - (-3 + 4*I)*(-2 - (-2 - I)*(1/5 - I/5))*(8 - 2*I)/68 - (1/5 - I/5)*(3 - 4*I), 2 - I - (-2 - (-2 - I)*(1/5 - I/5))*(4 - 4*I)*(8 - 2*I)/68 - (1/5 - I/5)*(1 + 4*I)]])"
      ]
     },
     "metadata": {},
     "output_type": "display_data"
    },
    {
     "data": {
      "text/plain": [
       "'perm'"
      ]
     },
     "metadata": {},
     "output_type": "display_data"
    },
    {
     "data": {
      "text/plain": [
       "[[1, 2]]"
      ]
     },
     "metadata": {},
     "output_type": "display_data"
    },
    {
     "data": {
      "text/plain": [
       "'P'"
      ]
     },
     "metadata": {},
     "output_type": "display_data"
    },
    {
     "data": {
      "text/latex": [
       "$\\displaystyle \\left[\\begin{matrix}1 & 0 & 0\\\\0 & 0 & 1\\\\0 & 1 & 0\\end{matrix}\\right]$"
      ],
      "text/plain": [
       "Matrix([\n",
       "[1, 0, 0],\n",
       "[0, 0, 1],\n",
       "[0, 1, 0]])"
      ]
     },
     "metadata": {},
     "output_type": "display_data"
    },
    {
     "data": {
      "text/plain": [
       "'MLU'"
      ]
     },
     "metadata": {},
     "output_type": "display_data"
    },
    {
     "data": {
      "text/latex": [
       "$\\displaystyle \\left[\\begin{matrix}5 & -2 - i & 3 - 4 i & 1 + 4 i\\\\1 - i & -2 & 5 - i & 2 - i\\\\5 & 6 + i & 0 & 5\\end{matrix}\\right]$"
      ],
      "text/plain": [
       "Matrix([\n",
       "[    5, -2 - I, 3 - 4*I, 1 + 4*I],\n",
       "[1 - I,     -2,   5 - I,   2 - I],\n",
       "[    5,  6 + I,       0,       5]])"
      ]
     },
     "metadata": {},
     "output_type": "display_data"
    },
    {
     "data": {
      "text/plain": [
       "'M'"
      ]
     },
     "metadata": {},
     "output_type": "display_data"
    },
    {
     "data": {
      "text/latex": [
       "$\\displaystyle \\left[\\begin{matrix}5 & -2 - i & 3 - 4 i & 1 + 4 i\\\\1 - i & -2 & 5 - i & 2 - i\\\\5 & 6 + i & 0 & 5\\end{matrix}\\right]$"
      ],
      "text/plain": [
       "Matrix([\n",
       "[    5, -2 - I, 3 - 4*I, 1 + 4*I],\n",
       "[1 - I,     -2,   5 - I,   2 - I],\n",
       "[    5,  6 + I,       0,       5]])"
      ]
     },
     "metadata": {},
     "output_type": "display_data"
    },
    {
     "data": {
      "text/plain": [
       "'P*M == L*U'"
      ]
     },
     "metadata": {},
     "output_type": "display_data"
    },
    {
     "data": {
      "text/plain": [
       "True"
      ]
     },
     "metadata": {},
     "output_type": "display_data"
    }
   ],
   "source": [
    "M = Matrix([[5, -2 - I, 3 - 4 * I, 1 + 4 * I], [1 - I, -2, 5 - I, 2 - I], [5, 6 + I, 0, 5]])\n",
    "number_of_rows = M.shape[0]\n",
    "L, U, perm = M.LUdecomposition()\n",
    "MLU = simplify(expand((L*U).permuteBkwd(perm)))\n",
    "P = eye(number_of_rows).permuteFwd(perm)\n",
    "display('L', L, 'U', U, 'perm', perm, 'P', P, 'MLU', MLU,\n",
    "        'M', M, 'P*M == L*U', P*M == simplify(expand(L*U)))"
   ]
  },
  {
   "cell_type": "markdown",
   "metadata": {},
   "source": [
    "### Задание  4.\n",
    "Построить  QR разложение для матрицы\n",
    "$$\n",
    "A=\\left(\n",
    "\\begin{matrix}\n",
    "3 + i&  2 & -i & 4 - 2i\\\\\n",
    "-2 & -3 &  i & -3 + i\\\\\n",
    "1 + i & -1 &  0 & 1 - i\\\\\n",
    "-1 + i &  -4 & i & -2\n",
    "\\end{matrix}\n",
    "\\right)\n",
    "$$\n",
    "показать, что $A = QR$."
   ]
  },
  {
   "cell_type": "code",
   "execution_count": 6,
   "metadata": {},
   "outputs": [
    {
     "data": {
      "text/plain": [
       "'Q'"
      ]
     },
     "metadata": {},
     "output_type": "display_data"
    },
    {
     "data": {
      "text/latex": [
       "$\\displaystyle \\left[\\begin{matrix}\\frac{\\sqrt{2} \\left(3 + i\\right)}{6} & - \\frac{\\sqrt{17} \\left(1 + 4 i\\right)}{51}\\\\- \\frac{\\sqrt{2}}{3} & \\frac{\\sqrt{17} \\left(-4 + i\\right)}{51}\\\\\\frac{\\sqrt{2} \\left(1 + i\\right)}{6} & - \\frac{\\sqrt{17} \\left(5 + 3 i\\right)}{51}\\\\\\frac{\\sqrt{2} \\left(-1 + i\\right)}{6} & - \\frac{\\sqrt{17} \\left(9 + 2 i\\right)}{51}\\end{matrix}\\right]$"
      ],
      "text/plain": [
       "Matrix([\n",
       "[ sqrt(2)*(3 + I)/6, -sqrt(17)*(1 + 4*I)/51],\n",
       "[        -sqrt(2)/3,   sqrt(17)*(-4 + I)/51],\n",
       "[ sqrt(2)*(1 + I)/6, -sqrt(17)*(5 + 3*I)/51],\n",
       "[sqrt(2)*(-1 + I)/6, -sqrt(17)*(9 + 2*I)/51]])"
      ]
     },
     "metadata": {},
     "output_type": "display_data"
    },
    {
     "data": {
      "text/plain": [
       "'R'"
      ]
     },
     "metadata": {},
     "output_type": "display_data"
    },
    {
     "data": {
      "text/latex": [
       "$\\displaystyle \\left[\\begin{matrix}3 \\sqrt{2} & \\frac{\\sqrt{2} \\left(5 + i\\right)}{2} & - \\sqrt{2} i & \\sqrt{2} \\left(3 - 2 i\\right)\\\\0 & \\sqrt{17} & \\frac{\\sqrt{17} \\left(1 - 4 i\\right)}{17} & \\frac{\\sqrt{17} \\left(11 + 7 i\\right)}{17}\\end{matrix}\\right]$"
      ],
      "text/plain": [
       "Matrix([\n",
       "[3*sqrt(2), sqrt(2)*(5 + I)/2,            -sqrt(2)*I,      sqrt(2)*(3 - 2*I)],\n",
       "[        0,          sqrt(17), sqrt(17)*(1 - 4*I)/17, sqrt(17)*(11 + 7*I)/17]])"
      ]
     },
     "metadata": {},
     "output_type": "display_data"
    },
    {
     "data": {
      "text/plain": [
       "'MQR'"
      ]
     },
     "metadata": {},
     "output_type": "display_data"
    },
    {
     "data": {
      "text/latex": [
       "$\\displaystyle \\left[\\begin{matrix}3 + i & 2 & - i & 4 - 2 i\\\\-2 & -3 & i & -3 + i\\\\1 + i & -1 & 0 & 1 - i\\\\-1 + i & -4 & i & -2\\end{matrix}\\right]$"
      ],
      "text/plain": [
       "Matrix([\n",
       "[ 3 + I,  2, -I, 4 - 2*I],\n",
       "[    -2, -3,  I,  -3 + I],\n",
       "[ 1 + I, -1,  0,   1 - I],\n",
       "[-1 + I, -4,  I,      -2]])"
      ]
     },
     "metadata": {},
     "output_type": "display_data"
    },
    {
     "data": {
      "text/plain": [
       "'M'"
      ]
     },
     "metadata": {},
     "output_type": "display_data"
    },
    {
     "data": {
      "text/latex": [
       "$\\displaystyle \\left[\\begin{matrix}3 + i & 2 & - i & 4 - 2 i\\\\-2 & -3 & i & -3 + i\\\\1 + i & -1 & 0 & 1 - i\\\\-1 + i & -4 & i & -2\\end{matrix}\\right]$"
      ],
      "text/plain": [
       "Matrix([\n",
       "[ 3 + I,  2, -I, 4 - 2*I],\n",
       "[    -2, -3,  I,  -3 + I],\n",
       "[ 1 + I, -1,  0,   1 - I],\n",
       "[-1 + I, -4,  I,      -2]])"
      ]
     },
     "metadata": {},
     "output_type": "display_data"
    },
    {
     "data": {
      "text/plain": [
       "'M = QR'"
      ]
     },
     "metadata": {},
     "output_type": "display_data"
    },
    {
     "data": {
      "text/plain": [
       "True"
      ]
     },
     "metadata": {},
     "output_type": "display_data"
    }
   ],
   "source": [
    "M = Matrix([[3 + I, 2, -I, 4 - 2 * I], [-2, -3, I, -3 + I], [1 + I, -1, 0, 1 - I], [-1 + I, -4, I, -2]])\n",
    "Q, R = M.QRdecomposition()\n",
    "MQR = simplify(expand(Q*R))\n",
    "display('Q', simplify(expand(Q)), 'R', simplify(expand(R)),\n",
    "        'MQR', MQR, 'M', M, 'M = QR', M == MQR)"
   ]
  },
  {
   "cell_type": "markdown",
   "metadata": {},
   "source": [
    "### Задание  5.\n",
    "Построить  жорданову форму для матрицы\n",
    "$$\n",
    "K=\\left(\n",
    "\\begin{matrix}\n",
    "6 &  5 & -2 & -3\\\\\n",
    "-3 & -1 &  3 &  3\\\\\n",
    "2 &  1 & -2 &  -3\\\\\n",
    "-1 & 1 & 5 & 5\n",
    "\\end{matrix}\n",
    "\\right)\n",
    "$$"
   ]
  },
  {
   "cell_type": "code",
   "execution_count": 7,
   "metadata": {},
   "outputs": [
    {
     "data": {
      "text/plain": [
       "'P'"
      ]
     },
     "metadata": {},
     "output_type": "display_data"
    },
    {
     "data": {
      "text/latex": [
       "$\\displaystyle \\left[\\begin{matrix}-2 & - \\frac{2}{3} & -2 - \\frac{\\sqrt{3}}{3} & -2 + \\frac{\\sqrt{3}}{3}\\\\-2 & -1 & - \\sqrt{3} - \\frac{2}{3} & - \\frac{2}{3} + \\sqrt{3}\\\\1 & \\frac{2}{3} & \\frac{\\sqrt{3}}{3} + \\frac{2}{3} & \\frac{2}{3} - \\frac{\\sqrt{3}}{3}\\\\1 & 1 & 1 & 1\\end{matrix}\\right]$"
      ],
      "text/plain": [
       "Matrix([\n",
       "[-2, -2/3,  -2 - sqrt(3)/3,  -2 + sqrt(3)/3],\n",
       "[-2,   -1,  -sqrt(3) - 2/3,  -2/3 + sqrt(3)],\n",
       "[ 1,  2/3, sqrt(3)/3 + 2/3, 2/3 - sqrt(3)/3],\n",
       "[ 1,    1,               1,               1]])"
      ]
     },
     "metadata": {},
     "output_type": "display_data"
    },
    {
     "data": {
      "text/plain": [
       "'J'"
      ]
     },
     "metadata": {},
     "output_type": "display_data"
    },
    {
     "data": {
      "text/latex": [
       "$\\displaystyle \\left[\\begin{matrix}-2 & 0 & 0 & 0\\\\0 & 0 & 0 & 0\\\\0 & 0 & 3 - 3 \\sqrt{3} & 0\\\\0 & 0 & 0 & 3 + 3 \\sqrt{3}\\end{matrix}\\right]$"
      ],
      "text/plain": [
       "Matrix([\n",
       "[-2, 0,             0,             0],\n",
       "[ 0, 0,             0,             0],\n",
       "[ 0, 0, 3 - 3*sqrt(3),             0],\n",
       "[ 0, 0,             0, 3 + 3*sqrt(3)]])"
      ]
     },
     "metadata": {},
     "output_type": "display_data"
    },
    {
     "data": {
      "text/plain": [
       "'PJP**(-1)'"
      ]
     },
     "metadata": {},
     "output_type": "display_data"
    },
    {
     "data": {
      "text/latex": [
       "$\\displaystyle \\left[\\begin{matrix}1 & -5 & 1 & -5\\\\-5 & 1 & -5 & 1\\\\1 & 1 & 1 & 1\\\\-1 & 5 & 5 & 1\\end{matrix}\\right]$"
      ],
      "text/plain": [
       "Matrix([\n",
       "[ 1, -5,  1, -5],\n",
       "[-5,  1, -5,  1],\n",
       "[ 1,  1,  1,  1],\n",
       "[-1,  5,  5,  1]])"
      ]
     },
     "metadata": {},
     "output_type": "display_data"
    },
    {
     "data": {
      "text/plain": [
       "'K'"
      ]
     },
     "metadata": {},
     "output_type": "display_data"
    },
    {
     "data": {
      "text/latex": [
       "$\\displaystyle \\left[\\begin{matrix}1 & -5 & 1 & -5\\\\-5 & 1 & -5 & 1\\\\1 & 1 & 1 & 1\\\\-1 & 5 & 5 & 1\\end{matrix}\\right]$"
      ],
      "text/plain": [
       "Matrix([\n",
       "[ 1, -5,  1, -5],\n",
       "[-5,  1, -5,  1],\n",
       "[ 1,  1,  1,  1],\n",
       "[-1,  5,  5,  1]])"
      ]
     },
     "metadata": {},
     "output_type": "display_data"
    }
   ],
   "source": [
    "K = Matrix([[1,  -5, 1, -5], [-5, 1,  -5,  1], [1,  1, 1, 1], [-1,  5,  5,  1]])\n",
    "P, J = K.jordan_form()\n",
    "P = simplify(expand_complex(expand(P)))\n",
    "display('P', simplify(expand(P)), 'J', simplify(expand(J)),'PJP**(-1)', simplify(P*J*P**(-1)), 'K', K)"
   ]
  },
  {
   "cell_type": "markdown",
   "metadata": {},
   "source": [
    "### Индивидуальное задание.\n",
    "Решить с помощью  QR разложения матрицы\n",
    "$A$\n",
    "систему линейных уравнений\n",
    "$AX = b$.\n",
    "#143\n",
    "\n",
    "$A=\\left[\\begin{array}{cccc}5 & 0 & 2 & 3 \\\\ 1 & -6 & -1 & -3 \\\\ -2 & -19 & 9 & -12 \\\\ -3 & -13 & 10 & -9\\end{array}\\right], \\quad b=\\left[\\begin{array}{c}-7 \\\\ -2 \\\\ -17 \\\\ -12\\end{array}\\right]$\n",
    "\n",
    "\n",
    "Проверим совместность СЛАУ:"
   ]
  },
  {
   "cell_type": "code",
   "execution_count": 9,
   "metadata": {},
   "outputs": [
    {
     "name": "stdout",
     "output_type": "stream",
     "text": [
      "B.rank = 3 Bb.rank = 4 B.rank == Bb.rank False\n"
     ]
    },
    {
     "data": {
      "text/latex": [
       "$\\displaystyle \\left[\\begin{matrix}- \\frac{433}{427}\\\\\\frac{30}{61}\\\\- \\frac{412}{427}\\end{matrix}\\right]$"
      ],
      "text/plain": [
       "Matrix([\n",
       "[-433/427],\n",
       "[   30/61],\n",
       "[-412/427]])"
      ]
     },
     "metadata": {},
     "output_type": "display_data"
    },
    {
     "data": {
      "text/latex": [
       "$\\displaystyle \\left[\\begin{matrix}- \\frac{433}{427}\\\\\\frac{30}{61}\\\\- \\frac{412}{427}\\\\0\\end{matrix}\\right]$"
      ],
      "text/plain": [
       "Matrix([\n",
       "[-433/427],\n",
       "[   30/61],\n",
       "[-412/427],\n",
       "[       0]])"
      ]
     },
     "metadata": {},
     "output_type": "display_data"
    },
    {
     "data": {
      "text/latex": [
       "$\\displaystyle \\left[\\begin{matrix}0\\\\-1\\\\1\\\\-1\\end{matrix}\\right]$"
      ],
      "text/plain": [
       "Matrix([\n",
       "[ 0],\n",
       "[-1],\n",
       "[ 1],\n",
       "[-1]])"
      ]
     },
     "metadata": {},
     "output_type": "display_data"
    },
    {
     "data": {
      "text/latex": [
       "$\\displaystyle \\sqrt{3}$"
      ],
      "text/plain": [
       "sqrt(3)"
      ]
     },
     "metadata": {},
     "output_type": "display_data"
    }
   ],
   "source": [
    "B = Matrix([[5, 0, 2, 3], [1, -6, -1, -3], [-2, -19, 9, -12], [-3, -13, 10, -9]])\n",
    "b = Matrix([-7, -2, -17, -12])\n",
    "Bb = B.row_join(b)\n",
    "print('B.rank =', B.rank(), 'Bb.rank =', Bb.rank(),\n",
    "        'B.rank == Bb.rank', B.rank() == Bb.rank())\n",
    "X = B.QRsolve(b)\n",
    "display(X)\n",
    "X = X.col_join(Matrix([0]))\n",
    "delta = B*X - b\n",
    "display(X, delta, delta.norm(2))"
   ]
  },
  {
   "cell_type": "code",
   "execution_count": null,
   "metadata": {},
   "outputs": [],
   "source": []
  }
 ],
 "metadata": {
  "kernelspec": {
   "display_name": "Python 3",
   "language": "python",
   "name": "python3"
  },
  "language_info": {
   "codemirror_mode": {
    "name": "ipython",
    "version": 3
   },
   "file_extension": ".py",
   "mimetype": "text/x-python",
   "name": "python",
   "nbconvert_exporter": "python",
   "pygments_lexer": "ipython3",
   "version": "3.8.3"
  }
 },
 "nbformat": 4,
 "nbformat_minor": 2
}
