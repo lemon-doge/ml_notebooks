{
 "cells": [
  {
   "cell_type": "code",
   "execution_count": 2,
   "metadata": {
    "id": "i5mTR9_bFUaN"
   },
   "outputs": [],
   "source": [
    "import sympy\n",
    "from sympy import  Matrix, symbols\n",
    "from sympy import sin as Sin\n",
    "from sympy import cos as Cos\n",
    "from sympy import pi as Pi\n",
    "from sympy.vector import CoordSys3D, Vector, matrix_to_vector, AxisOrienter, express"
   ]
  },
  {
   "cell_type": "markdown",
   "metadata": {
    "id": "0M6OpmvAFUaa"
   },
   "source": [
    "# Занятие 11\n",
    "# Алгебра\n",
    "## Векторы\n",
    "### Задание 1.\n",
    "Задать систему координат с именем '1'. \n",
    "Найти скалярное и векторное произведение векторов $a(-\\cos(\\pi/4), \\sin(\\pi/3), 1)$ и $b(2, -1, 3)$."
   ]
  },
  {
   "cell_type": "code",
   "execution_count": 4,
   "metadata": {
    "colab": {
     "base_uri": "https://localhost:8080/",
     "height": 131
    },
    "id": "STIvjX8MFUab",
    "outputId": "23da98af-b6b0-4b4b-d40a-2e83bb81848c"
   },
   "outputs": [
    {
     "data": {
      "text/latex": [
       "$\\displaystyle - \\sqrt{2} - \\frac{\\sqrt{3}}{2} + 3$"
      ],
      "text/plain": [
       "-sqrt(2) - sqrt(3)/2 + 3"
      ]
     },
     "metadata": {},
     "output_type": "display_data"
    },
    {
     "data": {
      "text/latex": [
       "$\\displaystyle (1 + \\frac{3 \\sqrt{3}}{2})\\mathbf{\\hat{i}_{1}} + (2 + \\frac{3 \\sqrt{2}}{2})\\mathbf{\\hat{j}_{1}} + (- \\sqrt{3} + \\frac{\\sqrt{2}}{2})\\mathbf{\\hat{k}_{1}}$"
      ],
      "text/plain": [
       "(1 + 3*sqrt(3)/2)*1.i + (2 + 3*sqrt(2)/2)*1.j + (-sqrt(3) + sqrt(2)/2)*1.k"
      ]
     },
     "metadata": {},
     "output_type": "display_data"
    }
   ],
   "source": [
    "import sympy\n",
    "from sympy import  Matrix, symbols\n",
    "from sympy import sin as Sin\n",
    "from sympy import cos as Cos\n",
    "from sympy import pi as Pi\n",
    "from sympy.vector import CoordSys3D, Vector, matrix_to_vector, AxisOrienter, express\n",
    "\n",
    "M = CoordSys3D('1')\n",
    "a = -Cos(Pi/4)*M.i + Sin(Pi/3)*M.j + 1*M.k\n",
    "b = 2*M.i - 1*M.j + 3*M.k\n",
    "display((a & b)) #скалярное \n",
    "display((a ^ b)) #векторное"
   ]
  },
  {
   "cell_type": "markdown",
   "metadata": {
    "id": "UBTS1R4MFUac"
   },
   "source": [
    "### Задание 2\n",
    "Ввести безымянную систему координат M и символы $p$ и $q$.\n",
    "Вычислить $((v + u)\\cdot(v - u)) + (((2v + u)\\times(v - 3u))\\cdot(2v - 3u)) - ((3v - 2u)\\cdot((5v - u)\\times(- u)))$, $u(q, -p, q + p)$, $v(p, 2p - q, 1)$. Скалярное произведение обозначено $\\cdot$, векторное $\\times$.\n",
    "Использовать  & и ^, скобки расставить как в условии, поскольку приоритет у & и ^ ниже, чем у + и -. Упростить полученное выражение."
   ]
  },
  {
   "cell_type": "code",
   "execution_count": 16,
   "metadata": {
    "colab": {
     "base_uri": "https://localhost:8080/",
     "height": 38
    },
    "id": "qMT0HE_8FUad",
    "outputId": "0423d796-eaad-4d51-c66c-3360606aff31"
   },
   "outputs": [
    {
     "data": {
      "text/latex": [
       "$\\displaystyle 3 p^{2} - 6 p q - q^{2} + 1$"
      ],
      "text/plain": [
       "3*p**2 - 6*p*q - q**2 + 1"
      ]
     },
     "metadata": {},
     "output_type": "display_data"
    }
   ],
   "source": [
    "p,q = symbols('p q')\n",
    "\n",
    "M = CoordSys3D('')\n",
    "u = q*M.i - p*M.j + (q + p)*M.k\n",
    "v = p*M.i - (2*p - q)*M.j + 1*M.k\n",
    "\n",
    "display(sympy.simplify(((v + u) & (v - u)) + (((2*v + u) ^ (v - 3*u)) & (2*v - 3*u))\n",
    "                       - ((3*v - 2*u) & ((5*v - u) ^ (-u)))))"
   ]
  },
  {
   "cell_type": "markdown",
   "metadata": {
    "id": "H1xM70VEFUad"
   },
   "source": [
    "### Задание 3\n",
    "Упростить вектор $g(-2p^2 + 5pq - 3q^2), \\cos(q) + 2\\sin(q - \\pi/2), \\sin^2(p) - \\cos^2(p))$.\n",
    "Вывести на экран координаты упрощенного вектора, его длину и проекции на координатные оси"
   ]
  },
  {
   "cell_type": "code",
   "execution_count": 17,
   "metadata": {
    "colab": {
     "base_uri": "https://localhost:8080/",
     "height": 159
    },
    "id": "KsR3pMqwFUae",
    "outputId": "decd0e26-a885-4f5d-b2fe-85442a8f5c08"
   },
   "outputs": [
    {
     "data": {
      "text/latex": [
       "$\\displaystyle (- \\left(p - q\\right) \\left(2 p - 3 q\\right))\\mathbf{\\hat{i}_{}} + (- \\cos{\\left(q \\right)})\\mathbf{\\hat{j}_{}} + (- \\cos{\\left(2 p \\right)})\\mathbf{\\hat{k}_{}}$"
      ],
      "text/plain": [
       "(-(p - q)*(2*p - 3*q))*.i + (-cos(q))*.j + (-cos(2*p))*.k"
      ]
     },
     "metadata": {},
     "output_type": "display_data"
    },
    {
     "data": {
      "text/latex": [
       "$\\displaystyle \\sqrt{5 p^{2} - 4 p q + q^{2} + 1}$"
      ],
      "text/plain": [
       "sqrt(5*p**2 - 4*p*q + q**2 + 1)"
      ]
     },
     "metadata": {},
     "output_type": "display_data"
    },
    {
     "data": {
      "text/latex": [
       "$\\displaystyle (p)\\mathbf{\\hat{i}_{}}$"
      ],
      "text/plain": [
       "p*.i"
      ]
     },
     "metadata": {},
     "output_type": "display_data"
    },
    {
     "data": {
      "text/latex": [
       "$\\displaystyle (- 2 p + q)\\mathbf{\\hat{j}_{}}$"
      ],
      "text/plain": [
       "(-2*p + q)*.j"
      ]
     },
     "metadata": {},
     "output_type": "display_data"
    },
    {
     "data": {
      "text/latex": [
       "$\\displaystyle \\mathbf{\\hat{k}_{}}$"
      ],
      "text/plain": [
       ".k"
      ]
     },
     "metadata": {},
     "output_type": "display_data"
    }
   ],
   "source": [
    "p,q = symbols('p q')\n",
    "\n",
    "M = CoordSys3D('')\n",
    "g = (-2*p**2 + 5*p*q - 3*q**2)*M.i + (Cos(q) + 2*Sin(q - Pi/2))*M.j + (Sin(p)**2 - Cos(p)**2)*M.k\n",
    "display(g.factor().trigsimp().simplify())\n",
    "#display(sympy.simplify(v.components))\n",
    "display(v.magnitude().factor().trigsimp())\n",
    "display(M.i.projection(v), M.j.projection(v), M.k.projection(v))"
   ]
  },
  {
   "cell_type": "markdown",
   "metadata": {
    "id": "KreOI99QFUae"
   },
   "source": [
    "### Задание  4\n",
    "Преобразовать матрицу $\\left(\\begin{matrix}-q\\\\ p\\\\ q + p\\end{matrix}\\right)$ в вектор в системе координат из Заданий 1 и 2."
   ]
  },
  {
   "cell_type": "code",
   "execution_count": 14,
   "metadata": {
    "colab": {
     "base_uri": "https://localhost:8080/",
     "height": 62
    },
    "id": "1eputnOPFUae",
    "outputId": "63f74caa-7104-4e8c-fe1c-db84cbff0917"
   },
   "outputs": [
    {
     "data": {
      "text/latex": [
       "$\\displaystyle (- q)\\mathbf{\\hat{i}_{1}} + (p)\\mathbf{\\hat{j}_{1}} + (p + q)\\mathbf{\\hat{k}_{1}}$"
      ],
      "text/plain": [
       "(-q)*1.i + p*1.j + (p + q)*1.k"
      ]
     },
     "metadata": {},
     "output_type": "display_data"
    },
    {
     "data": {
      "text/latex": [
       "$\\displaystyle (- q)\\mathbf{\\hat{i}_{}} + (p)\\mathbf{\\hat{j}_{}} + (p + q)\\mathbf{\\hat{k}_{}}$"
      ],
      "text/plain": [
       "(-q)*.i + p*.j + (p + q)*.k"
      ]
     },
     "metadata": {},
     "output_type": "display_data"
    }
   ],
   "source": [
    "p,q = symbols('p q')\n",
    "\n",
    "M1 = CoordSys3D('1')\n",
    "M2 = CoordSys3D('')\n",
    "b = Matrix([-q, p, (q + p)])\n",
    "\n",
    "display(matrix_to_vector(b, M1))\n",
    "display(matrix_to_vector(b, M2))"
   ]
  },
  {
   "cell_type": "markdown",
   "metadata": {
    "id": "gCx4rT71FUaf"
   },
   "source": [
    "### Задание 5.\n",
    "Ввести новую систему координат S5, которая получается поворотом системы координат M из Задания 2 на угол $\\pi/4$ относительно оси $j$ по часовой стрелке.\n",
    "Определить вектор b5 на основе матрицы из Задания 4 в соответствии с системой координат M, затем получить представление в матричном виде вектора b5_S5 в системе координат S5.  Вывести на экран матрицу поворота, вектор b5 в системе координат M  и S5."
   ]
  },
  {
   "cell_type": "code",
   "execution_count": 19,
   "metadata": {
    "colab": {
     "base_uri": "https://localhost:8080/",
     "height": 204
    },
    "id": "0EjG7CASFUaf",
    "outputId": "3c5e8f79-ee90-465f-e45d-578900c54692"
   },
   "outputs": [
    {
     "data": {
      "text/plain": [
       "'Матрица поворота'"
      ]
     },
     "metadata": {},
     "output_type": "display_data"
    },
    {
     "data": {
      "text/latex": [
       "$\\displaystyle \\left[\\begin{matrix}\\frac{\\sqrt{2}}{2} & 0 & - \\frac{\\sqrt{2}}{2}\\\\0 & 1 & 0\\\\\\frac{\\sqrt{2}}{2} & 0 & \\frac{\\sqrt{2}}{2}\\end{matrix}\\right]$"
      ],
      "text/plain": [
       "Matrix([\n",
       "[sqrt(2)/2, 0, -sqrt(2)/2],\n",
       "[        0, 1,          0],\n",
       "[sqrt(2)/2, 0,  sqrt(2)/2]])"
      ]
     },
     "metadata": {},
     "output_type": "display_data"
    },
    {
     "data": {
      "text/plain": [
       "'Вектор в M'"
      ]
     },
     "metadata": {},
     "output_type": "display_data"
    },
    {
     "data": {
      "text/latex": [
       "$\\displaystyle (- q)\\mathbf{\\hat{i}_{1}} + (p)\\mathbf{\\hat{j}_{1}} + (p + q)\\mathbf{\\hat{k}_{1}}$"
      ],
      "text/plain": [
       "(-q)*1.i + p*1.j + (p + q)*1.k"
      ]
     },
     "metadata": {},
     "output_type": "display_data"
    },
    {
     "data": {
      "text/plain": [
       "'Вектор в S5'"
      ]
     },
     "metadata": {},
     "output_type": "display_data"
    },
    {
     "data": {
      "text/latex": [
       "$\\displaystyle (\\frac{\\sqrt{2} p}{2})\\mathbf{\\hat{i}_{S5}} + (p)\\mathbf{\\hat{j}_{S5}} + (\\frac{\\sqrt{2} \\left(p + 2 q\\right)}{2})\\mathbf{\\hat{k}_{S5}}$"
      ],
      "text/plain": [
       "(sqrt(2)*p/2)*S5.i + p*S5.j + (sqrt(2)*(p + 2*q)/2)*S5.k"
      ]
     },
     "metadata": {},
     "output_type": "display_data"
    }
   ],
   "source": [
    "b = Matrix([-q, p, (q + p)])\n",
    "M = CoordSys3D('1')\n",
    "\n",
    "# название, угол поворота, ось, вокург которой крутим\n",
    "S5 = M.orient_new_axis('S5', -sympy.pi/4, M.j)\n",
    "\n",
    "# матрица в вектор + получение вектора b5_S5 в системе координат S5\n",
    "b5 = matrix_to_vector(b, M)\n",
    "b5_S5_new = b5.to_matrix(S5)\n",
    "\n",
    "# Матрица поворота\n",
    "R_matr = M.rotation_matrix(S5)\n",
    "display('Матрица поворота', R_matr, 'Вектор в M', b5, 'Вектор в S5', matrix_to_vector(b5_S5_new, S5).factor().trigsimp())"
   ]
  },
  {
   "cell_type": "markdown",
   "metadata": {
    "id": "qjdatGywFUaf"
   },
   "source": [
    "### Задание 6.\n",
    "Повернуть систему координат  M  из Задания 2 на $\\pi/4$ по часовой стрелке относительно оси, определяемой вектором $(1, -1, 0)$. Выразить вектор b5 в новой системе координат."
   ]
  },
  {
   "cell_type": "code",
   "execution_count": 6,
   "metadata": {
    "colab": {
     "base_uri": "https://localhost:8080/",
     "height": 56
    },
    "id": "X5_CJBj0FUag",
    "outputId": "ded2321d-7b5f-452e-a8f8-e906586c2a4c"
   },
   "outputs": [
    {
     "data": {
      "text/latex": [
       "$\\displaystyle (- p + \\frac{\\sqrt{2} p}{4} - q - \\frac{\\sqrt{2} q}{4})\\mathbf{\\hat{i}_{}} + (\\frac{\\sqrt{2} \\left(p - q\\right)}{4})\\mathbf{\\hat{j}_{}} + (\\frac{p}{2} - \\frac{q}{2} + \\frac{\\sqrt{2} \\left(p + q\\right)}{2})\\mathbf{\\hat{k}_{}}$"
      ],
      "text/plain": [
       "(-p + sqrt(2)*p/4 - q - sqrt(2)*q/4)*.i + (sqrt(2)*(p - q)/4)*.j + (p/2 - q/2 + sqrt(2)*(p + q)/2)*.k"
      ]
     },
     "metadata": {
      "tags": []
     },
     "output_type": "display_data"
    }
   ],
   "source": [
    "S6 = M.orient_new_axis('', -Pi/4, M.i - M.j)\n",
    "display(sympy.simplify(matrix_to_vector(b5.to_matrix(S6), S6)))"
   ]
  },
  {
   "cell_type": "markdown",
   "metadata": {
    "id": "2Sksd5J7FUag"
   },
   "source": [
    "### Индивидуальное задание.\n",
    "Ввести безымянную систему координат XYZ, задать в ней векторы $v_1$ и $v_2$. Построить новую систему координат XYZ1 с именем '1' поворотом  XYZ на $\\alpha$ против часовой стрелки относительно оси, определяемой вектором $v_3$, выразить векторы $v_1$ и $v_2$ в новой системе координат. Найти скалярное и векторное произведение векторов в новой и старой системе координат. Выразить вектор, равный векторному произведению $v_1$ и $v_2$ в старой системе координат через новую систему координат, сравнить с векторным произведением $v_1$ и $v_2$, выраженных в новой системе координат."
   ]
  },
  {
   "cell_type": "code",
   "execution_count": 20,
   "metadata": {
    "colab": {
     "base_uri": "https://localhost:8080/",
     "height": 381
    },
    "id": "CneYKtasFUag",
    "outputId": "c20a75fe-1195-4806-9a10-8f54147866ff"
   },
   "outputs": [
    {
     "data": {
      "text/plain": [
       "'v1 в новой системе координат'"
      ]
     },
     "metadata": {},
     "output_type": "display_data"
    },
    {
     "data": {
      "text/latex": [
       "$\\displaystyle (- \\frac{8}{41} + \\frac{30 \\sqrt{41} \\sqrt{\\frac{1}{2} - \\frac{\\sqrt{2}}{4}}}{41} + \\frac{295 \\sqrt{\\frac{\\sqrt{2}}{4} + \\frac{1}{2}}}{41})\\mathbf{\\hat{i}_{r}} + (\\frac{10}{41} + \\frac{24 \\sqrt{41} \\sqrt{\\frac{1}{2} - \\frac{\\sqrt{2}}{4}}}{41} + \\frac{236 \\sqrt{\\frac{\\sqrt{2}}{4} + \\frac{1}{2}}}{41})\\mathbf{\\hat{j}_{r}} + (- \\frac{59 \\sqrt{41} \\sqrt{\\frac{1}{2} - \\frac{\\sqrt{2}}{4}}}{41} + 6 \\sqrt{\\frac{\\sqrt{2}}{4} + \\frac{1}{2}})\\mathbf{\\hat{k}_{r}}$"
      ],
      "text/plain": [
       "(-8/41 + 30*sqrt(41)*sqrt(1/2 - sqrt(2)/4)/41 + 295*sqrt(sqrt(2)/4 + 1/2)/41)*r.i + (10/41 + 24*sqrt(41)*sqrt(1/2 - sqrt(2)/4)/41 + 236*sqrt(sqrt(2)/4 + 1/2)/41)*r.j + (-59*sqrt(41)*sqrt(1/2 - sqrt(2)/4)/41 + 6*sqrt(sqrt(2)/4 + 1/2))*r.k"
      ]
     },
     "metadata": {},
     "output_type": "display_data"
    },
    {
     "data": {
      "text/plain": [
       "'v2 в новой системе координат'"
      ]
     },
     "metadata": {},
     "output_type": "display_data"
    },
    {
     "data": {
      "text/latex": [
       "$\\displaystyle (- \\frac{10 \\sqrt{41} \\sqrt{\\frac{1}{2} - \\frac{\\sqrt{2}}{4}}}{41} + \\frac{95 \\sqrt{\\frac{\\sqrt{2}}{4} + \\frac{1}{2}}}{41} + \\frac{192}{41})\\mathbf{\\hat{i}_{r}} + (- \\frac{240}{41} - \\frac{8 \\sqrt{41} \\sqrt{\\frac{1}{2} - \\frac{\\sqrt{2}}{4}}}{41} + \\frac{76 \\sqrt{\\frac{\\sqrt{2}}{4} + \\frac{1}{2}}}{41})\\mathbf{\\hat{j}_{r}} + (- 2 \\sqrt{\\frac{\\sqrt{2}}{4} + \\frac{1}{2}} - \\frac{19 \\sqrt{41} \\sqrt{\\frac{1}{2} - \\frac{\\sqrt{2}}{4}}}{41})\\mathbf{\\hat{k}_{r}}$"
      ],
      "text/plain": [
       "(-10*sqrt(41)*sqrt(1/2 - sqrt(2)/4)/41 + 95*sqrt(sqrt(2)/4 + 1/2)/41 + 192/41)*r.i + (-240/41 - 8*sqrt(41)*sqrt(1/2 - sqrt(2)/4)/41 + 76*sqrt(sqrt(2)/4 + 1/2)/41)*r.j + (-2*sqrt(sqrt(2)/4 + 1/2) - 19*sqrt(41)*sqrt(1/2 - sqrt(2)/4)/41)*r.k"
      ]
     },
     "metadata": {},
     "output_type": "display_data"
    },
    {
     "data": {
      "text/plain": [
       "'Скалярное произведение в старой системе'"
      ]
     },
     "metadata": {},
     "output_type": "display_data"
    },
    {
     "data": {
      "text/latex": [
       "$\\displaystyle 13$"
      ],
      "text/plain": [
       "13"
      ]
     },
     "metadata": {},
     "output_type": "display_data"
    },
    {
     "data": {
      "text/plain": [
       "'Скалярное произведение в новой системе'"
      ]
     },
     "metadata": {},
     "output_type": "display_data"
    },
    {
     "data": {
      "text/latex": [
       "$\\displaystyle 13$"
      ],
      "text/plain": [
       "13"
      ]
     },
     "metadata": {},
     "output_type": "display_data"
    },
    {
     "data": {
      "text/plain": [
       "'Векторные произведения в старой системе'"
      ]
     },
     "metadata": {},
     "output_type": "display_data"
    },
    {
     "data": {
      "text/latex": [
       "$\\displaystyle (12)\\mathbf{\\hat{i}_{}} + (56)\\mathbf{\\hat{j}_{}} + (-70)\\mathbf{\\hat{k}_{}}$"
      ],
      "text/plain": [
       "12*.i + 56*.j + (-70)*.k"
      ]
     },
     "metadata": {},
     "output_type": "display_data"
    },
    {
     "data": {
      "text/latex": [
       "$\\displaystyle (-12)\\mathbf{\\hat{i}_{}} + (-56)\\mathbf{\\hat{j}_{}} + (70)\\mathbf{\\hat{k}_{}}$"
      ],
      "text/plain": [
       "(-12)*.i + (-56)*.j + 70*.k"
      ]
     },
     "metadata": {},
     "output_type": "display_data"
    },
    {
     "data": {
      "text/plain": [
       "'Векторные произведения в новой системе'"
      ]
     },
     "metadata": {},
     "output_type": "display_data"
    },
    {
     "data": {
      "text/latex": [
       "$\\displaystyle 13$"
      ],
      "text/plain": [
       "13"
      ]
     },
     "metadata": {},
     "output_type": "display_data"
    },
    {
     "data": {
      "text/latex": [
       "$\\displaystyle 13$"
      ],
      "text/plain": [
       "13"
      ]
     },
     "metadata": {},
     "output_type": "display_data"
    },
    {
     "data": {
      "text/plain": [
       "False"
      ]
     },
     "metadata": {},
     "output_type": "display_data"
    }
   ],
   "source": [
    "#143\n",
    "#v1 = (7)ˆi + (6)ˆj + (6)kˆ, v2 = (7)ˆi + (−4)ˆj + (−2)kˆ, Name = r, угол поворота π/8, ось (4)ˆi + (−5)ˆj\n",
    "\n",
    "XYZ = CoordSys3D('')\n",
    "\n",
    "v1 = 7*XYZ.i + 6*XYZ.j + 6*XYZ.k\n",
    "v2 = 7*XYZ.i - 4*XYZ.j - 2*XYZ.k\n",
    "\n",
    "# Новая система с помощью поворота.\n",
    "XYZ1 = XYZ.orient_new_axis('r', Pi/8, (4*XYZ.i - 5*XYZ.j))\n",
    "\n",
    "# Выражение ветора в новой системе координат.\n",
    "v1_new = express(v1, XYZ1)\n",
    "display('v1 в новой системе координат', v1_new)\n",
    "v2_new = express(v2, XYZ1)\n",
    "display('v2 в новой системе координат', v2_new)\n",
    "\n",
    "# Скалярное произведение.\n",
    "sc = v1 & v2\n",
    "sc_new = sympy.simplify(v1_new & v2_new)\n",
    "\n",
    "# Векторное произведение.\n",
    "vect1 = v1 ^ v2\n",
    "vect2 = v2 ^ v1\n",
    "\n",
    "# Векторное произведение новое.\n",
    "vect1_new = sympy.simplify(v1_new & v2_new)\n",
    "vect2_new = sympy.simplify(v2_new & v1_new)\n",
    "\n",
    "display('Скалярное произведение в старой системе', sc, 'Скалярное произведение в новой системе', sc_new)\n",
    "display('Векторные произведения в старой системе', vect1, vect2, 'Векторные произведения в новой системе', vect1_new, vect2_new)\n",
    "display(matrix_to_vector(vect1.to_matrix(XYZ1), XYZ1) == vect1_new)"
   ]
  },
  {
   "cell_type": "code",
   "execution_count": null,
   "metadata": {},
   "outputs": [],
   "source": []
  }
 ],
 "metadata": {
  "colab": {
   "collapsed_sections": [],
   "name": "KOLTUNOVAlg_11_2020_vect_task.ipynb",
   "provenance": []
  },
  "kernelspec": {
   "display_name": "Python 3",
   "language": "python",
   "name": "python3"
  },
  "language_info": {
   "codemirror_mode": {
    "name": "ipython",
    "version": 3
   },
   "file_extension": ".py",
   "mimetype": "text/x-python",
   "name": "python",
   "nbconvert_exporter": "python",
   "pygments_lexer": "ipython3",
   "version": "3.8.3"
  }
 },
 "nbformat": 4,
 "nbformat_minor": 1
}
