{
  "nbformat": 4,
  "nbformat_minor": 0,
  "metadata": {
    "kernelspec": {
      "display_name": "Python 3",
      "language": "python",
      "name": "python3"
    },
    "language_info": {
      "codemirror_mode": {
        "name": "ipython",
        "version": 3
      },
      "file_extension": ".py",
      "mimetype": "text/x-python",
      "name": "python",
      "nbconvert_exporter": "python",
      "pygments_lexer": "ipython3",
      "version": "3.8.5"
    },
    "max_cell_id": 35,
    "colab": {
      "provenance": [],
      "collapsed_sections": []
    },
    "accelerator": "GPU",
    "gpuClass": "standard"
  },
  "cells": [
    {
      "cell_type": "markdown",
      "metadata": {
        "cell_id": 1,
        "id": "kr9vAeEQlRVG",
        "pycharm": {
          "name": "#%% md\n"
        }
      },
      "source": [
        "# Домашнее задание 2. Классификация изображений."
      ]
    },
    {
      "cell_type": "markdown",
      "metadata": {
        "cell_id": 3,
        "id": "BxX49gLclRVJ",
        "pycharm": {
          "name": "#%% md\n"
        }
      },
      "source": [
        "В этом задании потребуется обучить классификатор изображений. Будем работать с датасетом, название которого раскрывать не будем. Можете посмотреть самостоятельно на картинки, которые в есть датасете. В нём 200 классов и около 5 тысяч картинок на каждый класс. Классы пронумерованы, как нетрудно догадаться, от 0 до 199. Скачать датасет можно вот [тут](https://yadi.sk/d/BNR41Vu3y0c7qA).\n",
        "\n",
        "Структура датасета простая -- есть директории train/ и val/, в которых лежат обучающие и валидационные данные. В train/ и val/ лежат директориии, соответствующие классам изображений, в которых лежат, собственно, сами изображения.\n",
        " \n",
        "__Задание__. Необходимо выполнить два задания\n",
        "\n",
        "1) Добейтесь accuracy **на валидации не менее 0.44**. В этом задании **запрещено** пользоваться предобученными моделями и ресайзом картинок. 5 баллов\n",
        "\n",
        "2) Добейтесь accuracy **на валидации не менее 0.84**. В этом задании делать ресайз и использовать претрейн можно. 5 баллов\n",
        "\n",
        "Напишите краткий отчёт о проделанных экспериментах. Что сработало и что не сработало? Почему вы решили, сделать так, а не иначе? Обязательно указывайте ссылки на чужой код, если вы его используете. Обязательно ссылайтесь на статьи / блогпосты / вопросы на stackoverflow / видосы от ютуберов-машинлернеров / курсы / подсказки от Дяди Васи и прочие дополнительные материалы, если вы их используете. \n",
        "\n",
        "Ваш код обязательно должен проходить все `assert`'ы ниже.\n",
        "\n",
        "__Использовать внешние данные для обучения строго запрещено в обоих заданиях. Также запрещено обучаться на валидационной выборке__.\n",
        "\n",
        "\n",
        "__Критерии оценки__: Оценка вычисляется по простой формуле: `min(10, 10 * Ваша accuracy / 0.44)` для первого задания и `min(10, 10 * (Ваша accuracy - 0.5) / 0.34)` для второго. Оценка округляется до десятых по арифметическим правилам.\n",
        "\n",
        "\n",
        "__Советы и указания__:\n",
        " - Наверняка вам потребуется много гуглить о классификации и о том, как заставить её работать. Это нормально, все гуглят. Но не забывайте, что нужно быть готовым за скатанный код отвечать :)\n",
        " - Используйте аугментации. Для этого пользуйтесь модулем `torchvision.transforms` или библиотекой [albumentations](https://github.com/albumentations-team/albumentations)\n",
        " - Можно обучать с нуля или файнтюнить (в зависимости от задания) модели из `torchvision`.\n",
        " - Рекомендуем написать вам сначала класс-датасет (или воспользоваться классом `ImageFolder`), который возвращает картинки и соответствующие им классы, а затем функции для трейна по шаблонам ниже. Однако делать это мы не заставляем. Если вам так неудобно, то можете писать код в удобном стиле. Однако учтите, что чрезмерное изменение нижеперечисленных шаблонов увеличит количество вопросов к вашему коду и повысит вероятность вызова на защиту :)\n",
        " - Валидируйте. Трекайте ошибки как можно раньше, чтобы не тратить время впустую.\n",
        " - Чтобы быстро отладить код, пробуйте обучаться на маленькой части датасета (скажем, 5-10 картинок просто чтобы убедиться что код запускается). Когда вы поняли, что смогли всё отдебажить, переходите обучению по всему датасету\n",
        " - На каждый запуск делайте ровно одно изменение в модели/аугментации/оптимайзере, чтобы понять, что и как влияет на результат.\n",
        " - Фиксируйте random seed.\n",
        " - Начинайте с простых моделей и постепенно переходите к сложным. Обучение лёгких моделей экономит много времени.\n",
        " - Ставьте расписание на learning rate. Уменьшайте его, когда лосс на валидации перестаёт убывать.\n",
        " - Советуем использовать GPU. Если у вас его нет, используйте google colab. Если вам неудобно его использовать на постоянной основе, напишите и отладьте весь код локально на CPU, а затем запустите уже написанный ноутбук в колабе. Авторское решение задания достигает требуемой точности в колабе за 15 минут обучения.\n",
        " \n",
        "Good luck & have fun! :)"
      ]
    },
    {
      "cell_type": "code",
      "source": [
        "!pip install wandb\n",
        "!pip3 install pytorch_lightning torchmetrics"
      ],
      "metadata": {
        "id": "BaPSFxIz96tY",
        "pycharm": {
          "name": "#%%\n"
        },
        "colab": {
          "base_uri": "https://localhost:8080/"
        },
        "outputId": "deb313cd-eda9-4481-c3b0-18b9dc9e0a20"
      },
      "execution_count": 28,
      "outputs": [
        {
          "output_type": "stream",
          "name": "stdout",
          "text": [
            "Looking in indexes: https://pypi.org/simple, https://us-python.pkg.dev/colab-wheels/public/simple/\n",
            "Requirement already satisfied: wandb in /usr/local/lib/python3.7/dist-packages (0.13.4)\n",
            "Requirement already satisfied: GitPython>=1.0.0 in /usr/local/lib/python3.7/dist-packages (from wandb) (3.1.29)\n",
            "Requirement already satisfied: psutil>=5.0.0 in /usr/local/lib/python3.7/dist-packages (from wandb) (5.4.8)\n",
            "Requirement already satisfied: docker-pycreds>=0.4.0 in /usr/local/lib/python3.7/dist-packages (from wandb) (0.4.0)\n",
            "Requirement already satisfied: PyYAML in /usr/local/lib/python3.7/dist-packages (from wandb) (6.0)\n",
            "Requirement already satisfied: setproctitle in /usr/local/lib/python3.7/dist-packages (from wandb) (1.3.2)\n",
            "Requirement already satisfied: shortuuid>=0.5.0 in /usr/local/lib/python3.7/dist-packages (from wandb) (1.0.9)\n",
            "Requirement already satisfied: protobuf!=4.0.*,!=4.21.0,<5,>=3.12.0 in /usr/local/lib/python3.7/dist-packages (from wandb) (3.17.3)\n",
            "Requirement already satisfied: Click!=8.0.0,>=7.0 in /usr/local/lib/python3.7/dist-packages (from wandb) (7.1.2)\n",
            "Requirement already satisfied: six>=1.13.0 in /usr/local/lib/python3.7/dist-packages (from wandb) (1.15.0)\n",
            "Requirement already satisfied: promise<3,>=2.0 in /usr/local/lib/python3.7/dist-packages (from wandb) (2.3)\n",
            "Requirement already satisfied: sentry-sdk>=1.0.0 in /usr/local/lib/python3.7/dist-packages (from wandb) (1.9.0)\n",
            "Requirement already satisfied: setuptools in /usr/local/lib/python3.7/dist-packages (from wandb) (57.4.0)\n",
            "Requirement already satisfied: requests<3,>=2.0.0 in /usr/local/lib/python3.7/dist-packages (from wandb) (2.23.0)\n",
            "Requirement already satisfied: pathtools in /usr/local/lib/python3.7/dist-packages (from wandb) (0.1.2)\n",
            "Requirement already satisfied: gitdb<5,>=4.0.1 in /usr/local/lib/python3.7/dist-packages (from GitPython>=1.0.0->wandb) (4.0.9)\n",
            "Requirement already satisfied: typing-extensions>=3.7.4.3 in /usr/local/lib/python3.7/dist-packages (from GitPython>=1.0.0->wandb) (4.1.1)\n",
            "Requirement already satisfied: smmap<6,>=3.0.1 in /usr/local/lib/python3.7/dist-packages (from gitdb<5,>=4.0.1->GitPython>=1.0.0->wandb) (5.0.0)\n",
            "Requirement already satisfied: urllib3!=1.25.0,!=1.25.1,<1.26,>=1.21.1 in /usr/local/lib/python3.7/dist-packages (from requests<3,>=2.0.0->wandb) (1.24.3)\n",
            "Requirement already satisfied: idna<3,>=2.5 in /usr/local/lib/python3.7/dist-packages (from requests<3,>=2.0.0->wandb) (2.10)\n",
            "Requirement already satisfied: certifi>=2017.4.17 in /usr/local/lib/python3.7/dist-packages (from requests<3,>=2.0.0->wandb) (2022.9.24)\n",
            "Requirement already satisfied: chardet<4,>=3.0.2 in /usr/local/lib/python3.7/dist-packages (from requests<3,>=2.0.0->wandb) (3.0.4)\n",
            "Looking in indexes: https://pypi.org/simple, https://us-python.pkg.dev/colab-wheels/public/simple/\n",
            "Requirement already satisfied: pytorch_lightning in /usr/local/lib/python3.7/dist-packages (1.7.7)\n",
            "Requirement already satisfied: torchmetrics in /usr/local/lib/python3.7/dist-packages (0.10.1)\n",
            "Requirement already satisfied: tqdm>=4.57.0 in /usr/local/lib/python3.7/dist-packages (from pytorch_lightning) (4.64.1)\n",
            "Requirement already satisfied: PyYAML>=5.4 in /usr/local/lib/python3.7/dist-packages (from pytorch_lightning) (6.0)\n",
            "Requirement already satisfied: packaging>=17.0 in /usr/local/lib/python3.7/dist-packages (from pytorch_lightning) (21.3)\n",
            "Requirement already satisfied: tensorboard>=2.9.1 in /usr/local/lib/python3.7/dist-packages (from pytorch_lightning) (2.9.1)\n",
            "Requirement already satisfied: typing-extensions>=4.0.0 in /usr/local/lib/python3.7/dist-packages (from pytorch_lightning) (4.1.1)\n",
            "Requirement already satisfied: numpy>=1.17.2 in /usr/local/lib/python3.7/dist-packages (from pytorch_lightning) (1.21.6)\n",
            "Requirement already satisfied: pyDeprecate>=0.3.1 in /usr/local/lib/python3.7/dist-packages (from pytorch_lightning) (0.3.2)\n",
            "Requirement already satisfied: fsspec[http]!=2021.06.0,>=2021.05.0 in /usr/local/lib/python3.7/dist-packages (from pytorch_lightning) (2022.10.0)\n",
            "Requirement already satisfied: torch>=1.9.* in /usr/local/lib/python3.7/dist-packages (from pytorch_lightning) (1.12.1+cu113)\n",
            "Requirement already satisfied: requests in /usr/local/lib/python3.7/dist-packages (from fsspec[http]!=2021.06.0,>=2021.05.0->pytorch_lightning) (2.23.0)\n",
            "Requirement already satisfied: aiohttp!=4.0.0a0,!=4.0.0a1 in /usr/local/lib/python3.7/dist-packages (from fsspec[http]!=2021.06.0,>=2021.05.0->pytorch_lightning) (3.8.3)\n",
            "Requirement already satisfied: asynctest==0.13.0 in /usr/local/lib/python3.7/dist-packages (from aiohttp!=4.0.0a0,!=4.0.0a1->fsspec[http]!=2021.06.0,>=2021.05.0->pytorch_lightning) (0.13.0)\n",
            "Requirement already satisfied: multidict<7.0,>=4.5 in /usr/local/lib/python3.7/dist-packages (from aiohttp!=4.0.0a0,!=4.0.0a1->fsspec[http]!=2021.06.0,>=2021.05.0->pytorch_lightning) (6.0.2)\n",
            "Requirement already satisfied: yarl<2.0,>=1.0 in /usr/local/lib/python3.7/dist-packages (from aiohttp!=4.0.0a0,!=4.0.0a1->fsspec[http]!=2021.06.0,>=2021.05.0->pytorch_lightning) (1.8.1)\n",
            "Requirement already satisfied: aiosignal>=1.1.2 in /usr/local/lib/python3.7/dist-packages (from aiohttp!=4.0.0a0,!=4.0.0a1->fsspec[http]!=2021.06.0,>=2021.05.0->pytorch_lightning) (1.2.0)\n",
            "Requirement already satisfied: async-timeout<5.0,>=4.0.0a3 in /usr/local/lib/python3.7/dist-packages (from aiohttp!=4.0.0a0,!=4.0.0a1->fsspec[http]!=2021.06.0,>=2021.05.0->pytorch_lightning) (4.0.2)\n",
            "Requirement already satisfied: attrs>=17.3.0 in /usr/local/lib/python3.7/dist-packages (from aiohttp!=4.0.0a0,!=4.0.0a1->fsspec[http]!=2021.06.0,>=2021.05.0->pytorch_lightning) (22.1.0)\n",
            "Requirement already satisfied: frozenlist>=1.1.1 in /usr/local/lib/python3.7/dist-packages (from aiohttp!=4.0.0a0,!=4.0.0a1->fsspec[http]!=2021.06.0,>=2021.05.0->pytorch_lightning) (1.3.1)\n",
            "Requirement already satisfied: charset-normalizer<3.0,>=2.0 in /usr/local/lib/python3.7/dist-packages (from aiohttp!=4.0.0a0,!=4.0.0a1->fsspec[http]!=2021.06.0,>=2021.05.0->pytorch_lightning) (2.1.1)\n",
            "Requirement already satisfied: pyparsing!=3.0.5,>=2.0.2 in /usr/local/lib/python3.7/dist-packages (from packaging>=17.0->pytorch_lightning) (3.0.9)\n",
            "Requirement already satisfied: absl-py>=0.4 in /usr/local/lib/python3.7/dist-packages (from tensorboard>=2.9.1->pytorch_lightning) (1.3.0)\n",
            "Requirement already satisfied: google-auth-oauthlib<0.5,>=0.4.1 in /usr/local/lib/python3.7/dist-packages (from tensorboard>=2.9.1->pytorch_lightning) (0.4.6)\n",
            "Requirement already satisfied: wheel>=0.26 in /usr/local/lib/python3.7/dist-packages (from tensorboard>=2.9.1->pytorch_lightning) (0.37.1)\n",
            "Requirement already satisfied: werkzeug>=1.0.1 in /usr/local/lib/python3.7/dist-packages (from tensorboard>=2.9.1->pytorch_lightning) (1.0.1)\n",
            "Requirement already satisfied: setuptools>=41.0.0 in /usr/local/lib/python3.7/dist-packages (from tensorboard>=2.9.1->pytorch_lightning) (57.4.0)\n",
            "Requirement already satisfied: protobuf<3.20,>=3.9.2 in /usr/local/lib/python3.7/dist-packages (from tensorboard>=2.9.1->pytorch_lightning) (3.17.3)\n",
            "Requirement already satisfied: tensorboard-plugin-wit>=1.6.0 in /usr/local/lib/python3.7/dist-packages (from tensorboard>=2.9.1->pytorch_lightning) (1.8.1)\n",
            "Requirement already satisfied: tensorboard-data-server<0.7.0,>=0.6.0 in /usr/local/lib/python3.7/dist-packages (from tensorboard>=2.9.1->pytorch_lightning) (0.6.1)\n",
            "Requirement already satisfied: grpcio>=1.24.3 in /usr/local/lib/python3.7/dist-packages (from tensorboard>=2.9.1->pytorch_lightning) (1.50.0)\n",
            "Requirement already satisfied: google-auth<3,>=1.6.3 in /usr/local/lib/python3.7/dist-packages (from tensorboard>=2.9.1->pytorch_lightning) (1.35.0)\n",
            "Requirement already satisfied: markdown>=2.6.8 in /usr/local/lib/python3.7/dist-packages (from tensorboard>=2.9.1->pytorch_lightning) (3.4.1)\n",
            "Requirement already satisfied: six>=1.9.0 in /usr/local/lib/python3.7/dist-packages (from google-auth<3,>=1.6.3->tensorboard>=2.9.1->pytorch_lightning) (1.15.0)\n",
            "Requirement already satisfied: pyasn1-modules>=0.2.1 in /usr/local/lib/python3.7/dist-packages (from google-auth<3,>=1.6.3->tensorboard>=2.9.1->pytorch_lightning) (0.2.8)\n",
            "Requirement already satisfied: cachetools<5.0,>=2.0.0 in /usr/local/lib/python3.7/dist-packages (from google-auth<3,>=1.6.3->tensorboard>=2.9.1->pytorch_lightning) (4.2.4)\n",
            "Requirement already satisfied: rsa<5,>=3.1.4 in /usr/local/lib/python3.7/dist-packages (from google-auth<3,>=1.6.3->tensorboard>=2.9.1->pytorch_lightning) (4.9)\n",
            "Requirement already satisfied: requests-oauthlib>=0.7.0 in /usr/local/lib/python3.7/dist-packages (from google-auth-oauthlib<0.5,>=0.4.1->tensorboard>=2.9.1->pytorch_lightning) (1.3.1)\n",
            "Requirement already satisfied: importlib-metadata>=4.4 in /usr/local/lib/python3.7/dist-packages (from markdown>=2.6.8->tensorboard>=2.9.1->pytorch_lightning) (4.13.0)\n",
            "Requirement already satisfied: zipp>=0.5 in /usr/local/lib/python3.7/dist-packages (from importlib-metadata>=4.4->markdown>=2.6.8->tensorboard>=2.9.1->pytorch_lightning) (3.9.0)\n",
            "Requirement already satisfied: pyasn1<0.5.0,>=0.4.6 in /usr/local/lib/python3.7/dist-packages (from pyasn1-modules>=0.2.1->google-auth<3,>=1.6.3->tensorboard>=2.9.1->pytorch_lightning) (0.4.8)\n",
            "Requirement already satisfied: urllib3!=1.25.0,!=1.25.1,<1.26,>=1.21.1 in /usr/local/lib/python3.7/dist-packages (from requests->fsspec[http]!=2021.06.0,>=2021.05.0->pytorch_lightning) (1.24.3)\n",
            "Requirement already satisfied: idna<3,>=2.5 in /usr/local/lib/python3.7/dist-packages (from requests->fsspec[http]!=2021.06.0,>=2021.05.0->pytorch_lightning) (2.10)\n",
            "Requirement already satisfied: certifi>=2017.4.17 in /usr/local/lib/python3.7/dist-packages (from requests->fsspec[http]!=2021.06.0,>=2021.05.0->pytorch_lightning) (2022.9.24)\n",
            "Requirement already satisfied: chardet<4,>=3.0.2 in /usr/local/lib/python3.7/dist-packages (from requests->fsspec[http]!=2021.06.0,>=2021.05.0->pytorch_lightning) (3.0.4)\n",
            "Requirement already satisfied: oauthlib>=3.0.0 in /usr/local/lib/python3.7/dist-packages (from requests-oauthlib>=0.7.0->google-auth-oauthlib<0.5,>=0.4.1->tensorboard>=2.9.1->pytorch_lightning) (3.2.2)\n"
          ]
        }
      ]
    },
    {
      "cell_type": "code",
      "source": [
        "# Возможно ниже будет не очень работать WandbLogger с первого разу, перезапустите kernel тетрадки\n",
        "import wandb\n",
        "\n",
        "wandb.login()"
      ],
      "metadata": {
        "id": "EWT3aFU9XmLJ",
        "pycharm": {
          "name": "#%%\n"
        },
        "colab": {
          "base_uri": "https://localhost:8080/"
        },
        "outputId": "e1a7cd82-e207-4ec0-a068-77aaf9ca922e"
      },
      "execution_count": 29,
      "outputs": [
        {
          "output_type": "execute_result",
          "data": {
            "text/plain": [
              "True"
            ]
          },
          "metadata": {},
          "execution_count": 29
        }
      ]
    },
    {
      "cell_type": "code",
      "metadata": {
        "cell_id": 4,
        "id": "LKcSNj4tlRVK",
        "pycharm": {
          "name": "#%%\n"
        }
      },
      "source": [
        "import math\n",
        "import os\n",
        "import random\n",
        "import sys\n",
        "\n",
        "import matplotlib.pyplot as plt\n",
        "import numpy as np\n",
        "import pytorch_lightning as pl\n",
        "import torch\n",
        "import torchvision\n",
        "import torchvision.transforms as transforms\n",
        "from PIL import Image\n",
        "from pytorch_lightning.loggers import WandbLogger\n",
        "from torch import nn\n",
        "from torch.nn import functional as F\n",
        "from torch.utils.data import DataLoader\n",
        "from torchmetrics.functional import accuracy\n",
        "from torchvision.datasets import ImageFolder\n",
        "from tqdm import tqdm\n",
        "\n",
        "# You may add any imports you need\n",
        "import albumentations\n",
        "import albumentations.pytorch\n",
        "import multiprocessing\n",
        "from torchmetrics.functional import accuracy\n",
        "from pytorch_lightning.callbacks import ModelCheckpoint\n",
        "from torchsummary import summary"
      ],
      "execution_count": 30,
      "outputs": []
    },
    {
      "cell_type": "code",
      "source": [
        "def seed_everything(seed):\n",
        "    # Фискирует максимум сидов.\n",
        "    # Это понадобится, чтобы сравнение оптимизаторов было корректным\n",
        "    random.seed(seed)\n",
        "    os.environ[\"PYTHONHASHSEED\"] = str(seed)\n",
        "    np.random.seed(seed)\n",
        "    torch.manual_seed(seed)\n",
        "    torch.cuda.manual_seed(seed)\n",
        "    torch.backends.cudnn.deterministic = True\n",
        "\n",
        "\n",
        "seed_everything(123456)"
      ],
      "metadata": {
        "id": "47YPLjDL-Mtv",
        "pycharm": {
          "name": "#%%\n"
        }
      },
      "execution_count": 31,
      "outputs": []
    },
    {
      "cell_type": "code",
      "source": [
        "!wget https://www.dropbox.com/s/33l8lp62rmvtx40/dataset.zip?dl=1 -O dataset.zip && unzip -q dataset.zip"
      ],
      "metadata": {
        "id": "gVKdh063AzhH",
        "pycharm": {
          "name": "#%%\n"
        },
        "colab": {
          "base_uri": "https://localhost:8080/"
        },
        "outputId": "219ee84a-2df0-4722-bf52-36b3c0e08d61"
      },
      "execution_count": null,
      "outputs": [
        {
          "output_type": "stream",
          "name": "stdout",
          "text": [
            "--2022-10-31 17:16:35--  https://www.dropbox.com/s/33l8lp62rmvtx40/dataset.zip?dl=1\n",
            "Resolving www.dropbox.com (www.dropbox.com)... 162.125.81.18, 2620:100:6031:18::a27d:5112\n",
            "Connecting to www.dropbox.com (www.dropbox.com)|162.125.81.18|:443... connected.\n",
            "HTTP request sent, awaiting response... 302 Found\n",
            "Location: /s/dl/33l8lp62rmvtx40/dataset.zip [following]\n",
            "--2022-10-31 17:16:35--  https://www.dropbox.com/s/dl/33l8lp62rmvtx40/dataset.zip\n",
            "Reusing existing connection to www.dropbox.com:443.\n",
            "HTTP request sent, awaiting response... 302 Found\n",
            "Location: https://ucbf12146386a0559eceec5c1d93.dl.dropboxusercontent.com/cd/0/get/Bv6lJL42_-WEE8urWIX9nVvgmOGOmr3JMnhZpUpVvJ1PjUvBMr9XpwJGNqAB4-PGAUlt3JtrWPG3tXPxzh-ImbwOgrrS8tRhwfqdDcqVU3B-rd--mBQn-iMPh0ij96biIenubdjaqU-xqpuo5wqwjTMUIJQGyeRqy3H1Mv37Tp63YQ/file?dl=1# [following]\n",
            "--2022-10-31 17:16:36--  https://ucbf12146386a0559eceec5c1d93.dl.dropboxusercontent.com/cd/0/get/Bv6lJL42_-WEE8urWIX9nVvgmOGOmr3JMnhZpUpVvJ1PjUvBMr9XpwJGNqAB4-PGAUlt3JtrWPG3tXPxzh-ImbwOgrrS8tRhwfqdDcqVU3B-rd--mBQn-iMPh0ij96biIenubdjaqU-xqpuo5wqwjTMUIJQGyeRqy3H1Mv37Tp63YQ/file?dl=1\n",
            "Resolving ucbf12146386a0559eceec5c1d93.dl.dropboxusercontent.com (ucbf12146386a0559eceec5c1d93.dl.dropboxusercontent.com)... 162.125.67.15, 2620:100:6031:15::a27d:510f\n",
            "Connecting to ucbf12146386a0559eceec5c1d93.dl.dropboxusercontent.com (ucbf12146386a0559eceec5c1d93.dl.dropboxusercontent.com)|162.125.67.15|:443... connected.\n",
            "HTTP request sent, awaiting response... 200 OK\n",
            "Length: 220318689 (210M) [application/binary]\n",
            "Saving to: ‘dataset.zip’\n",
            "\n",
            "dataset.zip           0%[                    ]  23.22K   115KB/s               "
          ]
        }
      ]
    },
    {
      "cell_type": "markdown",
      "metadata": {
        "id": "RytEDW0ylRVN",
        "pycharm": {
          "name": "#%% md\n"
        }
      },
      "source": [
        "## Задание 0"
      ]
    },
    {
      "cell_type": "markdown",
      "source": [
        "### Что поможет сделать на 10 из 10 (одно задание - 5 баллов)"
      ],
      "metadata": {
        "id": "2HZECedTvepi",
        "pycharm": {
          "name": "#%% md\n"
        }
      }
    },
    {
      "cell_type": "markdown",
      "source": [
        "1. Использовать все возможные методы оптимизации и эксперемнтировать с ними.\n",
        "2. Подбор learning rate. Пример из прошлого семинара как это делать: [Как найти lr](https://pytorch-lightning.readthedocs.io/en/1.4.5/advanced/lr_finder.html)\n",
        "\n",
        "```\n",
        "  trainer = pl.Trainer(accelerator=\"gpu\", max_epochs=2, auto_lr_find=True) \n",
        "\n",
        "  trainer.tune(module, train_dataloader, eval_dataloader)\n",
        "\n",
        "  trainer.fit(module, train_dataloader, eval_dataloader))\n",
        "```\n",
        "\n",
        "\n",
        "\n",
        "3. Аугментация данных. [Документация (полезная)](https://pytorch.org/vision/main/transforms.html), а также [библиотека albumentation](https://towardsdatascience.com/getting-started-with-albumentation-winning-deep-learning-image-augmentation-technique-in-pytorch-47aaba0ee3f8)\n",
        "4. Подбор архитектуры модели. \n",
        "5. Можно написать модель руками свою в YourNet, а можно импортировать не предобученную сетку известной архитектуры из модуля torchvision.models. Один из способов как можно сделать: \n",
        "\n",
        "  * `torchvision.models.resnet18(pretrained=False, num_classes=200).to(device)`\n",
        "  * Документация по возможным моделям и как их можно брать: [Документация (полезная)](https://pytorch.org/vision/stable/models.html)\n",
        "6. Правильно нормализовывать данные при создании, пример [тык, но тут и в целом гайд от и до](https://www.pluralsight.com/guides/image-classification-with-pytorch)\n",
        "7. Model Checkpointing. Сохраняйте свой прогресс (модели), чтобы когда что-то пойдет не так вы сможете начать с этого места или просто воспроизвести свои результаты модели, которые обучали. \n",
        " * Пример как можно с wandb тут: [Сохраняем лучшие модели в wandb](https://docs.wandb.ai/guides/integrations/lightning)\n",
        " * По простому можно так: [Сохраняем модели в pytorch дока](https://pytorch.org/tutorials/beginner/saving_loading_models.html)"
      ],
      "metadata": {
        "id": "dOioHGEiveso",
        "pycharm": {
          "name": "#%% md\n"
        }
      }
    },
    {
      "cell_type": "markdown",
      "source": [
        "### Подготовка данных"
      ],
      "metadata": {
        "id": "WYePsQgNRB-n",
        "pycharm": {
          "name": "#%% md\n"
        }
      }
    },
    {
      "cell_type": "code",
      "source": [
        "bs = 128\n",
        "num_workers = multiprocessing.cpu_count()\n",
        "device = 'cuda:0' if torch.cuda.is_available() else 'cpu'\n",
        "print(num_workers, device)"
      ],
      "metadata": {
        "id": "9NZvG3OLEb0l"
      },
      "execution_count": null,
      "outputs": []
    },
    {
      "cell_type": "code",
      "source": [
        "# https://stackoverflow.com/questions/69151052/using-imagefolder-with-albumentations-in-pytorch\n",
        "class Transforms:\n",
        "    def __init__(self, transforms):\n",
        "        self.transforms = transforms\n",
        "\n",
        "    def __call__(self, img, *args, **kwargs):\n",
        "        return self.transforms(image=np.array(img))['image']"
      ],
      "metadata": {
        "id": "D9pAgl0vIPF6"
      },
      "execution_count": null,
      "outputs": []
    },
    {
      "cell_type": "code",
      "metadata": {
        "cell_id": 5,
        "id": "QEdDQtHdlRVO",
        "pycharm": {
          "name": "#%%\n"
        }
      },
      "source": [
        "# YOU CAN DEFINE AUGMENTATIONS HERE\n",
        "# https://towardsdatascience.com/getting-started-with-albumentation-winning-deep-learning-image-augmentation-technique-in-pytorch-47aaba0ee3f8\n",
        "train_transform_1 = albumentations.Compose([\n",
        "    albumentations.OneOf([\n",
        "                          albumentations.HorizontalFlip(p=1),\n",
        "                          albumentations.RandomRotate90(p=1),\n",
        "                          albumentations.VerticalFlip(p=1)            \n",
        "    ], p=1),\n",
        "    albumentations.OneOf([\n",
        "                          albumentations.MotionBlur(p=1),\n",
        "                          albumentations.OpticalDistortion(p=1),\n",
        "                          albumentations.GaussNoise(p=1)                 \n",
        "    ], p=1),\n",
        "    albumentations.ColorJitter(hue=0, saturation=(0.5, 2.0), brightness=0, contrast=0),\n",
        "    albumentations.Normalize(mean=(0.485, 0.456, 0.406), std=(0.229, 0.224, 0.225)), # нормализация с параметрами от ImageNet\n",
        "    albumentations.pytorch.ToTensorV2()\n",
        "\n",
        "])\n",
        "\n",
        "val_transform_1 = albumentations.Compose([\n",
        "    albumentations.Normalize(mean=(0.485, 0.456, 0.406), std=(0.229, 0.224, 0.225)), # нормализация с параметрами от ImageNet\n",
        "    albumentations.pytorch.ToTensorV2()\n",
        "])\n",
        "\n",
        "train_transform_2 = albumentations.Compose([\n",
        "    albumentations.Resize(256, 256), \n",
        "    albumentations.RandomCrop(224, 224),\n",
        "    albumentations.OneOf([\n",
        "                          albumentations.HorizontalFlip(p=1),\n",
        "                          albumentations.RandomRotate90(p=1),\n",
        "                          albumentations.VerticalFlip(p=1)            \n",
        "    ], p=1),\n",
        "    albumentations.OneOf([\n",
        "                          albumentations.MotionBlur(p=1),\n",
        "                          albumentations.OpticalDistortion(p=1),\n",
        "                          albumentations.GaussNoise(p=1)                 \n",
        "    ], p=1),\n",
        "    albumentations.ColorJitter(hue=0, saturation=(0.5, 2.0), brightness=0, contrast=0),\n",
        "    albumentations.Normalize(mean=(0.485, 0.456, 0.406), std=(0.229, 0.224, 0.225)), # нормализация с параметрами от ImageNet\n",
        "    albumentations.pytorch.ToTensorV2()\n",
        "])\n",
        "\n",
        "val_transform_2 = albumentations.Compose([\n",
        "    albumentations.Normalize(mean=(0.485, 0.456, 0.406), std=(0.229, 0.224, 0.225)), # нормализация с параметрами от ImageNet\n",
        "    albumentations.Resize(256, 256), \n",
        "    albumentations.RandomCrop(224, 224),\n",
        "    albumentations.pytorch.ToTensorV2()\n",
        "])"
      ],
      "execution_count": null,
      "outputs": []
    },
    {
      "cell_type": "code",
      "source": [
        "train_aug_dataset = ImageFolder('dataset/dataset/train', transform=Transforms(train_transform_1))\n",
        "train_norm_dataset = ImageFolder('dataset/dataset/train', transform=Transforms(val_transform_1))\n",
        "train_dataset = torch.utils.data.ConcatDataset([train_norm_dataset, train_aug_dataset])\n",
        "val_dataset = ImageFolder('dataset/dataset/val', transform=Transforms(val_transform_1))\n",
        "# REPLACE ./dataset/dataset WITH THE FOLDER WHERE YOU DOWNLOADED AND UNZIPPED THE DATASET\n",
        "\n",
        "train_dataloader = DataLoader(train_dataset, batch_size = bs, shuffle = True, num_workers=num_workers)\n",
        "val_dataloader = DataLoader(val_dataset, batch_size = bs, shuffle = False, num_workers=num_workers)"
      ],
      "metadata": {
        "id": "RBJaRX4fCKR6"
      },
      "execution_count": null,
      "outputs": []
    },
    {
      "cell_type": "code",
      "metadata": {
        "cell_id": 6,
        "id": "mrg4Yj0VlRVP",
        "pycharm": {
          "name": "#%%\n"
        }
      },
      "source": [
        "# Just very simple sanity checks\n",
        "assert isinstance(train_dataset[0], tuple)\n",
        "assert len(train_dataset[0]) == 2\n",
        "assert isinstance(train_dataset[1][1], int)\n",
        "print(\"tests passed\")"
      ],
      "execution_count": null,
      "outputs": []
    },
    {
      "cell_type": "markdown",
      "source": [
        "### Посмотрим на картиночки"
      ],
      "metadata": {
        "id": "EOuM0EEYj7Ml",
        "pycharm": {
          "name": "#%% md\n"
        }
      }
    },
    {
      "cell_type": "code",
      "source": [
        "i = 0\n",
        "for batch in train_dataloader:\n",
        "    images, class_nums = batch\n",
        "    plt.imshow(images[5].permute(1, 2, 0))\n",
        "    plt.show()\n",
        "    plt.imshow(images[19].permute(1, 2, 0))\n",
        "    plt.show()\n",
        "    i+=1\n",
        "    if i == 2:\n",
        "      break"
      ],
      "metadata": {
        "id": "DeuB0YC3LYRm",
        "pycharm": {
          "name": "#%%\n"
        }
      },
      "execution_count": null,
      "outputs": []
    },
    {
      "cell_type": "markdown",
      "source": [
        "## Задание 1. \n",
        "\n",
        "5 баллов\n",
        "Добейтесь accuracy на валидации не менее 0.44. В этом задании запрещено пользоваться предобученными моделями и ресайзом картинок.\n",
        "\n",
        "\n",
        "Для того чтобы выбить скор (считается ниже) на 2.5/5 балла (то есть половину за задание) достаточно соблюдать пару простых жизненных правил:\n",
        "1. Аугментация (без нее сложно очень будет)\n",
        "2. Оптимайзеры можно (и нужно) использовать друг с другом. Однако когда что-то проверяете, то не меняйте несколько параметров сразу - собьете логику экспериментов\n",
        "3. Не используйте полносвязные модели или самые первые сверточные, используйте более современные архитектуры (что на лекциях встречались)\n",
        "4. Посмотреть все ноутбуки прошедших семинаров и слепить из них что-то общее. Семинарских тетрадок хватит сверх"
      ],
      "metadata": {
        "id": "LCwKB-3nKm1-",
        "pycharm": {
          "name": "#%% md\n"
        }
      }
    },
    {
      "cell_type": "markdown",
      "source": [
        "### Модель + тренировочный класс, вот гайд: https://www.youtube.com/watch?v=DbESHcCoWbM"
      ],
      "metadata": {
        "id": "pWR2l6ymZfRJ",
        "pycharm": {
          "name": "#%% md\n"
        }
      }
    },
    {
      "cell_type": "code",
      "source": [
        "# modifying last fully connected layer\n",
        "model = torch.hub.load('pytorch/vision:v0.10.0', 'resnet18', weights=None).to(device)\n",
        "summary(model, (3,61,61))"
      ],
      "metadata": {
        "id": "JF9NIO6JhIj1"
      },
      "execution_count": null,
      "outputs": []
    },
    {
      "cell_type": "code",
      "source": [
        "class OmegaModul(pl.LightningModule):\n",
        "    def __init__(self, learning_rate):\n",
        "        super().__init__()\n",
        "        self.model = torch.hub.load('pytorch/vision:v0.10.0', 'resnet18', weights=None)\n",
        "        self.model.fc = nn.Sequential(\n",
        "            nn.LazyLinear(2048),\n",
        "            nn.BatchNorm1d(2048),\n",
        "            nn.ReLU(),\n",
        "            nn.Dropout(0.2),\n",
        "            nn.Linear(2048, 1000),\n",
        "            nn.ReLU(),\n",
        "            nn.Linear(1000, 200),\n",
        "        )\n",
        "        self.loss = nn.CrossEntropyLoss()\n",
        "        self.learning_rate = learning_rate\n",
        "\n",
        "    def forward(self, x):\n",
        "        return self.model(x)\n",
        "\n",
        "    def configure_optimizers(self):\n",
        "        optimizer = torch.optim.Adam(self.model.parameters(), lr=self.learning_rate)\n",
        "        scheduler = torch.optim.lr_scheduler.LambdaLR(optimizer, lr_lambda = lambda epoch: 0.5 ** max(epoch - 6, 0))\n",
        "        return {\"optimizer\": optimizer, \"lr_scheduler\": scheduler, \"monitor\": \"train_loss\"}\n",
        "\n",
        "    def training_step(self, train_batch, batch_idx):\n",
        "        images, target = train_batch\n",
        "        pred = self.model(images)\n",
        "        loss = self.loss(pred, target)\n",
        "        acc = accuracy(pred, target)\n",
        "        self.log(\"train_accuracy\", acc, on_epoch=True, prog_bar=True)\n",
        "        self.log(\"train_loss\", loss, on_epoch=True, prog_bar=True)\n",
        "        return {'loss':loss, 'accuracy': acc}\n",
        "\n",
        "    def validation_step(self, val_batch, batch_idx):\n",
        "        res = self.training_step(val_batch, batch_idx)\n",
        "        return res\n",
        "\n",
        "    def validation_epoch_end(self, val_step_outputs):\n",
        "        avg_val_loss = torch.tensor([x['loss'] for x in val_step_outputs]).mean()\n",
        "        avg_val_accuracy = torch.tensor([x['accuracy'] for x in val_step_outputs]).mean()\n",
        "        self.log(\"val_loss\", avg_val_loss, prog_bar=True)\n",
        "        self.log(\"val_accuracy\", avg_val_accuracy, prog_bar=True)\n",
        "        return {'val_loss':avg_val_loss}\n"
      ],
      "metadata": {
        "id": "mDYorQXLZhTQ",
        "pycharm": {
          "name": "#%%\n"
        }
      },
      "execution_count": null,
      "outputs": []
    },
    {
      "cell_type": "code",
      "source": [
        "# wandb.init()"
      ],
      "metadata": {
        "id": "2s1MKHqzRC-Y"
      },
      "execution_count": null,
      "outputs": []
    },
    {
      "cell_type": "code",
      "source": [
        "wandb_logger = WandbLogger(project=\"iad_hw2\") # какие возможности дает с pytorch_lightning https://docs.wandb.ai/guides/integrations/lightning"
      ],
      "metadata": {
        "id": "z9-1wq7QYkiz",
        "pycharm": {
          "name": "#%%\n"
        }
      },
      "execution_count": null,
      "outputs": []
    },
    {
      "cell_type": "code",
      "source": [
        "checkpoint_callback = ModelCheckpoint(dirpath=\"best_params\", save_top_k=2, monitor=\"val_loss\")\n",
        "trainer = pl.Trainer(logger=wandb_logger, max_epochs = 20, accelerator='gpu', devices=1, callbacks=[checkpoint_callback])\n",
        "trainer.fit(OmegaModul(learning_rate = 0.001), train_dataloader, val_dataloader)\n",
        "wandb.finish()\n",
        "checkpoint_callback.best_model_path"
      ],
      "metadata": {
        "id": "If8fi4HZkN3J",
        "pycharm": {
          "name": "#%%\n"
        }
      },
      "execution_count": null,
      "outputs": []
    },
    {
      "cell_type": "code",
      "source": [
        "wandb.init(resume=True)\n",
        "trainer = pl.Trainer(logger=wandb_logger, max_epochs = 20, accelerator='gpu', devices=1, callbacks=[checkpoint_callback], resume_from_checkpoint = \"/content/best_params/epoch=7-step=12504-v1.ckpt\")\n",
        "trainer.fit(OmegaModul(learning_rate = 0.001), train_dataloader, val_dataloader)\n",
        "wandb.finish()\n",
        "checkpoint_callback.best_model_path"
      ],
      "metadata": {
        "id": "SfzbGwe4__uI"
      },
      "execution_count": null,
      "outputs": []
    },
    {
      "cell_type": "markdown",
      "source": [
        "### Валидация результатов задания"
      ],
      "metadata": {
        "id": "3eoTAB1fSOuk",
        "pycharm": {
          "name": "#%% md\n"
        }
      }
    },
    {
      "cell_type": "code",
      "source": [
        "def evaluate_task(model, test_dataloader, device=\"cuda:0\"):\n",
        "    model = model.to(device)\n",
        "    model.eval()\n",
        "    accuracy = 0.0\n",
        "    for images, labels in tqdm(test_dataloader):\n",
        "        images, labels = images.to(device), labels.to(device)\n",
        "        with torch.no_grad():\n",
        "            loss = model(images, labels)\n",
        "            acc_batch = model.get_accuracy(reset=True) # было reset = False\n",
        "        accuracy += acc_batch\n",
        "    accuracy = accuracy / len(test_dataloader)\n",
        "    return accuracy"
      ],
      "metadata": {
        "id": "4M_BAiMNl1rL",
        "pycharm": {
          "name": "#%%\n"
        }
      },
      "execution_count": null,
      "outputs": []
    },
    {
      "cell_type": "code",
      "source": [
        "model = # Подгрузить свою сохраненную модель сюда\n",
        "\n",
        "accuracy = evaluate_task(model, val_dataloader)\n",
        "print(f\"Оценка за это задание составит {np.clip(10 * accuracy / 0.44, 0, 10):.2f} баллов\")"
      ],
      "metadata": {
        "id": "TsP57VG8KEfP",
        "pycharm": {
          "name": "#%%\n"
        }
      },
      "execution_count": null,
      "outputs": []
    },
    {
      "cell_type": "markdown",
      "source": [
        "## Задание 2\n",
        "\n",
        "5 баллов\n",
        "Добейтесь accuracy на валидации не менее 0.84. В этом задании делать ресайз и использовать претрейн можно.\n",
        "\n",
        "Для того чтобы выбить скор (считается ниже) на 2.5/5 балла (то есть половину за задание) достаточно соблюдать пару простых жизненных правил:\n",
        "1. Аугментация (без нее сложно очень будет)\n",
        "2. Оптимайзеры можно (и нужно) использовать друг с другом. Однако когда что-то проверяете, то не меняйте несколько параметров сразу - собьете логику экспериментов\n",
        "3. Не используйте полносвязные модели или самые первые сверточные, используйте более современные архитектуры (что на лекциях встречались или можете пойти дальше).\n",
        "4. Попробуйте сначала посмотреть качество исходной модели без дообучения, сохраните как baseline. Отсюда поймете какие слои нужно дообучать.\n",
        "5. Посмотреть все ноутбуки прошедших семинаров и слепить из них что-то общее. Семинарских тетрадок хватит сверх"
      ],
      "metadata": {
        "id": "cZqSdlQQKukS",
        "pycharm": {
          "name": "#%% md\n"
        }
      }
    },
    {
      "cell_type": "markdown",
      "source": [
        "### Модель (или просто импортируйте предобученную)"
      ],
      "metadata": {
        "id": "zDzXM5rNxNQp",
        "pycharm": {
          "name": "#%% md\n"
        }
      }
    },
    {
      "cell_type": "code",
      "source": [
        "train_dataset = ImageFolder('/content/dataset/dataset/train', transform=Transforms(train_transform_2))\n",
        "val_dataset = ImageFolder('/content/dataset/dataset/val', transform=Transforms(val_transform_2))\n",
        "# REPLACE ./dataset/dataset WITH THE FOLDER WHERE YOU DOWNLOADED AND UNZIPPED THE DATASET\n",
        "\n",
        "train_dataloader = DataLoader(train_dataset, batch_size = bs, shuffle = True, num_workers=num_workers)\n",
        "val_dataloader = DataLoader(val_dataset, batch_size = bs, shuffle = True, num_workers=num_workers)"
      ],
      "metadata": {
        "id": "P9_2KjxCCZzt"
      },
      "execution_count": null,
      "outputs": []
    },
    {
      "cell_type": "code",
      "source": [
        "class YourNet(torch.nn.Module):\n",
        "    def __init__(self):\n",
        "        super().__init__()\n",
        "        # YOUR CODE HERE\n",
        "        pass\n",
        "\n",
        "    def _forward(self, x):\n",
        "        # runs the Neural Network\n",
        "        # YOUR CODE HERE\n",
        "        pass\n",
        "\n",
        "    def forward(self, images, target=None):\n",
        "        # YOUR CODE HERE\n",
        "        pass\n",
        "\n",
        "    def get_accuracy(self, reset=False):\n",
        "        # YOUR CODE HERE\n",
        "        pass"
      ],
      "metadata": {
        "id": "sDr9l76AxH_9",
        "pycharm": {
          "name": "#%%\n"
        }
      },
      "execution_count": null,
      "outputs": []
    },
    {
      "cell_type": "markdown",
      "source": [
        "### Тренировочный класс lightning"
      ],
      "metadata": {
        "id": "Flwqk0YjxPLE",
        "pycharm": {
          "name": "#%% md\n"
        }
      }
    },
    {
      "cell_type": "code",
      "source": [
        "class YourModule(pl.LightningModule):\n",
        "    def __init__(self, model, learning_rate):\n",
        "        super().__init__()\n",
        "        # YOUR CODE HERE\n",
        "        pass\n",
        "\n",
        "    def forward(self, x):\n",
        "        # YOUR CODE HERE\n",
        "        pass\n",
        "\n",
        "    def configure_optimizers(self):\n",
        "        # YOUR CODE HERE\n",
        "        pass\n",
        "\n",
        "    def training_step(self, train_batch, batch_idx):\n",
        "        # YOUR CODE HERE\n",
        "        pass\n",
        "\n",
        "    def validation_step(self, val_batch, batch_idx):\n",
        "        # YOUR CODE HERE\n",
        "        pass"
      ],
      "metadata": {
        "id": "UnKHluO6xID4",
        "pycharm": {
          "name": "#%%\n"
        }
      },
      "execution_count": null,
      "outputs": []
    },
    {
      "cell_type": "code",
      "source": [
        "wandb_logger = WandbLogger(log_model='all') # какие возможности дает с pytorch_lightning https://docs.wandb.ai/guides/integrations/lightning\n",
        "device =  # YOUR CODE HERE\n",
        "\n",
        "model = YourNet().to() # YOUR CODE HERE\n",
        "module = YourModule() # YOUR CODE HERE"
      ],
      "metadata": {
        "id": "lQAjkvkVyhEg",
        "pycharm": {
          "name": "#%%\n"
        }
      },
      "execution_count": null,
      "outputs": []
    },
    {
      "cell_type": "code",
      "source": [
        "trainer = pl.Trainer(logger=wandb_logger)  # YOUR CODE HERE\n",
        "trainer.fit()  # YOUR CODE HERE"
      ],
      "metadata": {
        "id": "T4wJgB1YyhG0",
        "pycharm": {
          "name": "#%%\n"
        }
      },
      "execution_count": null,
      "outputs": []
    },
    {
      "cell_type": "markdown",
      "source": [
        "### Валидация результатов задания"
      ],
      "metadata": {
        "id": "u5D2bwOKSHVp",
        "pycharm": {
          "name": "#%% md\n"
        }
      }
    },
    {
      "cell_type": "code",
      "source": [
        "model = # Подгрузить свою сохраненную модель сюда\n",
        "\n",
        "accuracy = evaluate_task(model, val_dataloader)\n",
        "print(f\"Оценка за это задание составит {np.clip(10 * (accuracy - 0.5) / 0.34, 0, 10):.2f} баллов\")"
      ],
      "metadata": {
        "id": "PEdwJE5uOrIM",
        "pycharm": {
          "name": "#%%\n"
        }
      },
      "execution_count": null,
      "outputs": []
    },
    {
      "cell_type": "markdown",
      "metadata": {
        "cell_id": 15,
        "id": "pT8vfPSolRVb",
        "pycharm": {
          "name": "#%% md\n"
        }
      },
      "source": [
        "# Отчёт об экспериментах \n",
        "\n",
        "текст писать тут (или ссылочку на wandb/любой трекер экспреиментов) для каждого задания, то есть не обязательно именно тут рисовать графики, если вы используете готовые трекеры/мониторинги ваших моделей."
      ]
    },
    {
      "cell_type": "code",
      "source": [],
      "metadata": {
        "id": "YkGZ3kuULB55",
        "pycharm": {
          "name": "#%%\n"
        }
      },
      "execution_count": null,
      "outputs": []
    }
  ]
}