{
  "cells": [
    {
      "cell_type": "markdown",
      "source": [
        "###О задании"
      ],
      "metadata": {
        "id": "o2xYae7U-Iei"
      }
    },
    {
      "cell_type": "markdown",
      "metadata": {
        "id": "vY8vT0W_K-hR"
      },
      "source": [
        "На занятиях мы подробно обсуждали метод опорных векторов (SVM). В базовой версии в нём нет чего-то особенного — мы всего лишь используем специальную функцию потерь, которая не требует устремлять отступы к бесконечности; ей достаточно, чтобы отступы были не меньше +1. Затем мы узнали, что SVM можно переписать в двойственном виде, который, позволяет заменить скалярные произведения объектов на ядра. Это будет соответствовать построению модели в новом пространстве более высокой размерности, координаты которого представляют собой нелинейные модификации исходных признаков.\n",
        "\n",
        "Ядровой SVM, к сожалению, довольно затратен по памяти (нужно хранить матрицу Грама размера $d \\times d$) и по времени (нужно решать задачу условной оптимизации с квадратичной функцией, а это не очень быстро). Мы обсуждали, что есть способы посчитать новые признаки $\\tilde \\varphi(x)$ на основе исходных так, что скалярные произведения этих новых $\\langle \\tilde \\varphi(x), \\tilde \\varphi(z) \\rangle$ приближают ядро $K(x, z)$.\n",
        "\n",
        "Мы будем исследовать аппроксимации методом Random Fourier Features (RFF, также в литературе встречается название Random Kitchen Sinks) для гауссовых ядер. Будем использовать формулы, которые немного отличаются от того, что было на лекциях (мы добавим сдвиги внутрь тригонометрических функций и будем использовать только косинусы, потому что с нужным сдвигом косинус превратится в синус):\n",
        "$$\\tilde \\varphi(x) = (\n",
        "\\cos (w_1^T x + b_1),\n",
        "\\dots,\n",
        "\\cos (w_n^T x + b_n)\n",
        "),$$\n",
        "где $w_j \\sim \\mathcal{N}(0, 1/\\sigma^2)$, $b_j \\sim U[-\\pi, \\pi]$.\n",
        "\n",
        "На новых признаках $\\tilde \\varphi(x)$ мы будем строить любую линейную модель.\n",
        "\n",
        "Можно считать, что это некоторая новая парадигма построения сложных моделей. Можно направленно искать сложные нелинейные закономерности в данных с помощью градиентного бустинга или нейронных сетей, а можно просто нагенерировать большое количество случайных нелинейных признаков и надеяться, что быстрая и простая модель (то есть линейная) сможет показать на них хорошее качество. В этом задании мы изучим, насколько работоспособна такая идея.\n",
        "\n",
        "### Алгоритм\n",
        "\n",
        "Вам потребуется реализовать следующий алгоритм:\n",
        "1. Понизить размерность выборки до new_dim с помощью метода главных компонент.\n",
        "2. Для полученной выборки оценить гиперпараметр $\\sigma^2$ с помощью эвристики (рекомендуем считать медиану не по всем парам объектов, а по случайному подмножеству из где-то миллиона пар объектов): $$\\sigma^2 = \\text{median}_{i, j = 1, \\dots, \\ell, i \\neq j} \\left\\{\\sum_{k = 1}^{d} (x_{ik} - x_{jk})^2 \\right\\}$$\n",
        "3. Сгенерировать n_features наборов весов $w_j$ и сдвигов $b_j$.\n",
        "4. Сформировать n_features новых признаков по формулам, приведённым выше.\n",
        "5. Обучить линейную модель (логистическую регрессию или SVM) на новых признаках.\n",
        "6. Повторить преобразования (PCA, формирование новых признаков) к тестовой выборке и применить модель."
      ]
    },
    {
      "cell_type": "markdown",
      "metadata": {
        "id": "RYp0bXOFK-hP"
      },
      "source": [
        "# Машинное обучение, ФКН ВШЭ\n",
        "\n",
        "## Практическое задание 8. Метод опорных векторов и аппроксимация ядер\n",
        "\n",
        "### Общая информация\n",
        "\n",
        "Дата выдачи: 04.02.2023\n",
        "\n",
        "Мягкий дедлайн: 23:59MSK 20.02.2023\n",
        "\n",
        "Жесткий дедлайн: 23:59MSK 26.02.2023\n",
        "\n",
        "### Оценивание и штрафы\n",
        "Каждая из задач имеет определенную «стоимость» (указана в скобках около задачи). Максимальная оценка за работу (без учёта бонусов) — 10 баллов.\n",
        "\n",
        "Сдавать задание после указанного жёсткого срока сдачи нельзя. При выставлении неполного балла за задание в связи с наличием ошибок на усмотрение проверяющего предусмотрена возможность исправить работу на указанных в ответном письме условиях.\n",
        "\n",
        "Задание выполняется самостоятельно. «Похожие» решения считаются плагиатом и все задействованные студенты (в том числе те, у кого списали) не могут получить за него больше 0 баллов (подробнее о плагиате см. на странице курса). Если вы нашли решение какого-то из заданий (или его часть) в открытом источнике, необходимо указать ссылку на этот источник в отдельном блоке в конце вашей работы (скорее всего вы будете не единственным, кто это нашел, поэтому чтобы исключить подозрение в плагиате, необходима ссылка на источник).\n",
        "\n",
        "Неэффективная реализация кода может негативно отразиться на оценке.\n",
        "\n",
        "### Формат сдачи\n",
        "Задания сдаются через систему anytask. Посылка должна содержать:\n",
        "* Ноутбук homework-practice-08-random-features-Username.ipynb\n",
        "\n",
        "Username — ваша фамилия и имя на латинице именно в таком порядке"
      ]
    },
    {
      "cell_type": "markdown",
      "source": [
        "### нужно ускориться (increase speed, accelerate, be fast etc.)"
      ],
      "metadata": {
        "id": "q0GL6RGy9nSJ"
      }
    },
    {
      "cell_type": "markdown",
      "source": [
        "https://medium.com/analytics-vidhya/how-to-install-and-run-thundersvm-in-google-colab-de1fe49eef85"
      ],
      "metadata": {
        "id": "5QUYQHyxA1uB"
      }
    },
    {
      "cell_type": "code",
      "source": [
        "!wget https://developer.nvidia.com/compute/cuda/9.0/Prod/local_installers/cuda-repo-ubuntu1704-9-0-local_9.0.176-1_amd64-deb\n",
        "2"
      ],
      "metadata": {
        "colab": {
          "base_uri": "https://localhost:8080/"
        },
        "id": "4q2j70aZ74GU",
        "outputId": "338582b0-40a3-48d9-b399-f8bda19a0347"
      },
      "execution_count": 1,
      "outputs": [
        {
          "output_type": "stream",
          "name": "stdout",
          "text": [
            "--2023-02-17 14:50:15--  https://developer.nvidia.com/compute/cuda/9.0/Prod/local_installers/cuda-repo-ubuntu1704-9-0-local_9.0.176-1_amd64-deb\n",
            "Resolving developer.nvidia.com (developer.nvidia.com)... 152.195.19.142\n",
            "Connecting to developer.nvidia.com (developer.nvidia.com)|152.195.19.142|:443... connected.\n",
            "HTTP request sent, awaiting response... 301 Moved Permanently\n",
            "Location: https://developer.nvidia.com/downloads/compute/cuda/9.0/Prod/local_installers/cuda-repo-ubuntu1704-9-0-local_9.0.176-1_amd64-deb [following]\n",
            "--2023-02-17 14:50:15--  https://developer.nvidia.com/downloads/compute/cuda/9.0/Prod/local_installers/cuda-repo-ubuntu1704-9-0-local_9.0.176-1_amd64-deb\n",
            "Reusing existing connection to developer.nvidia.com:443.\n",
            "HTTP request sent, awaiting response... 302 Found\n",
            "Location: https://developer.download.nvidia.com/compute/cuda/9.0/secure/Prod/local_installers/cuda-repo-ubuntu1704-9-0-local_9.0.176-1_amd64.deb?eM9Xb3AWN7XPOPcFSIJ6vABbud87phjKAPpq5DqScPisiTMnGlF7U6QCp6eCccdKi0cpTVHAtr9DwLoTNulG2IrhSaSufJhrdGN2uS1CwHWq4fzXmOtoZ_stqFIRvkek6hpFi8VRW14-MVShFxgsz5RBF4HBAbX60l3OMbEIz_1z4FcLSqewU1blBLeObKfiIFGwULVFUmGg3t2eFfWg [following]\n",
            "--2023-02-17 14:50:15--  https://developer.download.nvidia.com/compute/cuda/9.0/secure/Prod/local_installers/cuda-repo-ubuntu1704-9-0-local_9.0.176-1_amd64.deb?eM9Xb3AWN7XPOPcFSIJ6vABbud87phjKAPpq5DqScPisiTMnGlF7U6QCp6eCccdKi0cpTVHAtr9DwLoTNulG2IrhSaSufJhrdGN2uS1CwHWq4fzXmOtoZ_stqFIRvkek6hpFi8VRW14-MVShFxgsz5RBF4HBAbX60l3OMbEIz_1z4FcLSqewU1blBLeObKfiIFGwULVFUmGg3t2eFfWg\n",
            "Resolving developer.download.nvidia.com (developer.download.nvidia.com)... 152.195.19.142\n",
            "Connecting to developer.download.nvidia.com (developer.download.nvidia.com)|152.195.19.142|:443... connected.\n",
            "HTTP request sent, awaiting response... 200 OK\n",
            "Length: 1216133170 (1.1G) [application/x-deb]\n",
            "Saving to: ‘cuda-repo-ubuntu1704-9-0-local_9.0.176-1_amd64-deb’\n",
            "\n",
            "cuda-repo-ubuntu170 100%[===================>]   1.13G   211MB/s    in 5.4s    \n",
            "\n",
            "2023-02-17 14:50:21 (216 MB/s) - ‘cuda-repo-ubuntu1704-9-0-local_9.0.176-1_amd64-deb’ saved [1216133170/1216133170]\n",
            "\n"
          ]
        },
        {
          "output_type": "execute_result",
          "data": {
            "text/plain": [
              "2"
            ]
          },
          "metadata": {},
          "execution_count": 1
        }
      ]
    },
    {
      "cell_type": "code",
      "source": [
        "!ls  # Check if required cuda 9.0 amd64-deb file is downloaded"
      ],
      "metadata": {
        "colab": {
          "base_uri": "https://localhost:8080/"
        },
        "id": "GyLbRbf075Qe",
        "outputId": "5392930d-7089-4f74-cee2-426a4b3c94d6"
      },
      "execution_count": 2,
      "outputs": [
        {
          "output_type": "stream",
          "name": "stdout",
          "text": [
            "cuda-repo-ubuntu1704-9-0-local_9.0.176-1_amd64-deb  sample_data\n"
          ]
        }
      ]
    },
    {
      "cell_type": "code",
      "source": [
        "!dpkg -i cuda-repo-ubuntu1704-9-0-local_9.0.176-1_amd64-deb"
      ],
      "metadata": {
        "colab": {
          "base_uri": "https://localhost:8080/"
        },
        "id": "oC2y-YRD7-8d",
        "outputId": "82f7347d-7a48-4e24-f379-68114859b507"
      },
      "execution_count": 3,
      "outputs": [
        {
          "output_type": "stream",
          "name": "stdout",
          "text": [
            "Selecting previously unselected package cuda-repo-ubuntu1704-9-0-local.\n",
            "(Reading database ... 128126 files and directories currently installed.)\n",
            "Preparing to unpack cuda-repo-ubuntu1704-9-0-local_9.0.176-1_amd64-deb ...\n",
            "Unpacking cuda-repo-ubuntu1704-9-0-local (9.0.176-1) ...\n",
            "Setting up cuda-repo-ubuntu1704-9-0-local (9.0.176-1) ...\n"
          ]
        }
      ]
    },
    {
      "cell_type": "code",
      "source": [
        "!ls /var/cuda-repo-9-0-local | grep .pub"
      ],
      "metadata": {
        "colab": {
          "base_uri": "https://localhost:8080/"
        },
        "id": "JIO4L-ok8BLg",
        "outputId": "a62c1b8a-6bc3-400f-efa7-5482d2b630b5"
      },
      "execution_count": 4,
      "outputs": [
        {
          "output_type": "stream",
          "name": "stdout",
          "text": [
            "7fa2af80.pub\n"
          ]
        }
      ]
    },
    {
      "cell_type": "code",
      "source": [
        "!apt-key add /var/cuda-repo-9-0-local/7fa2af80.pub"
      ],
      "metadata": {
        "colab": {
          "base_uri": "https://localhost:8080/"
        },
        "id": "XCeVk_tf8EY1",
        "outputId": "68e8f892-0473-4b26-cc7e-a50f6a982b51"
      },
      "execution_count": 5,
      "outputs": [
        {
          "output_type": "stream",
          "name": "stdout",
          "text": [
            "OK\n"
          ]
        }
      ]
    },
    {
      "cell_type": "code",
      "source": [
        "!apt-get update"
      ],
      "metadata": {
        "colab": {
          "base_uri": "https://localhost:8080/"
        },
        "id": "_c0nC3F-8G6W",
        "outputId": "8143af0f-791b-4bf1-ba14-eae3622d3ea7"
      },
      "execution_count": 6,
      "outputs": [
        {
          "output_type": "stream",
          "name": "stdout",
          "text": [
            "\r0% [Working]\r            \rGet:1 file:/var/cuda-repo-9-0-local  InRelease\n",
            "\r            \rIgn:1 file:/var/cuda-repo-9-0-local  InRelease\n",
            "\r0% [Connecting to archive.ubuntu.com] [Connecting to security.ubuntu.com (91.18\r                                                                               \rGet:2 file:/var/cuda-repo-9-0-local  Release [574 B]\n",
            "\r0% [Connecting to archive.ubuntu.com] [Connecting to security.ubuntu.com (91.18\r                                                                               \rGet:2 file:/var/cuda-repo-9-0-local  Release [574 B]\n",
            "\r0% [2 Release 0 B/574 B 0%] [Connecting to archive.ubuntu.com] [Connecting to s\r0% [Connecting to archive.ubuntu.com] [Connecting to security.ubuntu.com (91.18\r                                                                               \rGet:3 file:/var/cuda-repo-9-0-local  Release.gpg [819 B]\n",
            "\r0% [Connecting to archive.ubuntu.com] [Connecting to security.ubuntu.com (91.18\r                                                                               \rGet:3 file:/var/cuda-repo-9-0-local  Release.gpg [819 B]\n",
            "\r0% [3 Release.gpg 0 B/819 B 0%] [Connecting to archive.ubuntu.com] [Connecting \r0% [Connecting to archive.ubuntu.com] [Connecting to security.ubuntu.com (91.18\r                                                                               \rGet:4 https://cloud.r-project.org/bin/linux/ubuntu focal-cran40/ InRelease [3,622 B]\n",
            "\r0% [Connecting to archive.ubuntu.com] [Waiting for headers] [Waiting for header\r                                                                               \rGet:5 http://security.ubuntu.com/ubuntu focal-security InRelease [114 kB]\n",
            "\r0% [Connecting to archive.ubuntu.com] [5 InRelease 14.2 kB/114 kB 12%] [Waiting\r0% [Connecting to archive.ubuntu.com (91.189.91.38)] [5 InRelease 22.9 kB/114 k\r                                                                               \rGet:6 file:/var/cuda-repo-9-0-local  Packages [15.8 kB]\n",
            "\r0% [Connecting to archive.ubuntu.com (91.189.91.38)] [5 InRelease 22.9 kB/114 k\r0% [Connecting to archive.ubuntu.com (91.189.91.38)] [5 InRelease 31.5 kB/114 k\r0% [6 Packages store 0 B] [Connecting to archive.ubuntu.com (91.189.91.38)] [5 \r0% [Connecting to archive.ubuntu.com (91.189.91.38)] [5 InRelease 34.4 kB/114 k\r                                                                               \rIgn:7 https://developer.download.nvidia.com/compute/machine-learning/repos/ubuntu2004/x86_64  InRelease\n",
            "Hit:8 https://developer.download.nvidia.com/compute/cuda/repos/ubuntu2004/x86_64  InRelease\n",
            "Hit:9 https://developer.download.nvidia.com/compute/machine-learning/repos/ubuntu2004/x86_64  Release\n",
            "Hit:10 http://archive.ubuntu.com/ubuntu focal InRelease\n",
            "Hit:11 http://ppa.launchpad.net/c2d4u.team/c2d4u4.0+/ubuntu focal InRelease\n",
            "Get:12 http://archive.ubuntu.com/ubuntu focal-updates InRelease [114 kB]\n",
            "Get:13 http://archive.ubuntu.com/ubuntu focal-backports InRelease [108 kB]\n",
            "Hit:15 http://ppa.launchpad.net/cran/libgit2/ubuntu focal InRelease\n",
            "Get:16 http://security.ubuntu.com/ubuntu focal-security/main amd64 Packages [2,496 kB]\n",
            "Hit:17 http://ppa.launchpad.net/deadsnakes/ppa/ubuntu focal InRelease\n",
            "Get:18 http://archive.ubuntu.com/ubuntu focal-updates/universe amd64 Packages [1,297 kB]\n",
            "Hit:19 http://ppa.launchpad.net/graphics-drivers/ppa/ubuntu focal InRelease\n",
            "Get:20 http://security.ubuntu.com/ubuntu focal-security/universe amd64 Packages [998 kB]\n",
            "Get:21 http://security.ubuntu.com/ubuntu focal-security/restricted amd64 Packages [1,937 kB]\n",
            "Get:22 http://archive.ubuntu.com/ubuntu focal-updates/main amd64 Packages [2,970 kB]\n",
            "Hit:23 http://ppa.launchpad.net/ubuntugis/ppa/ubuntu focal InRelease\n",
            "Fetched 10.0 MB in 2s (6,119 kB/s)\n",
            "Reading package lists... Done\n"
          ]
        }
      ]
    },
    {
      "cell_type": "code",
      "source": [
        "!sudo apt-get install cuda-9.0"
      ],
      "metadata": {
        "colab": {
          "base_uri": "https://localhost:8080/"
        },
        "id": "-ROLrD318Kbv",
        "outputId": "4927f979-b62d-42c5-88ea-3185c59cd8c8"
      },
      "execution_count": 7,
      "outputs": [
        {
          "output_type": "stream",
          "name": "stdout",
          "text": [
            "Reading package lists... Done\n",
            "Building dependency tree       \n",
            "Reading state information... Done\n",
            "Note, selecting 'cuda-9-0' for regex 'cuda-9.0'\n",
            "Note, selecting 'libcuda-9.0-1' for regex 'cuda-9.0'\n",
            "The following package was automatically installed and is no longer required:\n",
            "  libnvidia-common-510\n",
            "Use 'sudo apt autoremove' to remove it.\n",
            "The following additional packages will be installed:\n",
            "  cuda-command-line-tools-9-0 cuda-core-9-0 cuda-cublas-9-0\n",
            "  cuda-cublas-dev-9-0 cuda-cudart-9-0 cuda-cudart-dev-9-0 cuda-cufft-9-0\n",
            "  cuda-cufft-dev-9-0 cuda-curand-9-0 cuda-curand-dev-9-0 cuda-cusolver-9-0\n",
            "  cuda-cusolver-dev-9-0 cuda-cusparse-9-0 cuda-cusparse-dev-9-0\n",
            "  cuda-demo-suite-9-0 cuda-documentation-9-0 cuda-driver-dev-9-0\n",
            "  cuda-libraries-9-0 cuda-libraries-dev-9-0 cuda-license-9-0\n",
            "  cuda-misc-headers-9-0 cuda-npp-9-0 cuda-npp-dev-9-0 cuda-nvgraph-9-0\n",
            "  cuda-nvgraph-dev-9-0 cuda-nvml-dev-9-0 cuda-nvrtc-9-0 cuda-nvrtc-dev-9-0\n",
            "  cuda-runtime-9-0 cuda-samples-9-0 cuda-toolkit-9-0 cuda-visual-tools-9-0\n",
            "  freeglut3 freeglut3-dev libxfixes-dev libxi-dev libxmu-dev libxmu-headers\n",
            "  x11proto-input-dev\n",
            "The following NEW packages will be installed:\n",
            "  cuda-9-0 cuda-command-line-tools-9-0 cuda-core-9-0 cuda-cublas-9-0\n",
            "  cuda-cublas-dev-9-0 cuda-cudart-9-0 cuda-cudart-dev-9-0 cuda-cufft-9-0\n",
            "  cuda-cufft-dev-9-0 cuda-curand-9-0 cuda-curand-dev-9-0 cuda-cusolver-9-0\n",
            "  cuda-cusolver-dev-9-0 cuda-cusparse-9-0 cuda-cusparse-dev-9-0\n",
            "  cuda-demo-suite-9-0 cuda-documentation-9-0 cuda-driver-dev-9-0\n",
            "  cuda-libraries-9-0 cuda-libraries-dev-9-0 cuda-license-9-0\n",
            "  cuda-misc-headers-9-0 cuda-npp-9-0 cuda-npp-dev-9-0 cuda-nvgraph-9-0\n",
            "  cuda-nvgraph-dev-9-0 cuda-nvml-dev-9-0 cuda-nvrtc-9-0 cuda-nvrtc-dev-9-0\n",
            "  cuda-runtime-9-0 cuda-samples-9-0 cuda-toolkit-9-0 cuda-visual-tools-9-0\n",
            "  freeglut3 freeglut3-dev libxfixes-dev libxi-dev libxmu-dev libxmu-headers\n",
            "  x11proto-input-dev\n",
            "0 upgraded, 40 newly installed, 0 to remove and 21 not upgraded.\n",
            "Need to get 503 kB/1,097 MB of archives.\n",
            "After this operation, 2,317 MB of additional disk space will be used.\n",
            "Get:1 file:/var/cuda-repo-9-0-local  cuda-license-9-0 9.0.176-1 [22.0 kB]\n",
            "Get:2 file:/var/cuda-repo-9-0-local  cuda-misc-headers-9-0 9.0.176-1 [684 kB]\n",
            "Get:3 http://archive.ubuntu.com/ubuntu focal/universe amd64 freeglut3 amd64 2.8.1-3 [73.6 kB]\n",
            "Get:4 file:/var/cuda-repo-9-0-local  cuda-core-9-0 9.0.176-1 [16.9 MB]\n",
            "Get:5 file:/var/cuda-repo-9-0-local  cuda-cudart-9-0 9.0.176-1 [106 kB]\n",
            "Get:6 file:/var/cuda-repo-9-0-local  cuda-driver-dev-9-0 9.0.176-1 [10.9 kB]\n",
            "Get:7 file:/var/cuda-repo-9-0-local  cuda-cudart-dev-9-0 9.0.176-1 [767 kB]\n",
            "Get:8 http://archive.ubuntu.com/ubuntu focal/universe amd64 freeglut3-dev amd64 2.8.1-3 [124 kB]\n",
            "Get:9 http://archive.ubuntu.com/ubuntu focal/main amd64 libxmu-headers all 2:1.1.3-0ubuntu1 [54.2 kB]\n",
            "Get:10 http://archive.ubuntu.com/ubuntu focal/main amd64 libxmu-dev amd64 2:1.1.3-0ubuntu1 [49.9 kB]\n",
            "Get:11 http://archive.ubuntu.com/ubuntu focal/main amd64 libxfixes-dev amd64 1:5.0.3-2 [11.4 kB]\n",
            "Get:12 http://archive.ubuntu.com/ubuntu focal/main amd64 x11proto-input-dev all 2019.2-1ubuntu1 [2,628 B]\n",
            "Get:13 http://archive.ubuntu.com/ubuntu focal/main amd64 libxi-dev amd64 2:1.7.10-0ubuntu1 [187 kB]\n",
            "Get:14 file:/var/cuda-repo-9-0-local  cuda-command-line-tools-9-0 9.0.176-1 [25.4 MB]\n",
            "Get:15 file:/var/cuda-repo-9-0-local  cuda-nvrtc-9-0 9.0.176-1 [6,348 kB]\n",
            "Get:16 file:/var/cuda-repo-9-0-local  cuda-nvrtc-dev-9-0 9.0.176-1 [9,334 B]\n",
            "Get:17 file:/var/cuda-repo-9-0-local  cuda-cusolver-9-0 9.0.176-1 [26.2 MB]\n",
            "Get:18 file:/var/cuda-repo-9-0-local  cuda-cusolver-dev-9-0 9.0.176-1 [5,317 kB]\n",
            "Get:19 file:/var/cuda-repo-9-0-local  cuda-cublas-9-0 9.0.176-1 [25.0 MB]\n",
            "Get:20 file:/var/cuda-repo-9-0-local  cuda-cublas-dev-9-0 9.0.176-1 [49.4 MB]\n",
            "Get:21 file:/var/cuda-repo-9-0-local  cuda-cufft-9-0 9.0.176-1 [84.1 MB]\n",
            "Get:22 file:/var/cuda-repo-9-0-local  cuda-cufft-dev-9-0 9.0.176-1 [73.7 MB]\n",
            "Get:23 file:/var/cuda-repo-9-0-local  cuda-curand-9-0 9.0.176-1 [38.8 MB]\n",
            "Get:24 file:/var/cuda-repo-9-0-local  cuda-curand-dev-9-0 9.0.176-1 [57.9 MB]\n",
            "Get:25 file:/var/cuda-repo-9-0-local  cuda-cusparse-9-0 9.0.176-1 [25.2 MB]\n",
            "Get:26 file:/var/cuda-repo-9-0-local  cuda-cusparse-dev-9-0 9.0.176-1 [25.3 MB]\n",
            "Get:27 file:/var/cuda-repo-9-0-local  cuda-npp-9-0 9.0.176-1 [46.6 MB]\n",
            "Get:28 file:/var/cuda-repo-9-0-local  cuda-npp-dev-9-0 9.0.176-1 [46.6 MB]\n",
            "Get:29 file:/var/cuda-repo-9-0-local  cuda-nvgraph-9-0 9.0.176-1 [6,081 kB]\n",
            "Get:30 file:/var/cuda-repo-9-0-local  cuda-nvgraph-dev-9-0 9.0.176-1 [5,658 kB]\n",
            "Get:31 file:/var/cuda-repo-9-0-local  cuda-samples-9-0 9.0.176-1 [75.9 MB]\n",
            "Get:32 file:/var/cuda-repo-9-0-local  cuda-documentation-9-0 9.0.176-1 [53.1 MB]\n",
            "Get:33 file:/var/cuda-repo-9-0-local  cuda-libraries-dev-9-0 9.0.176-1 [2,596 B]\n",
            "Get:34 file:/var/cuda-repo-9-0-local  cuda-nvml-dev-9-0 9.0.176-1 [47.6 kB]\n",
            "Get:35 file:/var/cuda-repo-9-0-local  cuda-visual-tools-9-0 9.0.176-1 [398 MB]\n",
            "Get:36 file:/var/cuda-repo-9-0-local  cuda-toolkit-9-0 9.0.176-1 [2,836 B]\n",
            "Get:37 file:/var/cuda-repo-9-0-local  cuda-libraries-9-0 9.0.176-1 [2,566 B]\n",
            "Get:38 file:/var/cuda-repo-9-0-local  cuda-runtime-9-0 9.0.176-1 [2,526 B]\n",
            "Get:39 file:/var/cuda-repo-9-0-local  cuda-demo-suite-9-0 9.0.176-1 [3,880 kB]\n",
            "Get:40 file:/var/cuda-repo-9-0-local  cuda-9-0 9.0.176-1 [2,552 B]\n",
            "Fetched 503 kB in 9s (53.3 kB/s)\n",
            "debconf: unable to initialize frontend: Dialog\n",
            "debconf: (No usable dialog-like program is installed, so the dialog based frontend cannot be used. at /usr/share/perl5/Debconf/FrontEnd/Dialog.pm line 76, <> line 40.)\n",
            "debconf: falling back to frontend: Readline\n",
            "debconf: unable to initialize frontend: Readline\n",
            "debconf: (This frontend requires a controlling tty.)\n",
            "debconf: falling back to frontend: Teletype\n",
            "dpkg-preconfigure: unable to re-open stdin: \n",
            "Selecting previously unselected package cuda-license-9-0.\n",
            "(Reading database ... 128185 files and directories currently installed.)\n",
            "Preparing to unpack .../00-cuda-license-9-0_9.0.176-1_amd64.deb ...\n",
            "Unpacking cuda-license-9-0 (9.0.176-1) ...\n",
            "Selecting previously unselected package cuda-misc-headers-9-0.\n",
            "Preparing to unpack .../01-cuda-misc-headers-9-0_9.0.176-1_amd64.deb ...\n",
            "Unpacking cuda-misc-headers-9-0 (9.0.176-1) ...\n",
            "Selecting previously unselected package cuda-core-9-0.\n",
            "Preparing to unpack .../02-cuda-core-9-0_9.0.176-1_amd64.deb ...\n",
            "Unpacking cuda-core-9-0 (9.0.176-1) ...\n",
            "Selecting previously unselected package cuda-cudart-9-0.\n",
            "Preparing to unpack .../03-cuda-cudart-9-0_9.0.176-1_amd64.deb ...\n",
            "Unpacking cuda-cudart-9-0 (9.0.176-1) ...\n",
            "Selecting previously unselected package cuda-driver-dev-9-0.\n",
            "Preparing to unpack .../04-cuda-driver-dev-9-0_9.0.176-1_amd64.deb ...\n",
            "Unpacking cuda-driver-dev-9-0 (9.0.176-1) ...\n",
            "Selecting previously unselected package cuda-cudart-dev-9-0.\n",
            "Preparing to unpack .../05-cuda-cudart-dev-9-0_9.0.176-1_amd64.deb ...\n",
            "Unpacking cuda-cudart-dev-9-0 (9.0.176-1) ...\n",
            "Selecting previously unselected package cuda-command-line-tools-9-0.\n",
            "Preparing to unpack .../06-cuda-command-line-tools-9-0_9.0.176-1_amd64.deb ...\n",
            "Unpacking cuda-command-line-tools-9-0 (9.0.176-1) ...\n",
            "Selecting previously unselected package freeglut3:amd64.\n",
            "Preparing to unpack .../07-freeglut3_2.8.1-3_amd64.deb ...\n",
            "Unpacking freeglut3:amd64 (2.8.1-3) ...\n",
            "Selecting previously unselected package freeglut3-dev:amd64.\n",
            "Preparing to unpack .../08-freeglut3-dev_2.8.1-3_amd64.deb ...\n",
            "Unpacking freeglut3-dev:amd64 (2.8.1-3) ...\n",
            "Selecting previously unselected package libxmu-headers.\n",
            "Preparing to unpack .../09-libxmu-headers_2%3a1.1.3-0ubuntu1_all.deb ...\n",
            "Unpacking libxmu-headers (2:1.1.3-0ubuntu1) ...\n",
            "Selecting previously unselected package libxmu-dev:amd64.\n",
            "Preparing to unpack .../10-libxmu-dev_2%3a1.1.3-0ubuntu1_amd64.deb ...\n",
            "Unpacking libxmu-dev:amd64 (2:1.1.3-0ubuntu1) ...\n",
            "Selecting previously unselected package libxfixes-dev:amd64.\n",
            "Preparing to unpack .../11-libxfixes-dev_1%3a5.0.3-2_amd64.deb ...\n",
            "Unpacking libxfixes-dev:amd64 (1:5.0.3-2) ...\n",
            "Selecting previously unselected package x11proto-input-dev.\n",
            "Preparing to unpack .../12-x11proto-input-dev_2019.2-1ubuntu1_all.deb ...\n",
            "Unpacking x11proto-input-dev (2019.2-1ubuntu1) ...\n",
            "Selecting previously unselected package libxi-dev:amd64.\n",
            "Preparing to unpack .../13-libxi-dev_2%3a1.7.10-0ubuntu1_amd64.deb ...\n",
            "Unpacking libxi-dev:amd64 (2:1.7.10-0ubuntu1) ...\n",
            "Selecting previously unselected package cuda-nvrtc-9-0.\n",
            "Preparing to unpack .../14-cuda-nvrtc-9-0_9.0.176-1_amd64.deb ...\n",
            "Unpacking cuda-nvrtc-9-0 (9.0.176-1) ...\n",
            "Selecting previously unselected package cuda-nvrtc-dev-9-0.\n",
            "Preparing to unpack .../15-cuda-nvrtc-dev-9-0_9.0.176-1_amd64.deb ...\n",
            "Unpacking cuda-nvrtc-dev-9-0 (9.0.176-1) ...\n",
            "Selecting previously unselected package cuda-cusolver-9-0.\n",
            "Preparing to unpack .../16-cuda-cusolver-9-0_9.0.176-1_amd64.deb ...\n",
            "Unpacking cuda-cusolver-9-0 (9.0.176-1) ...\n",
            "Selecting previously unselected package cuda-cusolver-dev-9-0.\n",
            "Preparing to unpack .../17-cuda-cusolver-dev-9-0_9.0.176-1_amd64.deb ...\n",
            "Unpacking cuda-cusolver-dev-9-0 (9.0.176-1) ...\n",
            "Selecting previously unselected package cuda-cublas-9-0.\n",
            "Preparing to unpack .../18-cuda-cublas-9-0_9.0.176-1_amd64.deb ...\n",
            "Unpacking cuda-cublas-9-0 (9.0.176-1) ...\n",
            "Selecting previously unselected package cuda-cublas-dev-9-0.\n",
            "Preparing to unpack .../19-cuda-cublas-dev-9-0_9.0.176-1_amd64.deb ...\n",
            "Unpacking cuda-cublas-dev-9-0 (9.0.176-1) ...\n",
            "Selecting previously unselected package cuda-cufft-9-0.\n",
            "Preparing to unpack .../20-cuda-cufft-9-0_9.0.176-1_amd64.deb ...\n",
            "Unpacking cuda-cufft-9-0 (9.0.176-1) ...\n",
            "Selecting previously unselected package cuda-cufft-dev-9-0.\n",
            "Preparing to unpack .../21-cuda-cufft-dev-9-0_9.0.176-1_amd64.deb ...\n",
            "Unpacking cuda-cufft-dev-9-0 (9.0.176-1) ...\n",
            "Selecting previously unselected package cuda-curand-9-0.\n",
            "Preparing to unpack .../22-cuda-curand-9-0_9.0.176-1_amd64.deb ...\n",
            "Unpacking cuda-curand-9-0 (9.0.176-1) ...\n",
            "Selecting previously unselected package cuda-curand-dev-9-0.\n",
            "Preparing to unpack .../23-cuda-curand-dev-9-0_9.0.176-1_amd64.deb ...\n",
            "Unpacking cuda-curand-dev-9-0 (9.0.176-1) ...\n",
            "Selecting previously unselected package cuda-cusparse-9-0.\n",
            "Preparing to unpack .../24-cuda-cusparse-9-0_9.0.176-1_amd64.deb ...\n",
            "Unpacking cuda-cusparse-9-0 (9.0.176-1) ...\n",
            "Selecting previously unselected package cuda-cusparse-dev-9-0.\n",
            "Preparing to unpack .../25-cuda-cusparse-dev-9-0_9.0.176-1_amd64.deb ...\n",
            "Unpacking cuda-cusparse-dev-9-0 (9.0.176-1) ...\n",
            "Selecting previously unselected package cuda-npp-9-0.\n",
            "Preparing to unpack .../26-cuda-npp-9-0_9.0.176-1_amd64.deb ...\n",
            "Unpacking cuda-npp-9-0 (9.0.176-1) ...\n",
            "Selecting previously unselected package cuda-npp-dev-9-0.\n",
            "Preparing to unpack .../27-cuda-npp-dev-9-0_9.0.176-1_amd64.deb ...\n",
            "Unpacking cuda-npp-dev-9-0 (9.0.176-1) ...\n",
            "Selecting previously unselected package cuda-nvgraph-9-0.\n",
            "Preparing to unpack .../28-cuda-nvgraph-9-0_9.0.176-1_amd64.deb ...\n",
            "Unpacking cuda-nvgraph-9-0 (9.0.176-1) ...\n",
            "Selecting previously unselected package cuda-nvgraph-dev-9-0.\n",
            "Preparing to unpack .../29-cuda-nvgraph-dev-9-0_9.0.176-1_amd64.deb ...\n",
            "Unpacking cuda-nvgraph-dev-9-0 (9.0.176-1) ...\n",
            "Selecting previously unselected package cuda-samples-9-0.\n",
            "Preparing to unpack .../30-cuda-samples-9-0_9.0.176-1_amd64.deb ...\n",
            "Unpacking cuda-samples-9-0 (9.0.176-1) ...\n",
            "Selecting previously unselected package cuda-documentation-9-0.\n",
            "Preparing to unpack .../31-cuda-documentation-9-0_9.0.176-1_amd64.deb ...\n",
            "Unpacking cuda-documentation-9-0 (9.0.176-1) ...\n",
            "Selecting previously unselected package cuda-libraries-dev-9-0.\n",
            "Preparing to unpack .../32-cuda-libraries-dev-9-0_9.0.176-1_amd64.deb ...\n",
            "Unpacking cuda-libraries-dev-9-0 (9.0.176-1) ...\n",
            "Selecting previously unselected package cuda-nvml-dev-9-0.\n",
            "Preparing to unpack .../33-cuda-nvml-dev-9-0_9.0.176-1_amd64.deb ...\n",
            "Unpacking cuda-nvml-dev-9-0 (9.0.176-1) ...\n",
            "Selecting previously unselected package cuda-visual-tools-9-0.\n",
            "Preparing to unpack .../34-cuda-visual-tools-9-0_9.0.176-1_amd64.deb ...\n",
            "Unpacking cuda-visual-tools-9-0 (9.0.176-1) ...\n",
            "Selecting previously unselected package cuda-toolkit-9-0.\n",
            "Preparing to unpack .../35-cuda-toolkit-9-0_9.0.176-1_amd64.deb ...\n",
            "Unpacking cuda-toolkit-9-0 (9.0.176-1) ...\n",
            "Selecting previously unselected package cuda-libraries-9-0.\n",
            "Preparing to unpack .../36-cuda-libraries-9-0_9.0.176-1_amd64.deb ...\n",
            "Unpacking cuda-libraries-9-0 (9.0.176-1) ...\n",
            "Selecting previously unselected package cuda-runtime-9-0.\n",
            "Preparing to unpack .../37-cuda-runtime-9-0_9.0.176-1_amd64.deb ...\n",
            "Unpacking cuda-runtime-9-0 (9.0.176-1) ...\n",
            "Selecting previously unselected package cuda-demo-suite-9-0.\n",
            "Preparing to unpack .../38-cuda-demo-suite-9-0_9.0.176-1_amd64.deb ...\n",
            "Unpacking cuda-demo-suite-9-0 (9.0.176-1) ...\n",
            "Selecting previously unselected package cuda-9-0.\n",
            "Preparing to unpack .../39-cuda-9-0_9.0.176-1_amd64.deb ...\n",
            "Unpacking cuda-9-0 (9.0.176-1) ...\n",
            "Setting up libxmu-headers (2:1.1.3-0ubuntu1) ...\n",
            "Setting up freeglut3:amd64 (2.8.1-3) ...\n",
            "Setting up libxmu-dev:amd64 (2:1.1.3-0ubuntu1) ...\n",
            "Setting up libxfixes-dev:amd64 (1:5.0.3-2) ...\n",
            "Setting up freeglut3-dev:amd64 (2.8.1-3) ...\n",
            "Setting up x11proto-input-dev (2019.2-1ubuntu1) ...\n",
            "Setting up cuda-license-9-0 (9.0.176-1) ...\n",
            "*** LICENSE AGREEMENT ***\n",
            "By using this software you agree to fully comply with the terms and \n",
            "conditions of the EULA (End User License Agreement). The EULA is located\n",
            "at /usr/local/cuda-9.0/doc/EULA.txt. The EULA can also be found at\n",
            "http://docs.nvidia.com/cuda/eula/index.html. If you do not agree to the\n",
            "terms and conditions of the EULA, do not use the software.\n",
            "\n",
            "Setting up cuda-nvgraph-9-0 (9.0.176-1) ...\n",
            "Setting up cuda-npp-9-0 (9.0.176-1) ...\n",
            "Setting up cuda-cusolver-9-0 (9.0.176-1) ...\n",
            "Setting up libxi-dev:amd64 (2:1.7.10-0ubuntu1) ...\n",
            "Setting up cuda-cusolver-dev-9-0 (9.0.176-1) ...\n",
            "Setting up cuda-misc-headers-9-0 (9.0.176-1) ...\n",
            "Setting up cuda-cufft-9-0 (9.0.176-1) ...\n",
            "Setting up cuda-nvrtc-9-0 (9.0.176-1) ...\n",
            "Setting up cuda-core-9-0 (9.0.176-1) ...\n",
            "Setting up cuda-cudart-9-0 (9.0.176-1) ...\n",
            "Setting up cuda-curand-9-0 (9.0.176-1) ...\n",
            "Setting up cuda-cufft-dev-9-0 (9.0.176-1) ...\n",
            "Setting up cuda-cusparse-9-0 (9.0.176-1) ...\n",
            "Setting up cuda-driver-dev-9-0 (9.0.176-1) ...\n",
            "Setting up cuda-cublas-9-0 (9.0.176-1) ...\n",
            "Setting up cuda-npp-dev-9-0 (9.0.176-1) ...\n",
            "Setting up cuda-nvml-dev-9-0 (9.0.176-1) ...\n",
            "Setting up cuda-nvgraph-dev-9-0 (9.0.176-1) ...\n",
            "Setting up cuda-cublas-dev-9-0 (9.0.176-1) ...\n",
            "Setting up cuda-nvrtc-dev-9-0 (9.0.176-1) ...\n",
            "Setting up cuda-libraries-9-0 (9.0.176-1) ...\n",
            "Setting up cuda-cudart-dev-9-0 (9.0.176-1) ...\n",
            "Setting up cuda-curand-dev-9-0 (9.0.176-1) ...\n",
            "Setting up cuda-command-line-tools-9-0 (9.0.176-1) ...\n",
            "Setting up cuda-cusparse-dev-9-0 (9.0.176-1) ...\n",
            "Setting up cuda-runtime-9-0 (9.0.176-1) ...\n",
            "Setting up cuda-visual-tools-9-0 (9.0.176-1) ...\n",
            "Setting up cuda-samples-9-0 (9.0.176-1) ...\n",
            "Setting up cuda-libraries-dev-9-0 (9.0.176-1) ...\n",
            "Setting up cuda-documentation-9-0 (9.0.176-1) ...\n",
            "Setting up cuda-demo-suite-9-0 (9.0.176-1) ...\n",
            "Setting up cuda-toolkit-9-0 (9.0.176-1) ...\n",
            "Setting up cuda-9-0 (9.0.176-1) ...\n",
            "Processing triggers for man-db (2.9.1-1) ...\n",
            "Processing triggers for libc-bin (2.31-0ubuntu9.9) ...\n"
          ]
        }
      ]
    },
    {
      "cell_type": "code",
      "source": [
        "!nvcc --version"
      ],
      "metadata": {
        "colab": {
          "base_uri": "https://localhost:8080/"
        },
        "id": "-f6siU7B7Eit",
        "outputId": "0ae4e0c4-1055-42c1-bc17-a88beb389e46"
      },
      "execution_count": 8,
      "outputs": [
        {
          "output_type": "stream",
          "name": "stdout",
          "text": [
            "nvcc: NVIDIA (R) Cuda compiler driver\n",
            "Copyright (c) 2005-2017 NVIDIA Corporation\n",
            "Built on Fri_Sep__1_21:08:03_CDT_2017\n",
            "Cuda compilation tools, release 9.0, V9.0.176\n"
          ]
        }
      ]
    },
    {
      "cell_type": "code",
      "source": [
        "!pip install thundersvm"
      ],
      "metadata": {
        "colab": {
          "base_uri": "https://localhost:8080/"
        },
        "id": "WKqtyg3t7QjQ",
        "outputId": "b5d05a45-af0d-4c3a-c3d7-94d0189e6aae"
      },
      "execution_count": 9,
      "outputs": [
        {
          "output_type": "stream",
          "name": "stdout",
          "text": [
            "Looking in indexes: https://pypi.org/simple, https://us-python.pkg.dev/colab-wheels/public/simple/\n",
            "Collecting thundersvm\n",
            "  Downloading thundersvm-0.3.12-py3-none-any.whl (507 kB)\n",
            "\u001b[2K     \u001b[90m━━━━━━━━━━━━━━━━━━━━━━━━━━━━━━━━━━━━━━━\u001b[0m \u001b[32m507.4/507.4 KB\u001b[0m \u001b[31m9.8 MB/s\u001b[0m eta \u001b[36m0:00:00\u001b[0m\n",
            "\u001b[?25hRequirement already satisfied: scipy in /usr/local/lib/python3.8/dist-packages (from thundersvm) (1.7.3)\n",
            "Requirement already satisfied: scikit-learn in /usr/local/lib/python3.8/dist-packages (from thundersvm) (1.0.2)\n",
            "Requirement already satisfied: numpy in /usr/local/lib/python3.8/dist-packages (from thundersvm) (1.21.6)\n",
            "Requirement already satisfied: threadpoolctl>=2.0.0 in /usr/local/lib/python3.8/dist-packages (from scikit-learn->thundersvm) (3.1.0)\n",
            "Requirement already satisfied: joblib>=0.11 in /usr/local/lib/python3.8/dist-packages (from scikit-learn->thundersvm) (1.2.0)\n",
            "Installing collected packages: thundersvm\n",
            "Successfully installed thundersvm-0.3.12\n"
          ]
        }
      ]
    },
    {
      "cell_type": "markdown",
      "metadata": {
        "id": "N_sGunb7K-hS"
      },
      "source": [
        "# Тестировать алгоритм мы будем на данных Fashion MNIST. Ниже код для их загрузки и подготовки."
      ]
    },
    {
      "cell_type": "code",
      "execution_count": 6,
      "metadata": {
        "id": "YyG6dBfjK-hS",
        "colab": {
          "base_uri": "https://localhost:8080/"
        },
        "outputId": "8a71f881-3717-480a-9193-8dabca6ae666"
      },
      "outputs": [
        {
          "output_type": "stream",
          "name": "stdout",
          "text": [
            "Downloading data from https://storage.googleapis.com/tensorflow/tf-keras-datasets/train-labels-idx1-ubyte.gz\n",
            "29515/29515 [==============================] - 0s 0us/step\n",
            "Downloading data from https://storage.googleapis.com/tensorflow/tf-keras-datasets/train-images-idx3-ubyte.gz\n",
            "26421880/26421880 [==============================] - 0s 0us/step\n",
            "Downloading data from https://storage.googleapis.com/tensorflow/tf-keras-datasets/t10k-labels-idx1-ubyte.gz\n",
            "5148/5148 [==============================] - 0s 0us/step\n",
            "Downloading data from https://storage.googleapis.com/tensorflow/tf-keras-datasets/t10k-images-idx3-ubyte.gz\n",
            "4422102/4422102 [==============================] - 0s 0us/step\n"
          ]
        }
      ],
      "source": [
        "import keras\n",
        "from keras.datasets import fashion_mnist\n",
        "(x_train_pics, y_train), (x_test_pics, y_test) = fashion_mnist.load_data()\n",
        "x_train = x_train_pics.reshape(y_train.shape[0], -1)\n",
        "x_test = x_test_pics.reshape(y_test.shape[0], -1)"
      ]
    },
    {
      "cell_type": "code",
      "source": [
        "print(x_train_pics.shape)\n",
        "print(x_train.shape)\n",
        "print(x_test_pics.shape)\n",
        "print(x_test.shape)"
      ],
      "metadata": {
        "colab": {
          "base_uri": "https://localhost:8080/"
        },
        "id": "8bTgr6brZLIL",
        "outputId": "c9a91f0e-dddf-4d17-ef34-3c8d20e35407"
      },
      "execution_count": 7,
      "outputs": [
        {
          "output_type": "stream",
          "name": "stdout",
          "text": [
            "(60000, 28, 28)\n",
            "(60000, 784)\n",
            "(10000, 28, 28)\n",
            "(10000, 784)\n"
          ]
        }
      ]
    },
    {
      "cell_type": "code",
      "source": [
        "# from sklearn.pipeline import Pipeline\n",
        "# from sklearn.preprocessing import StandardScaler, MinMaxScaler\n",
        "\n",
        "# по отдельности тоже не работает - проверял\n",
        "# pipeline = Pipeline([\n",
        "#     ('min_max_scaler', MinMaxScaler()),\n",
        "#     ('std_scaler', StandardScaler())\n",
        "# ])\n",
        "\n",
        "# x_train = pipeline.fit_transform(x_train)\n",
        "# x_test = pipeline.transform(x_test)\n",
        "\n",
        "# x_train = x_train - np.mean(x_train, axis=0)\n",
        "# x_test = x_test - np.mean(x_test, axis=0)\n",
        "\n",
        "from sklearn.preprocessing import Normalizer\n",
        "normalizer = Normalizer()\n",
        "x_train = normalizer.fit_transform(x_train)\n",
        "x_test = normalizer.transform(x_test)\n",
        "# почему нужно было именно отнормировать по l2 норме каждый объект - понятия не имею\n",
        "# я пытался центрировать признаки, не трогая дисперсию - ничего не вышло  "
      ],
      "metadata": {
        "id": "6UXQA1rSikn7"
      },
      "execution_count": 8,
      "outputs": []
    },
    {
      "cell_type": "code",
      "source": [
        "random_state = 1337"
      ],
      "metadata": {
        "id": "yIpgIQ0aafaf"
      },
      "execution_count": 9,
      "outputs": []
    },
    {
      "cell_type": "markdown",
      "metadata": {
        "id": "rJNN55F7K-hT"
      },
      "source": [
        "#__Задание 1. (5 баллов)__\n",
        "\n",
        "Реализуйте алгоритм, описанный выше. Можете воспользоваться шаблоном класса ниже или написать свой интерфейс.\n",
        "\n",
        "Ваша реализация должна поддерживать следующие опции:\n",
        "1. Возможность задавать значения гиперпараметров new_dim (по умолчанию 50) и n_features (по умолчанию 1000).\n",
        "2. Возможность включать или выключать предварительное понижение размерности с помощью метода главных компонент.\n",
        "3. Возможность выбирать тип линейной модели (логистическая регрессия или SVM с линейным ядром).\n",
        "\n",
        "Протестируйте на данных Fashion MNIST, сформированных кодом выше. Если на тесте у вас получилась доля верных ответов не ниже 0.84 с гиперпараметрами по умолчанию, то вы всё сделали правильно."
      ]
    },
    {
      "cell_type": "code",
      "execution_count": 31,
      "metadata": {
        "id": "jP8yepx8K-hT"
      },
      "outputs": [],
      "source": [
        "from sklearn.base import BaseEstimator, TransformerMixin\n",
        "from sklearn.decomposition import PCA\n",
        "import numpy as np\n",
        "from itertools import combinations\n",
        "# from thundersvm import SVC\n",
        "from sklearn.linear_model import LogisticRegression\n",
        "from sklearn.metrics import accuracy_score\n",
        "\n",
        "\n",
        "\n",
        "class RFFPipeline(BaseEstimator, TransformerMixin):\n",
        "    def __init__(self, n_features=1000, new_dim=50, use_PCA=True, classifier_type='logreg', C=1.0):\n",
        "        \"\"\"        \n",
        "        Implements pipeline, which consists of PCA decomposition,\n",
        "        Random Fourier Features approximation and linear classification model.\n",
        "        \n",
        "        n_features, int: amount of synthetic random features generated with RFF approximation.\n",
        "\n",
        "        new_dim, int: PCA output size.\n",
        "        \n",
        "        use_PCA, bool: whether to include PCA preprocessing.\n",
        "        \n",
        "        classifier, string: either 'svm' or 'logreg', a linear classification model to use on top of pipeline.\n",
        "        \n",
        "        Feel free to edit this template for your preferences.    \n",
        "        \"\"\"\n",
        "        self.n_features = n_features\n",
        "        self.use_PCA = use_PCA\n",
        "        self.new_dim = new_dim\n",
        "        self.classifier_type = classifier_type\n",
        "        self.C = C\n",
        "\n",
        "        if (self.classifier_type == 'logreg'):\n",
        "          self.cls = LogisticRegression(random_state=random_state, n_jobs = -1, C = self.C)\n",
        "        elif (self.classifier_type == 'svm'):\n",
        "          self.cls = SVC(kernel = 'linear', random_state=random_state, C = self.C)\n",
        "\n",
        "        if(self.use_PCA):\n",
        "          self.pca = PCA(n_components=self.new_dim, random_state=random_state)\n",
        "        \n",
        "    def fit(self, X, y):\n",
        "        \"\"\"\n",
        "        Fit all parts of algorithm (PCA, RFF, Classification) to training set.\n",
        "        \"\"\"\n",
        "        if(self.use_PCA):\n",
        "            X = self.pca.fit_transform(X)\n",
        "\n",
        "        X_subset = X[np.random.choice(X.shape[0], 1500, replace=False)] # (~1100000 пар)\n",
        "        sgm_squared = np.median([np.sum(np.square(x1 - x2)) for (x1, x2) in combinations(X_subset, r = 2)])\n",
        "\n",
        "        self.w = np.random.normal(0, 1/sgm_squared, size=(self.n_features, X.shape[1]))\n",
        "        self.b = np.random.uniform(-np.pi, np.pi, self.n_features)\n",
        "\n",
        "        X_new = np.cos(X.dot(self.w.T) - self.b)\n",
        "\n",
        "        self.cls.fit(X_new,y)\n",
        "\n",
        "        return self\n",
        "\n",
        "    def predict_proba(self, X):\n",
        "        \"\"\"\n",
        "        Apply pipeline to obtain scores for input data.\n",
        "        \"\"\"\n",
        "        if(self.use_PCA):\n",
        "            X = self.pca.transform(X)\n",
        "        X_new = np.cos(X.dot(self.w.T) - self.b)\n",
        "        return(self.cls.predict_proba(X_new))\n",
        "        \n",
        "    def predict(self, X):\n",
        "        \"\"\"\n",
        "        Apply pipeline to obtain discrete predictions for input data.\n",
        "        \"\"\"\n",
        "        if(self.use_PCA):\n",
        "            X = self.pca.transform(X)\n",
        "        X_new = np.cos(X.dot(self.w.T) - self.b)\n",
        "        return(self.cls.predict(X_new))"
      ]
    },
    {
      "cell_type": "code",
      "source": [
        "rff = RFFPipeline()\n",
        "rff.fit(x_train, y_train)"
      ],
      "metadata": {
        "colab": {
          "base_uri": "https://localhost:8080/"
        },
        "id": "_3FYHO6RYiwI",
        "outputId": "8a186321-773d-462f-e3d5-3907950bfac8"
      },
      "execution_count": 64,
      "outputs": [
        {
          "output_type": "execute_result",
          "data": {
            "text/plain": [
              "RFFPipeline()"
            ]
          },
          "metadata": {},
          "execution_count": 64
        }
      ]
    },
    {
      "cell_type": "code",
      "source": [
        "print(accuracy_score(y_train, rff.predict(x_train)))\n",
        "print(accuracy_score(y_test, rff.predict(x_test)))"
      ],
      "metadata": {
        "colab": {
          "base_uri": "https://localhost:8080/"
        },
        "id": "60ptueFRekIg",
        "outputId": "c14480b3-15d0-4d73-9e5b-4348330973a6"
      },
      "execution_count": 66,
      "outputs": [
        {
          "output_type": "stream",
          "name": "stdout",
          "text": [
            "0.8867833333333334\n",
            "0.8668\n"
          ]
        }
      ]
    },
    {
      "cell_type": "markdown",
      "metadata": {
        "id": "HYqQUEi-K-hU"
      },
      "source": [
        "# __Задание 2. (3 балла)__"
      ]
    },
    {
      "cell_type": "markdown",
      "source": [
        "###часть 1"
      ],
      "metadata": {
        "id": "fmbmsqDduSVh"
      }
    },
    {
      "cell_type": "markdown",
      "source": [
        "Сравните подход со случайными признаками с обучением SVM на исходных признаках. Попробуйте вариант с обычным (линейным) SVM и с ядровым SVM. Ядровой SVM может очень долго обучаться, поэтому можно делать любые разумные вещи для ускорения: брать подмножество объектов из обучающей выборки, например."
      ],
      "metadata": {
        "id": "Q6vIrs-gDsg0"
      }
    },
    {
      "cell_type": "code",
      "execution_count": null,
      "metadata": {
        "id": "qN8LUlJgK-hV"
      },
      "outputs": [],
      "source": [
        "rff_svm = RFFPipeline(classifier_type = 'svm', n_features = 1000)\n",
        "linear_svm = SVC(kernel = 'linear', random_state=random_state)\n",
        "rbf_svm = SVC(kernel = 'rbf', random_state=random_state)\n",
        "sigmoid_svm = SVC(kernel = 'sigmoid', random_state=random_state)"
      ]
    },
    {
      "cell_type": "markdown",
      "source": [
        "RFF SVM:"
      ],
      "metadata": {
        "id": "7uwX9sb-qR_k"
      }
    },
    {
      "cell_type": "code",
      "source": [
        "rff_svm.fit(x_train, y_train)\n",
        "rff_train_predictions = rff_svm.predict(x_train)\n",
        "rff_test_predictions = rff_svm.predict(x_test)"
      ],
      "metadata": {
        "id": "MKChqiWgpZCh"
      },
      "execution_count": null,
      "outputs": []
    },
    {
      "cell_type": "code",
      "source": [
        "print(f'train accuracy: {accuracy_score(y_train, rff_train_predictions)}')\n",
        "print(f'test accuracy: {accuracy_score(y_test, rff_test_predictions)}')"
      ],
      "metadata": {
        "colab": {
          "base_uri": "https://localhost:8080/"
        },
        "id": "hFj5OkANwaBV",
        "outputId": "fa747989-5e54-4443-d328-fe23c6333a61"
      },
      "execution_count": null,
      "outputs": [
        {
          "output_type": "stream",
          "name": "stdout",
          "text": [
            "train accuracy: 0.9381166666666667\n",
            "test accuracy: 0.8804\n"
          ]
        }
      ]
    },
    {
      "cell_type": "markdown",
      "source": [
        "LINEAR SVM over initial features:"
      ],
      "metadata": {
        "id": "-7v2qAyZqVSP"
      }
    },
    {
      "cell_type": "code",
      "source": [
        "linear_svm.fit(x_train, y_train)\n",
        "ln_train_predictions = linear_svm.predict(x_train)\n",
        "ln_test_predictions = linear_svm.predict(x_test)"
      ],
      "metadata": {
        "id": "-h2PmU7lqKsa"
      },
      "execution_count": null,
      "outputs": []
    },
    {
      "cell_type": "code",
      "source": [
        "print(f'train accuracy: {accuracy_score(y_train, ln_train_predictions)}')\n",
        "print(f'test accuracy: {accuracy_score(y_test, ln_test_predictions)}')"
      ],
      "metadata": {
        "colab": {
          "base_uri": "https://localhost:8080/"
        },
        "id": "BT784U14xvFZ",
        "outputId": "26dc67ff-91ab-4a5c-8e03-8c959ffe1d41"
      },
      "execution_count": null,
      "outputs": [
        {
          "output_type": "stream",
          "name": "stdout",
          "text": [
            "train accuracy: 0.8713333333333333\n",
            "test accuracy: 0.8532\n"
          ]
        }
      ]
    },
    {
      "cell_type": "markdown",
      "source": [
        "RBF SVM over initial features:"
      ],
      "metadata": {
        "id": "6-dsiD9Eqccu"
      }
    },
    {
      "cell_type": "code",
      "source": [
        "rbf_svm.fit(x_train, y_train)\n",
        "rbf_train_predictions = rbf_svm.predict(x_train)\n",
        "rbf_test_predictions = rbf_svm.predict(x_test)"
      ],
      "metadata": {
        "id": "n7oVJY18qKzk"
      },
      "execution_count": null,
      "outputs": []
    },
    {
      "cell_type": "code",
      "source": [
        "print(f'train accuracy: {accuracy_score(y_train, rbf_train_predictions)}')\n",
        "print(f'test accuracy: {accuracy_score(y_test, rbf_test_predictions)}')"
      ],
      "metadata": {
        "colab": {
          "base_uri": "https://localhost:8080/"
        },
        "id": "VFFHrkkpyGZ8",
        "outputId": "73acaf27-10b9-4356-9de2-5218d332298f"
      },
      "execution_count": null,
      "outputs": [
        {
          "output_type": "stream",
          "name": "stdout",
          "text": [
            "train accuracy: 0.7110166666666666\n",
            "test accuracy: 0.7007\n"
          ]
        }
      ]
    },
    {
      "cell_type": "markdown",
      "source": [
        "SIGMOID SVM over initial features:\n",
        "\n"
      ],
      "metadata": {
        "id": "vaCoDy0489Tx"
      }
    },
    {
      "cell_type": "code",
      "source": [
        "sigmoid_svm.fit(x_train, y_train)\n",
        "sigmoid_train_predictions = sigmoid_svm.predict(x_train)\n",
        "sigmoid_test_predictions = sigmoid_svm.predict(x_test)"
      ],
      "metadata": {
        "id": "3O4vonD79DML"
      },
      "execution_count": null,
      "outputs": []
    },
    {
      "cell_type": "code",
      "source": [
        "print(f'train accuracy: {accuracy_score(y_train, sigmoid_train_predictions)}')\n",
        "print(f'test accuracy: {accuracy_score(y_test, sigmoid_test_predictions)}')"
      ],
      "metadata": {
        "colab": {
          "base_uri": "https://localhost:8080/"
        },
        "id": "9ity_23S9JQy",
        "outputId": "91c47bd1-89af-4cb4-a511-40e7f2c2fe63"
      },
      "execution_count": null,
      "outputs": [
        {
          "output_type": "stream",
          "name": "stdout",
          "text": [
            "train accuracy: 0.5855333333333334\n",
            "test accuracy: 0.5732\n"
          ]
        }
      ]
    },
    {
      "cell_type": "markdown",
      "source": [
        "выводы по части 1:\n",
        "\n",
        "\n",
        "гиперпараметры для разных вариантах svm не подбирались - оцениваем всех в одинаковых условиях\n",
        "\n",
        "рукописный rff показывает лучшее качество среди всех представленных моделей - видимо, преобразование признаков не лишено смысла \n",
        "\n",
        "интересно, какая аппроксимация гауссового ядра используется в этой реализации rbf ?"
      ],
      "metadata": {
        "id": "TYXMjKLeuN48"
      }
    },
    {
      "cell_type": "markdown",
      "source": [
        "### часть 2"
      ],
      "metadata": {
        "id": "Scd2Q1OXub7h"
      }
    },
    {
      "cell_type": "markdown",
      "source": [
        "Сравните подход со случайными признаками с вариантом, в котором вы понижаете размерность с помощью PCA и обучаете градиентный бустинг. Используйте одну из реализаций CatBoost/LightGBM/XGBoost, не забудьте подобрать число деревьев и длину шага."
      ],
      "metadata": {
        "id": "RH8s33KKDwVw"
      }
    },
    {
      "cell_type": "code",
      "source": [
        "!pip install catboost"
      ],
      "metadata": {
        "id": "l3fJd86s7bbc"
      },
      "execution_count": null,
      "outputs": []
    },
    {
      "cell_type": "code",
      "source": [
        "import catboost as cb\n",
        "cb.__version__"
      ],
      "metadata": {
        "colab": {
          "base_uri": "https://localhost:8080/",
          "height": 37
        },
        "id": "0c7Ex-zK4A71",
        "outputId": "97df2fe3-762d-4f7f-ab5e-e921e3081f47"
      },
      "execution_count": 8,
      "outputs": [
        {
          "output_type": "execute_result",
          "data": {
            "text/plain": [
              "'1.1.1'"
            ],
            "application/vnd.google.colaboratory.intrinsic+json": {
              "type": "string"
            }
          },
          "metadata": {},
          "execution_count": 8
        }
      ]
    },
    {
      "cell_type": "code",
      "source": [
        "from catboost import CatBoostClassifier\n",
        "from sklearn.model_selection import GridSearchCV\n",
        "from sklearn.decomposition import PCA"
      ],
      "metadata": {
        "id": "JX865nqmH5oB"
      },
      "execution_count": 9,
      "outputs": []
    },
    {
      "cell_type": "code",
      "source": [
        "pca = PCA(n_components=50, random_state=random_state)\n",
        "\n",
        "x_train_pca = pca.fit_transform(x_train)\n",
        "x_test_pca = pca.transform(x_test)"
      ],
      "metadata": {
        "id": "kJE61lLnIL48"
      },
      "execution_count": 39,
      "outputs": []
    },
    {
      "cell_type": "code",
      "source": [
        "# %%time\n",
        "# choose = np.random.randint(0,x_train_pca.shape[0], 20000)\n",
        "# CatBoostClassifier(loss_function='MultiClass',classes_count = 10,verbose=True, task_type=\"GPU\",\n",
        "#                            devices='0:1').fit(x_train_pca, y_train)\n",
        "# ~ 10 sec per fold on gpu"
      ],
      "metadata": {
        "id": "kJRinvQ_hX4w"
      },
      "execution_count": 32,
      "outputs": []
    },
    {
      "cell_type": "code",
      "source": [
        "choose = np.random.randint(0,x_train_pca.shape[0], 20000)\n",
        "\n",
        "catboost = CatBoostClassifier(\n",
        "                           loss_function='MultiClass',\n",
        "                           classes_count = 10,\n",
        "                           verbose=False,\n",
        "                           task_type=\"GPU\",\n",
        "                           devices='0:1')\n",
        "\n",
        "catboost.grid_search(param_grid={'depth': [2,4,6,10], #[2,4,6,10]\n",
        "                                 'learning_rate':[0.004, 0.03, 0.1, 0.5, 1]}, #[0.004, 0.03, 0.1, 0.5, 1]\n",
        "                     X = x_train_pca[choose], y = y_train[choose])"
      ],
      "metadata": {
        "id": "Z9baosz0ue-U"
      },
      "execution_count": null,
      "outputs": []
    },
    {
      "cell_type": "code",
      "source": [
        "catboost.get_params()"
      ],
      "metadata": {
        "colab": {
          "base_uri": "https://localhost:8080/"
        },
        "id": "7RU-49fbBqgj",
        "outputId": "1174f070-635c-4b40-e184-320899ba7d90"
      },
      "execution_count": 15,
      "outputs": [
        {
          "output_type": "execute_result",
          "data": {
            "text/plain": [
              "{'loss_function': 'MultiClass',\n",
              " 'verbose': False,\n",
              " 'classes_count': 10,\n",
              " 'task_type': 'GPU',\n",
              " 'devices': '0:1',\n",
              " 'depth': 10,\n",
              " 'learning_rate': 0.1}"
            ]
          },
          "metadata": {},
          "execution_count": 15
        }
      ]
    },
    {
      "cell_type": "code",
      "source": [
        "catboost = CatBoostClassifier(\n",
        "                           loss_function='MultiClass',\n",
        "                           classes_count = 10,\n",
        "                           verbose=False,\n",
        "                           task_type=\"GPU\",\n",
        "                           devices='0:1', depth = 10, learning_rate=0.1)"
      ],
      "metadata": {
        "id": "La8EnVDgISaI"
      },
      "execution_count": 46,
      "outputs": []
    },
    {
      "cell_type": "code",
      "source": [
        "catboost.fit(x_train_pca, y_train)"
      ],
      "metadata": {
        "colab": {
          "base_uri": "https://localhost:8080/"
        },
        "id": "hnbHUv0WChm7",
        "outputId": "b11702bd-edf7-47ce-ce75-2168bdf46c0f"
      },
      "execution_count": 47,
      "outputs": [
        {
          "output_type": "execute_result",
          "data": {
            "text/plain": [
              "<catboost.core.CatBoostClassifier at 0x7fa15971a430>"
            ]
          },
          "metadata": {},
          "execution_count": 47
        }
      ]
    },
    {
      "cell_type": "code",
      "source": [
        "catboost_train_predictions = catboost.predict(x_train)\n",
        "catboost_test_predictions = catboost.predict(x_test)"
      ],
      "metadata": {
        "id": "Lo5XQwFoB3HS"
      },
      "execution_count": 48,
      "outputs": []
    },
    {
      "cell_type": "code",
      "source": [
        "print(f'train accuracy: {accuracy_score(y_train, catboost_train_predictions)}')\n",
        "print(f'test accuracy: {accuracy_score(y_test, catboost_test_predictions)}')"
      ],
      "metadata": {
        "colab": {
          "base_uri": "https://localhost:8080/"
        },
        "id": "QOlV6uKOCBBm",
        "outputId": "96541c0f-72bf-4bda-8182-05d74f66b53f"
      },
      "execution_count": 49,
      "outputs": [
        {
          "output_type": "stream",
          "name": "stdout",
          "text": [
            "train accuracy: 0.15796666666666667\n",
            "test accuracy: 0.1564\n"
          ]
        }
      ]
    },
    {
      "cell_type": "markdown",
      "source": [
        "выводы по части 2:\n",
        "\n",
        "catboost показывает ужасное качество (обучал с PCA на 50 и 200 новых признаков с использованием перебора глубины и lr и без, и все равно качество не выше 0.156) с чем это связано - не знаю\n",
        "\n",
        "очевидно, rff svm справляется сильно лучше "
      ],
      "metadata": {
        "id": "HCeAKq0lD_iG"
      }
    },
    {
      "cell_type": "markdown",
      "metadata": {
        "id": "e6umjhWuK-hV"
      },
      "source": [
        "#__Задание 3. (2 балла)__\n",
        "\n",
        "Проведите эксперименты:\n",
        "1. Помогает ли предварительное понижение размерности с помощью PCA? \n",
        "2. Как зависит итоговое качество от n_features? Выходит ли оно на плато при росте n_features?\n",
        "3. Важно ли, какую модель обучать — логистическую регрессию или SVM?"
      ]
    },
    {
      "cell_type": "markdown",
      "source": [
        "###часть 1:\n",
        "сравним качесво rff svm при использовании pca и без него:"
      ],
      "metadata": {
        "id": "gylB2567_Ddg"
      }
    },
    {
      "cell_type": "code",
      "source": [
        "%%time\n",
        "rff_svm_pca = RFFPipeline(use_PCA = True).fit(x_train, y_train)"
      ],
      "metadata": {
        "colab": {
          "base_uri": "https://localhost:8080/"
        },
        "id": "T1op2Q_z_NXp",
        "outputId": "9360c9de-dac5-4813-c9a6-309808dad1ec"
      },
      "execution_count": null,
      "outputs": [
        {
          "output_type": "stream",
          "name": "stdout",
          "text": [
            "CPU times: user 17.3 s, sys: 3.5 s, total: 20.8 s\n",
            "Wall time: 42.2 s\n"
          ]
        }
      ]
    },
    {
      "cell_type": "code",
      "source": [
        "%%time\n",
        "pca_train_predictions = rff_svm_pca.predict(x_train)\n",
        "pca_test_predictions = rff_svm_pca.predict(x_test)"
      ],
      "metadata": {
        "colab": {
          "base_uri": "https://localhost:8080/"
        },
        "id": "EiWc9GhR_qhp",
        "outputId": "7bb17723-e19a-45c1-a4d2-474d9de18973"
      },
      "execution_count": null,
      "outputs": [
        {
          "output_type": "stream",
          "name": "stdout",
          "text": [
            "CPU times: user 2.72 s, sys: 722 ms, total: 3.44 s\n",
            "Wall time: 3.09 s\n"
          ]
        }
      ]
    },
    {
      "cell_type": "code",
      "source": [
        "print(f'train accuracy: {accuracy_score(y_train, pca_train_predictions)}')\n",
        "print(f'test accuracy: {accuracy_score(y_test, pca_test_predictions)}')"
      ],
      "metadata": {
        "colab": {
          "base_uri": "https://localhost:8080/"
        },
        "id": "FKHcaA7rAJNu",
        "outputId": "bcc528f5-e58b-4c6b-c956-979d0187a763"
      },
      "execution_count": null,
      "outputs": [
        {
          "output_type": "stream",
          "name": "stdout",
          "text": [
            "train accuracy: 0.8853666666666666\n",
            "test accuracy: 0.8653\n"
          ]
        }
      ]
    },
    {
      "cell_type": "code",
      "source": [
        "%%time\n",
        "rff_svm_no_pca = RFFPipeline(use_PCA = False).fit(x_train, y_train)"
      ],
      "metadata": {
        "colab": {
          "base_uri": "https://localhost:8080/"
        },
        "id": "brVorYKLBVLu",
        "outputId": "6a9575d2-75a3-47bd-e348-bf6b986265f0"
      },
      "execution_count": null,
      "outputs": [
        {
          "output_type": "stream",
          "name": "stdout",
          "text": [
            "CPU times: user 16.2 s, sys: 889 ms, total: 17.1 s\n",
            "Wall time: 41.9 s\n"
          ]
        }
      ]
    },
    {
      "cell_type": "code",
      "source": [
        "%%time\n",
        "no_pca_train_predictions = rff_svm_no_pca.predict(x_train)\n",
        "no_pca_test_predictions = rff_svm_no_pca.predict(x_test)"
      ],
      "metadata": {
        "colab": {
          "base_uri": "https://localhost:8080/"
        },
        "id": "D5Z1OIVrADn0",
        "outputId": "960d6334-f6f6-4e0f-a9c8-8e562905cf5d"
      },
      "execution_count": null,
      "outputs": [
        {
          "output_type": "stream",
          "name": "stdout",
          "text": [
            "CPU times: user 5.88 s, sys: 547 ms, total: 6.42 s\n",
            "Wall time: 4.7 s\n"
          ]
        }
      ]
    },
    {
      "cell_type": "code",
      "source": [
        "print(f'train accuracy: {accuracy_score(y_train, no_pca_train_predictions)}')\n",
        "print(f'test accuracy: {accuracy_score(y_test, no_pca_test_predictions)}')"
      ],
      "metadata": {
        "colab": {
          "base_uri": "https://localhost:8080/"
        },
        "id": "cqN-eYTNASCv",
        "outputId": "30e1a4c5-09a9-455e-fa35-64c02d9cc1c3"
      },
      "execution_count": null,
      "outputs": [
        {
          "output_type": "stream",
          "name": "stdout",
          "text": [
            "train accuracy: 0.8951666666666667\n",
            "test accuracy: 0.8669\n"
          ]
        }
      ]
    },
    {
      "cell_type": "markdown",
      "source": [
        "применение PCA для svm не дает прироста в скорости, только незначительно понижает точность \n",
        "\n",
        "видимо, затраты на вычиление матрицы X_new (X.dot(W.T)) пренебрежимо малы по сравнению с затратами на остальные вычисления "
      ],
      "metadata": {
        "id": "u66Z14jeB-zH"
      }
    },
    {
      "cell_type": "markdown",
      "source": [
        "###часть 2:\n",
        "сравним логистическую регрессию и svm:"
      ],
      "metadata": {
        "id": "aOqURill-1nR"
      }
    },
    {
      "cell_type": "code",
      "source": [
        "from sklearn.experimental import enable_halving_search_cv\n",
        "from sklearn.model_selection import HalvingGridSearchCV, GridSearchCV"
      ],
      "metadata": {
        "id": "vnlc7_CqO7jS"
      },
      "execution_count": 32,
      "outputs": []
    },
    {
      "cell_type": "code",
      "source": [
        "# x_train_crop = x_train[np.random.choice(x_train.shape[0], 60000, replace=False)]\n",
        "# x_test_crop = x_test[np.random.choice(x_test.shape[0], 3000, replace=False)]\n",
        "# y_train_crop = y_train[np.random.choice(y_train.shape[0], 60000, replace=False)]\n",
        "# y_test_crop = y_test[np.random.choice(y_test.shape[0], 3000, replace=False)]"
      ],
      "metadata": {
        "id": "PxeMFjMkUOva"
      },
      "execution_count": 17,
      "outputs": []
    },
    {
      "cell_type": "markdown",
      "source": [
        "интересно, что это: ![Screenshot 2023-02-16 at 21.52.21.png](data:image/png;base64,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)"
      ],
      "metadata": {
        "id": "6_c-D4HCkqCA"
      }
    },
    {
      "cell_type": "code",
      "source": [
        "%%time\n",
        "rff_logreg_gs = GridSearchCV(estimator = RFFPipeline(use_PCA = False, classifier_type='logreg'),\n",
        "             param_grid={'C': [0.1,0.5,1,5,10,13,15,20,50,100]}, cv = 3, scoring = 'accuracy', n_jobs = -1, verbose=3, refit=False)\n",
        "rff_logreg_gs.fit(x_train, y_train)"
      ],
      "metadata": {
        "colab": {
          "base_uri": "https://localhost:8080/"
        },
        "id": "obr1Qds5AC2A",
        "outputId": "2e258161-5bc8-4057-c6d0-e6fea24172f1"
      },
      "execution_count": 73,
      "outputs": [
        {
          "output_type": "stream",
          "name": "stdout",
          "text": [
            "Fitting 3 folds for each of 10 candidates, totalling 30 fits\n",
            "CPU times: user 5.51 s, sys: 1.03 s, total: 6.54 s\n",
            "Wall time: 14min 37s\n"
          ]
        },
        {
          "output_type": "execute_result",
          "data": {
            "text/plain": [
              "GridSearchCV(cv=3, estimator=RFFPipeline(use_PCA=False), n_jobs=-1,\n",
              "             param_grid={'C': [0.1, 0.5, 1, 5, 10, 13, 15, 20, 50, 100]},\n",
              "             refit=False, scoring='accuracy', verbose=3)"
            ]
          },
          "metadata": {},
          "execution_count": 73
        }
      ]
    },
    {
      "cell_type": "code",
      "source": [
        "rff_logreg_gs.cv_results_"
      ],
      "metadata": {
        "colab": {
          "base_uri": "https://localhost:8080/"
        },
        "id": "X55GEyWkS3c2",
        "outputId": "58943293-14a1-4555-8397-e40b591c42df"
      },
      "execution_count": 74,
      "outputs": [
        {
          "output_type": "execute_result",
          "data": {
            "text/plain": [
              "{'mean_fit_time': array([58.71314112, 57.09034228, 55.93374443, 57.48826241, 55.28558286,\n",
              "        55.8165187 , 55.31142314, 55.57620947, 53.83065915, 52.99589372]),\n",
              " 'std_fit_time': array([0.83548263, 0.64602634, 0.43541065, 0.99863522, 0.32063512,\n",
              "        0.37863762, 1.18366934, 1.91920779, 0.44720451, 0.58572171]),\n",
              " 'mean_score_time': array([2.91151635, 2.3943162 , 2.29322847, 2.65838949, 2.64575839,\n",
              "        2.43766594, 2.37677073, 2.24127809, 2.44501869, 1.95491854]),\n",
              " 'std_score_time': array([0.42942765, 0.25850005, 0.0781098 , 0.58850573, 0.21493683,\n",
              "        0.39952801, 0.20461613, 0.11070213, 0.1619712 , 0.58559835]),\n",
              " 'param_C': masked_array(data=[0.1, 0.5, 1, 5, 10, 13, 15, 20, 50, 100],\n",
              "              mask=[False, False, False, False, False, False, False, False,\n",
              "                    False, False],\n",
              "        fill_value='?',\n",
              "             dtype=object),\n",
              " 'params': [{'C': 0.1},\n",
              "  {'C': 0.5},\n",
              "  {'C': 1},\n",
              "  {'C': 5},\n",
              "  {'C': 10},\n",
              "  {'C': 13},\n",
              "  {'C': 15},\n",
              "  {'C': 20},\n",
              "  {'C': 50},\n",
              "  {'C': 100}],\n",
              " 'split0_test_score': array([0.8699 , 0.87035, 0.8658 , 0.86905, 0.8682 , 0.8699 , 0.8685 ,\n",
              "        0.8674 , 0.8713 , 0.86995]),\n",
              " 'split1_test_score': array([0.8757 , 0.8745 , 0.8737 , 0.874  , 0.87545, 0.8775 , 0.87655,\n",
              "        0.874  , 0.87275, 0.8761 ]),\n",
              " 'split2_test_score': array([0.87125, 0.8709 , 0.87405, 0.8727 , 0.871  , 0.87265, 0.8746 ,\n",
              "        0.87195, 0.8731 , 0.8743 ]),\n",
              " 'mean_test_score': array([0.87228333, 0.87191667, 0.87118333, 0.87191667, 0.87155   ,\n",
              "        0.87335   , 0.87321667, 0.87111667, 0.87238333, 0.87345   ]),\n",
              " 'std_test_score': array([0.00247801, 0.00184044, 0.00380927, 0.00209537, 0.00298524,\n",
              "        0.00314192, 0.00342888, 0.00275812, 0.00077924, 0.00258167]),\n",
              " 'rank_test_score': array([ 5,  6,  9,  6,  8,  2,  3, 10,  4,  1], dtype=int32)}"
            ]
          },
          "metadata": {},
          "execution_count": 74
        }
      ]
    },
    {
      "cell_type": "code",
      "source": [
        "rff_logreg_gs.best_params_"
      ],
      "metadata": {
        "colab": {
          "base_uri": "https://localhost:8080/"
        },
        "id": "U8PEp1VTTboZ",
        "outputId": "6323492a-9b33-4818-e1b5-3dc23c009ba5"
      },
      "execution_count": 75,
      "outputs": [
        {
          "output_type": "execute_result",
          "data": {
            "text/plain": [
              "{'C': 100}"
            ]
          },
          "metadata": {},
          "execution_count": 75
        }
      ]
    },
    {
      "cell_type": "markdown",
      "source": [
        "c = 100 - практически выключили регуляризацию - повышение качества в районе этого значения выглядит как выброс (удачные данные) - берем с = 0.5"
      ],
      "metadata": {
        "id": "trkycXhp4M31"
      }
    },
    {
      "cell_type": "code",
      "source": [
        "%%time\n",
        "rff_logreg_best_c = RFFPipeline(use_PCA = False, classifier_type='logreg', C = 1).fit(x_train,y_train)"
      ],
      "metadata": {
        "colab": {
          "base_uri": "https://localhost:8080/"
        },
        "id": "Sp_kVtjX0Olj",
        "outputId": "1ac0927f-18fa-4a1c-fd32-0c861c15cc64"
      },
      "execution_count": 26,
      "outputs": [
        {
          "output_type": "stream",
          "name": "stdout",
          "text": [
            "CPU times: user 14.3 s, sys: 657 ms, total: 14.9 s\n",
            "Wall time: 45.7 s\n"
          ]
        }
      ]
    },
    {
      "cell_type": "code",
      "source": [
        "%%time\n",
        "rff_logreg_train_predictions = rff_logreg_best_c.predict(x_train)\n",
        "rff_logreg_test_predictions = rff_logreg_best_c.predict(x_test)"
      ],
      "metadata": {
        "colab": {
          "base_uri": "https://localhost:8080/"
        },
        "id": "6X757mZQFCQn",
        "outputId": "1b7f5ec3-f710-49cd-af4f-d6ab3e804e21"
      },
      "execution_count": 27,
      "outputs": [
        {
          "output_type": "stream",
          "name": "stdout",
          "text": [
            "CPU times: user 7.79 s, sys: 359 ms, total: 8.15 s\n",
            "Wall time: 5.86 s\n"
          ]
        }
      ]
    },
    {
      "cell_type": "code",
      "source": [
        "print(f'train accuracy: {accuracy_score(y_train, rff_logreg_train_predictions)}')\n",
        "print(f'test accuracy: {accuracy_score(y_test, rff_logreg_test_predictions)}')"
      ],
      "metadata": {
        "colab": {
          "base_uri": "https://localhost:8080/"
        },
        "id": "QyCqvc9sFkwv",
        "outputId": "1d1cfb59-8f78-451e-c1f2-b47e7ec9d4b5"
      },
      "execution_count": 28,
      "outputs": [
        {
          "output_type": "stream",
          "name": "stdout",
          "text": [
            "train accuracy: 0.89695\n",
            "test accuracy: 0.8698\n"
          ]
        }
      ]
    },
    {
      "cell_type": "code",
      "source": [
        "%%time\n",
        "for c in [0.1,0.5,1,5,10]:\n",
        "    rff_svm = RFFPipeline(use_PCA = False, classifier_type='svm', C = c).fit(x_train, y_train)\n",
        "    print(f'C: {c}')\n",
        "    print(f'train accuracy: {accuracy_score(y_train, rff_svm.predict(x_train))}')\n",
        "    print(f'test accuracy: {accuracy_score(y_test, rff_svm.predict(x_test))}')"
      ],
      "metadata": {
        "colab": {
          "base_uri": "https://localhost:8080/"
        },
        "id": "pYSjns5uEo_6",
        "outputId": "8a097412-44bf-4375-f0f1-63aef2530c2f"
      },
      "execution_count": null,
      "outputs": [
        {
          "output_type": "stream",
          "name": "stdout",
          "text": [
            "C: 0.1\n",
            "train accuracy: 0.9310333333333334\n",
            "test accuracy: 0.87\n",
            "C: 0.5\n",
            "train accuracy: 0.9413\n",
            "test accuracy: 0.8619\n",
            "C: 1\n",
            "train accuracy: 0.9452666666666667\n",
            "test accuracy: 0.8595\n",
            "C: 5\n",
            "train accuracy: 0.9490833333333333\n",
            "test accuracy: 0.855\n"
          ]
        }
      ]
    },
    {
      "cell_type": "code",
      "source": [
        "%%time\n",
        "for c in [13,15,20,50,100]:\n",
        "    rff_svm = RFFPipeline(use_PCA = False, classifier_type='svm', C = c).fit(x_train, y_train)\n",
        "    print(f'C: {c}')\n",
        "    print(f'train accuracy: {accuracy_score(y_train, rff_svm.predict(x_train))}')\n",
        "    print(f'test accuracy: {accuracy_score(y_test, rff_svm.predict(x_test))}')"
      ],
      "metadata": {
        "colab": {
          "base_uri": "https://localhost:8080/"
        },
        "id": "d9JZOu1tu-mG",
        "outputId": "800600dc-b13c-4036-c7b2-07d8fa3e8f5a"
      },
      "execution_count": 44,
      "outputs": [
        {
          "output_type": "stream",
          "name": "stdout",
          "text": [
            "C: 13\n",
            "train accuracy: 0.8883666666666666\n",
            "test accuracy: 0.856\n",
            "C: 15\n",
            "train accuracy: 0.88875\n",
            "test accuracy: 0.8529\n",
            "C: 20\n",
            "train accuracy: 0.8908333333333334\n",
            "test accuracy: 0.8538\n",
            "C: 50\n",
            "train accuracy: 0.8963166666666667\n",
            "test accuracy: 0.8541\n",
            "C: 100\n",
            "train accuracy: 0.8977666666666667\n",
            "test accuracy: 0.8485\n",
            "CPU times: user 7min 4s, sys: 24.9 s, total: 7min 29s\n",
            "Wall time: 7min 17s\n"
          ]
        }
      ]
    },
    {
      "cell_type": "code",
      "source": [
        "%%time\n",
        "rff_svm_best_c = RFFPipeline(use_PCA = False, classifier_type='svm', C = 0.1).fit(x_train, y_train)"
      ],
      "metadata": {
        "colab": {
          "base_uri": "https://localhost:8080/"
        },
        "id": "erO_iX7e4nmO",
        "outputId": "ad441307-096d-4c41-e9b2-43123f3154f3"
      },
      "execution_count": 32,
      "outputs": [
        {
          "output_type": "stream",
          "name": "stdout",
          "text": [
            "CPU times: user 54 s, sys: 7.37 s, total: 1min 1s\n",
            "Wall time: 1min 4s\n"
          ]
        }
      ]
    },
    {
      "cell_type": "code",
      "source": [
        "%%time\n",
        "rff_smv_train_predictions = rff_svm_best_c.predict(x_train)\n",
        "rff_smv_test_predictions = rff_svm_best_c.predict(x_test)"
      ],
      "metadata": {
        "colab": {
          "base_uri": "https://localhost:8080/"
        },
        "id": "cZ9VUAi2_NoC",
        "outputId": "f9200fab-8bda-4cae-83b6-c2ac9644dd0f"
      },
      "execution_count": 33,
      "outputs": [
        {
          "output_type": "stream",
          "name": "stdout",
          "text": [
            "CPU times: user 22.1 s, sys: 533 ms, total: 22.6 s\n",
            "Wall time: 20 s\n"
          ]
        }
      ]
    },
    {
      "cell_type": "code",
      "source": [
        "print(f'train accuracy: {accuracy_score(y_train, rff_smv_train_predictions)}')\n",
        "print(f'test accuracy: {accuracy_score(y_test, rff_smv_test_predictions)}')"
      ],
      "metadata": {
        "id": "GptkhmvS_psS",
        "colab": {
          "base_uri": "https://localhost:8080/"
        },
        "outputId": "63eaa2da-9027-4d5b-9ee6-dca9ca29019f"
      },
      "execution_count": 34,
      "outputs": [
        {
          "output_type": "stream",
          "name": "stdout",
          "text": [
            "train accuracy: 0.9316\n",
            "test accuracy: 0.8726\n"
          ]
        }
      ]
    },
    {
      "cell_type": "markdown",
      "source": [
        "отличия в качества порядка 0.01 при всех соответсвующих значениях C - незначительно\n",
        "\n",
        "скорость обучения svm даже на gpu ~ в 3 раза ниже, чем у регрессии на cpu \n",
        "\n",
        "выбор в пользу регрессии очевиден "
      ],
      "metadata": {
        "id": "EAlY65gkDEBJ"
      }
    },
    {
      "cell_type": "markdown",
      "source": [
        "###часть 3:\n",
        "проведем эксперименты с n_features:"
      ],
      "metadata": {
        "id": "yVCcyhiv3SnE"
      }
    },
    {
      "cell_type": "code",
      "source": [
        "from sklearn.experimental import enable_halving_search_cv\n",
        "from sklearn.model_selection import HalvingGridSearchCV, GridSearchCV"
      ],
      "metadata": {
        "id": "uhpVNIo-625A"
      },
      "execution_count": 11,
      "outputs": []
    },
    {
      "cell_type": "markdown",
      "source": [
        "при n_features = 10000 упираемся в memory limit exception "
      ],
      "metadata": {
        "id": "a-gTJURfGUp7"
      }
    },
    {
      "cell_type": "code",
      "execution_count": 12,
      "metadata": {
        "id": "c2QIHIMbK-hW",
        "colab": {
          "base_uri": "https://localhost:8080/"
        },
        "outputId": "ba3b9f99-f369-4f04-dbd5-785521ae2eaf"
      },
      "outputs": [
        {
          "output_type": "stream",
          "name": "stdout",
          "text": [
            "Fitting 3 folds for each of 9 candidates, totalling 27 fits\n",
            "CPU times: user 14.1 s, sys: 2.3 s, total: 16.4 s\n",
            "Wall time: 39min 11s\n"
          ]
        },
        {
          "output_type": "execute_result",
          "data": {
            "text/plain": [
              "GridSearchCV(cv=3, estimator=RFFPipeline(use_PCA=False), n_jobs=-1,\n",
              "             param_grid={'n_features': [100, 500, 1000, 1500, 3000, 4000, 5000,\n",
              "                                        6000, 7000]},\n",
              "             refit=False, scoring='accuracy', verbose=3)"
            ]
          },
          "metadata": {},
          "execution_count": 12
        }
      ],
      "source": [
        "%%time\n",
        "rff_logreg_gs = GridSearchCV(estimator = RFFPipeline(use_PCA = False, classifier_type='logreg'),\n",
        "             param_grid={'n_features': [100,500,1000,1500,3000,4000,5000,6000,7000]}, cv = 3, scoring = 'accuracy', n_jobs = -1, verbose=3, refit=False)\n",
        "rff_logreg_gs.fit(x_train, y_train)"
      ]
    },
    {
      "cell_type": "code",
      "source": [
        "rff_logreg_gs.cv_results_"
      ],
      "metadata": {
        "colab": {
          "base_uri": "https://localhost:8080/"
        },
        "id": "F4j9Htdb70ZT",
        "outputId": "c02c60f5-bfe7-43e1-cd60-a55e7c368d6c"
      },
      "execution_count": 14,
      "outputs": [
        {
          "output_type": "execute_result",
          "data": {
            "text/plain": [
              "{'mean_fit_time': array([ 27.85690983,  41.47800906,  64.05078904,  85.21455224,\n",
              "        165.08231457, 215.85326711, 251.86182149, 294.54960219,\n",
              "        324.57312353]),\n",
              " 'std_fit_time': array([ 0.43854003,  0.3181699 ,  0.86481513,  2.64633248,  7.17313566,\n",
              "         8.01999707,  8.21452732,  6.17237496, 25.63339716]),\n",
              " 'mean_score_time': array([ 0.29136554,  1.29318929,  2.44470477,  4.9687686 ,  8.31466492,\n",
              "        11.07693537, 13.78730361, 16.20197852, 15.91634965]),\n",
              " 'std_score_time': array([0.0301653 , 0.04868882, 0.11363478, 1.06949768, 0.05632747,\n",
              "        0.75155097, 1.64377583, 1.26626684, 2.59931013]),\n",
              " 'param_n_features': masked_array(data=[100, 500, 1000, 1500, 3000, 4000, 5000, 6000, 7000],\n",
              "              mask=[False, False, False, False, False, False, False, False,\n",
              "                    False],\n",
              "        fill_value='?',\n",
              "             dtype=object),\n",
              " 'params': [{'n_features': 100},\n",
              "  {'n_features': 500},\n",
              "  {'n_features': 1000},\n",
              "  {'n_features': 1500},\n",
              "  {'n_features': 3000},\n",
              "  {'n_features': 4000},\n",
              "  {'n_features': 5000},\n",
              "  {'n_features': 6000},\n",
              "  {'n_features': 7000}],\n",
              " 'split0_test_score': array([0.80725, 0.85995, 0.8669 , 0.8725 , 0.8775 , 0.8799 , 0.8791 ,\n",
              "        0.8779 , 0.88025]),\n",
              " 'split1_test_score': array([0.8204 , 0.86735, 0.8745 , 0.87615, 0.882  , 0.88495, 0.8868 ,\n",
              "        0.885  , 0.8848 ]),\n",
              " 'split2_test_score': array([0.81095, 0.8626 , 0.8717 , 0.8763 , 0.88085, 0.87955, 0.8833 ,\n",
              "        0.8817 , 0.8832 ]),\n",
              " 'mean_test_score': array([0.81286667, 0.8633    , 0.87103333, 0.87498333, 0.88011667,\n",
              "        0.88146667, 0.88306667, 0.88153333, 0.88275   ]),\n",
              " 'std_test_score': array([0.0055369 , 0.00306132, 0.00313829, 0.00175705, 0.0019089 ,\n",
              "        0.00246723, 0.00314784, 0.00290096, 0.00188459]),\n",
              " 'rank_test_score': array([9, 8, 7, 6, 5, 4, 1, 3, 2], dtype=int32)}"
            ]
          },
          "metadata": {},
          "execution_count": 14
        }
      ]
    },
    {
      "cell_type": "code",
      "source": [
        "rff_logreg_gs.best_params_"
      ],
      "metadata": {
        "colab": {
          "base_uri": "https://localhost:8080/"
        },
        "id": "f_NWqVKIablA",
        "outputId": "9ece5428-8aee-4bdd-9f8b-60166231564e"
      },
      "execution_count": 16,
      "outputs": [
        {
          "output_type": "execute_result",
          "data": {
            "text/plain": [
              "{'n_features': 5000}"
            ]
          },
          "metadata": {},
          "execution_count": 16
        }
      ]
    },
    {
      "cell_type": "code",
      "source": [
        "import matplotlib.pyplot as plt \n",
        "\n",
        "plt.figure(figsize=(13,8))\n",
        "\n",
        "plt.xlabel(\"n_features\")\n",
        "plt.ylabel(\"mean test accuracy\")\n",
        "plt.title(\"plateauing of accuracy\")\n",
        "\n",
        "plt.scatter(x = [100,500,1000,1500,3000,4000,5000,6000,7000], y = rff_logreg_gs.cv_results_['mean_test_score'])\n",
        "plt.plot([100,500,1000,1500,3000,4000,5000,6000,7000],rff_logreg_gs.cv_results_['mean_test_score'])\n",
        "\n",
        "plt.show()"
      ],
      "metadata": {
        "colab": {
          "base_uri": "https://localhost:8080/",
          "height": 514
        },
        "id": "Ul5f-sbTcNjD",
        "outputId": "534a1328-70e2-4b58-99cf-4705cd44701a"
      },
      "execution_count": 24,
      "outputs": [
        {
          "output_type": "display_data",
          "data": {
            "text/plain": [
              "<Figure size 936x576 with 1 Axes>"
            ],
            "image/png": "[encoded data removed]"
          },
          "metadata": {
            "needs_background": "light"
          }
        }
      ]
    },
    {
      "cell_type": "markdown",
      "source": [
        "кажется, что после n_features = 5000 наступает плато\n"
      ],
      "metadata": {
        "id": "eaasrU2neJmI"
      }
    },
    {
      "cell_type": "markdown",
      "metadata": {
        "id": "CJqXVuasK-hW"
      },
      "source": [
        "#Бонус"
      ]
    },
    {
      "cell_type": "markdown",
      "metadata": {
        "id": "QVDWHCdrK-hX"
      },
      "source": [
        "__Задание 4. (Максимум 2 балла)__\n",
        "\n",
        "Как вы, должно быть, помните с курса МО-1, многие алгоритмы машинного обучения работают лучше, если признаки данных некоррелированы. Оказывается, что для RFF существует модификация, позволяющая получать ортогональные случайные признаки (Orthogonal Random Features, ORF). Об этом методе можно прочитать в [статье](https://proceedings.neurips.cc/paper/2016/file/53adaf494dc89ef7196d73636eb2451b-Paper.pdf). Реализуйте класс для вычисления ORF по аналогии с основным заданием. Обратите внимание, что ваш класс должен уметь работать со случаем n_features > new_dim (в статье есть замечание на этот счет). Проведите эксперименты, сравнивающие RFF и ORF, сделайте выводы."
      ]
    },
    {
      "cell_type": "code",
      "execution_count": 84,
      "metadata": {
        "id": "HSxvGI9iK-hX"
      },
      "outputs": [],
      "source": [
        "from sklearn.base import BaseEstimator, TransformerMixin\n",
        "from sklearn.decomposition import PCA\n",
        "import numpy as np\n",
        "from itertools import combinations\n",
        "# from thundersvm import SVC\n",
        "from sklearn.linear_model import LogisticRegression\n",
        "from sklearn.metrics import accuracy_score\n",
        "\n",
        "\n",
        "\n",
        "class ORFPipeline(BaseEstimator, TransformerMixin):\n",
        "    def __init__(self, n_features=1000, new_dim=50, use_PCA=True, classifier_type='logreg', C=1.0):\n",
        "        \"\"\"        \n",
        "        Implements pipeline, which consists of PCA decomposition,\n",
        "        Random Fourier Features approximation and linear classification model.\n",
        "        \n",
        "        n_features, int: amount of synthetic random features generated with RFF approximation.\n",
        "\n",
        "        new_dim, int: PCA output size.\n",
        "        \n",
        "        use_PCA, bool: whether to include PCA preprocessing.\n",
        "        \n",
        "        classifier, string: either 'svm' or 'logreg', a linear classification model to use on top of pipeline.\n",
        "        \n",
        "        Feel free to edit this template for your preferences.    \n",
        "        \"\"\"\n",
        "        self.n_features = n_features\n",
        "        self.use_PCA = use_PCA\n",
        "        self.new_dim = new_dim\n",
        "        self.classifier_type = classifier_type\n",
        "        self.C = C\n",
        "\n",
        "        if (self.classifier_type == 'logreg'):\n",
        "          self.cls = LogisticRegression(random_state=random_state, n_jobs = -1, C = self.C)\n",
        "        elif (self.classifier_type == 'svm'):\n",
        "          self.cls = SVC(kernel = 'linear', random_state=random_state, C = self.C)\n",
        "\n",
        "        if(self.use_PCA):\n",
        "          self.pca = PCA(n_components=self.new_dim, random_state=random_state)\n",
        "        \n",
        "    def fit(self, X, y):\n",
        "        \"\"\"\n",
        "        Fit all parts of algorithm (PCA, ORF, Classification) to training set.\n",
        "        \"\"\"\n",
        "        if(self.use_PCA):\n",
        "            X = self.pca.fit_transform(X)\n",
        "\n",
        "        X_subset = X[np.random.choice(X.shape[0], 1500, replace=False)] # (~1100000 пар)\n",
        "        sgm = np.sqrt(np.median([np.sum(np.square(x1 - x2)) for (x1, x2) in combinations(X_subset, r = 2)]))\n",
        "\n",
        "        X_new = None\n",
        "        self.W_orf_arr = []\n",
        "\n",
        "        for i in range(self.n_features // X.shape[1] + 1):\n",
        "          G = np.random.normal(0, 1, size=(X.shape[1], X.shape[1]))\n",
        "          Q, _ = np.linalg.qr(G)\n",
        "          S = np.diag(np.sqrt(np.random.chisquare(X.shape[1], size=X.shape[1])))\n",
        "          W_orf = 1/sgm * S.dot(Q)\n",
        "          self.W_orf_arr.append(W_orf)\n",
        "\n",
        "          if i == 0:\n",
        "            X_new = W_orf.dot(X.T)\n",
        "          else:\n",
        "            X_new = np.concatenate((X_new, W_orf.dot(X.T)), axis = 0)\n",
        "\n",
        "\n",
        "        X_new = X_new[:self.n_features]\n",
        "        X_new = np.concatenate((np.sin(X_new[:X_new.shape[0]//2]),\n",
        "                               np.cos(X_new[X_new.shape[0]//2:])), \n",
        "                               axis = 0).T\n",
        "\n",
        "        self.cls.fit(X_new,y)\n",
        "\n",
        "        return self\n",
        "\n",
        "    def predict_proba(self, X):\n",
        "        \"\"\"\n",
        "        Apply pipeline to obtain scores for input data.\n",
        "        \"\"\"\n",
        "        if(self.use_PCA):\n",
        "            X = self.pca.transform(X)\n",
        "\n",
        "        X_new = None\n",
        "    \n",
        "        for i in range(len(self.W_orf_arr)):\n",
        "          if i == 0:\n",
        "            X_new = self.W_orf_arr[i].dot(X.T)\n",
        "          else:\n",
        "            X_new = np.concatenate((X_new, self.W_orf_arr[i].dot(X.T)), axis = 0)\n",
        "\n",
        "        X_new = X_new[:self.n_features]\n",
        "        X_new = np.concatenate((np.sin(X_new[:X_new.shape[0]//2]),\n",
        "                               np.cos(X_new[X_new.shape[0]//2:])), \n",
        "                               axis = 0).T\n",
        "\n",
        "        return(self.cls.predict_proba(X_new))\n",
        "        \n",
        "    def predict(self, X):\n",
        "        \"\"\"\n",
        "        Apply pipeline to obtain discrete predictions for input data.\n",
        "        \"\"\"\n",
        "        if(self.use_PCA):\n",
        "            X = self.pca.transform(X)\n",
        "\n",
        "        X_new = None\n",
        "    \n",
        "        for i in range(len(self.W_orf_arr)):\n",
        "          if i == 0:\n",
        "            X_new = self.W_orf_arr[i].dot(X.T)\n",
        "          else:\n",
        "            X_new = np.concatenate((X_new, self.W_orf_arr[i].dot(X.T)), axis = 0)\n",
        "\n",
        "        X_new = X_new[:self.n_features]\n",
        "        X_new = np.concatenate((np.sin(X_new[:X_new.shape[0]//2]),\n",
        "                               np.cos(X_new[X_new.shape[0]//2:])), \n",
        "                               axis = 0).T\n",
        "\n",
        "        return(self.cls.predict(X_new))"
      ]
    },
    {
      "cell_type": "code",
      "source": [
        "orf = ORFPipeline()\n",
        "orf.fit(x_train, y_train)"
      ],
      "metadata": {
        "colab": {
          "base_uri": "https://localhost:8080/"
        },
        "id": "II7j1ZYhlmde",
        "outputId": "e1f799d1-f0f7-4ca3-e8e1-9d9a63f83bd2"
      },
      "execution_count": 85,
      "outputs": [
        {
          "output_type": "execute_result",
          "data": {
            "text/plain": [
              "ORFPipeline()"
            ]
          },
          "metadata": {},
          "execution_count": 85
        }
      ]
    },
    {
      "cell_type": "code",
      "source": [
        "print(accuracy_score(y_train, orf.predict(x_train)))\n",
        "print(accuracy_score(y_test, orf.predict(x_test)))"
      ],
      "metadata": {
        "colab": {
          "base_uri": "https://localhost:8080/"
        },
        "id": "olPxdX6BoziM",
        "outputId": "c91aa24c-8605-4e4a-e2d1-0c1fdaf1b8d9"
      },
      "execution_count": 86,
      "outputs": [
        {
          "output_type": "stream",
          "name": "stdout",
          "text": [
            "0.87725\n",
            "0.8616\n"
          ]
        }
      ]
    },
    {
      "cell_type": "code",
      "source": [
        "rff = RFFPipeline()\n",
        "rff.fit(x_train, y_train)"
      ],
      "metadata": {
        "colab": {
          "base_uri": "https://localhost:8080/"
        },
        "id": "cLzD36p2sUkx",
        "outputId": "e876e58d-ded5-4fa9-ac4d-4f5a8dc780c2"
      },
      "execution_count": 32,
      "outputs": [
        {
          "output_type": "execute_result",
          "data": {
            "text/plain": [
              "RFFPipeline()"
            ]
          },
          "metadata": {},
          "execution_count": 32
        }
      ]
    },
    {
      "cell_type": "code",
      "source": [
        "print(accuracy_score(y_train, rff.predict(x_train)))\n",
        "print(accuracy_score(y_test, rff.predict(x_test)))"
      ],
      "metadata": {
        "colab": {
          "base_uri": "https://localhost:8080/"
        },
        "id": "zL1ZOuDlsWS6",
        "outputId": "ba925e76-e632-45e8-a665-479017e700eb"
      },
      "execution_count": 34,
      "outputs": [
        {
          "output_type": "stream",
          "name": "stdout",
          "text": [
            "0.8863166666666666\n",
            "0.8661\n"
          ]
        }
      ]
    },
    {
      "cell_type": "markdown",
      "source": [
        "rff показывает качество выше, чем orf\n",
        "\n",
        "видимо, реализация orf неверная"
      ],
      "metadata": {
        "id": "2Y43OOQZ8FUt"
      }
    },
    {
      "cell_type": "markdown",
      "metadata": {
        "id": "4pc7-1jmK-hY"
      },
      "source": [
        "__Задание 5. (Максимум 2 балла)__\n",
        "\n",
        "Поэкспериментируйте с функциями для вычисления новых случайных признаков. Не обязательно использовать косинус от скалярного произведения — можно брать знак от него, хэш и т.д. Придумайте побольше вариантов для генерации признаков и проверьте, не получается ли с их помощью добиваться более высокого качества. Также можете попробовать другой классификатор поверх случайных признаков, сравните результаты."
      ]
    },
    {
      "cell_type": "code",
      "execution_count": null,
      "metadata": {
        "id": "dWj-O2vjK-hY"
      },
      "outputs": [],
      "source": [
        "# Your code here: (￣▽￣)/♫•*¨*•.¸¸♪"
      ]
    }
  ],
  "metadata": {
    "colab": {
      "provenance": []
    },
    "kernelspec": {
      "display_name": "Python 3 (ipykernel)",
      "language": "python",
      "name": "python3"
    },
    "language_info": {
      "codemirror_mode": {
        "name": "ipython",
        "version": 3
      },
      "file_extension": ".py",
      "mimetype": "text/x-python",
      "name": "python",
      "nbconvert_exporter": "python",
      "pygments_lexer": "ipython3",
      "version": "3.9.7"
    },
    "gpuClass": "standard"
  },
  "nbformat": 4,
  "nbformat_minor": 0
}